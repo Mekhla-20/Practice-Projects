{
 "cells": [
  {
   "cell_type": "code",
   "execution_count": 62,
   "id": "4f08d8ac",
   "metadata": {},
   "outputs": [],
   "source": [
    "import pandas as pd\n",
    "import matplotlib.pyplot as plt\n",
    "import seaborn as sns\n",
    "import numpy as np\n",
    "from scipy.stats import zscore\n",
    "from sklearn.preprocessing import power_transform\n",
    "from sklearn.preprocessing import StandardScaler\n",
    "from sklearn.model_selection import train_test_split\n",
    "from sklearn.model_selection import cross_val_score\n",
    "from sklearn.model_selection import GridSearchCV\n",
    "from sklearn.preprocessing import OrdinalEncoder\n",
    "from sklearn.metrics import r2_score\n",
    "import warnings\n",
    "warnings.filterwarnings('ignore')\n",
    "from sklearn.metrics import mean_squared_error, mean_absolute_error"
   ]
  },
  {
   "cell_type": "code",
   "execution_count": 63,
   "id": "c409d8c6",
   "metadata": {},
   "outputs": [
    {
     "data": {
      "text/html": [
       "<div>\n",
       "<style scoped>\n",
       "    .dataframe tbody tr th:only-of-type {\n",
       "        vertical-align: middle;\n",
       "    }\n",
       "\n",
       "    .dataframe tbody tr th {\n",
       "        vertical-align: top;\n",
       "    }\n",
       "\n",
       "    .dataframe thead th {\n",
       "        text-align: right;\n",
       "    }\n",
       "</style>\n",
       "<table border=\"1\" class=\"dataframe\">\n",
       "  <thead>\n",
       "    <tr style=\"text-align: right;\">\n",
       "      <th></th>\n",
       "      <th>Item_Identifier</th>\n",
       "      <th>Item_Weight</th>\n",
       "      <th>Item_Fat_Content</th>\n",
       "      <th>Item_Visibility</th>\n",
       "      <th>Item_Type</th>\n",
       "      <th>Item_MRP</th>\n",
       "      <th>Outlet_Identifier</th>\n",
       "      <th>Outlet_Establishment_Year</th>\n",
       "      <th>Outlet_Size</th>\n",
       "      <th>Outlet_Location_Type</th>\n",
       "      <th>Outlet_Type</th>\n",
       "      <th>Item_Outlet_Sales</th>\n",
       "    </tr>\n",
       "  </thead>\n",
       "  <tbody>\n",
       "    <tr>\n",
       "      <th>0</th>\n",
       "      <td>FDA15</td>\n",
       "      <td>9.300</td>\n",
       "      <td>Low Fat</td>\n",
       "      <td>0.016047</td>\n",
       "      <td>Dairy</td>\n",
       "      <td>249.8092</td>\n",
       "      <td>OUT049</td>\n",
       "      <td>1999</td>\n",
       "      <td>Medium</td>\n",
       "      <td>Tier 1</td>\n",
       "      <td>Supermarket Type1</td>\n",
       "      <td>3735.1380</td>\n",
       "    </tr>\n",
       "    <tr>\n",
       "      <th>1</th>\n",
       "      <td>DRC01</td>\n",
       "      <td>5.920</td>\n",
       "      <td>Regular</td>\n",
       "      <td>0.019278</td>\n",
       "      <td>Soft Drinks</td>\n",
       "      <td>48.2692</td>\n",
       "      <td>OUT018</td>\n",
       "      <td>2009</td>\n",
       "      <td>Medium</td>\n",
       "      <td>Tier 3</td>\n",
       "      <td>Supermarket Type2</td>\n",
       "      <td>443.4228</td>\n",
       "    </tr>\n",
       "    <tr>\n",
       "      <th>2</th>\n",
       "      <td>FDN15</td>\n",
       "      <td>17.500</td>\n",
       "      <td>Low Fat</td>\n",
       "      <td>0.016760</td>\n",
       "      <td>Meat</td>\n",
       "      <td>141.6180</td>\n",
       "      <td>OUT049</td>\n",
       "      <td>1999</td>\n",
       "      <td>Medium</td>\n",
       "      <td>Tier 1</td>\n",
       "      <td>Supermarket Type1</td>\n",
       "      <td>2097.2700</td>\n",
       "    </tr>\n",
       "    <tr>\n",
       "      <th>3</th>\n",
       "      <td>FDX07</td>\n",
       "      <td>19.200</td>\n",
       "      <td>Regular</td>\n",
       "      <td>0.000000</td>\n",
       "      <td>Fruits and Vegetables</td>\n",
       "      <td>182.0950</td>\n",
       "      <td>OUT010</td>\n",
       "      <td>1998</td>\n",
       "      <td>NaN</td>\n",
       "      <td>Tier 3</td>\n",
       "      <td>Grocery Store</td>\n",
       "      <td>732.3800</td>\n",
       "    </tr>\n",
       "    <tr>\n",
       "      <th>4</th>\n",
       "      <td>NCD19</td>\n",
       "      <td>8.930</td>\n",
       "      <td>Low Fat</td>\n",
       "      <td>0.000000</td>\n",
       "      <td>Household</td>\n",
       "      <td>53.8614</td>\n",
       "      <td>OUT013</td>\n",
       "      <td>1987</td>\n",
       "      <td>High</td>\n",
       "      <td>Tier 3</td>\n",
       "      <td>Supermarket Type1</td>\n",
       "      <td>994.7052</td>\n",
       "    </tr>\n",
       "    <tr>\n",
       "      <th>5</th>\n",
       "      <td>FDP36</td>\n",
       "      <td>10.395</td>\n",
       "      <td>Regular</td>\n",
       "      <td>0.000000</td>\n",
       "      <td>Baking Goods</td>\n",
       "      <td>51.4008</td>\n",
       "      <td>OUT018</td>\n",
       "      <td>2009</td>\n",
       "      <td>Medium</td>\n",
       "      <td>Tier 3</td>\n",
       "      <td>Supermarket Type2</td>\n",
       "      <td>556.6088</td>\n",
       "    </tr>\n",
       "    <tr>\n",
       "      <th>6</th>\n",
       "      <td>FDO10</td>\n",
       "      <td>13.650</td>\n",
       "      <td>Regular</td>\n",
       "      <td>0.012741</td>\n",
       "      <td>Snack Foods</td>\n",
       "      <td>57.6588</td>\n",
       "      <td>OUT013</td>\n",
       "      <td>1987</td>\n",
       "      <td>High</td>\n",
       "      <td>Tier 3</td>\n",
       "      <td>Supermarket Type1</td>\n",
       "      <td>343.5528</td>\n",
       "    </tr>\n",
       "    <tr>\n",
       "      <th>7</th>\n",
       "      <td>FDP10</td>\n",
       "      <td>NaN</td>\n",
       "      <td>Low Fat</td>\n",
       "      <td>0.127470</td>\n",
       "      <td>Snack Foods</td>\n",
       "      <td>107.7622</td>\n",
       "      <td>OUT027</td>\n",
       "      <td>1985</td>\n",
       "      <td>Medium</td>\n",
       "      <td>Tier 3</td>\n",
       "      <td>Supermarket Type3</td>\n",
       "      <td>4022.7636</td>\n",
       "    </tr>\n",
       "    <tr>\n",
       "      <th>8</th>\n",
       "      <td>FDH17</td>\n",
       "      <td>16.200</td>\n",
       "      <td>Regular</td>\n",
       "      <td>0.016687</td>\n",
       "      <td>Frozen Foods</td>\n",
       "      <td>96.9726</td>\n",
       "      <td>OUT045</td>\n",
       "      <td>2002</td>\n",
       "      <td>NaN</td>\n",
       "      <td>Tier 2</td>\n",
       "      <td>Supermarket Type1</td>\n",
       "      <td>1076.5986</td>\n",
       "    </tr>\n",
       "    <tr>\n",
       "      <th>9</th>\n",
       "      <td>FDU28</td>\n",
       "      <td>19.200</td>\n",
       "      <td>Regular</td>\n",
       "      <td>0.094450</td>\n",
       "      <td>Frozen Foods</td>\n",
       "      <td>187.8214</td>\n",
       "      <td>OUT017</td>\n",
       "      <td>2007</td>\n",
       "      <td>NaN</td>\n",
       "      <td>Tier 2</td>\n",
       "      <td>Supermarket Type1</td>\n",
       "      <td>4710.5350</td>\n",
       "    </tr>\n",
       "  </tbody>\n",
       "</table>\n",
       "</div>"
      ],
      "text/plain": [
       "  Item_Identifier  Item_Weight Item_Fat_Content  Item_Visibility  \\\n",
       "0           FDA15        9.300          Low Fat         0.016047   \n",
       "1           DRC01        5.920          Regular         0.019278   \n",
       "2           FDN15       17.500          Low Fat         0.016760   \n",
       "3           FDX07       19.200          Regular         0.000000   \n",
       "4           NCD19        8.930          Low Fat         0.000000   \n",
       "5           FDP36       10.395          Regular         0.000000   \n",
       "6           FDO10       13.650          Regular         0.012741   \n",
       "7           FDP10          NaN          Low Fat         0.127470   \n",
       "8           FDH17       16.200          Regular         0.016687   \n",
       "9           FDU28       19.200          Regular         0.094450   \n",
       "\n",
       "               Item_Type  Item_MRP Outlet_Identifier  \\\n",
       "0                  Dairy  249.8092            OUT049   \n",
       "1            Soft Drinks   48.2692            OUT018   \n",
       "2                   Meat  141.6180            OUT049   \n",
       "3  Fruits and Vegetables  182.0950            OUT010   \n",
       "4              Household   53.8614            OUT013   \n",
       "5           Baking Goods   51.4008            OUT018   \n",
       "6            Snack Foods   57.6588            OUT013   \n",
       "7            Snack Foods  107.7622            OUT027   \n",
       "8           Frozen Foods   96.9726            OUT045   \n",
       "9           Frozen Foods  187.8214            OUT017   \n",
       "\n",
       "   Outlet_Establishment_Year Outlet_Size Outlet_Location_Type  \\\n",
       "0                       1999      Medium               Tier 1   \n",
       "1                       2009      Medium               Tier 3   \n",
       "2                       1999      Medium               Tier 1   \n",
       "3                       1998         NaN               Tier 3   \n",
       "4                       1987        High               Tier 3   \n",
       "5                       2009      Medium               Tier 3   \n",
       "6                       1987        High               Tier 3   \n",
       "7                       1985      Medium               Tier 3   \n",
       "8                       2002         NaN               Tier 2   \n",
       "9                       2007         NaN               Tier 2   \n",
       "\n",
       "         Outlet_Type  Item_Outlet_Sales  \n",
       "0  Supermarket Type1          3735.1380  \n",
       "1  Supermarket Type2           443.4228  \n",
       "2  Supermarket Type1          2097.2700  \n",
       "3      Grocery Store           732.3800  \n",
       "4  Supermarket Type1           994.7052  \n",
       "5  Supermarket Type2           556.6088  \n",
       "6  Supermarket Type1           343.5528  \n",
       "7  Supermarket Type3          4022.7636  \n",
       "8  Supermarket Type1          1076.5986  \n",
       "9  Supermarket Type1          4710.5350  "
      ]
     },
     "execution_count": 63,
     "metadata": {},
     "output_type": "execute_result"
    }
   ],
   "source": [
    "df=pd.read_csv(\"https://raw.githubusercontent.com/dsrscientist/bigdatamart_rep/master/bigdatamart_Train.csv\")\n",
    "df.head(10)"
   ]
  },
  {
   "cell_type": "code",
   "execution_count": 64,
   "id": "68f9fd3b",
   "metadata": {},
   "outputs": [
    {
     "data": {
      "text/plain": [
       "(8523, 12)"
      ]
     },
     "execution_count": 64,
     "metadata": {},
     "output_type": "execute_result"
    }
   ],
   "source": [
    "# checking size of data\n",
    "df.shape"
   ]
  },
  {
   "cell_type": "code",
   "execution_count": 65,
   "id": "1e2f17fc",
   "metadata": {},
   "outputs": [
    {
     "data": {
      "text/plain": [
       "Item_Identifier               object\n",
       "Item_Weight                  float64\n",
       "Item_Fat_Content              object\n",
       "Item_Visibility              float64\n",
       "Item_Type                     object\n",
       "Item_MRP                     float64\n",
       "Outlet_Identifier             object\n",
       "Outlet_Establishment_Year      int64\n",
       "Outlet_Size                   object\n",
       "Outlet_Location_Type          object\n",
       "Outlet_Type                   object\n",
       "Item_Outlet_Sales            float64\n",
       "dtype: object"
      ]
     },
     "execution_count": 65,
     "metadata": {},
     "output_type": "execute_result"
    }
   ],
   "source": [
    "df.dtypes"
   ]
  },
  {
   "cell_type": "markdown",
   "id": "b8f715b2",
   "metadata": {},
   "source": [
    "## Checking nulls\n"
   ]
  },
  {
   "cell_type": "code",
   "execution_count": 66,
   "id": "20024df0",
   "metadata": {},
   "outputs": [
    {
     "data": {
      "text/plain": [
       "Item_Identifier                 0\n",
       "Item_Weight                  1463\n",
       "Item_Fat_Content                0\n",
       "Item_Visibility                 0\n",
       "Item_Type                       0\n",
       "Item_MRP                        0\n",
       "Outlet_Identifier               0\n",
       "Outlet_Establishment_Year       0\n",
       "Outlet_Size                  2410\n",
       "Outlet_Location_Type            0\n",
       "Outlet_Type                     0\n",
       "Item_Outlet_Sales               0\n",
       "dtype: int64"
      ]
     },
     "execution_count": 66,
     "metadata": {},
     "output_type": "execute_result"
    }
   ],
   "source": [
    "df.isna().sum()"
   ]
  },
  {
   "cell_type": "markdown",
   "id": "c004be43",
   "metadata": {},
   "source": [
    "## Treating null values"
   ]
  },
  {
   "cell_type": "code",
   "execution_count": 67,
   "id": "6f15ed11",
   "metadata": {
    "scrolled": true
   },
   "outputs": [
    {
     "data": {
      "text/plain": [
       "FDW13    10\n",
       "FDG33    10\n",
       "NCY18     9\n",
       "FDD38     9\n",
       "DRE49     9\n",
       "         ..\n",
       "FDY43     1\n",
       "FDQ60     1\n",
       "FDO33     1\n",
       "DRF48     1\n",
       "FDC23     1\n",
       "Name: Item_Identifier, Length: 1559, dtype: int64"
      ]
     },
     "execution_count": 67,
     "metadata": {},
     "output_type": "execute_result"
    }
   ],
   "source": [
    "df['Item_Identifier'].value_counts()"
   ]
  },
  {
   "cell_type": "code",
   "execution_count": 68,
   "id": "18a3b93c",
   "metadata": {},
   "outputs": [],
   "source": [
    "#treating nulls in Item_Weight\n",
    "df['Item_Weight'] = df['Item_Weight'].fillna(df.groupby('Item_Identifier')['Item_Weight'].transform('mean'))"
   ]
  },
  {
   "cell_type": "code",
   "execution_count": 69,
   "id": "c8e8cc68",
   "metadata": {},
   "outputs": [
    {
     "data": {
      "text/plain": [
       "4"
      ]
     },
     "execution_count": 69,
     "metadata": {},
     "output_type": "execute_result"
    }
   ],
   "source": [
    "df['Item_Weight'].isna().sum()"
   ]
  },
  {
   "cell_type": "code",
   "execution_count": 70,
   "id": "4a683a77",
   "metadata": {},
   "outputs": [],
   "source": [
    "df['Item_Weight'] = df['Item_Weight'].fillna(df['Item_Weight'].mean())"
   ]
  },
  {
   "cell_type": "code",
   "execution_count": 71,
   "id": "0b364a67",
   "metadata": {},
   "outputs": [
    {
     "data": {
      "text/plain": [
       "0"
      ]
     },
     "execution_count": 71,
     "metadata": {},
     "output_type": "execute_result"
    }
   ],
   "source": [
    "df['Item_Weight'].isna().sum()"
   ]
  },
  {
   "cell_type": "code",
   "execution_count": 72,
   "id": "34e001b9",
   "metadata": {},
   "outputs": [
    {
     "data": {
      "text/plain": [
       "Medium    2793\n",
       "Small     2388\n",
       "High       932\n",
       "Name: Outlet_Size, dtype: int64"
      ]
     },
     "execution_count": 72,
     "metadata": {},
     "output_type": "execute_result"
    }
   ],
   "source": [
    "# treating nulls in Outlet_Size \n",
    "df['Outlet_Size'].value_counts()"
   ]
  },
  {
   "cell_type": "markdown",
   "id": "2f15f794",
   "metadata": {},
   "source": [
    "Since most occuring is medium size store so we will fill nan with medium."
   ]
  },
  {
   "cell_type": "code",
   "execution_count": 73,
   "id": "c495ef28",
   "metadata": {},
   "outputs": [],
   "source": [
    "df['Outlet_Size'] = df['Outlet_Size'].fillna(\"Medium\")\n"
   ]
  },
  {
   "cell_type": "code",
   "execution_count": 74,
   "id": "c1557bdb",
   "metadata": {},
   "outputs": [
    {
     "data": {
      "text/plain": [
       "0"
      ]
     },
     "execution_count": 74,
     "metadata": {},
     "output_type": "execute_result"
    }
   ],
   "source": [
    "df['Outlet_Size'].isna().sum()"
   ]
  },
  {
   "cell_type": "markdown",
   "id": "d26429db",
   "metadata": {},
   "source": [
    "## Encoding nominal and categorical data"
   ]
  },
  {
   "cell_type": "code",
   "execution_count": 75,
   "id": "b9a6f54d",
   "metadata": {},
   "outputs": [
    {
     "data": {
      "text/html": [
       "<div>\n",
       "<style scoped>\n",
       "    .dataframe tbody tr th:only-of-type {\n",
       "        vertical-align: middle;\n",
       "    }\n",
       "\n",
       "    .dataframe tbody tr th {\n",
       "        vertical-align: top;\n",
       "    }\n",
       "\n",
       "    .dataframe thead th {\n",
       "        text-align: right;\n",
       "    }\n",
       "</style>\n",
       "<table border=\"1\" class=\"dataframe\">\n",
       "  <thead>\n",
       "    <tr style=\"text-align: right;\">\n",
       "      <th></th>\n",
       "      <th>Item_Identifier</th>\n",
       "      <th>Item_Weight</th>\n",
       "      <th>Item_Fat_Content</th>\n",
       "      <th>Item_Visibility</th>\n",
       "      <th>Item_Type</th>\n",
       "      <th>Item_MRP</th>\n",
       "      <th>Outlet_Identifier</th>\n",
       "      <th>Outlet_Establishment_Year</th>\n",
       "      <th>Outlet_Size</th>\n",
       "      <th>Outlet_Location_Type</th>\n",
       "      <th>Outlet_Type</th>\n",
       "      <th>Item_Outlet_Sales</th>\n",
       "    </tr>\n",
       "  </thead>\n",
       "  <tbody>\n",
       "    <tr>\n",
       "      <th>0</th>\n",
       "      <td>156.0</td>\n",
       "      <td>9.30</td>\n",
       "      <td>Low Fat</td>\n",
       "      <td>0.016047</td>\n",
       "      <td>Dairy</td>\n",
       "      <td>249.8092</td>\n",
       "      <td>OUT049</td>\n",
       "      <td>1999</td>\n",
       "      <td>Medium</td>\n",
       "      <td>Tier 1</td>\n",
       "      <td>Supermarket Type1</td>\n",
       "      <td>3735.1380</td>\n",
       "    </tr>\n",
       "    <tr>\n",
       "      <th>1</th>\n",
       "      <td>8.0</td>\n",
       "      <td>5.92</td>\n",
       "      <td>Regular</td>\n",
       "      <td>0.019278</td>\n",
       "      <td>Soft Drinks</td>\n",
       "      <td>48.2692</td>\n",
       "      <td>OUT018</td>\n",
       "      <td>2009</td>\n",
       "      <td>Medium</td>\n",
       "      <td>Tier 3</td>\n",
       "      <td>Supermarket Type2</td>\n",
       "      <td>443.4228</td>\n",
       "    </tr>\n",
       "    <tr>\n",
       "      <th>2</th>\n",
       "      <td>662.0</td>\n",
       "      <td>17.50</td>\n",
       "      <td>Low Fat</td>\n",
       "      <td>0.016760</td>\n",
       "      <td>Meat</td>\n",
       "      <td>141.6180</td>\n",
       "      <td>OUT049</td>\n",
       "      <td>1999</td>\n",
       "      <td>Medium</td>\n",
       "      <td>Tier 1</td>\n",
       "      <td>Supermarket Type1</td>\n",
       "      <td>2097.2700</td>\n",
       "    </tr>\n",
       "    <tr>\n",
       "      <th>3</th>\n",
       "      <td>1121.0</td>\n",
       "      <td>19.20</td>\n",
       "      <td>Regular</td>\n",
       "      <td>0.000000</td>\n",
       "      <td>Fruits and Vegetables</td>\n",
       "      <td>182.0950</td>\n",
       "      <td>OUT010</td>\n",
       "      <td>1998</td>\n",
       "      <td>Medium</td>\n",
       "      <td>Tier 3</td>\n",
       "      <td>Grocery Store</td>\n",
       "      <td>732.3800</td>\n",
       "    </tr>\n",
       "    <tr>\n",
       "      <th>4</th>\n",
       "      <td>1297.0</td>\n",
       "      <td>8.93</td>\n",
       "      <td>Low Fat</td>\n",
       "      <td>0.000000</td>\n",
       "      <td>Household</td>\n",
       "      <td>53.8614</td>\n",
       "      <td>OUT013</td>\n",
       "      <td>1987</td>\n",
       "      <td>High</td>\n",
       "      <td>Tier 3</td>\n",
       "      <td>Supermarket Type1</td>\n",
       "      <td>994.7052</td>\n",
       "    </tr>\n",
       "  </tbody>\n",
       "</table>\n",
       "</div>"
      ],
      "text/plain": [
       "   Item_Identifier  Item_Weight Item_Fat_Content  Item_Visibility  \\\n",
       "0            156.0         9.30          Low Fat         0.016047   \n",
       "1              8.0         5.92          Regular         0.019278   \n",
       "2            662.0        17.50          Low Fat         0.016760   \n",
       "3           1121.0        19.20          Regular         0.000000   \n",
       "4           1297.0         8.93          Low Fat         0.000000   \n",
       "\n",
       "               Item_Type  Item_MRP Outlet_Identifier  \\\n",
       "0                  Dairy  249.8092            OUT049   \n",
       "1            Soft Drinks   48.2692            OUT018   \n",
       "2                   Meat  141.6180            OUT049   \n",
       "3  Fruits and Vegetables  182.0950            OUT010   \n",
       "4              Household   53.8614            OUT013   \n",
       "\n",
       "   Outlet_Establishment_Year Outlet_Size Outlet_Location_Type  \\\n",
       "0                       1999      Medium               Tier 1   \n",
       "1                       2009      Medium               Tier 3   \n",
       "2                       1999      Medium               Tier 1   \n",
       "3                       1998      Medium               Tier 3   \n",
       "4                       1987        High               Tier 3   \n",
       "\n",
       "         Outlet_Type  Item_Outlet_Sales  \n",
       "0  Supermarket Type1          3735.1380  \n",
       "1  Supermarket Type2           443.4228  \n",
       "2  Supermarket Type1          2097.2700  \n",
       "3      Grocery Store           732.3800  \n",
       "4  Supermarket Type1           994.7052  "
      ]
     },
     "execution_count": 75,
     "metadata": {},
     "output_type": "execute_result"
    }
   ],
   "source": [
    "# Encoding  Item_Identifier\n",
    "oe=OrdinalEncoder()\n",
    "df1=oe.fit_transform(df[['Item_Identifier']])\n",
    "df['Item_Identifier']=df1\n",
    "df.head()"
   ]
  },
  {
   "cell_type": "code",
   "execution_count": 76,
   "id": "985aafc8",
   "metadata": {},
   "outputs": [
    {
     "data": {
      "text/plain": [
       "Low Fat    5089\n",
       "Regular    2889\n",
       "LF          316\n",
       "reg         117\n",
       "low fat     112\n",
       "Name: Item_Fat_Content, dtype: int64"
      ]
     },
     "execution_count": 76,
     "metadata": {},
     "output_type": "execute_result"
    }
   ],
   "source": [
    "# Encoding  Item_Fat_Content\n",
    "df['Item_Fat_Content'].value_counts()"
   ]
  },
  {
   "cell_type": "code",
   "execution_count": 77,
   "id": "b1259fef",
   "metadata": {},
   "outputs": [
    {
     "data": {
      "text/html": [
       "<div>\n",
       "<style scoped>\n",
       "    .dataframe tbody tr th:only-of-type {\n",
       "        vertical-align: middle;\n",
       "    }\n",
       "\n",
       "    .dataframe tbody tr th {\n",
       "        vertical-align: top;\n",
       "    }\n",
       "\n",
       "    .dataframe thead th {\n",
       "        text-align: right;\n",
       "    }\n",
       "</style>\n",
       "<table border=\"1\" class=\"dataframe\">\n",
       "  <thead>\n",
       "    <tr style=\"text-align: right;\">\n",
       "      <th></th>\n",
       "      <th>Item_Identifier</th>\n",
       "      <th>Item_Weight</th>\n",
       "      <th>Item_Fat_Content</th>\n",
       "      <th>Item_Visibility</th>\n",
       "      <th>Item_Type</th>\n",
       "      <th>Item_MRP</th>\n",
       "      <th>Outlet_Identifier</th>\n",
       "      <th>Outlet_Establishment_Year</th>\n",
       "      <th>Outlet_Size</th>\n",
       "      <th>Outlet_Location_Type</th>\n",
       "      <th>Outlet_Type</th>\n",
       "      <th>Item_Outlet_Sales</th>\n",
       "    </tr>\n",
       "  </thead>\n",
       "  <tbody>\n",
       "    <tr>\n",
       "      <th>0</th>\n",
       "      <td>156.0</td>\n",
       "      <td>9.30</td>\n",
       "      <td>1.0</td>\n",
       "      <td>0.016047</td>\n",
       "      <td>Dairy</td>\n",
       "      <td>249.8092</td>\n",
       "      <td>OUT049</td>\n",
       "      <td>1999</td>\n",
       "      <td>Medium</td>\n",
       "      <td>Tier 1</td>\n",
       "      <td>Supermarket Type1</td>\n",
       "      <td>3735.1380</td>\n",
       "    </tr>\n",
       "    <tr>\n",
       "      <th>1</th>\n",
       "      <td>8.0</td>\n",
       "      <td>5.92</td>\n",
       "      <td>2.0</td>\n",
       "      <td>0.019278</td>\n",
       "      <td>Soft Drinks</td>\n",
       "      <td>48.2692</td>\n",
       "      <td>OUT018</td>\n",
       "      <td>2009</td>\n",
       "      <td>Medium</td>\n",
       "      <td>Tier 3</td>\n",
       "      <td>Supermarket Type2</td>\n",
       "      <td>443.4228</td>\n",
       "    </tr>\n",
       "    <tr>\n",
       "      <th>2</th>\n",
       "      <td>662.0</td>\n",
       "      <td>17.50</td>\n",
       "      <td>1.0</td>\n",
       "      <td>0.016760</td>\n",
       "      <td>Meat</td>\n",
       "      <td>141.6180</td>\n",
       "      <td>OUT049</td>\n",
       "      <td>1999</td>\n",
       "      <td>Medium</td>\n",
       "      <td>Tier 1</td>\n",
       "      <td>Supermarket Type1</td>\n",
       "      <td>2097.2700</td>\n",
       "    </tr>\n",
       "    <tr>\n",
       "      <th>3</th>\n",
       "      <td>1121.0</td>\n",
       "      <td>19.20</td>\n",
       "      <td>2.0</td>\n",
       "      <td>0.000000</td>\n",
       "      <td>Fruits and Vegetables</td>\n",
       "      <td>182.0950</td>\n",
       "      <td>OUT010</td>\n",
       "      <td>1998</td>\n",
       "      <td>Medium</td>\n",
       "      <td>Tier 3</td>\n",
       "      <td>Grocery Store</td>\n",
       "      <td>732.3800</td>\n",
       "    </tr>\n",
       "    <tr>\n",
       "      <th>4</th>\n",
       "      <td>1297.0</td>\n",
       "      <td>8.93</td>\n",
       "      <td>1.0</td>\n",
       "      <td>0.000000</td>\n",
       "      <td>Household</td>\n",
       "      <td>53.8614</td>\n",
       "      <td>OUT013</td>\n",
       "      <td>1987</td>\n",
       "      <td>High</td>\n",
       "      <td>Tier 3</td>\n",
       "      <td>Supermarket Type1</td>\n",
       "      <td>994.7052</td>\n",
       "    </tr>\n",
       "  </tbody>\n",
       "</table>\n",
       "</div>"
      ],
      "text/plain": [
       "   Item_Identifier  Item_Weight  Item_Fat_Content  Item_Visibility  \\\n",
       "0            156.0         9.30               1.0         0.016047   \n",
       "1              8.0         5.92               2.0         0.019278   \n",
       "2            662.0        17.50               1.0         0.016760   \n",
       "3           1121.0        19.20               2.0         0.000000   \n",
       "4           1297.0         8.93               1.0         0.000000   \n",
       "\n",
       "               Item_Type  Item_MRP Outlet_Identifier  \\\n",
       "0                  Dairy  249.8092            OUT049   \n",
       "1            Soft Drinks   48.2692            OUT018   \n",
       "2                   Meat  141.6180            OUT049   \n",
       "3  Fruits and Vegetables  182.0950            OUT010   \n",
       "4              Household   53.8614            OUT013   \n",
       "\n",
       "   Outlet_Establishment_Year Outlet_Size Outlet_Location_Type  \\\n",
       "0                       1999      Medium               Tier 1   \n",
       "1                       2009      Medium               Tier 3   \n",
       "2                       1999      Medium               Tier 1   \n",
       "3                       1998      Medium               Tier 3   \n",
       "4                       1987        High               Tier 3   \n",
       "\n",
       "         Outlet_Type  Item_Outlet_Sales  \n",
       "0  Supermarket Type1          3735.1380  \n",
       "1  Supermarket Type2           443.4228  \n",
       "2  Supermarket Type1          2097.2700  \n",
       "3      Grocery Store           732.3800  \n",
       "4  Supermarket Type1           994.7052  "
      ]
     },
     "execution_count": 77,
     "metadata": {},
     "output_type": "execute_result"
    }
   ],
   "source": [
    "oe=OrdinalEncoder()\n",
    "df1=oe.fit_transform(df[['Item_Fat_Content']])\n",
    "df['Item_Fat_Content']=df1\n",
    "df.head()"
   ]
  },
  {
   "cell_type": "code",
   "execution_count": 78,
   "id": "463752d4",
   "metadata": {},
   "outputs": [
    {
     "data": {
      "text/plain": [
       "Fruits and Vegetables    1232\n",
       "Snack Foods              1200\n",
       "Household                 910\n",
       "Frozen Foods              856\n",
       "Dairy                     682\n",
       "Canned                    649\n",
       "Baking Goods              648\n",
       "Health and Hygiene        520\n",
       "Soft Drinks               445\n",
       "Meat                      425\n",
       "Breads                    251\n",
       "Hard Drinks               214\n",
       "Others                    169\n",
       "Starchy Foods             148\n",
       "Breakfast                 110\n",
       "Seafood                    64\n",
       "Name: Item_Type, dtype: int64"
      ]
     },
     "execution_count": 78,
     "metadata": {},
     "output_type": "execute_result"
    }
   ],
   "source": [
    "# Encoding  Item_Type\n",
    "df['Item_Type'].value_counts()"
   ]
  },
  {
   "cell_type": "code",
   "execution_count": 79,
   "id": "eaed2282",
   "metadata": {},
   "outputs": [
    {
     "data": {
      "text/html": [
       "<div>\n",
       "<style scoped>\n",
       "    .dataframe tbody tr th:only-of-type {\n",
       "        vertical-align: middle;\n",
       "    }\n",
       "\n",
       "    .dataframe tbody tr th {\n",
       "        vertical-align: top;\n",
       "    }\n",
       "\n",
       "    .dataframe thead th {\n",
       "        text-align: right;\n",
       "    }\n",
       "</style>\n",
       "<table border=\"1\" class=\"dataframe\">\n",
       "  <thead>\n",
       "    <tr style=\"text-align: right;\">\n",
       "      <th></th>\n",
       "      <th>Item_Identifier</th>\n",
       "      <th>Item_Weight</th>\n",
       "      <th>Item_Fat_Content</th>\n",
       "      <th>Item_Visibility</th>\n",
       "      <th>Item_Type</th>\n",
       "      <th>Item_MRP</th>\n",
       "      <th>Outlet_Identifier</th>\n",
       "      <th>Outlet_Establishment_Year</th>\n",
       "      <th>Outlet_Size</th>\n",
       "      <th>Outlet_Location_Type</th>\n",
       "      <th>Outlet_Type</th>\n",
       "      <th>Item_Outlet_Sales</th>\n",
       "    </tr>\n",
       "  </thead>\n",
       "  <tbody>\n",
       "    <tr>\n",
       "      <th>0</th>\n",
       "      <td>156.0</td>\n",
       "      <td>9.30</td>\n",
       "      <td>1.0</td>\n",
       "      <td>0.016047</td>\n",
       "      <td>4.0</td>\n",
       "      <td>249.8092</td>\n",
       "      <td>OUT049</td>\n",
       "      <td>1999</td>\n",
       "      <td>Medium</td>\n",
       "      <td>Tier 1</td>\n",
       "      <td>Supermarket Type1</td>\n",
       "      <td>3735.1380</td>\n",
       "    </tr>\n",
       "    <tr>\n",
       "      <th>1</th>\n",
       "      <td>8.0</td>\n",
       "      <td>5.92</td>\n",
       "      <td>2.0</td>\n",
       "      <td>0.019278</td>\n",
       "      <td>14.0</td>\n",
       "      <td>48.2692</td>\n",
       "      <td>OUT018</td>\n",
       "      <td>2009</td>\n",
       "      <td>Medium</td>\n",
       "      <td>Tier 3</td>\n",
       "      <td>Supermarket Type2</td>\n",
       "      <td>443.4228</td>\n",
       "    </tr>\n",
       "    <tr>\n",
       "      <th>2</th>\n",
       "      <td>662.0</td>\n",
       "      <td>17.50</td>\n",
       "      <td>1.0</td>\n",
       "      <td>0.016760</td>\n",
       "      <td>10.0</td>\n",
       "      <td>141.6180</td>\n",
       "      <td>OUT049</td>\n",
       "      <td>1999</td>\n",
       "      <td>Medium</td>\n",
       "      <td>Tier 1</td>\n",
       "      <td>Supermarket Type1</td>\n",
       "      <td>2097.2700</td>\n",
       "    </tr>\n",
       "    <tr>\n",
       "      <th>3</th>\n",
       "      <td>1121.0</td>\n",
       "      <td>19.20</td>\n",
       "      <td>2.0</td>\n",
       "      <td>0.000000</td>\n",
       "      <td>6.0</td>\n",
       "      <td>182.0950</td>\n",
       "      <td>OUT010</td>\n",
       "      <td>1998</td>\n",
       "      <td>Medium</td>\n",
       "      <td>Tier 3</td>\n",
       "      <td>Grocery Store</td>\n",
       "      <td>732.3800</td>\n",
       "    </tr>\n",
       "    <tr>\n",
       "      <th>4</th>\n",
       "      <td>1297.0</td>\n",
       "      <td>8.93</td>\n",
       "      <td>1.0</td>\n",
       "      <td>0.000000</td>\n",
       "      <td>9.0</td>\n",
       "      <td>53.8614</td>\n",
       "      <td>OUT013</td>\n",
       "      <td>1987</td>\n",
       "      <td>High</td>\n",
       "      <td>Tier 3</td>\n",
       "      <td>Supermarket Type1</td>\n",
       "      <td>994.7052</td>\n",
       "    </tr>\n",
       "  </tbody>\n",
       "</table>\n",
       "</div>"
      ],
      "text/plain": [
       "   Item_Identifier  Item_Weight  Item_Fat_Content  Item_Visibility  Item_Type  \\\n",
       "0            156.0         9.30               1.0         0.016047        4.0   \n",
       "1              8.0         5.92               2.0         0.019278       14.0   \n",
       "2            662.0        17.50               1.0         0.016760       10.0   \n",
       "3           1121.0        19.20               2.0         0.000000        6.0   \n",
       "4           1297.0         8.93               1.0         0.000000        9.0   \n",
       "\n",
       "   Item_MRP Outlet_Identifier  Outlet_Establishment_Year Outlet_Size  \\\n",
       "0  249.8092            OUT049                       1999      Medium   \n",
       "1   48.2692            OUT018                       2009      Medium   \n",
       "2  141.6180            OUT049                       1999      Medium   \n",
       "3  182.0950            OUT010                       1998      Medium   \n",
       "4   53.8614            OUT013                       1987        High   \n",
       "\n",
       "  Outlet_Location_Type        Outlet_Type  Item_Outlet_Sales  \n",
       "0               Tier 1  Supermarket Type1          3735.1380  \n",
       "1               Tier 3  Supermarket Type2           443.4228  \n",
       "2               Tier 1  Supermarket Type1          2097.2700  \n",
       "3               Tier 3      Grocery Store           732.3800  \n",
       "4               Tier 3  Supermarket Type1           994.7052  "
      ]
     },
     "execution_count": 79,
     "metadata": {},
     "output_type": "execute_result"
    }
   ],
   "source": [
    "oe=OrdinalEncoder()\n",
    "df1=oe.fit_transform(df[['Item_Type']])\n",
    "df['Item_Type']=df1\n",
    "df.head()"
   ]
  },
  {
   "cell_type": "code",
   "execution_count": 80,
   "id": "de5ee128",
   "metadata": {},
   "outputs": [
    {
     "data": {
      "text/plain": [
       "OUT027    935\n",
       "OUT013    932\n",
       "OUT049    930\n",
       "OUT046    930\n",
       "OUT035    930\n",
       "OUT045    929\n",
       "OUT018    928\n",
       "OUT017    926\n",
       "OUT010    555\n",
       "OUT019    528\n",
       "Name: Outlet_Identifier, dtype: int64"
      ]
     },
     "execution_count": 80,
     "metadata": {},
     "output_type": "execute_result"
    }
   ],
   "source": [
    "# Encoding  Item_Type\n",
    "df['Outlet_Identifier'].value_counts()"
   ]
  },
  {
   "cell_type": "code",
   "execution_count": 81,
   "id": "049ee0a9",
   "metadata": {},
   "outputs": [
    {
     "data": {
      "text/html": [
       "<div>\n",
       "<style scoped>\n",
       "    .dataframe tbody tr th:only-of-type {\n",
       "        vertical-align: middle;\n",
       "    }\n",
       "\n",
       "    .dataframe tbody tr th {\n",
       "        vertical-align: top;\n",
       "    }\n",
       "\n",
       "    .dataframe thead th {\n",
       "        text-align: right;\n",
       "    }\n",
       "</style>\n",
       "<table border=\"1\" class=\"dataframe\">\n",
       "  <thead>\n",
       "    <tr style=\"text-align: right;\">\n",
       "      <th></th>\n",
       "      <th>Item_Identifier</th>\n",
       "      <th>Item_Weight</th>\n",
       "      <th>Item_Fat_Content</th>\n",
       "      <th>Item_Visibility</th>\n",
       "      <th>Item_Type</th>\n",
       "      <th>Item_MRP</th>\n",
       "      <th>Outlet_Identifier</th>\n",
       "      <th>Outlet_Establishment_Year</th>\n",
       "      <th>Outlet_Size</th>\n",
       "      <th>Outlet_Location_Type</th>\n",
       "      <th>Outlet_Type</th>\n",
       "      <th>Item_Outlet_Sales</th>\n",
       "    </tr>\n",
       "  </thead>\n",
       "  <tbody>\n",
       "    <tr>\n",
       "      <th>0</th>\n",
       "      <td>156.0</td>\n",
       "      <td>9.30</td>\n",
       "      <td>1.0</td>\n",
       "      <td>0.016047</td>\n",
       "      <td>4.0</td>\n",
       "      <td>249.8092</td>\n",
       "      <td>9.0</td>\n",
       "      <td>1999</td>\n",
       "      <td>Medium</td>\n",
       "      <td>Tier 1</td>\n",
       "      <td>Supermarket Type1</td>\n",
       "      <td>3735.1380</td>\n",
       "    </tr>\n",
       "    <tr>\n",
       "      <th>1</th>\n",
       "      <td>8.0</td>\n",
       "      <td>5.92</td>\n",
       "      <td>2.0</td>\n",
       "      <td>0.019278</td>\n",
       "      <td>14.0</td>\n",
       "      <td>48.2692</td>\n",
       "      <td>3.0</td>\n",
       "      <td>2009</td>\n",
       "      <td>Medium</td>\n",
       "      <td>Tier 3</td>\n",
       "      <td>Supermarket Type2</td>\n",
       "      <td>443.4228</td>\n",
       "    </tr>\n",
       "    <tr>\n",
       "      <th>2</th>\n",
       "      <td>662.0</td>\n",
       "      <td>17.50</td>\n",
       "      <td>1.0</td>\n",
       "      <td>0.016760</td>\n",
       "      <td>10.0</td>\n",
       "      <td>141.6180</td>\n",
       "      <td>9.0</td>\n",
       "      <td>1999</td>\n",
       "      <td>Medium</td>\n",
       "      <td>Tier 1</td>\n",
       "      <td>Supermarket Type1</td>\n",
       "      <td>2097.2700</td>\n",
       "    </tr>\n",
       "    <tr>\n",
       "      <th>3</th>\n",
       "      <td>1121.0</td>\n",
       "      <td>19.20</td>\n",
       "      <td>2.0</td>\n",
       "      <td>0.000000</td>\n",
       "      <td>6.0</td>\n",
       "      <td>182.0950</td>\n",
       "      <td>0.0</td>\n",
       "      <td>1998</td>\n",
       "      <td>Medium</td>\n",
       "      <td>Tier 3</td>\n",
       "      <td>Grocery Store</td>\n",
       "      <td>732.3800</td>\n",
       "    </tr>\n",
       "    <tr>\n",
       "      <th>4</th>\n",
       "      <td>1297.0</td>\n",
       "      <td>8.93</td>\n",
       "      <td>1.0</td>\n",
       "      <td>0.000000</td>\n",
       "      <td>9.0</td>\n",
       "      <td>53.8614</td>\n",
       "      <td>1.0</td>\n",
       "      <td>1987</td>\n",
       "      <td>High</td>\n",
       "      <td>Tier 3</td>\n",
       "      <td>Supermarket Type1</td>\n",
       "      <td>994.7052</td>\n",
       "    </tr>\n",
       "  </tbody>\n",
       "</table>\n",
       "</div>"
      ],
      "text/plain": [
       "   Item_Identifier  Item_Weight  Item_Fat_Content  Item_Visibility  Item_Type  \\\n",
       "0            156.0         9.30               1.0         0.016047        4.0   \n",
       "1              8.0         5.92               2.0         0.019278       14.0   \n",
       "2            662.0        17.50               1.0         0.016760       10.0   \n",
       "3           1121.0        19.20               2.0         0.000000        6.0   \n",
       "4           1297.0         8.93               1.0         0.000000        9.0   \n",
       "\n",
       "   Item_MRP  Outlet_Identifier  Outlet_Establishment_Year Outlet_Size  \\\n",
       "0  249.8092                9.0                       1999      Medium   \n",
       "1   48.2692                3.0                       2009      Medium   \n",
       "2  141.6180                9.0                       1999      Medium   \n",
       "3  182.0950                0.0                       1998      Medium   \n",
       "4   53.8614                1.0                       1987        High   \n",
       "\n",
       "  Outlet_Location_Type        Outlet_Type  Item_Outlet_Sales  \n",
       "0               Tier 1  Supermarket Type1          3735.1380  \n",
       "1               Tier 3  Supermarket Type2           443.4228  \n",
       "2               Tier 1  Supermarket Type1          2097.2700  \n",
       "3               Tier 3      Grocery Store           732.3800  \n",
       "4               Tier 3  Supermarket Type1           994.7052  "
      ]
     },
     "execution_count": 81,
     "metadata": {},
     "output_type": "execute_result"
    }
   ],
   "source": [
    "oe=OrdinalEncoder()\n",
    "df1=oe.fit_transform(df[['Outlet_Identifier']])\n",
    "df['Outlet_Identifier']=df1\n",
    "df.head()"
   ]
  },
  {
   "cell_type": "code",
   "execution_count": 82,
   "id": "83784001",
   "metadata": {},
   "outputs": [
    {
     "data": {
      "text/plain": [
       "Medium    5203\n",
       "Small     2388\n",
       "High       932\n",
       "Name: Outlet_Size, dtype: int64"
      ]
     },
     "execution_count": 82,
     "metadata": {},
     "output_type": "execute_result"
    }
   ],
   "source": [
    "# Encoding  Outlet_Size\n",
    "df['Outlet_Size'].value_counts()"
   ]
  },
  {
   "cell_type": "code",
   "execution_count": 83,
   "id": "74c9c6e6",
   "metadata": {},
   "outputs": [
    {
     "data": {
      "text/html": [
       "<div>\n",
       "<style scoped>\n",
       "    .dataframe tbody tr th:only-of-type {\n",
       "        vertical-align: middle;\n",
       "    }\n",
       "\n",
       "    .dataframe tbody tr th {\n",
       "        vertical-align: top;\n",
       "    }\n",
       "\n",
       "    .dataframe thead th {\n",
       "        text-align: right;\n",
       "    }\n",
       "</style>\n",
       "<table border=\"1\" class=\"dataframe\">\n",
       "  <thead>\n",
       "    <tr style=\"text-align: right;\">\n",
       "      <th></th>\n",
       "      <th>Item_Identifier</th>\n",
       "      <th>Item_Weight</th>\n",
       "      <th>Item_Fat_Content</th>\n",
       "      <th>Item_Visibility</th>\n",
       "      <th>Item_Type</th>\n",
       "      <th>Item_MRP</th>\n",
       "      <th>Outlet_Identifier</th>\n",
       "      <th>Outlet_Establishment_Year</th>\n",
       "      <th>Outlet_Size</th>\n",
       "      <th>Outlet_Location_Type</th>\n",
       "      <th>Outlet_Type</th>\n",
       "      <th>Item_Outlet_Sales</th>\n",
       "    </tr>\n",
       "  </thead>\n",
       "  <tbody>\n",
       "    <tr>\n",
       "      <th>0</th>\n",
       "      <td>156.0</td>\n",
       "      <td>9.30</td>\n",
       "      <td>1.0</td>\n",
       "      <td>0.016047</td>\n",
       "      <td>4.0</td>\n",
       "      <td>249.8092</td>\n",
       "      <td>9.0</td>\n",
       "      <td>1999</td>\n",
       "      <td>1.0</td>\n",
       "      <td>Tier 1</td>\n",
       "      <td>Supermarket Type1</td>\n",
       "      <td>3735.1380</td>\n",
       "    </tr>\n",
       "    <tr>\n",
       "      <th>1</th>\n",
       "      <td>8.0</td>\n",
       "      <td>5.92</td>\n",
       "      <td>2.0</td>\n",
       "      <td>0.019278</td>\n",
       "      <td>14.0</td>\n",
       "      <td>48.2692</td>\n",
       "      <td>3.0</td>\n",
       "      <td>2009</td>\n",
       "      <td>1.0</td>\n",
       "      <td>Tier 3</td>\n",
       "      <td>Supermarket Type2</td>\n",
       "      <td>443.4228</td>\n",
       "    </tr>\n",
       "    <tr>\n",
       "      <th>2</th>\n",
       "      <td>662.0</td>\n",
       "      <td>17.50</td>\n",
       "      <td>1.0</td>\n",
       "      <td>0.016760</td>\n",
       "      <td>10.0</td>\n",
       "      <td>141.6180</td>\n",
       "      <td>9.0</td>\n",
       "      <td>1999</td>\n",
       "      <td>1.0</td>\n",
       "      <td>Tier 1</td>\n",
       "      <td>Supermarket Type1</td>\n",
       "      <td>2097.2700</td>\n",
       "    </tr>\n",
       "    <tr>\n",
       "      <th>3</th>\n",
       "      <td>1121.0</td>\n",
       "      <td>19.20</td>\n",
       "      <td>2.0</td>\n",
       "      <td>0.000000</td>\n",
       "      <td>6.0</td>\n",
       "      <td>182.0950</td>\n",
       "      <td>0.0</td>\n",
       "      <td>1998</td>\n",
       "      <td>1.0</td>\n",
       "      <td>Tier 3</td>\n",
       "      <td>Grocery Store</td>\n",
       "      <td>732.3800</td>\n",
       "    </tr>\n",
       "    <tr>\n",
       "      <th>4</th>\n",
       "      <td>1297.0</td>\n",
       "      <td>8.93</td>\n",
       "      <td>1.0</td>\n",
       "      <td>0.000000</td>\n",
       "      <td>9.0</td>\n",
       "      <td>53.8614</td>\n",
       "      <td>1.0</td>\n",
       "      <td>1987</td>\n",
       "      <td>0.0</td>\n",
       "      <td>Tier 3</td>\n",
       "      <td>Supermarket Type1</td>\n",
       "      <td>994.7052</td>\n",
       "    </tr>\n",
       "  </tbody>\n",
       "</table>\n",
       "</div>"
      ],
      "text/plain": [
       "   Item_Identifier  Item_Weight  Item_Fat_Content  Item_Visibility  Item_Type  \\\n",
       "0            156.0         9.30               1.0         0.016047        4.0   \n",
       "1              8.0         5.92               2.0         0.019278       14.0   \n",
       "2            662.0        17.50               1.0         0.016760       10.0   \n",
       "3           1121.0        19.20               2.0         0.000000        6.0   \n",
       "4           1297.0         8.93               1.0         0.000000        9.0   \n",
       "\n",
       "   Item_MRP  Outlet_Identifier  Outlet_Establishment_Year  Outlet_Size  \\\n",
       "0  249.8092                9.0                       1999          1.0   \n",
       "1   48.2692                3.0                       2009          1.0   \n",
       "2  141.6180                9.0                       1999          1.0   \n",
       "3  182.0950                0.0                       1998          1.0   \n",
       "4   53.8614                1.0                       1987          0.0   \n",
       "\n",
       "  Outlet_Location_Type        Outlet_Type  Item_Outlet_Sales  \n",
       "0               Tier 1  Supermarket Type1          3735.1380  \n",
       "1               Tier 3  Supermarket Type2           443.4228  \n",
       "2               Tier 1  Supermarket Type1          2097.2700  \n",
       "3               Tier 3      Grocery Store           732.3800  \n",
       "4               Tier 3  Supermarket Type1           994.7052  "
      ]
     },
     "execution_count": 83,
     "metadata": {},
     "output_type": "execute_result"
    }
   ],
   "source": [
    "oe=OrdinalEncoder()\n",
    "df1=oe.fit_transform(df[['Outlet_Size']])\n",
    "df['Outlet_Size']=df1\n",
    "df.head()"
   ]
  },
  {
   "cell_type": "code",
   "execution_count": 84,
   "id": "4c8526e6",
   "metadata": {},
   "outputs": [
    {
     "data": {
      "text/plain": [
       "Tier 3    3350\n",
       "Tier 2    2785\n",
       "Tier 1    2388\n",
       "Name: Outlet_Location_Type, dtype: int64"
      ]
     },
     "execution_count": 84,
     "metadata": {},
     "output_type": "execute_result"
    }
   ],
   "source": [
    "#Encoding  Outlet_Location_Type\n",
    "df['Outlet_Location_Type'].value_counts()"
   ]
  },
  {
   "cell_type": "code",
   "execution_count": 85,
   "id": "d47d2710",
   "metadata": {},
   "outputs": [
    {
     "data": {
      "text/html": [
       "<div>\n",
       "<style scoped>\n",
       "    .dataframe tbody tr th:only-of-type {\n",
       "        vertical-align: middle;\n",
       "    }\n",
       "\n",
       "    .dataframe tbody tr th {\n",
       "        vertical-align: top;\n",
       "    }\n",
       "\n",
       "    .dataframe thead th {\n",
       "        text-align: right;\n",
       "    }\n",
       "</style>\n",
       "<table border=\"1\" class=\"dataframe\">\n",
       "  <thead>\n",
       "    <tr style=\"text-align: right;\">\n",
       "      <th></th>\n",
       "      <th>Item_Identifier</th>\n",
       "      <th>Item_Weight</th>\n",
       "      <th>Item_Fat_Content</th>\n",
       "      <th>Item_Visibility</th>\n",
       "      <th>Item_Type</th>\n",
       "      <th>Item_MRP</th>\n",
       "      <th>Outlet_Identifier</th>\n",
       "      <th>Outlet_Establishment_Year</th>\n",
       "      <th>Outlet_Size</th>\n",
       "      <th>Outlet_Location_Type</th>\n",
       "      <th>Outlet_Type</th>\n",
       "      <th>Item_Outlet_Sales</th>\n",
       "    </tr>\n",
       "  </thead>\n",
       "  <tbody>\n",
       "    <tr>\n",
       "      <th>0</th>\n",
       "      <td>156.0</td>\n",
       "      <td>9.30</td>\n",
       "      <td>1.0</td>\n",
       "      <td>0.016047</td>\n",
       "      <td>4.0</td>\n",
       "      <td>249.8092</td>\n",
       "      <td>9.0</td>\n",
       "      <td>1999</td>\n",
       "      <td>1.0</td>\n",
       "      <td>0.0</td>\n",
       "      <td>Supermarket Type1</td>\n",
       "      <td>3735.1380</td>\n",
       "    </tr>\n",
       "    <tr>\n",
       "      <th>1</th>\n",
       "      <td>8.0</td>\n",
       "      <td>5.92</td>\n",
       "      <td>2.0</td>\n",
       "      <td>0.019278</td>\n",
       "      <td>14.0</td>\n",
       "      <td>48.2692</td>\n",
       "      <td>3.0</td>\n",
       "      <td>2009</td>\n",
       "      <td>1.0</td>\n",
       "      <td>2.0</td>\n",
       "      <td>Supermarket Type2</td>\n",
       "      <td>443.4228</td>\n",
       "    </tr>\n",
       "    <tr>\n",
       "      <th>2</th>\n",
       "      <td>662.0</td>\n",
       "      <td>17.50</td>\n",
       "      <td>1.0</td>\n",
       "      <td>0.016760</td>\n",
       "      <td>10.0</td>\n",
       "      <td>141.6180</td>\n",
       "      <td>9.0</td>\n",
       "      <td>1999</td>\n",
       "      <td>1.0</td>\n",
       "      <td>0.0</td>\n",
       "      <td>Supermarket Type1</td>\n",
       "      <td>2097.2700</td>\n",
       "    </tr>\n",
       "    <tr>\n",
       "      <th>3</th>\n",
       "      <td>1121.0</td>\n",
       "      <td>19.20</td>\n",
       "      <td>2.0</td>\n",
       "      <td>0.000000</td>\n",
       "      <td>6.0</td>\n",
       "      <td>182.0950</td>\n",
       "      <td>0.0</td>\n",
       "      <td>1998</td>\n",
       "      <td>1.0</td>\n",
       "      <td>2.0</td>\n",
       "      <td>Grocery Store</td>\n",
       "      <td>732.3800</td>\n",
       "    </tr>\n",
       "    <tr>\n",
       "      <th>4</th>\n",
       "      <td>1297.0</td>\n",
       "      <td>8.93</td>\n",
       "      <td>1.0</td>\n",
       "      <td>0.000000</td>\n",
       "      <td>9.0</td>\n",
       "      <td>53.8614</td>\n",
       "      <td>1.0</td>\n",
       "      <td>1987</td>\n",
       "      <td>0.0</td>\n",
       "      <td>2.0</td>\n",
       "      <td>Supermarket Type1</td>\n",
       "      <td>994.7052</td>\n",
       "    </tr>\n",
       "  </tbody>\n",
       "</table>\n",
       "</div>"
      ],
      "text/plain": [
       "   Item_Identifier  Item_Weight  Item_Fat_Content  Item_Visibility  Item_Type  \\\n",
       "0            156.0         9.30               1.0         0.016047        4.0   \n",
       "1              8.0         5.92               2.0         0.019278       14.0   \n",
       "2            662.0        17.50               1.0         0.016760       10.0   \n",
       "3           1121.0        19.20               2.0         0.000000        6.0   \n",
       "4           1297.0         8.93               1.0         0.000000        9.0   \n",
       "\n",
       "   Item_MRP  Outlet_Identifier  Outlet_Establishment_Year  Outlet_Size  \\\n",
       "0  249.8092                9.0                       1999          1.0   \n",
       "1   48.2692                3.0                       2009          1.0   \n",
       "2  141.6180                9.0                       1999          1.0   \n",
       "3  182.0950                0.0                       1998          1.0   \n",
       "4   53.8614                1.0                       1987          0.0   \n",
       "\n",
       "   Outlet_Location_Type        Outlet_Type  Item_Outlet_Sales  \n",
       "0                   0.0  Supermarket Type1          3735.1380  \n",
       "1                   2.0  Supermarket Type2           443.4228  \n",
       "2                   0.0  Supermarket Type1          2097.2700  \n",
       "3                   2.0      Grocery Store           732.3800  \n",
       "4                   2.0  Supermarket Type1           994.7052  "
      ]
     },
     "execution_count": 85,
     "metadata": {},
     "output_type": "execute_result"
    }
   ],
   "source": [
    "oe=OrdinalEncoder()\n",
    "df1=oe.fit_transform(df[['Outlet_Location_Type']])\n",
    "df['Outlet_Location_Type']=df1\n",
    "df.head()"
   ]
  },
  {
   "cell_type": "code",
   "execution_count": 86,
   "id": "1ac33fc4",
   "metadata": {},
   "outputs": [
    {
     "data": {
      "text/plain": [
       "Supermarket Type1    5577\n",
       "Grocery Store        1083\n",
       "Supermarket Type3     935\n",
       "Supermarket Type2     928\n",
       "Name: Outlet_Type, dtype: int64"
      ]
     },
     "execution_count": 86,
     "metadata": {},
     "output_type": "execute_result"
    }
   ],
   "source": [
    "#Encoding  Outlet_Type\n",
    "df['Outlet_Type'].value_counts()"
   ]
  },
  {
   "cell_type": "code",
   "execution_count": 87,
   "id": "d6f30adb",
   "metadata": {},
   "outputs": [
    {
     "data": {
      "text/html": [
       "<div>\n",
       "<style scoped>\n",
       "    .dataframe tbody tr th:only-of-type {\n",
       "        vertical-align: middle;\n",
       "    }\n",
       "\n",
       "    .dataframe tbody tr th {\n",
       "        vertical-align: top;\n",
       "    }\n",
       "\n",
       "    .dataframe thead th {\n",
       "        text-align: right;\n",
       "    }\n",
       "</style>\n",
       "<table border=\"1\" class=\"dataframe\">\n",
       "  <thead>\n",
       "    <tr style=\"text-align: right;\">\n",
       "      <th></th>\n",
       "      <th>Item_Identifier</th>\n",
       "      <th>Item_Weight</th>\n",
       "      <th>Item_Fat_Content</th>\n",
       "      <th>Item_Visibility</th>\n",
       "      <th>Item_Type</th>\n",
       "      <th>Item_MRP</th>\n",
       "      <th>Outlet_Identifier</th>\n",
       "      <th>Outlet_Establishment_Year</th>\n",
       "      <th>Outlet_Size</th>\n",
       "      <th>Outlet_Location_Type</th>\n",
       "      <th>Outlet_Type</th>\n",
       "      <th>Item_Outlet_Sales</th>\n",
       "    </tr>\n",
       "  </thead>\n",
       "  <tbody>\n",
       "    <tr>\n",
       "      <th>0</th>\n",
       "      <td>156.0</td>\n",
       "      <td>9.30</td>\n",
       "      <td>1.0</td>\n",
       "      <td>0.016047</td>\n",
       "      <td>4.0</td>\n",
       "      <td>249.8092</td>\n",
       "      <td>9.0</td>\n",
       "      <td>1999</td>\n",
       "      <td>1.0</td>\n",
       "      <td>0.0</td>\n",
       "      <td>1.0</td>\n",
       "      <td>3735.1380</td>\n",
       "    </tr>\n",
       "    <tr>\n",
       "      <th>1</th>\n",
       "      <td>8.0</td>\n",
       "      <td>5.92</td>\n",
       "      <td>2.0</td>\n",
       "      <td>0.019278</td>\n",
       "      <td>14.0</td>\n",
       "      <td>48.2692</td>\n",
       "      <td>3.0</td>\n",
       "      <td>2009</td>\n",
       "      <td>1.0</td>\n",
       "      <td>2.0</td>\n",
       "      <td>2.0</td>\n",
       "      <td>443.4228</td>\n",
       "    </tr>\n",
       "    <tr>\n",
       "      <th>2</th>\n",
       "      <td>662.0</td>\n",
       "      <td>17.50</td>\n",
       "      <td>1.0</td>\n",
       "      <td>0.016760</td>\n",
       "      <td>10.0</td>\n",
       "      <td>141.6180</td>\n",
       "      <td>9.0</td>\n",
       "      <td>1999</td>\n",
       "      <td>1.0</td>\n",
       "      <td>0.0</td>\n",
       "      <td>1.0</td>\n",
       "      <td>2097.2700</td>\n",
       "    </tr>\n",
       "    <tr>\n",
       "      <th>3</th>\n",
       "      <td>1121.0</td>\n",
       "      <td>19.20</td>\n",
       "      <td>2.0</td>\n",
       "      <td>0.000000</td>\n",
       "      <td>6.0</td>\n",
       "      <td>182.0950</td>\n",
       "      <td>0.0</td>\n",
       "      <td>1998</td>\n",
       "      <td>1.0</td>\n",
       "      <td>2.0</td>\n",
       "      <td>0.0</td>\n",
       "      <td>732.3800</td>\n",
       "    </tr>\n",
       "    <tr>\n",
       "      <th>4</th>\n",
       "      <td>1297.0</td>\n",
       "      <td>8.93</td>\n",
       "      <td>1.0</td>\n",
       "      <td>0.000000</td>\n",
       "      <td>9.0</td>\n",
       "      <td>53.8614</td>\n",
       "      <td>1.0</td>\n",
       "      <td>1987</td>\n",
       "      <td>0.0</td>\n",
       "      <td>2.0</td>\n",
       "      <td>1.0</td>\n",
       "      <td>994.7052</td>\n",
       "    </tr>\n",
       "  </tbody>\n",
       "</table>\n",
       "</div>"
      ],
      "text/plain": [
       "   Item_Identifier  Item_Weight  Item_Fat_Content  Item_Visibility  Item_Type  \\\n",
       "0            156.0         9.30               1.0         0.016047        4.0   \n",
       "1              8.0         5.92               2.0         0.019278       14.0   \n",
       "2            662.0        17.50               1.0         0.016760       10.0   \n",
       "3           1121.0        19.20               2.0         0.000000        6.0   \n",
       "4           1297.0         8.93               1.0         0.000000        9.0   \n",
       "\n",
       "   Item_MRP  Outlet_Identifier  Outlet_Establishment_Year  Outlet_Size  \\\n",
       "0  249.8092                9.0                       1999          1.0   \n",
       "1   48.2692                3.0                       2009          1.0   \n",
       "2  141.6180                9.0                       1999          1.0   \n",
       "3  182.0950                0.0                       1998          1.0   \n",
       "4   53.8614                1.0                       1987          0.0   \n",
       "\n",
       "   Outlet_Location_Type  Outlet_Type  Item_Outlet_Sales  \n",
       "0                   0.0          1.0          3735.1380  \n",
       "1                   2.0          2.0           443.4228  \n",
       "2                   0.0          1.0          2097.2700  \n",
       "3                   2.0          0.0           732.3800  \n",
       "4                   2.0          1.0           994.7052  "
      ]
     },
     "execution_count": 87,
     "metadata": {},
     "output_type": "execute_result"
    }
   ],
   "source": [
    "oe=OrdinalEncoder()\n",
    "df1=oe.fit_transform(df[['Outlet_Type']])\n",
    "df['Outlet_Type']=df1\n",
    "df.head()"
   ]
  },
  {
   "cell_type": "markdown",
   "id": "fce1c751",
   "metadata": {},
   "source": [
    "## Visualizing relation between features and label"
   ]
  },
  {
   "cell_type": "code",
   "execution_count": 88,
   "id": "ddade015",
   "metadata": {},
   "outputs": [
    {
     "data": {
      "image/png": "[encoded data removed]",
      "text/plain": [
       "<Figure size 432x288 with 1 Axes>"
      ]
     },
     "metadata": {
      "needs_background": "light"
     },
     "output_type": "display_data"
    }
   ],
   "source": [
    "#Relation between Item_MRP and Item_Outlet_Sales\n",
    "a=sns.scatterplot(x=df['Item_MRP'],y=df['Item_Outlet_Sales'],data=df)\n",
    "plt.xlabel('Item_MRP')\n",
    "plt.ylabel('Item_Outlet_Sales')\n",
    "plt.show()"
   ]
  },
  {
   "cell_type": "markdown",
   "id": "bda2898c",
   "metadata": {},
   "source": [
    "As the item price increases sales of that item increases, lesser the price lesser the sales."
   ]
  },
  {
   "cell_type": "code",
   "execution_count": 89,
   "id": "5d33146c",
   "metadata": {},
   "outputs": [
    {
     "data": {
      "image/png": "[encoded data removed]",
      "text/plain": [
       "<Figure size 432x288 with 1 Axes>"
      ]
     },
     "metadata": {
      "needs_background": "light"
     },
     "output_type": "display_data"
    }
   ],
   "source": [
    "#Relation between Outlet_Type and Item_Outlet_Sales\n",
    "a=sns.scatterplot(x=df['Outlet_Type'],y=df['Item_Outlet_Sales'],data=df)\n",
    "plt.xlabel('Outlet_Type')\n",
    "plt.ylabel('Item_Outlet_Sales')\n",
    "plt.show()"
   ]
  },
  {
   "cell_type": "markdown",
   "id": "7633a834",
   "metadata": {},
   "source": [
    "The sales in grocery store is least and the sale in supermarket_type_3 is maximum."
   ]
  },
  {
   "cell_type": "code",
   "execution_count": 90,
   "id": "96e2855a",
   "metadata": {},
   "outputs": [
    {
     "data": {
      "image/png": "[encoded data removed]",
      "text/plain": [
       "<Figure size 432x288 with 1 Axes>"
      ]
     },
     "metadata": {
      "needs_background": "light"
     },
     "output_type": "display_data"
    }
   ],
   "source": [
    "#Relation between Item_Visibility and Item_Outlet_Sales\n",
    "a=sns.scatterplot(x=df['Item_Visibility'],y=df['Item_Outlet_Sales'],data=df)\n",
    "plt.xlabel('Item_Visibility')\n",
    "plt.ylabel('Item_Outlet_Sales')\n",
    "plt.show()"
   ]
  },
  {
   "cell_type": "markdown",
   "id": "138d9d4b",
   "metadata": {},
   "source": [
    "Lesser the visibility, higher the sale. Sales is between 0 to 1000 if visibility is between 0.18 to 0.32."
   ]
  },
  {
   "cell_type": "code",
   "execution_count": 91,
   "id": "e7194b72",
   "metadata": {
    "scrolled": true
   },
   "outputs": [
    {
     "data": {
      "image/png": "[encoded data removed]",
      "text/plain": [
       "<Figure size 432x288 with 1 Axes>"
      ]
     },
     "metadata": {
      "needs_background": "light"
     },
     "output_type": "display_data"
    }
   ],
   "source": [
    "#Relation between Outlet_Identifier and Item_Outlet_Sales\n",
    "a=sns.scatterplot(x=df['Outlet_Identifier'],y=df['Item_Outlet_Sales'],data=df)\n",
    "plt.xlabel('Outlet_Identifier')\n",
    "plt.ylabel('Item_Outlet_Sales')\n",
    "plt.show()"
   ]
  },
  {
   "cell_type": "markdown",
   "id": "e754a05b",
   "metadata": {},
   "source": [
    "Highest sale is in OUT027 which has medium outlet size and is of Supermarket 3 outlet type whereas least sales is in OUT010."
   ]
  },
  {
   "cell_type": "code",
   "execution_count": 92,
   "id": "33b4d23c",
   "metadata": {
    "scrolled": true
   },
   "outputs": [
    {
     "data": {
      "text/html": [
       "<div>\n",
       "<style scoped>\n",
       "    .dataframe tbody tr th:only-of-type {\n",
       "        vertical-align: middle;\n",
       "    }\n",
       "\n",
       "    .dataframe tbody tr th {\n",
       "        vertical-align: top;\n",
       "    }\n",
       "\n",
       "    .dataframe thead th {\n",
       "        text-align: right;\n",
       "    }\n",
       "</style>\n",
       "<table border=\"1\" class=\"dataframe\">\n",
       "  <thead>\n",
       "    <tr style=\"text-align: right;\">\n",
       "      <th></th>\n",
       "      <th>Item_Identifier</th>\n",
       "      <th>Item_Weight</th>\n",
       "      <th>Item_Fat_Content</th>\n",
       "      <th>Item_Visibility</th>\n",
       "      <th>Item_Type</th>\n",
       "      <th>Item_MRP</th>\n",
       "      <th>Outlet_Identifier</th>\n",
       "      <th>Outlet_Establishment_Year</th>\n",
       "      <th>Outlet_Size</th>\n",
       "      <th>Outlet_Location_Type</th>\n",
       "      <th>Outlet_Type</th>\n",
       "      <th>Item_Outlet_Sales</th>\n",
       "    </tr>\n",
       "  </thead>\n",
       "  <tbody>\n",
       "    <tr>\n",
       "      <th>7</th>\n",
       "      <td>738.0</td>\n",
       "      <td>19.000</td>\n",
       "      <td>1.0</td>\n",
       "      <td>0.127470</td>\n",
       "      <td>13.0</td>\n",
       "      <td>107.7622</td>\n",
       "      <td>5.0</td>\n",
       "      <td>1985</td>\n",
       "      <td>1.0</td>\n",
       "      <td>2.0</td>\n",
       "      <td>3.0</td>\n",
       "      <td>4022.7636</td>\n",
       "    </tr>\n",
       "    <tr>\n",
       "      <th>18</th>\n",
       "      <td>79.0</td>\n",
       "      <td>8.260</td>\n",
       "      <td>1.0</td>\n",
       "      <td>0.034238</td>\n",
       "      <td>7.0</td>\n",
       "      <td>113.2834</td>\n",
       "      <td>5.0</td>\n",
       "      <td>1985</td>\n",
       "      <td>1.0</td>\n",
       "      <td>2.0</td>\n",
       "      <td>3.0</td>\n",
       "      <td>2303.6680</td>\n",
       "    </tr>\n",
       "    <tr>\n",
       "      <th>21</th>\n",
       "      <td>1076.0</td>\n",
       "      <td>8.315</td>\n",
       "      <td>2.0</td>\n",
       "      <td>0.035400</td>\n",
       "      <td>0.0</td>\n",
       "      <td>144.5444</td>\n",
       "      <td>5.0</td>\n",
       "      <td>1985</td>\n",
       "      <td>1.0</td>\n",
       "      <td>2.0</td>\n",
       "      <td>3.0</td>\n",
       "      <td>4064.0432</td>\n",
       "    </tr>\n",
       "    <tr>\n",
       "      <th>36</th>\n",
       "      <td>1032.0</td>\n",
       "      <td>20.200</td>\n",
       "      <td>2.0</td>\n",
       "      <td>0.059512</td>\n",
       "      <td>6.0</td>\n",
       "      <td>128.0678</td>\n",
       "      <td>5.0</td>\n",
       "      <td>1985</td>\n",
       "      <td>1.0</td>\n",
       "      <td>2.0</td>\n",
       "      <td>3.0</td>\n",
       "      <td>2797.6916</td>\n",
       "    </tr>\n",
       "    <tr>\n",
       "      <th>38</th>\n",
       "      <td>1124.0</td>\n",
       "      <td>6.385</td>\n",
       "      <td>2.0</td>\n",
       "      <td>0.123111</td>\n",
       "      <td>13.0</td>\n",
       "      <td>36.9874</td>\n",
       "      <td>5.0</td>\n",
       "      <td>1985</td>\n",
       "      <td>1.0</td>\n",
       "      <td>2.0</td>\n",
       "      <td>3.0</td>\n",
       "      <td>388.1614</td>\n",
       "    </tr>\n",
       "    <tr>\n",
       "      <th>...</th>\n",
       "      <td>...</td>\n",
       "      <td>...</td>\n",
       "      <td>...</td>\n",
       "      <td>...</td>\n",
       "      <td>...</td>\n",
       "      <td>...</td>\n",
       "      <td>...</td>\n",
       "      <td>...</td>\n",
       "      <td>...</td>\n",
       "      <td>...</td>\n",
       "      <td>...</td>\n",
       "      <td>...</td>\n",
       "    </tr>\n",
       "    <tr>\n",
       "      <th>8472</th>\n",
       "      <td>1485.0</td>\n",
       "      <td>12.850</td>\n",
       "      <td>1.0</td>\n",
       "      <td>0.053185</td>\n",
       "      <td>8.0</td>\n",
       "      <td>182.9608</td>\n",
       "      <td>5.0</td>\n",
       "      <td>1985</td>\n",
       "      <td>1.0</td>\n",
       "      <td>2.0</td>\n",
       "      <td>3.0</td>\n",
       "      <td>1653.8472</td>\n",
       "    </tr>\n",
       "    <tr>\n",
       "      <th>8485</th>\n",
       "      <td>108.0</td>\n",
       "      <td>5.000</td>\n",
       "      <td>1.0</td>\n",
       "      <td>0.043792</td>\n",
       "      <td>14.0</td>\n",
       "      <td>189.0530</td>\n",
       "      <td>5.0</td>\n",
       "      <td>1985</td>\n",
       "      <td>1.0</td>\n",
       "      <td>2.0</td>\n",
       "      <td>3.0</td>\n",
       "      <td>6261.8490</td>\n",
       "    </tr>\n",
       "    <tr>\n",
       "      <th>8487</th>\n",
       "      <td>53.0</td>\n",
       "      <td>17.250</td>\n",
       "      <td>1.0</td>\n",
       "      <td>0.037006</td>\n",
       "      <td>14.0</td>\n",
       "      <td>164.7526</td>\n",
       "      <td>5.0</td>\n",
       "      <td>1985</td>\n",
       "      <td>1.0</td>\n",
       "      <td>2.0</td>\n",
       "      <td>3.0</td>\n",
       "      <td>4111.3150</td>\n",
       "    </tr>\n",
       "    <tr>\n",
       "      <th>8488</th>\n",
       "      <td>1408.0</td>\n",
       "      <td>19.100</td>\n",
       "      <td>1.0</td>\n",
       "      <td>0.091473</td>\n",
       "      <td>11.0</td>\n",
       "      <td>184.6608</td>\n",
       "      <td>5.0</td>\n",
       "      <td>1985</td>\n",
       "      <td>1.0</td>\n",
       "      <td>2.0</td>\n",
       "      <td>3.0</td>\n",
       "      <td>2756.4120</td>\n",
       "    </tr>\n",
       "    <tr>\n",
       "      <th>8504</th>\n",
       "      <td>1410.0</td>\n",
       "      <td>8.895</td>\n",
       "      <td>1.0</td>\n",
       "      <td>0.124111</td>\n",
       "      <td>9.0</td>\n",
       "      <td>111.7544</td>\n",
       "      <td>5.0</td>\n",
       "      <td>1985</td>\n",
       "      <td>1.0</td>\n",
       "      <td>2.0</td>\n",
       "      <td>3.0</td>\n",
       "      <td>4138.6128</td>\n",
       "    </tr>\n",
       "  </tbody>\n",
       "</table>\n",
       "<p>935 rows × 12 columns</p>\n",
       "</div>"
      ],
      "text/plain": [
       "      Item_Identifier  Item_Weight  Item_Fat_Content  Item_Visibility  \\\n",
       "7               738.0       19.000               1.0         0.127470   \n",
       "18               79.0        8.260               1.0         0.034238   \n",
       "21             1076.0        8.315               2.0         0.035400   \n",
       "36             1032.0       20.200               2.0         0.059512   \n",
       "38             1124.0        6.385               2.0         0.123111   \n",
       "...               ...          ...               ...              ...   \n",
       "8472           1485.0       12.850               1.0         0.053185   \n",
       "8485            108.0        5.000               1.0         0.043792   \n",
       "8487             53.0       17.250               1.0         0.037006   \n",
       "8488           1408.0       19.100               1.0         0.091473   \n",
       "8504           1410.0        8.895               1.0         0.124111   \n",
       "\n",
       "      Item_Type  Item_MRP  Outlet_Identifier  Outlet_Establishment_Year  \\\n",
       "7          13.0  107.7622                5.0                       1985   \n",
       "18          7.0  113.2834                5.0                       1985   \n",
       "21          0.0  144.5444                5.0                       1985   \n",
       "36          6.0  128.0678                5.0                       1985   \n",
       "38         13.0   36.9874                5.0                       1985   \n",
       "...         ...       ...                ...                        ...   \n",
       "8472        8.0  182.9608                5.0                       1985   \n",
       "8485       14.0  189.0530                5.0                       1985   \n",
       "8487       14.0  164.7526                5.0                       1985   \n",
       "8488       11.0  184.6608                5.0                       1985   \n",
       "8504        9.0  111.7544                5.0                       1985   \n",
       "\n",
       "      Outlet_Size  Outlet_Location_Type  Outlet_Type  Item_Outlet_Sales  \n",
       "7             1.0                   2.0          3.0          4022.7636  \n",
       "18            1.0                   2.0          3.0          2303.6680  \n",
       "21            1.0                   2.0          3.0          4064.0432  \n",
       "36            1.0                   2.0          3.0          2797.6916  \n",
       "38            1.0                   2.0          3.0           388.1614  \n",
       "...           ...                   ...          ...                ...  \n",
       "8472          1.0                   2.0          3.0          1653.8472  \n",
       "8485          1.0                   2.0          3.0          6261.8490  \n",
       "8487          1.0                   2.0          3.0          4111.3150  \n",
       "8488          1.0                   2.0          3.0          2756.4120  \n",
       "8504          1.0                   2.0          3.0          4138.6128  \n",
       "\n",
       "[935 rows x 12 columns]"
      ]
     },
     "execution_count": 92,
     "metadata": {},
     "output_type": "execute_result"
    }
   ],
   "source": [
    "df.loc[df['Outlet_Identifier']==5]"
   ]
  },
  {
   "cell_type": "code",
   "execution_count": 93,
   "id": "960b0d66",
   "metadata": {},
   "outputs": [
    {
     "data": {
      "image/png": "[encoded data removed]",
      "text/plain": [
       "<Figure size 432x288 with 1 Axes>"
      ]
     },
     "metadata": {
      "needs_background": "light"
     },
     "output_type": "display_data"
    }
   ],
   "source": [
    "#Relation between Outlet_Establishment_Year and Item_Outlet_Sales\n",
    "a=sns.scatterplot(x=df['Outlet_Establishment_Year'],y=df['Item_Outlet_Sales'],data=df)\n",
    "plt.xlabel('Outlet_Establishment_Year')\n",
    "plt.ylabel('Item_Outlet_Sales')\n",
    "plt.show()"
   ]
  },
  {
   "cell_type": "markdown",
   "id": "0e1de071",
   "metadata": {},
   "source": [
    "Older the outlet higher is the sales."
   ]
  },
  {
   "cell_type": "markdown",
   "id": "f5cc65a6",
   "metadata": {},
   "source": [
    "## Correlation between features and label"
   ]
  },
  {
   "cell_type": "code",
   "execution_count": 94,
   "id": "177e0c32",
   "metadata": {
    "scrolled": true
   },
   "outputs": [
    {
     "data": {
      "text/html": [
       "<div>\n",
       "<style scoped>\n",
       "    .dataframe tbody tr th:only-of-type {\n",
       "        vertical-align: middle;\n",
       "    }\n",
       "\n",
       "    .dataframe tbody tr th {\n",
       "        vertical-align: top;\n",
       "    }\n",
       "\n",
       "    .dataframe thead th {\n",
       "        text-align: right;\n",
       "    }\n",
       "</style>\n",
       "<table border=\"1\" class=\"dataframe\">\n",
       "  <thead>\n",
       "    <tr style=\"text-align: right;\">\n",
       "      <th></th>\n",
       "      <th>Item_Identifier</th>\n",
       "      <th>Item_Weight</th>\n",
       "      <th>Item_Fat_Content</th>\n",
       "      <th>Item_Visibility</th>\n",
       "      <th>Item_Type</th>\n",
       "      <th>Item_MRP</th>\n",
       "      <th>Outlet_Identifier</th>\n",
       "      <th>Outlet_Establishment_Year</th>\n",
       "      <th>Outlet_Size</th>\n",
       "      <th>Outlet_Location_Type</th>\n",
       "      <th>Outlet_Type</th>\n",
       "      <th>Item_Outlet_Sales</th>\n",
       "    </tr>\n",
       "  </thead>\n",
       "  <tbody>\n",
       "    <tr>\n",
       "      <th>Item_Identifier</th>\n",
       "      <td>1.000000</td>\n",
       "      <td>0.048281</td>\n",
       "      <td>0.098114</td>\n",
       "      <td>0.025482</td>\n",
       "      <td>0.017973</td>\n",
       "      <td>0.012853</td>\n",
       "      <td>0.008602</td>\n",
       "      <td>0.012772</td>\n",
       "      <td>0.001389</td>\n",
       "      <td>0.003656</td>\n",
       "      <td>0.001178</td>\n",
       "      <td>0.002869</td>\n",
       "    </tr>\n",
       "    <tr>\n",
       "      <th>Item_Weight</th>\n",
       "      <td>0.048281</td>\n",
       "      <td>1.000000</td>\n",
       "      <td>0.022143</td>\n",
       "      <td>0.009168</td>\n",
       "      <td>0.035688</td>\n",
       "      <td>0.025972</td>\n",
       "      <td>0.007591</td>\n",
       "      <td>0.013418</td>\n",
       "      <td>0.004305</td>\n",
       "      <td>0.002937</td>\n",
       "      <td>0.000537</td>\n",
       "      <td>0.013165</td>\n",
       "    </tr>\n",
       "    <tr>\n",
       "      <th>Item_Fat_Content</th>\n",
       "      <td>0.098114</td>\n",
       "      <td>0.022143</td>\n",
       "      <td>1.000000</td>\n",
       "      <td>0.034042</td>\n",
       "      <td>0.115958</td>\n",
       "      <td>0.000876</td>\n",
       "      <td>0.002357</td>\n",
       "      <td>0.000189</td>\n",
       "      <td>0.012058</td>\n",
       "      <td>0.004102</td>\n",
       "      <td>0.004214</td>\n",
       "      <td>0.009800</td>\n",
       "    </tr>\n",
       "    <tr>\n",
       "      <th>Item_Visibility</th>\n",
       "      <td>0.025482</td>\n",
       "      <td>0.009168</td>\n",
       "      <td>0.034042</td>\n",
       "      <td>1.000000</td>\n",
       "      <td>0.035249</td>\n",
       "      <td>0.001315</td>\n",
       "      <td>0.100439</td>\n",
       "      <td>0.074834</td>\n",
       "      <td>0.069309</td>\n",
       "      <td>0.028099</td>\n",
       "      <td>0.173468</td>\n",
       "      <td>0.128625</td>\n",
       "    </tr>\n",
       "    <tr>\n",
       "      <th>Item_Type</th>\n",
       "      <td>0.017973</td>\n",
       "      <td>0.035688</td>\n",
       "      <td>0.115958</td>\n",
       "      <td>0.035249</td>\n",
       "      <td>1.000000</td>\n",
       "      <td>0.032651</td>\n",
       "      <td>0.001656</td>\n",
       "      <td>0.004970</td>\n",
       "      <td>0.001859</td>\n",
       "      <td>0.003084</td>\n",
       "      <td>0.003053</td>\n",
       "      <td>0.017048</td>\n",
       "    </tr>\n",
       "    <tr>\n",
       "      <th>Item_MRP</th>\n",
       "      <td>0.012853</td>\n",
       "      <td>0.025972</td>\n",
       "      <td>0.000876</td>\n",
       "      <td>0.001315</td>\n",
       "      <td>0.032651</td>\n",
       "      <td>1.000000</td>\n",
       "      <td>0.003319</td>\n",
       "      <td>0.005020</td>\n",
       "      <td>0.006059</td>\n",
       "      <td>0.000232</td>\n",
       "      <td>0.001975</td>\n",
       "      <td>0.567574</td>\n",
       "    </tr>\n",
       "    <tr>\n",
       "      <th>Outlet_Identifier</th>\n",
       "      <td>0.008602</td>\n",
       "      <td>0.007591</td>\n",
       "      <td>0.002357</td>\n",
       "      <td>0.100439</td>\n",
       "      <td>0.001656</td>\n",
       "      <td>0.003319</td>\n",
       "      <td>1.000000</td>\n",
       "      <td>0.079035</td>\n",
       "      <td>0.504603</td>\n",
       "      <td>0.716176</td>\n",
       "      <td>0.099873</td>\n",
       "      <td>0.162325</td>\n",
       "    </tr>\n",
       "    <tr>\n",
       "      <th>Outlet_Establishment_Year</th>\n",
       "      <td>0.012772</td>\n",
       "      <td>0.013418</td>\n",
       "      <td>0.000189</td>\n",
       "      <td>0.074834</td>\n",
       "      <td>0.004970</td>\n",
       "      <td>0.005020</td>\n",
       "      <td>0.079035</td>\n",
       "      <td>1.000000</td>\n",
       "      <td>0.193389</td>\n",
       "      <td>0.089216</td>\n",
       "      <td>0.122304</td>\n",
       "      <td>0.049135</td>\n",
       "    </tr>\n",
       "    <tr>\n",
       "      <th>Outlet_Size</th>\n",
       "      <td>0.001389</td>\n",
       "      <td>0.004305</td>\n",
       "      <td>0.012058</td>\n",
       "      <td>0.069309</td>\n",
       "      <td>0.001859</td>\n",
       "      <td>0.006059</td>\n",
       "      <td>0.504603</td>\n",
       "      <td>0.193389</td>\n",
       "      <td>1.000000</td>\n",
       "      <td>0.614311</td>\n",
       "      <td>0.201483</td>\n",
       "      <td>0.086182</td>\n",
       "    </tr>\n",
       "    <tr>\n",
       "      <th>Outlet_Location_Type</th>\n",
       "      <td>0.003656</td>\n",
       "      <td>0.002937</td>\n",
       "      <td>0.004102</td>\n",
       "      <td>0.028099</td>\n",
       "      <td>0.003084</td>\n",
       "      <td>0.000232</td>\n",
       "      <td>0.716176</td>\n",
       "      <td>0.089216</td>\n",
       "      <td>0.614311</td>\n",
       "      <td>1.000000</td>\n",
       "      <td>0.467219</td>\n",
       "      <td>0.089367</td>\n",
       "    </tr>\n",
       "    <tr>\n",
       "      <th>Outlet_Type</th>\n",
       "      <td>0.001178</td>\n",
       "      <td>0.000537</td>\n",
       "      <td>0.004214</td>\n",
       "      <td>0.173468</td>\n",
       "      <td>0.003053</td>\n",
       "      <td>0.001975</td>\n",
       "      <td>0.099873</td>\n",
       "      <td>0.122304</td>\n",
       "      <td>0.201483</td>\n",
       "      <td>0.467219</td>\n",
       "      <td>1.000000</td>\n",
       "      <td>0.401522</td>\n",
       "    </tr>\n",
       "    <tr>\n",
       "      <th>Item_Outlet_Sales</th>\n",
       "      <td>0.002869</td>\n",
       "      <td>0.013165</td>\n",
       "      <td>0.009800</td>\n",
       "      <td>0.128625</td>\n",
       "      <td>0.017048</td>\n",
       "      <td>0.567574</td>\n",
       "      <td>0.162325</td>\n",
       "      <td>0.049135</td>\n",
       "      <td>0.086182</td>\n",
       "      <td>0.089367</td>\n",
       "      <td>0.401522</td>\n",
       "      <td>1.000000</td>\n",
       "    </tr>\n",
       "  </tbody>\n",
       "</table>\n",
       "</div>"
      ],
      "text/plain": [
       "                           Item_Identifier  Item_Weight  Item_Fat_Content  \\\n",
       "Item_Identifier                   1.000000     0.048281          0.098114   \n",
       "Item_Weight                       0.048281     1.000000          0.022143   \n",
       "Item_Fat_Content                  0.098114     0.022143          1.000000   \n",
       "Item_Visibility                   0.025482     0.009168          0.034042   \n",
       "Item_Type                         0.017973     0.035688          0.115958   \n",
       "Item_MRP                          0.012853     0.025972          0.000876   \n",
       "Outlet_Identifier                 0.008602     0.007591          0.002357   \n",
       "Outlet_Establishment_Year         0.012772     0.013418          0.000189   \n",
       "Outlet_Size                       0.001389     0.004305          0.012058   \n",
       "Outlet_Location_Type              0.003656     0.002937          0.004102   \n",
       "Outlet_Type                       0.001178     0.000537          0.004214   \n",
       "Item_Outlet_Sales                 0.002869     0.013165          0.009800   \n",
       "\n",
       "                           Item_Visibility  Item_Type  Item_MRP  \\\n",
       "Item_Identifier                   0.025482   0.017973  0.012853   \n",
       "Item_Weight                       0.009168   0.035688  0.025972   \n",
       "Item_Fat_Content                  0.034042   0.115958  0.000876   \n",
       "Item_Visibility                   1.000000   0.035249  0.001315   \n",
       "Item_Type                         0.035249   1.000000  0.032651   \n",
       "Item_MRP                          0.001315   0.032651  1.000000   \n",
       "Outlet_Identifier                 0.100439   0.001656  0.003319   \n",
       "Outlet_Establishment_Year         0.074834   0.004970  0.005020   \n",
       "Outlet_Size                       0.069309   0.001859  0.006059   \n",
       "Outlet_Location_Type              0.028099   0.003084  0.000232   \n",
       "Outlet_Type                       0.173468   0.003053  0.001975   \n",
       "Item_Outlet_Sales                 0.128625   0.017048  0.567574   \n",
       "\n",
       "                           Outlet_Identifier  Outlet_Establishment_Year  \\\n",
       "Item_Identifier                     0.008602                   0.012772   \n",
       "Item_Weight                         0.007591                   0.013418   \n",
       "Item_Fat_Content                    0.002357                   0.000189   \n",
       "Item_Visibility                     0.100439                   0.074834   \n",
       "Item_Type                           0.001656                   0.004970   \n",
       "Item_MRP                            0.003319                   0.005020   \n",
       "Outlet_Identifier                   1.000000                   0.079035   \n",
       "Outlet_Establishment_Year           0.079035                   1.000000   \n",
       "Outlet_Size                         0.504603                   0.193389   \n",
       "Outlet_Location_Type                0.716176                   0.089216   \n",
       "Outlet_Type                         0.099873                   0.122304   \n",
       "Item_Outlet_Sales                   0.162325                   0.049135   \n",
       "\n",
       "                           Outlet_Size  Outlet_Location_Type  Outlet_Type  \\\n",
       "Item_Identifier               0.001389              0.003656     0.001178   \n",
       "Item_Weight                   0.004305              0.002937     0.000537   \n",
       "Item_Fat_Content              0.012058              0.004102     0.004214   \n",
       "Item_Visibility               0.069309              0.028099     0.173468   \n",
       "Item_Type                     0.001859              0.003084     0.003053   \n",
       "Item_MRP                      0.006059              0.000232     0.001975   \n",
       "Outlet_Identifier             0.504603              0.716176     0.099873   \n",
       "Outlet_Establishment_Year     0.193389              0.089216     0.122304   \n",
       "Outlet_Size                   1.000000              0.614311     0.201483   \n",
       "Outlet_Location_Type          0.614311              1.000000     0.467219   \n",
       "Outlet_Type                   0.201483              0.467219     1.000000   \n",
       "Item_Outlet_Sales             0.086182              0.089367     0.401522   \n",
       "\n",
       "                           Item_Outlet_Sales  \n",
       "Item_Identifier                     0.002869  \n",
       "Item_Weight                         0.013165  \n",
       "Item_Fat_Content                    0.009800  \n",
       "Item_Visibility                     0.128625  \n",
       "Item_Type                           0.017048  \n",
       "Item_MRP                            0.567574  \n",
       "Outlet_Identifier                   0.162325  \n",
       "Outlet_Establishment_Year           0.049135  \n",
       "Outlet_Size                         0.086182  \n",
       "Outlet_Location_Type                0.089367  \n",
       "Outlet_Type                         0.401522  \n",
       "Item_Outlet_Sales                   1.000000  "
      ]
     },
     "execution_count": 94,
     "metadata": {},
     "output_type": "execute_result"
    }
   ],
   "source": [
    "df.corr().abs()"
   ]
  },
  {
   "cell_type": "code",
   "execution_count": 95,
   "id": "06bcb468",
   "metadata": {
    "scrolled": true
   },
   "outputs": [
    {
     "data": {
      "text/plain": [
       "<AxesSubplot:>"
      ]
     },
     "execution_count": 95,
     "metadata": {},
     "output_type": "execute_result"
    },
    {
     "data": {
      "image/png": "[encoded data removed]",
      "text/plain": [
       "<Figure size 1440x720 with 2 Axes>"
      ]
     },
     "metadata": {
      "needs_background": "light"
     },
     "output_type": "display_data"
    }
   ],
   "source": [
    "#Plotting heat map\n",
    "plt.figure(figsize=(20,10))\n",
    "sns.heatmap(df.corr().abs(),annot=True,linewidth=0.5,linecolor='black',fmt='.2f')"
   ]
  },
  {
   "cell_type": "markdown",
   "id": "99b94f8c",
   "metadata": {},
   "source": [
    "From the above heat map we could see that NO MULTICOLLINEARITY EXISTS. Features Item_Identifier, Item_Weight,Item_Fat_Content,Item_Type,Outlet_Establishment_year,outlet_Size,Outlet_Location_Type are least related with the Item_Outlet_Sales. Features like Item_MRP and Outlet_Type are most related with Item_outlet_Sales."
   ]
  },
  {
   "cell_type": "code",
   "execution_count": 96,
   "id": "8ef4ccdc",
   "metadata": {
    "scrolled": true
   },
   "outputs": [
    {
     "name": "stdout",
     "output_type": "stream",
     "text": [
      "0       0.017387\n",
      "1       0.019219\n",
      "2       0.020145\n",
      "3       0.015274\n",
      "4       0.008082\n",
      "          ...   \n",
      "8518    0.061705\n",
      "8519    0.046952\n",
      "8520    0.035203\n",
      "8521    0.120686\n",
      "8522    0.051565\n",
      "Name: Item_Visibility, Length: 8523, dtype: float64\n"
     ]
    }
   ],
   "source": [
    "#Assigning mean in place of 0 in Item_Visibility feature\n",
    "avg=df.groupby('Item_Identifier')['Item_Visibility'].transform('mean')\n",
    "print(avg)\n",
    "missing_values = (df['Item_Visibility'] == 0)\n",
    "df.loc[missing_values,'Item_Visibility'] = avg\n"
   ]
  },
  {
   "cell_type": "code",
   "execution_count": 97,
   "id": "0eeae07f",
   "metadata": {},
   "outputs": [],
   "source": [
    "# changing establishment year to number of years since established\n",
    "df['Outlet_Establishment_Year']=2022-df['Outlet_Establishment_Year']"
   ]
  },
  {
   "cell_type": "code",
   "execution_count": 98,
   "id": "9204e2bd",
   "metadata": {},
   "outputs": [
    {
     "data": {
      "text/html": [
       "<div>\n",
       "<style scoped>\n",
       "    .dataframe tbody tr th:only-of-type {\n",
       "        vertical-align: middle;\n",
       "    }\n",
       "\n",
       "    .dataframe tbody tr th {\n",
       "        vertical-align: top;\n",
       "    }\n",
       "\n",
       "    .dataframe thead th {\n",
       "        text-align: right;\n",
       "    }\n",
       "</style>\n",
       "<table border=\"1\" class=\"dataframe\">\n",
       "  <thead>\n",
       "    <tr style=\"text-align: right;\">\n",
       "      <th></th>\n",
       "      <th>Item_Identifier</th>\n",
       "      <th>Item_Weight</th>\n",
       "      <th>Item_Fat_Content</th>\n",
       "      <th>Item_Visibility</th>\n",
       "      <th>Item_Type</th>\n",
       "      <th>Item_MRP</th>\n",
       "      <th>Outlet_Identifier</th>\n",
       "      <th>Outlet_Establishment_Year</th>\n",
       "      <th>Outlet_Size</th>\n",
       "      <th>Outlet_Location_Type</th>\n",
       "      <th>Outlet_Type</th>\n",
       "      <th>Item_Outlet_Sales</th>\n",
       "    </tr>\n",
       "  </thead>\n",
       "  <tbody>\n",
       "    <tr>\n",
       "      <th>0</th>\n",
       "      <td>156.0</td>\n",
       "      <td>9.30</td>\n",
       "      <td>1.0</td>\n",
       "      <td>0.016047</td>\n",
       "      <td>4.0</td>\n",
       "      <td>249.8092</td>\n",
       "      <td>9.0</td>\n",
       "      <td>23</td>\n",
       "      <td>1.0</td>\n",
       "      <td>0.0</td>\n",
       "      <td>1.0</td>\n",
       "      <td>3735.1380</td>\n",
       "    </tr>\n",
       "    <tr>\n",
       "      <th>1</th>\n",
       "      <td>8.0</td>\n",
       "      <td>5.92</td>\n",
       "      <td>2.0</td>\n",
       "      <td>0.019278</td>\n",
       "      <td>14.0</td>\n",
       "      <td>48.2692</td>\n",
       "      <td>3.0</td>\n",
       "      <td>13</td>\n",
       "      <td>1.0</td>\n",
       "      <td>2.0</td>\n",
       "      <td>2.0</td>\n",
       "      <td>443.4228</td>\n",
       "    </tr>\n",
       "    <tr>\n",
       "      <th>2</th>\n",
       "      <td>662.0</td>\n",
       "      <td>17.50</td>\n",
       "      <td>1.0</td>\n",
       "      <td>0.016760</td>\n",
       "      <td>10.0</td>\n",
       "      <td>141.6180</td>\n",
       "      <td>9.0</td>\n",
       "      <td>23</td>\n",
       "      <td>1.0</td>\n",
       "      <td>0.0</td>\n",
       "      <td>1.0</td>\n",
       "      <td>2097.2700</td>\n",
       "    </tr>\n",
       "    <tr>\n",
       "      <th>3</th>\n",
       "      <td>1121.0</td>\n",
       "      <td>19.20</td>\n",
       "      <td>2.0</td>\n",
       "      <td>0.015274</td>\n",
       "      <td>6.0</td>\n",
       "      <td>182.0950</td>\n",
       "      <td>0.0</td>\n",
       "      <td>24</td>\n",
       "      <td>1.0</td>\n",
       "      <td>2.0</td>\n",
       "      <td>0.0</td>\n",
       "      <td>732.3800</td>\n",
       "    </tr>\n",
       "    <tr>\n",
       "      <th>4</th>\n",
       "      <td>1297.0</td>\n",
       "      <td>8.93</td>\n",
       "      <td>1.0</td>\n",
       "      <td>0.008082</td>\n",
       "      <td>9.0</td>\n",
       "      <td>53.8614</td>\n",
       "      <td>1.0</td>\n",
       "      <td>35</td>\n",
       "      <td>0.0</td>\n",
       "      <td>2.0</td>\n",
       "      <td>1.0</td>\n",
       "      <td>994.7052</td>\n",
       "    </tr>\n",
       "  </tbody>\n",
       "</table>\n",
       "</div>"
      ],
      "text/plain": [
       "   Item_Identifier  Item_Weight  Item_Fat_Content  Item_Visibility  Item_Type  \\\n",
       "0            156.0         9.30               1.0         0.016047        4.0   \n",
       "1              8.0         5.92               2.0         0.019278       14.0   \n",
       "2            662.0        17.50               1.0         0.016760       10.0   \n",
       "3           1121.0        19.20               2.0         0.015274        6.0   \n",
       "4           1297.0         8.93               1.0         0.008082        9.0   \n",
       "\n",
       "   Item_MRP  Outlet_Identifier  Outlet_Establishment_Year  Outlet_Size  \\\n",
       "0  249.8092                9.0                         23          1.0   \n",
       "1   48.2692                3.0                         13          1.0   \n",
       "2  141.6180                9.0                         23          1.0   \n",
       "3  182.0950                0.0                         24          1.0   \n",
       "4   53.8614                1.0                         35          0.0   \n",
       "\n",
       "   Outlet_Location_Type  Outlet_Type  Item_Outlet_Sales  \n",
       "0                   0.0          1.0          3735.1380  \n",
       "1                   2.0          2.0           443.4228  \n",
       "2                   0.0          1.0          2097.2700  \n",
       "3                   2.0          0.0           732.3800  \n",
       "4                   2.0          1.0           994.7052  "
      ]
     },
     "execution_count": 98,
     "metadata": {},
     "output_type": "execute_result"
    }
   ],
   "source": [
    "df.head()"
   ]
  },
  {
   "cell_type": "markdown",
   "id": "8e2d16f7",
   "metadata": {},
   "source": [
    "## Describing dataset"
   ]
  },
  {
   "cell_type": "code",
   "execution_count": 99,
   "id": "891ed690",
   "metadata": {},
   "outputs": [
    {
     "data": {
      "text/html": [
       "<div>\n",
       "<style scoped>\n",
       "    .dataframe tbody tr th:only-of-type {\n",
       "        vertical-align: middle;\n",
       "    }\n",
       "\n",
       "    .dataframe tbody tr th {\n",
       "        vertical-align: top;\n",
       "    }\n",
       "\n",
       "    .dataframe thead th {\n",
       "        text-align: right;\n",
       "    }\n",
       "</style>\n",
       "<table border=\"1\" class=\"dataframe\">\n",
       "  <thead>\n",
       "    <tr style=\"text-align: right;\">\n",
       "      <th></th>\n",
       "      <th>Item_Identifier</th>\n",
       "      <th>Item_Weight</th>\n",
       "      <th>Item_Fat_Content</th>\n",
       "      <th>Item_Visibility</th>\n",
       "      <th>Item_Type</th>\n",
       "      <th>Item_MRP</th>\n",
       "      <th>Outlet_Identifier</th>\n",
       "      <th>Outlet_Establishment_Year</th>\n",
       "      <th>Outlet_Size</th>\n",
       "      <th>Outlet_Location_Type</th>\n",
       "      <th>Outlet_Type</th>\n",
       "      <th>Item_Outlet_Sales</th>\n",
       "    </tr>\n",
       "  </thead>\n",
       "  <tbody>\n",
       "    <tr>\n",
       "      <th>count</th>\n",
       "      <td>8523.000000</td>\n",
       "      <td>8523.000000</td>\n",
       "      <td>8523.000000</td>\n",
       "      <td>8523.000000</td>\n",
       "      <td>8523.000000</td>\n",
       "      <td>8523.000000</td>\n",
       "      <td>8523.000000</td>\n",
       "      <td>8523.000000</td>\n",
       "      <td>8523.000000</td>\n",
       "      <td>8523.000000</td>\n",
       "      <td>8523.000000</td>\n",
       "      <td>8523.000000</td>\n",
       "    </tr>\n",
       "    <tr>\n",
       "      <th>mean</th>\n",
       "      <td>779.714889</td>\n",
       "      <td>12.875420</td>\n",
       "      <td>1.369354</td>\n",
       "      <td>0.069670</td>\n",
       "      <td>7.226681</td>\n",
       "      <td>140.992782</td>\n",
       "      <td>4.722281</td>\n",
       "      <td>24.168133</td>\n",
       "      <td>1.170832</td>\n",
       "      <td>1.112871</td>\n",
       "      <td>1.201220</td>\n",
       "      <td>2181.288914</td>\n",
       "    </tr>\n",
       "    <tr>\n",
       "      <th>std</th>\n",
       "      <td>449.222377</td>\n",
       "      <td>4.645008</td>\n",
       "      <td>0.644810</td>\n",
       "      <td>0.049810</td>\n",
       "      <td>4.209990</td>\n",
       "      <td>62.275067</td>\n",
       "      <td>2.837201</td>\n",
       "      <td>8.371760</td>\n",
       "      <td>0.600327</td>\n",
       "      <td>0.812757</td>\n",
       "      <td>0.796459</td>\n",
       "      <td>1706.499616</td>\n",
       "    </tr>\n",
       "    <tr>\n",
       "      <th>min</th>\n",
       "      <td>0.000000</td>\n",
       "      <td>4.555000</td>\n",
       "      <td>0.000000</td>\n",
       "      <td>0.003575</td>\n",
       "      <td>0.000000</td>\n",
       "      <td>31.290000</td>\n",
       "      <td>0.000000</td>\n",
       "      <td>13.000000</td>\n",
       "      <td>0.000000</td>\n",
       "      <td>0.000000</td>\n",
       "      <td>0.000000</td>\n",
       "      <td>33.290000</td>\n",
       "    </tr>\n",
       "    <tr>\n",
       "      <th>25%</th>\n",
       "      <td>395.500000</td>\n",
       "      <td>8.785000</td>\n",
       "      <td>1.000000</td>\n",
       "      <td>0.031114</td>\n",
       "      <td>4.000000</td>\n",
       "      <td>93.826500</td>\n",
       "      <td>2.000000</td>\n",
       "      <td>18.000000</td>\n",
       "      <td>1.000000</td>\n",
       "      <td>0.000000</td>\n",
       "      <td>1.000000</td>\n",
       "      <td>834.247400</td>\n",
       "    </tr>\n",
       "    <tr>\n",
       "      <th>50%</th>\n",
       "      <td>783.000000</td>\n",
       "      <td>12.650000</td>\n",
       "      <td>1.000000</td>\n",
       "      <td>0.056922</td>\n",
       "      <td>6.000000</td>\n",
       "      <td>143.012800</td>\n",
       "      <td>5.000000</td>\n",
       "      <td>23.000000</td>\n",
       "      <td>1.000000</td>\n",
       "      <td>1.000000</td>\n",
       "      <td>1.000000</td>\n",
       "      <td>1794.331000</td>\n",
       "    </tr>\n",
       "    <tr>\n",
       "      <th>75%</th>\n",
       "      <td>1167.000000</td>\n",
       "      <td>16.850000</td>\n",
       "      <td>2.000000</td>\n",
       "      <td>0.097160</td>\n",
       "      <td>10.000000</td>\n",
       "      <td>185.643700</td>\n",
       "      <td>7.000000</td>\n",
       "      <td>35.000000</td>\n",
       "      <td>2.000000</td>\n",
       "      <td>2.000000</td>\n",
       "      <td>1.000000</td>\n",
       "      <td>3101.296400</td>\n",
       "    </tr>\n",
       "    <tr>\n",
       "      <th>max</th>\n",
       "      <td>1558.000000</td>\n",
       "      <td>21.350000</td>\n",
       "      <td>4.000000</td>\n",
       "      <td>0.328391</td>\n",
       "      <td>15.000000</td>\n",
       "      <td>266.888400</td>\n",
       "      <td>9.000000</td>\n",
       "      <td>37.000000</td>\n",
       "      <td>2.000000</td>\n",
       "      <td>2.000000</td>\n",
       "      <td>3.000000</td>\n",
       "      <td>13086.964800</td>\n",
       "    </tr>\n",
       "  </tbody>\n",
       "</table>\n",
       "</div>"
      ],
      "text/plain": [
       "       Item_Identifier  Item_Weight  Item_Fat_Content  Item_Visibility  \\\n",
       "count      8523.000000  8523.000000       8523.000000      8523.000000   \n",
       "mean        779.714889    12.875420          1.369354         0.069670   \n",
       "std         449.222377     4.645008          0.644810         0.049810   \n",
       "min           0.000000     4.555000          0.000000         0.003575   \n",
       "25%         395.500000     8.785000          1.000000         0.031114   \n",
       "50%         783.000000    12.650000          1.000000         0.056922   \n",
       "75%        1167.000000    16.850000          2.000000         0.097160   \n",
       "max        1558.000000    21.350000          4.000000         0.328391   \n",
       "\n",
       "         Item_Type     Item_MRP  Outlet_Identifier  Outlet_Establishment_Year  \\\n",
       "count  8523.000000  8523.000000        8523.000000                8523.000000   \n",
       "mean      7.226681   140.992782           4.722281                  24.168133   \n",
       "std       4.209990    62.275067           2.837201                   8.371760   \n",
       "min       0.000000    31.290000           0.000000                  13.000000   \n",
       "25%       4.000000    93.826500           2.000000                  18.000000   \n",
       "50%       6.000000   143.012800           5.000000                  23.000000   \n",
       "75%      10.000000   185.643700           7.000000                  35.000000   \n",
       "max      15.000000   266.888400           9.000000                  37.000000   \n",
       "\n",
       "       Outlet_Size  Outlet_Location_Type  Outlet_Type  Item_Outlet_Sales  \n",
       "count  8523.000000           8523.000000  8523.000000        8523.000000  \n",
       "mean      1.170832              1.112871     1.201220        2181.288914  \n",
       "std       0.600327              0.812757     0.796459        1706.499616  \n",
       "min       0.000000              0.000000     0.000000          33.290000  \n",
       "25%       1.000000              0.000000     1.000000         834.247400  \n",
       "50%       1.000000              1.000000     1.000000        1794.331000  \n",
       "75%       2.000000              2.000000     1.000000        3101.296400  \n",
       "max       2.000000              2.000000     3.000000       13086.964800  "
      ]
     },
     "execution_count": 99,
     "metadata": {},
     "output_type": "execute_result"
    }
   ],
   "source": [
    "df.describe()"
   ]
  },
  {
   "cell_type": "markdown",
   "id": "5921ab84",
   "metadata": {},
   "source": [
    "There could be skewness in Item_Visibility, Item_MRP."
   ]
  },
  {
   "cell_type": "markdown",
   "id": "6902a649",
   "metadata": {},
   "source": [
    "## Checking Outliers"
   ]
  },
  {
   "cell_type": "code",
   "execution_count": 100,
   "id": "72ea1c60",
   "metadata": {},
   "outputs": [
    {
     "data": {
      "image/png": "[encoded data removed]",
      "text/plain": [
       "<Figure size 2160x6480 with 4 Axes>"
      ]
     },
     "metadata": {
      "needs_background": "light"
     },
     "output_type": "display_data"
    }
   ],
   "source": [
    "col=['Item_Weight','Item_Visibility','Item_MRP','Outlet_Establishment_Year']\n",
    "plt.figure(figsize=(30,90))\n",
    "for i in range(len(col)):\n",
    "    plt.subplot(20,20,i+1)\n",
    "    sns.boxplot(data=df[col[i]],color='green',orient='v')\n",
    "    plt.xlabel(col[i])\n",
    "    plt.tight_layout()"
   ]
  },
  {
   "cell_type": "markdown",
   "id": "568ffd44",
   "metadata": {},
   "source": [
    "There is outlier in Item_Visibility so we need to treat it."
   ]
  },
  {
   "cell_type": "markdown",
   "id": "73938bf4",
   "metadata": {},
   "source": [
    "## Checking Skewness"
   ]
  },
  {
   "cell_type": "code",
   "execution_count": 101,
   "id": "1679d6da",
   "metadata": {},
   "outputs": [
    {
     "data": {
      "text/plain": [
       "Item_Identifier             -0.008877\n",
       "Item_Weight                  0.070332\n",
       "Item_Fat_Content             0.994824\n",
       "Item_Visibility              1.233294\n",
       "Item_Type                    0.101655\n",
       "Item_MRP                     0.127202\n",
       "Outlet_Identifier           -0.059861\n",
       "Outlet_Establishment_Year    0.396641\n",
       "Outlet_Size                 -0.087072\n",
       "Outlet_Location_Type        -0.209093\n",
       "Outlet_Type                  0.927438\n",
       "Item_Outlet_Sales            1.177531\n",
       "dtype: float64"
      ]
     },
     "execution_count": 101,
     "metadata": {},
     "output_type": "execute_result"
    }
   ],
   "source": [
    "df.skew()"
   ]
  },
  {
   "cell_type": "markdown",
   "id": "da576036",
   "metadata": {},
   "source": [
    "There is skewness in Item_Visibility, taking the range of skewness as (-0.25,0.25) and other features are categorical so no need to treat skewness in them."
   ]
  },
  {
   "cell_type": "markdown",
   "id": "a93087a6",
   "metadata": {},
   "source": [
    "## Checking skewness of Item_Weight, Item_Visibility, Item_MRP, Outlet_Establishment_Year using dist plot"
   ]
  },
  {
   "cell_type": "code",
   "execution_count": 102,
   "id": "886c37c6",
   "metadata": {},
   "outputs": [
    {
     "data": {
      "text/plain": [
       "<AxesSubplot:xlabel='Item_Weight', ylabel='Density'>"
      ]
     },
     "execution_count": 102,
     "metadata": {},
     "output_type": "execute_result"
    },
    {
     "data": {
      "image/png": "[encoded data removed]",
      "text/plain": [
       "<Figure size 720x360 with 1 Axes>"
      ]
     },
     "metadata": {
      "needs_background": "light"
     },
     "output_type": "display_data"
    }
   ],
   "source": [
    "# for feature Item_Weight\n",
    "plt.figure(figsize=(10,5))\n",
    "sns.distplot(df['Item_Weight'])"
   ]
  },
  {
   "cell_type": "markdown",
   "id": "0531b22a",
   "metadata": {},
   "source": [
    "Seems to be normally distributed but not perfectly distributed."
   ]
  },
  {
   "cell_type": "code",
   "execution_count": 103,
   "id": "6dece4b4",
   "metadata": {
    "scrolled": true
   },
   "outputs": [
    {
     "data": {
      "text/plain": [
       "<AxesSubplot:xlabel='Item_Visibility', ylabel='Density'>"
      ]
     },
     "execution_count": 103,
     "metadata": {},
     "output_type": "execute_result"
    },
    {
     "data": {
      "image/png": "[encoded data removed]",
      "text/plain": [
       "<Figure size 720x360 with 1 Axes>"
      ]
     },
     "metadata": {
      "needs_background": "light"
     },
     "output_type": "display_data"
    }
   ],
   "source": [
    "# for feature Item_Visibility\n",
    "plt.figure(figsize=(10,5))\n",
    "sns.distplot(df['Item_Visibility'])"
   ]
  },
  {
   "cell_type": "markdown",
   "id": "1fece08a",
   "metadata": {},
   "source": [
    "Since most of the values in Item_Visibility feature is 0 which doesnot make any sense so we will assign mean in place of 0."
   ]
  },
  {
   "cell_type": "markdown",
   "id": "a0a6c1bb",
   "metadata": {},
   "source": [
    "It is skewed towards right i.e. it is rightly skewed."
   ]
  },
  {
   "cell_type": "code",
   "execution_count": 104,
   "id": "b0ef3c3c",
   "metadata": {},
   "outputs": [
    {
     "data": {
      "text/plain": [
       "<AxesSubplot:xlabel='Item_MRP', ylabel='Density'>"
      ]
     },
     "execution_count": 104,
     "metadata": {},
     "output_type": "execute_result"
    },
    {
     "data": {
      "image/png": "[encoded data removed]",
      "text/plain": [
       "<Figure size 720x360 with 1 Axes>"
      ]
     },
     "metadata": {
      "needs_background": "light"
     },
     "output_type": "display_data"
    }
   ],
   "source": [
    "# for feature Item_MRP\n",
    "plt.figure(figsize=(10,5))\n",
    "sns.distplot(df['Item_MRP'])"
   ]
  },
  {
   "cell_type": "markdown",
   "id": "b4323b72",
   "metadata": {},
   "source": [
    "Seems to be normally distributed but not perfectly distributed."
   ]
  },
  {
   "cell_type": "code",
   "execution_count": 105,
   "id": "cf5a2955",
   "metadata": {
    "scrolled": true
   },
   "outputs": [
    {
     "data": {
      "text/plain": [
       "<AxesSubplot:xlabel='Outlet_Establishment_Year', ylabel='Density'>"
      ]
     },
     "execution_count": 105,
     "metadata": {},
     "output_type": "execute_result"
    },
    {
     "data": {
      "image/png": "[encoded data removed]",
      "text/plain": [
       "<Figure size 720x360 with 1 Axes>"
      ]
     },
     "metadata": {
      "needs_background": "light"
     },
     "output_type": "display_data"
    }
   ],
   "source": [
    "# for feature Outlet_Establishment_Year\n",
    "plt.figure(figsize=(10,5))\n",
    "sns.distplot(df['Outlet_Establishment_Year'])"
   ]
  },
  {
   "cell_type": "markdown",
   "id": "20e89b62",
   "metadata": {},
   "source": [
    "It is bimodal and not at all normally distributed."
   ]
  },
  {
   "cell_type": "markdown",
   "id": "df3f8d22",
   "metadata": {},
   "source": [
    "## Treating Outliers in Item_Visibility feature\n"
   ]
  },
  {
   "cell_type": "code",
   "execution_count": 106,
   "id": "74ee7dba",
   "metadata": {},
   "outputs": [
    {
     "name": "stdout",
     "output_type": "stream",
     "text": [
      "Outliers index-\n",
      " {8194, 521, 6674, 532, 8215, 1560, 2586, 5150, 6179, 1575, 2088, 7215, 4656, 49, 2613, 7744, 4674, 2122, 8273, 7250, 83, 5732, 5734, 108, 1644, 7278, 1651, 4219, 6786, 3206, 1159, 8345, 5795, 3750, 5287, 2728, 174, 4789, 3767, 7866, 2251, 5837, 7388, 8432, 6903, 5880, 1272, 5374, 5891, 1291, 1805, 7949, 2324, 4382, 1311, 1827, 2855, 1324, 3884, 1841, 4408, 5946, 3399, 7499, 4941, 847, 2895, 854, 7005, 6008, 4987, 6012, 3458, 7558, 2439, 6536, 2445, 3474, 3993, 1434, 3488, 4006, 5031, 3497, 6576, 7088, 434, 4530, 7603, 7107, 3017, 7121, 3540, 1496, 1501, 6622, 502}\n",
      "\n",
      "\n",
      "Number of rows to be eliminated-\n",
      " 97\n"
     ]
    }
   ],
   "source": [
    "#Getting sure of outliers using z score\n",
    "\n",
    "df_z=df['Item_Visibility']\n",
    "\n",
    "z=np.abs(zscore(df_z))\n",
    "i=np.where(z>3)\n",
    "print(\"Outliers index-\\n\",set(i[0]))\n",
    "print(\"\\n\\nNumber of rows to be eliminated-\\n\",len(set(i[0])))"
   ]
  },
  {
   "cell_type": "code",
   "execution_count": 107,
   "id": "5d33a201",
   "metadata": {},
   "outputs": [
    {
     "name": "stdout",
     "output_type": "stream",
     "text": [
      "The data loss- 1.1380969142320794 %\n"
     ]
    }
   ],
   "source": [
    "#Calculating Data Loss\n",
    "loss=((8523-97)/8523)*100\n",
    "print(\"The data loss-\",100-loss,\"%\")"
   ]
  },
  {
   "cell_type": "markdown",
   "id": "c123005d",
   "metadata": {},
   "source": [
    "Since the data loss is just 1% so we will just remove all the rows with outliers from the data set."
   ]
  },
  {
   "cell_type": "code",
   "execution_count": 108,
   "id": "743c07ce",
   "metadata": {},
   "outputs": [
    {
     "data": {
      "text/html": [
       "<div>\n",
       "<style scoped>\n",
       "    .dataframe tbody tr th:only-of-type {\n",
       "        vertical-align: middle;\n",
       "    }\n",
       "\n",
       "    .dataframe tbody tr th {\n",
       "        vertical-align: top;\n",
       "    }\n",
       "\n",
       "    .dataframe thead th {\n",
       "        text-align: right;\n",
       "    }\n",
       "</style>\n",
       "<table border=\"1\" class=\"dataframe\">\n",
       "  <thead>\n",
       "    <tr style=\"text-align: right;\">\n",
       "      <th></th>\n",
       "      <th>Item_Identifier</th>\n",
       "      <th>Item_Weight</th>\n",
       "      <th>Item_Fat_Content</th>\n",
       "      <th>Item_Visibility</th>\n",
       "      <th>Item_Type</th>\n",
       "      <th>Item_MRP</th>\n",
       "      <th>Outlet_Identifier</th>\n",
       "      <th>Outlet_Establishment_Year</th>\n",
       "      <th>Outlet_Size</th>\n",
       "      <th>Outlet_Location_Type</th>\n",
       "      <th>Outlet_Type</th>\n",
       "      <th>Item_Outlet_Sales</th>\n",
       "    </tr>\n",
       "  </thead>\n",
       "  <tbody>\n",
       "    <tr>\n",
       "      <th>0</th>\n",
       "      <td>156.0</td>\n",
       "      <td>9.300</td>\n",
       "      <td>1.0</td>\n",
       "      <td>0.016047</td>\n",
       "      <td>4.0</td>\n",
       "      <td>249.8092</td>\n",
       "      <td>9.0</td>\n",
       "      <td>23</td>\n",
       "      <td>1.0</td>\n",
       "      <td>0.0</td>\n",
       "      <td>1.0</td>\n",
       "      <td>3735.1380</td>\n",
       "    </tr>\n",
       "    <tr>\n",
       "      <th>1</th>\n",
       "      <td>8.0</td>\n",
       "      <td>5.920</td>\n",
       "      <td>2.0</td>\n",
       "      <td>0.019278</td>\n",
       "      <td>14.0</td>\n",
       "      <td>48.2692</td>\n",
       "      <td>3.0</td>\n",
       "      <td>13</td>\n",
       "      <td>1.0</td>\n",
       "      <td>2.0</td>\n",
       "      <td>2.0</td>\n",
       "      <td>443.4228</td>\n",
       "    </tr>\n",
       "    <tr>\n",
       "      <th>2</th>\n",
       "      <td>662.0</td>\n",
       "      <td>17.500</td>\n",
       "      <td>1.0</td>\n",
       "      <td>0.016760</td>\n",
       "      <td>10.0</td>\n",
       "      <td>141.6180</td>\n",
       "      <td>9.0</td>\n",
       "      <td>23</td>\n",
       "      <td>1.0</td>\n",
       "      <td>0.0</td>\n",
       "      <td>1.0</td>\n",
       "      <td>2097.2700</td>\n",
       "    </tr>\n",
       "    <tr>\n",
       "      <th>3</th>\n",
       "      <td>1121.0</td>\n",
       "      <td>19.200</td>\n",
       "      <td>2.0</td>\n",
       "      <td>0.015274</td>\n",
       "      <td>6.0</td>\n",
       "      <td>182.0950</td>\n",
       "      <td>0.0</td>\n",
       "      <td>24</td>\n",
       "      <td>1.0</td>\n",
       "      <td>2.0</td>\n",
       "      <td>0.0</td>\n",
       "      <td>732.3800</td>\n",
       "    </tr>\n",
       "    <tr>\n",
       "      <th>4</th>\n",
       "      <td>1297.0</td>\n",
       "      <td>8.930</td>\n",
       "      <td>1.0</td>\n",
       "      <td>0.008082</td>\n",
       "      <td>9.0</td>\n",
       "      <td>53.8614</td>\n",
       "      <td>1.0</td>\n",
       "      <td>35</td>\n",
       "      <td>0.0</td>\n",
       "      <td>2.0</td>\n",
       "      <td>1.0</td>\n",
       "      <td>994.7052</td>\n",
       "    </tr>\n",
       "    <tr>\n",
       "      <th>...</th>\n",
       "      <td>...</td>\n",
       "      <td>...</td>\n",
       "      <td>...</td>\n",
       "      <td>...</td>\n",
       "      <td>...</td>\n",
       "      <td>...</td>\n",
       "      <td>...</td>\n",
       "      <td>...</td>\n",
       "      <td>...</td>\n",
       "      <td>...</td>\n",
       "      <td>...</td>\n",
       "      <td>...</td>\n",
       "    </tr>\n",
       "    <tr>\n",
       "      <th>8518</th>\n",
       "      <td>370.0</td>\n",
       "      <td>6.865</td>\n",
       "      <td>1.0</td>\n",
       "      <td>0.056783</td>\n",
       "      <td>13.0</td>\n",
       "      <td>214.5218</td>\n",
       "      <td>1.0</td>\n",
       "      <td>35</td>\n",
       "      <td>0.0</td>\n",
       "      <td>2.0</td>\n",
       "      <td>1.0</td>\n",
       "      <td>2778.3834</td>\n",
       "    </tr>\n",
       "    <tr>\n",
       "      <th>8519</th>\n",
       "      <td>897.0</td>\n",
       "      <td>8.380</td>\n",
       "      <td>2.0</td>\n",
       "      <td>0.046982</td>\n",
       "      <td>0.0</td>\n",
       "      <td>108.1570</td>\n",
       "      <td>7.0</td>\n",
       "      <td>20</td>\n",
       "      <td>1.0</td>\n",
       "      <td>1.0</td>\n",
       "      <td>1.0</td>\n",
       "      <td>549.2850</td>\n",
       "    </tr>\n",
       "    <tr>\n",
       "      <th>8520</th>\n",
       "      <td>1357.0</td>\n",
       "      <td>10.600</td>\n",
       "      <td>1.0</td>\n",
       "      <td>0.035186</td>\n",
       "      <td>8.0</td>\n",
       "      <td>85.1224</td>\n",
       "      <td>6.0</td>\n",
       "      <td>18</td>\n",
       "      <td>2.0</td>\n",
       "      <td>1.0</td>\n",
       "      <td>1.0</td>\n",
       "      <td>1193.1136</td>\n",
       "    </tr>\n",
       "    <tr>\n",
       "      <th>8521</th>\n",
       "      <td>681.0</td>\n",
       "      <td>7.210</td>\n",
       "      <td>2.0</td>\n",
       "      <td>0.145221</td>\n",
       "      <td>13.0</td>\n",
       "      <td>103.1332</td>\n",
       "      <td>3.0</td>\n",
       "      <td>13</td>\n",
       "      <td>1.0</td>\n",
       "      <td>2.0</td>\n",
       "      <td>2.0</td>\n",
       "      <td>1845.5976</td>\n",
       "    </tr>\n",
       "    <tr>\n",
       "      <th>8522</th>\n",
       "      <td>50.0</td>\n",
       "      <td>14.800</td>\n",
       "      <td>1.0</td>\n",
       "      <td>0.044878</td>\n",
       "      <td>14.0</td>\n",
       "      <td>75.4670</td>\n",
       "      <td>8.0</td>\n",
       "      <td>25</td>\n",
       "      <td>2.0</td>\n",
       "      <td>0.0</td>\n",
       "      <td>1.0</td>\n",
       "      <td>765.6700</td>\n",
       "    </tr>\n",
       "  </tbody>\n",
       "</table>\n",
       "<p>8426 rows × 12 columns</p>\n",
       "</div>"
      ],
      "text/plain": [
       "      Item_Identifier  Item_Weight  Item_Fat_Content  Item_Visibility  \\\n",
       "0               156.0        9.300               1.0         0.016047   \n",
       "1                 8.0        5.920               2.0         0.019278   \n",
       "2               662.0       17.500               1.0         0.016760   \n",
       "3              1121.0       19.200               2.0         0.015274   \n",
       "4              1297.0        8.930               1.0         0.008082   \n",
       "...               ...          ...               ...              ...   \n",
       "8518            370.0        6.865               1.0         0.056783   \n",
       "8519            897.0        8.380               2.0         0.046982   \n",
       "8520           1357.0       10.600               1.0         0.035186   \n",
       "8521            681.0        7.210               2.0         0.145221   \n",
       "8522             50.0       14.800               1.0         0.044878   \n",
       "\n",
       "      Item_Type  Item_MRP  Outlet_Identifier  Outlet_Establishment_Year  \\\n",
       "0           4.0  249.8092                9.0                         23   \n",
       "1          14.0   48.2692                3.0                         13   \n",
       "2          10.0  141.6180                9.0                         23   \n",
       "3           6.0  182.0950                0.0                         24   \n",
       "4           9.0   53.8614                1.0                         35   \n",
       "...         ...       ...                ...                        ...   \n",
       "8518       13.0  214.5218                1.0                         35   \n",
       "8519        0.0  108.1570                7.0                         20   \n",
       "8520        8.0   85.1224                6.0                         18   \n",
       "8521       13.0  103.1332                3.0                         13   \n",
       "8522       14.0   75.4670                8.0                         25   \n",
       "\n",
       "      Outlet_Size  Outlet_Location_Type  Outlet_Type  Item_Outlet_Sales  \n",
       "0             1.0                   0.0          1.0          3735.1380  \n",
       "1             1.0                   2.0          2.0           443.4228  \n",
       "2             1.0                   0.0          1.0          2097.2700  \n",
       "3             1.0                   2.0          0.0           732.3800  \n",
       "4             0.0                   2.0          1.0           994.7052  \n",
       "...           ...                   ...          ...                ...  \n",
       "8518          0.0                   2.0          1.0          2778.3834  \n",
       "8519          1.0                   1.0          1.0           549.2850  \n",
       "8520          2.0                   1.0          1.0          1193.1136  \n",
       "8521          1.0                   2.0          2.0          1845.5976  \n",
       "8522          2.0                   0.0          1.0           765.6700  \n",
       "\n",
       "[8426 rows x 12 columns]"
      ]
     },
     "execution_count": 108,
     "metadata": {},
     "output_type": "execute_result"
    }
   ],
   "source": [
    "#removing rows with outliers\n",
    "df_new=df.drop(df.index[i[0]])\n",
    "df_new"
   ]
  },
  {
   "cell_type": "markdown",
   "id": "638bbd4a",
   "metadata": {},
   "source": [
    "## Checking skewness again of Item_Visibility feature after removing outliers"
   ]
  },
  {
   "cell_type": "code",
   "execution_count": 109,
   "id": "140f8193",
   "metadata": {
    "scrolled": false
   },
   "outputs": [
    {
     "data": {
      "text/plain": [
       "Item_Identifier             -0.008566\n",
       "Item_Weight                  0.069639\n",
       "Item_Fat_Content             1.009768\n",
       "Item_Visibility              0.841547\n",
       "Item_Type                    0.100884\n",
       "Item_MRP                     0.128784\n",
       "Outlet_Identifier           -0.067513\n",
       "Outlet_Establishment_Year    0.409420\n",
       "Outlet_Size                 -0.082818\n",
       "Outlet_Location_Type        -0.213342\n",
       "Outlet_Type                  0.947509\n",
       "Item_Outlet_Sales            1.173019\n",
       "dtype: float64"
      ]
     },
     "execution_count": 109,
     "metadata": {},
     "output_type": "execute_result"
    }
   ],
   "source": [
    "df_new.skew()"
   ]
  },
  {
   "cell_type": "code",
   "execution_count": 110,
   "id": "8cba1b1c",
   "metadata": {},
   "outputs": [],
   "source": [
    "x=df_new.drop(['Item_Outlet_Sales'],axis=1)\n",
    "y=df_new['Item_Outlet_Sales']"
   ]
  },
  {
   "cell_type": "markdown",
   "id": "a9eb03f5",
   "metadata": {},
   "source": [
    "## Treating skewness"
   ]
  },
  {
   "cell_type": "code",
   "execution_count": 111,
   "id": "3bb8b487",
   "metadata": {},
   "outputs": [
    {
     "data": {
      "text/plain": [
       "array([[-1.46004004, -0.73447476, -0.52081852, ..., -0.28542492,\n",
       "        -1.38020227, -0.14562434],\n",
       "       [-2.09345006, -1.59869925,  1.01149293, ..., -0.28542492,\n",
       "         1.08975906,  1.03458519],\n",
       "       [-0.15391282,  0.99015346, -0.52081852, ..., -0.28542492,\n",
       "        -1.38020227, -0.14562434],\n",
       "       ...,\n",
       "       [ 1.20405441, -0.43261362, -0.52081852, ...,  1.39836388,\n",
       "        -0.13732176, -0.14562434],\n",
       "       [-0.11250433, -1.25288762,  1.01149293, ..., -0.28542492,\n",
       "         1.08975906,  1.03458519],\n",
       "       [-1.86165862,  0.46314041, -0.52081852, ...,  1.39836388,\n",
       "        -1.38020227, -0.14562434]])"
      ]
     },
     "execution_count": 111,
     "metadata": {},
     "output_type": "execute_result"
    }
   ],
   "source": [
    "#using yeo-johnson transformation\n",
    "from sklearn.preprocessing import power_transform\n",
    "x=power_transform(x,method='yeo-johnson')\n",
    "x"
   ]
  },
  {
   "cell_type": "code",
   "execution_count": 112,
   "id": "645535f3",
   "metadata": {},
   "outputs": [
    {
     "data": {
      "text/html": [
       "<div>\n",
       "<style scoped>\n",
       "    .dataframe tbody tr th:only-of-type {\n",
       "        vertical-align: middle;\n",
       "    }\n",
       "\n",
       "    .dataframe tbody tr th {\n",
       "        vertical-align: top;\n",
       "    }\n",
       "\n",
       "    .dataframe thead th {\n",
       "        text-align: right;\n",
       "    }\n",
       "</style>\n",
       "<table border=\"1\" class=\"dataframe\">\n",
       "  <thead>\n",
       "    <tr style=\"text-align: right;\">\n",
       "      <th></th>\n",
       "      <th>Item_Identifier</th>\n",
       "      <th>Item_Weight</th>\n",
       "      <th>Item_Fat_Content</th>\n",
       "      <th>Item_Visibility</th>\n",
       "      <th>Item_Type</th>\n",
       "      <th>Item_MRP</th>\n",
       "      <th>Outlet_Identifier</th>\n",
       "      <th>Outlet_Establishment_Year</th>\n",
       "      <th>Outlet_Size</th>\n",
       "      <th>Outlet_Location_Type</th>\n",
       "      <th>Outlet_Type</th>\n",
       "    </tr>\n",
       "  </thead>\n",
       "  <tbody>\n",
       "    <tr>\n",
       "      <th>0</th>\n",
       "      <td>-1.460040</td>\n",
       "      <td>-0.734475</td>\n",
       "      <td>-0.520819</td>\n",
       "      <td>-1.379645</td>\n",
       "      <td>-0.713603</td>\n",
       "      <td>1.622642</td>\n",
       "      <td>1.423077</td>\n",
       "      <td>0.044382</td>\n",
       "      <td>-0.285425</td>\n",
       "      <td>-1.380202</td>\n",
       "      <td>-0.145624</td>\n",
       "    </tr>\n",
       "    <tr>\n",
       "      <th>1</th>\n",
       "      <td>-2.093450</td>\n",
       "      <td>-1.598699</td>\n",
       "      <td>1.011493</td>\n",
       "      <td>-1.252725</td>\n",
       "      <td>1.505679</td>\n",
       "      <td>-1.595508</td>\n",
       "      <td>-0.562236</td>\n",
       "      <td>-1.590617</td>\n",
       "      <td>-0.285425</td>\n",
       "      <td>1.089759</td>\n",
       "      <td>1.034585</td>\n",
       "    </tr>\n",
       "    <tr>\n",
       "      <th>2</th>\n",
       "      <td>-0.153913</td>\n",
       "      <td>0.990153</td>\n",
       "      <td>-0.520819</td>\n",
       "      <td>-1.351282</td>\n",
       "      <td>0.684316</td>\n",
       "      <td>0.081493</td>\n",
       "      <td>1.423077</td>\n",
       "      <td>0.044382</td>\n",
       "      <td>-0.285425</td>\n",
       "      <td>-1.380202</td>\n",
       "      <td>-0.145624</td>\n",
       "    </tr>\n",
       "    <tr>\n",
       "      <th>3</th>\n",
       "      <td>0.772269</td>\n",
       "      <td>1.306692</td>\n",
       "      <td>1.011493</td>\n",
       "      <td>-1.410666</td>\n",
       "      <td>-0.216377</td>\n",
       "      <td>0.689892</td>\n",
       "      <td>-1.820397</td>\n",
       "      <td>0.166021</td>\n",
       "      <td>-0.285425</td>\n",
       "      <td>1.089759</td>\n",
       "      <td>-1.975712</td>\n",
       "    </tr>\n",
       "    <tr>\n",
       "      <th>4</th>\n",
       "      <td>1.096473</td>\n",
       "      <td>-0.823046</td>\n",
       "      <td>-0.520819</td>\n",
       "      <td>-1.711190</td>\n",
       "      <td>0.468090</td>\n",
       "      <td>-1.476409</td>\n",
       "      <td>-1.357205</td>\n",
       "      <td>1.239129</td>\n",
       "      <td>-1.921662</td>\n",
       "      <td>1.089759</td>\n",
       "      <td>-0.145624</td>\n",
       "    </tr>\n",
       "    <tr>\n",
       "      <th>...</th>\n",
       "      <td>...</td>\n",
       "      <td>...</td>\n",
       "      <td>...</td>\n",
       "      <td>...</td>\n",
       "      <td>...</td>\n",
       "      <td>...</td>\n",
       "      <td>...</td>\n",
       "      <td>...</td>\n",
       "      <td>...</td>\n",
       "      <td>...</td>\n",
       "      <td>...</td>\n",
       "    </tr>\n",
       "    <tr>\n",
       "      <th>8421</th>\n",
       "      <td>-0.843614</td>\n",
       "      <td>-1.343171</td>\n",
       "      <td>-0.520819</td>\n",
       "      <td>-0.047232</td>\n",
       "      <td>1.306036</td>\n",
       "      <td>1.147776</td>\n",
       "      <td>-1.357205</td>\n",
       "      <td>1.239129</td>\n",
       "      <td>-1.921662</td>\n",
       "      <td>1.089759</td>\n",
       "      <td>-0.145624</td>\n",
       "    </tr>\n",
       "    <tr>\n",
       "      <th>8422</th>\n",
       "      <td>0.337512</td>\n",
       "      <td>-0.957107</td>\n",
       "      <td>1.011493</td>\n",
       "      <td>-0.319844</td>\n",
       "      <td>-1.924800</td>\n",
       "      <td>-0.462808</td>\n",
       "      <td>0.802159</td>\n",
       "      <td>-0.355643</td>\n",
       "      <td>-0.285425</td>\n",
       "      <td>-0.137322</td>\n",
       "      <td>-0.145624</td>\n",
       "    </tr>\n",
       "    <tr>\n",
       "      <th>8423</th>\n",
       "      <td>1.204054</td>\n",
       "      <td>-0.432614</td>\n",
       "      <td>-0.520819</td>\n",
       "      <td>-0.685386</td>\n",
       "      <td>0.246445</td>\n",
       "      <td>-0.867735</td>\n",
       "      <td>0.479067</td>\n",
       "      <td>-0.657625</td>\n",
       "      <td>1.398364</td>\n",
       "      <td>-0.137322</td>\n",
       "      <td>-0.145624</td>\n",
       "    </tr>\n",
       "    <tr>\n",
       "      <th>8424</th>\n",
       "      <td>-0.112504</td>\n",
       "      <td>-1.252888</td>\n",
       "      <td>1.011493</td>\n",
       "      <td>1.528702</td>\n",
       "      <td>1.306036</td>\n",
       "      <td>-0.548690</td>\n",
       "      <td>-0.562236</td>\n",
       "      <td>-1.590617</td>\n",
       "      <td>-0.285425</td>\n",
       "      <td>1.089759</td>\n",
       "      <td>1.034585</td>\n",
       "    </tr>\n",
       "    <tr>\n",
       "      <th>8425</th>\n",
       "      <td>-1.861659</td>\n",
       "      <td>0.463140</td>\n",
       "      <td>-0.520819</td>\n",
       "      <td>-0.381921</td>\n",
       "      <td>1.505679</td>\n",
       "      <td>-1.047141</td>\n",
       "      <td>1.116433</td>\n",
       "      <td>0.282600</td>\n",
       "      <td>1.398364</td>\n",
       "      <td>-1.380202</td>\n",
       "      <td>-0.145624</td>\n",
       "    </tr>\n",
       "  </tbody>\n",
       "</table>\n",
       "<p>8426 rows × 11 columns</p>\n",
       "</div>"
      ],
      "text/plain": [
       "      Item_Identifier  Item_Weight  Item_Fat_Content  Item_Visibility  \\\n",
       "0           -1.460040    -0.734475         -0.520819        -1.379645   \n",
       "1           -2.093450    -1.598699          1.011493        -1.252725   \n",
       "2           -0.153913     0.990153         -0.520819        -1.351282   \n",
       "3            0.772269     1.306692          1.011493        -1.410666   \n",
       "4            1.096473    -0.823046         -0.520819        -1.711190   \n",
       "...               ...          ...               ...              ...   \n",
       "8421        -0.843614    -1.343171         -0.520819        -0.047232   \n",
       "8422         0.337512    -0.957107          1.011493        -0.319844   \n",
       "8423         1.204054    -0.432614         -0.520819        -0.685386   \n",
       "8424        -0.112504    -1.252888          1.011493         1.528702   \n",
       "8425        -1.861659     0.463140         -0.520819        -0.381921   \n",
       "\n",
       "      Item_Type  Item_MRP  Outlet_Identifier  Outlet_Establishment_Year  \\\n",
       "0     -0.713603  1.622642           1.423077                   0.044382   \n",
       "1      1.505679 -1.595508          -0.562236                  -1.590617   \n",
       "2      0.684316  0.081493           1.423077                   0.044382   \n",
       "3     -0.216377  0.689892          -1.820397                   0.166021   \n",
       "4      0.468090 -1.476409          -1.357205                   1.239129   \n",
       "...         ...       ...                ...                        ...   \n",
       "8421   1.306036  1.147776          -1.357205                   1.239129   \n",
       "8422  -1.924800 -0.462808           0.802159                  -0.355643   \n",
       "8423   0.246445 -0.867735           0.479067                  -0.657625   \n",
       "8424   1.306036 -0.548690          -0.562236                  -1.590617   \n",
       "8425   1.505679 -1.047141           1.116433                   0.282600   \n",
       "\n",
       "      Outlet_Size  Outlet_Location_Type  Outlet_Type  \n",
       "0       -0.285425             -1.380202    -0.145624  \n",
       "1       -0.285425              1.089759     1.034585  \n",
       "2       -0.285425             -1.380202    -0.145624  \n",
       "3       -0.285425              1.089759    -1.975712  \n",
       "4       -1.921662              1.089759    -0.145624  \n",
       "...           ...                   ...          ...  \n",
       "8421    -1.921662              1.089759    -0.145624  \n",
       "8422    -0.285425             -0.137322    -0.145624  \n",
       "8423     1.398364             -0.137322    -0.145624  \n",
       "8424    -0.285425              1.089759     1.034585  \n",
       "8425     1.398364             -1.380202    -0.145624  \n",
       "\n",
       "[8426 rows x 11 columns]"
      ]
     },
     "execution_count": 112,
     "metadata": {},
     "output_type": "execute_result"
    }
   ],
   "source": [
    "col=df_new.drop(['Item_Outlet_Sales'],axis=1).columns\n",
    "df_s=pd.DataFrame(x,columns=col)\n",
    "df_s"
   ]
  },
  {
   "cell_type": "code",
   "execution_count": 113,
   "id": "0724ec3a",
   "metadata": {},
   "outputs": [
    {
     "data": {
      "text/plain": [
       "Item_Identifier             -0.293633\n",
       "Item_Weight                 -0.089679\n",
       "Item_Fat_Content             0.031617\n",
       "Item_Visibility              0.144708\n",
       "Item_Type                   -0.164453\n",
       "Item_MRP                    -0.115028\n",
       "Outlet_Identifier           -0.214770\n",
       "Outlet_Establishment_Year    0.007991\n",
       "Outlet_Size                 -0.041741\n",
       "Outlet_Location_Type        -0.221260\n",
       "Outlet_Type                  0.009323\n",
       "dtype: float64"
      ]
     },
     "execution_count": 113,
     "metadata": {},
     "output_type": "execute_result"
    }
   ],
   "source": [
    "df_s.skew()"
   ]
  },
  {
   "cell_type": "markdown",
   "id": "8fe84dc5",
   "metadata": {},
   "source": [
    "Skewness is treated now and its within range of (-0.25,0.25)."
   ]
  },
  {
   "cell_type": "markdown",
   "id": "5b000f3b",
   "metadata": {},
   "source": [
    "## Standardization of data set"
   ]
  },
  {
   "cell_type": "code",
   "execution_count": 114,
   "id": "ddc782a4",
   "metadata": {},
   "outputs": [
    {
     "data": {
      "text/plain": [
       "array([[-1.46004004, -0.73447476, -0.52081852, ..., -0.28542492,\n",
       "        -1.38020227, -0.14562434],\n",
       "       [-2.09345006, -1.59869925,  1.01149293, ..., -0.28542492,\n",
       "         1.08975906,  1.03458519],\n",
       "       [-0.15391282,  0.99015346, -0.52081852, ..., -0.28542492,\n",
       "        -1.38020227, -0.14562434],\n",
       "       ...,\n",
       "       [ 1.20405441, -0.43261362, -0.52081852, ...,  1.39836388,\n",
       "        -0.13732176, -0.14562434],\n",
       "       [-0.11250433, -1.25288762,  1.01149293, ..., -0.28542492,\n",
       "         1.08975906,  1.03458519],\n",
       "       [-1.86165862,  0.46314041, -0.52081852, ...,  1.39836388,\n",
       "        -1.38020227, -0.14562434]])"
      ]
     },
     "execution_count": 114,
     "metadata": {},
     "output_type": "execute_result"
    }
   ],
   "source": [
    "\n",
    "scaler=StandardScaler()\n",
    "x=scaler.fit_transform(df_s)\n",
    "x"
   ]
  },
  {
   "cell_type": "markdown",
   "id": "8998e1b2",
   "metadata": {},
   "source": [
    "## Train test split"
   ]
  },
  {
   "cell_type": "code",
   "execution_count": 115,
   "id": "5559007e",
   "metadata": {},
   "outputs": [
    {
     "name": "stdout",
     "output_type": "stream",
     "text": [
      "\n",
      "\n",
      "At random state: 34\n",
      "\n",
      "Train Accuracy-  52.1\n",
      "\n",
      "Test Accuracy-  52.1\n",
      "\n",
      "\n",
      "At random state: 67\n",
      "\n",
      "Train Accuracy-  52.1\n",
      "\n",
      "Test Accuracy-  52.1\n",
      "\n",
      "\n",
      "At random state: 103\n",
      "\n",
      "Train Accuracy-  52.1\n",
      "\n",
      "Test Accuracy-  52.1\n",
      "\n",
      "\n",
      "At random state: 110\n",
      "\n",
      "Train Accuracy-  52.1\n",
      "\n",
      "Test Accuracy-  52.1\n",
      "\n",
      "\n",
      "At random state: 121\n",
      "\n",
      "Train Accuracy-  52.1\n",
      "\n",
      "Test Accuracy-  52.1\n",
      "\n",
      "\n",
      "At random state: 187\n",
      "\n",
      "Train Accuracy-  52.1\n",
      "\n",
      "Test Accuracy-  52.1\n",
      "\n",
      "\n",
      "At random state: 204\n",
      "\n",
      "Train Accuracy-  52.1\n",
      "\n",
      "Test Accuracy-  52.1\n",
      "\n",
      "\n",
      "At random state: 225\n",
      "\n",
      "Train Accuracy-  52.1\n",
      "\n",
      "Test Accuracy-  52.1\n",
      "\n",
      "\n",
      "At random state: 253\n",
      "\n",
      "Train Accuracy-  52.1\n",
      "\n",
      "Test Accuracy-  52.1\n",
      "\n",
      "\n",
      "At random state: 257\n",
      "\n",
      "Train Accuracy-  52.1\n",
      "\n",
      "Test Accuracy-  52.1\n",
      "\n",
      "\n",
      "At random state: 314\n",
      "\n",
      "Train Accuracy-  52.1\n",
      "\n",
      "Test Accuracy-  52.1\n",
      "\n",
      "\n",
      "At random state: 391\n",
      "\n",
      "Train Accuracy-  52.1\n",
      "\n",
      "Test Accuracy-  52.1\n",
      "\n",
      "\n",
      "At random state: 437\n",
      "\n",
      "Train Accuracy-  52.1\n",
      "\n",
      "Test Accuracy-  52.1\n",
      "\n",
      "\n",
      "At random state: 459\n",
      "\n",
      "Train Accuracy-  52.1\n",
      "\n",
      "Test Accuracy-  52.1\n",
      "\n",
      "\n",
      " Best accuracy at random state- 34\n"
     ]
    }
   ],
   "source": [
    "from sklearn.linear_model import LinearRegression\n",
    "max_ac=0\n",
    "randomState=0\n",
    "lr=LinearRegression()\n",
    "for i in range(500):\n",
    "    x_train,x_test,y_train,y_test=train_test_split(x,y,random_state=i,test_size=0.20)\n",
    "    lr.fit(x_train,y_train)\n",
    "    pred_train=lr.predict(x_train)\n",
    "    pred_test=lr.predict(x_test)\n",
    "    if round(r2_score(y_train,pred_train)*100,1)==round(r2_score(y_test,pred_test)*100,1):\n",
    "        print(\"\\n\\nAt random state:\",i)\n",
    "        print(\"\\nTrain Accuracy- \",round(r2_score(y_train,pred_train)*100,1))\n",
    "        print(\"\\nTest Accuracy- \",round(r2_score(y_test,pred_test)*100,1))\n",
    "        if round(r2_score(y_test,pred_test)*100,1)>max_ac:\n",
    "            randomState=i\n",
    "            max_ac=round(r2_score(y_test,pred_test)*100,1)\n",
    "print(\"\\n\\n Best accuracy at random state-\",randomState)"
   ]
  },
  {
   "cell_type": "markdown",
   "id": "810c1840",
   "metadata": {},
   "source": [
    "## Fetching testing data"
   ]
  },
  {
   "cell_type": "code",
   "execution_count": 116,
   "id": "70007ebe",
   "metadata": {},
   "outputs": [
    {
     "data": {
      "text/html": [
       "<div>\n",
       "<style scoped>\n",
       "    .dataframe tbody tr th:only-of-type {\n",
       "        vertical-align: middle;\n",
       "    }\n",
       "\n",
       "    .dataframe tbody tr th {\n",
       "        vertical-align: top;\n",
       "    }\n",
       "\n",
       "    .dataframe thead th {\n",
       "        text-align: right;\n",
       "    }\n",
       "</style>\n",
       "<table border=\"1\" class=\"dataframe\">\n",
       "  <thead>\n",
       "    <tr style=\"text-align: right;\">\n",
       "      <th></th>\n",
       "      <th>Item_Identifier</th>\n",
       "      <th>Item_Weight</th>\n",
       "      <th>Item_Fat_Content</th>\n",
       "      <th>Item_Visibility</th>\n",
       "      <th>Item_Type</th>\n",
       "      <th>Item_MRP</th>\n",
       "      <th>Outlet_Identifier</th>\n",
       "      <th>Outlet_Establishment_Year</th>\n",
       "      <th>Outlet_Size</th>\n",
       "      <th>Outlet_Location_Type</th>\n",
       "      <th>Outlet_Type</th>\n",
       "    </tr>\n",
       "  </thead>\n",
       "  <tbody>\n",
       "    <tr>\n",
       "      <th>0</th>\n",
       "      <td>FDW58</td>\n",
       "      <td>20.750</td>\n",
       "      <td>Low Fat</td>\n",
       "      <td>0.007565</td>\n",
       "      <td>Snack Foods</td>\n",
       "      <td>107.8622</td>\n",
       "      <td>OUT049</td>\n",
       "      <td>1999</td>\n",
       "      <td>Medium</td>\n",
       "      <td>Tier 1</td>\n",
       "      <td>Supermarket Type1</td>\n",
       "    </tr>\n",
       "    <tr>\n",
       "      <th>1</th>\n",
       "      <td>FDW14</td>\n",
       "      <td>8.300</td>\n",
       "      <td>reg</td>\n",
       "      <td>0.038428</td>\n",
       "      <td>Dairy</td>\n",
       "      <td>87.3198</td>\n",
       "      <td>OUT017</td>\n",
       "      <td>2007</td>\n",
       "      <td>NaN</td>\n",
       "      <td>Tier 2</td>\n",
       "      <td>Supermarket Type1</td>\n",
       "    </tr>\n",
       "    <tr>\n",
       "      <th>2</th>\n",
       "      <td>NCN55</td>\n",
       "      <td>14.600</td>\n",
       "      <td>Low Fat</td>\n",
       "      <td>0.099575</td>\n",
       "      <td>Others</td>\n",
       "      <td>241.7538</td>\n",
       "      <td>OUT010</td>\n",
       "      <td>1998</td>\n",
       "      <td>NaN</td>\n",
       "      <td>Tier 3</td>\n",
       "      <td>Grocery Store</td>\n",
       "    </tr>\n",
       "    <tr>\n",
       "      <th>3</th>\n",
       "      <td>FDQ58</td>\n",
       "      <td>7.315</td>\n",
       "      <td>Low Fat</td>\n",
       "      <td>0.015388</td>\n",
       "      <td>Snack Foods</td>\n",
       "      <td>155.0340</td>\n",
       "      <td>OUT017</td>\n",
       "      <td>2007</td>\n",
       "      <td>NaN</td>\n",
       "      <td>Tier 2</td>\n",
       "      <td>Supermarket Type1</td>\n",
       "    </tr>\n",
       "    <tr>\n",
       "      <th>4</th>\n",
       "      <td>FDY38</td>\n",
       "      <td>NaN</td>\n",
       "      <td>Regular</td>\n",
       "      <td>0.118599</td>\n",
       "      <td>Dairy</td>\n",
       "      <td>234.2300</td>\n",
       "      <td>OUT027</td>\n",
       "      <td>1985</td>\n",
       "      <td>Medium</td>\n",
       "      <td>Tier 3</td>\n",
       "      <td>Supermarket Type3</td>\n",
       "    </tr>\n",
       "  </tbody>\n",
       "</table>\n",
       "</div>"
      ],
      "text/plain": [
       "  Item_Identifier  Item_Weight Item_Fat_Content  Item_Visibility    Item_Type  \\\n",
       "0           FDW58       20.750          Low Fat         0.007565  Snack Foods   \n",
       "1           FDW14        8.300              reg         0.038428        Dairy   \n",
       "2           NCN55       14.600          Low Fat         0.099575       Others   \n",
       "3           FDQ58        7.315          Low Fat         0.015388  Snack Foods   \n",
       "4           FDY38          NaN          Regular         0.118599        Dairy   \n",
       "\n",
       "   Item_MRP Outlet_Identifier  Outlet_Establishment_Year Outlet_Size  \\\n",
       "0  107.8622            OUT049                       1999      Medium   \n",
       "1   87.3198            OUT017                       2007         NaN   \n",
       "2  241.7538            OUT010                       1998         NaN   \n",
       "3  155.0340            OUT017                       2007         NaN   \n",
       "4  234.2300            OUT027                       1985      Medium   \n",
       "\n",
       "  Outlet_Location_Type        Outlet_Type  \n",
       "0               Tier 1  Supermarket Type1  \n",
       "1               Tier 2  Supermarket Type1  \n",
       "2               Tier 3      Grocery Store  \n",
       "3               Tier 2  Supermarket Type1  \n",
       "4               Tier 3  Supermarket Type3  "
      ]
     },
     "execution_count": 116,
     "metadata": {},
     "output_type": "execute_result"
    }
   ],
   "source": [
    "test_df_x=pd.read_csv(\"https://raw.githubusercontent.com/dsrscientist/bigdatamart_rep/master/bigdatamart_Test.csv\")\n",
    "test_df_x.head()\n"
   ]
  },
  {
   "cell_type": "markdown",
   "id": "9ac030c1",
   "metadata": {},
   "source": [
    "## Applying Linear Regression algo on given training set"
   ]
  },
  {
   "cell_type": "code",
   "execution_count": 117,
   "id": "e9264a0f",
   "metadata": {},
   "outputs": [
    {
     "name": "stdout",
     "output_type": "stream",
     "text": [
      "\n",
      "Train Accuracy-  52.1\n",
      "\n",
      "Test Accuracy-  52.1\n"
     ]
    }
   ],
   "source": [
    "lr=LinearRegression()\n",
    "x_train,x_test,y_train,y_test=train_test_split(x,y,random_state=34,test_size=0.20)\n",
    "lr.fit(x_train,y_train)\n",
    "pred_train=lr.predict(x_train)\n",
    "pred_test=lr.predict(x_test)\n",
    "train_acc=round(r2_score(y_train,pred_train)*100,1)\n",
    "test_acc=round(r2_score(y_test,pred_test)*100,1)\n",
    "print(\"\\nTrain Accuracy- \",train_acc)\n",
    "print(\"\\nTest Accuracy- \",test_acc)\n"
   ]
  },
  {
   "cell_type": "markdown",
   "id": "394177d9",
   "metadata": {},
   "source": [
    "## Cross Validation Score"
   ]
  },
  {
   "cell_type": "code",
   "execution_count": 118,
   "id": "8f1e7d45",
   "metadata": {},
   "outputs": [
    {
     "name": "stdout",
     "output_type": "stream",
     "text": [
      "\n",
      "\n",
      "At cv- 4\n",
      "\n",
      " cross validation score is- 51.80852246549266\n",
      "\n",
      " Accuracy score is- 52.1\n",
      "\n",
      "\n",
      "At cv- 5\n",
      "\n",
      " cross validation score is- 51.924509913965835\n",
      "\n",
      " Accuracy score is- 52.1\n",
      "\n",
      "\n",
      "At cv- 6\n",
      "\n",
      " cross validation score is- 51.89494178264523\n",
      "\n",
      " Accuracy score is- 52.1\n",
      "\n",
      "\n",
      "At cv- 7\n",
      "\n",
      " cross validation score is- 51.9792774845391\n",
      "\n",
      " Accuracy score is- 52.1\n",
      "\n",
      "\n",
      "At cv- 8\n",
      "\n",
      " cross validation score is- 51.887494609610016\n",
      "\n",
      " Accuracy score is- 52.1\n",
      "\n",
      "\n",
      "At cv- 9\n",
      "\n",
      " cross validation score is- 51.92854133373723\n",
      "\n",
      " Accuracy score is- 52.1\n",
      "\n",
      "\n",
      "At cv- 10\n",
      "\n",
      " cross validation score is- 51.85878281287566\n",
      "\n",
      " Accuracy score is- 52.1\n",
      "\n",
      "\n",
      "At cv- 11\n",
      "\n",
      " cross validation score is- 51.92021816402964\n",
      "\n",
      " Accuracy score is- 52.1\n",
      "\n",
      "\n",
      "At cv- 12\n",
      "\n",
      " cross validation score is- 51.86254756314565\n",
      "\n",
      " Accuracy score is- 52.1\n",
      "\n",
      "\n",
      "At cv- 13\n",
      "\n",
      " cross validation score is- 51.867988195229756\n",
      "\n",
      " Accuracy score is- 52.1\n",
      "\n",
      "\n",
      "At cv- 14\n",
      "\n",
      " cross validation score is- 51.86801127789651\n",
      "\n",
      " Accuracy score is- 52.1\n",
      "\n",
      "\n",
      "At cv- 15\n",
      "\n",
      " cross validation score is- 51.85695938320277\n",
      "\n",
      " Accuracy score is- 52.1\n",
      "\n",
      "\n",
      "At cv- 16\n",
      "\n",
      " cross validation score is- 51.782737314755764\n",
      "\n",
      " Accuracy score is- 52.1\n",
      "\n",
      "\n",
      "At cv- 17\n",
      "\n",
      " cross validation score is- 51.79138906176153\n",
      "\n",
      " Accuracy score is- 52.1\n",
      "\n",
      "\n",
      "At cv- 18\n",
      "\n",
      " cross validation score is- 51.69375478697595\n",
      "\n",
      " Accuracy score is- 52.1\n",
      "\n",
      "\n",
      "At cv- 19\n",
      "\n",
      " cross validation score is- 51.84387079047315\n",
      "\n",
      " Accuracy score is- 52.1\n",
      "\n",
      "\n",
      "At cv- 20\n",
      "\n",
      " cross validation score is- 51.705440370354104\n",
      "\n",
      " Accuracy score is- 52.1\n",
      "\n",
      "\n",
      "At cv- 21\n",
      "\n",
      " cross validation score is- 51.77096619655794\n",
      "\n",
      " Accuracy score is- 52.1\n",
      "\n",
      "\n",
      "At cv- 22\n",
      "\n",
      " cross validation score is- 51.69963046263567\n",
      "\n",
      " Accuracy score is- 52.1\n",
      "\n",
      "\n",
      "At cv- 23\n",
      "\n",
      " cross validation score is- 51.87493309782374\n",
      "\n",
      " Accuracy score is- 52.1\n",
      "\n",
      "\n",
      "At cv- 24\n",
      "\n",
      " cross validation score is- 51.64382707250644\n",
      "\n",
      " Accuracy score is- 52.1\n",
      "\n",
      "\n",
      "At cv- 25\n",
      "\n",
      " cross validation score is- 51.79305624565747\n",
      "\n",
      " Accuracy score is- 52.1\n",
      "\n",
      "\n",
      "At cv- 26\n",
      "\n",
      " cross validation score is- 51.563699860709974\n",
      "\n",
      " Accuracy score is- 52.1\n",
      "\n",
      "\n",
      "At cv- 27\n",
      "\n",
      " cross validation score is- 51.818208232027516\n",
      "\n",
      " Accuracy score is- 52.1\n",
      "\n",
      "\n",
      "At cv- 28\n",
      "\n",
      " cross validation score is- 51.60408612442193\n",
      "\n",
      " Accuracy score is- 52.1\n",
      "\n",
      "\n",
      "At cv- 29\n",
      "\n",
      " cross validation score is- 51.800088398266176\n",
      "\n",
      " Accuracy score is- 52.1\n"
     ]
    }
   ],
   "source": [
    "for i in range(4,30):\n",
    "    cv_score=cross_val_score(lr,x,y,cv=i)\n",
    "    cv_mean=cv_score.mean()\n",
    "    print(\"\\n\\nAt cv-\",i)\n",
    "    print(\"\\n cross validation score is-\",cv_mean*100)\n",
    "    print(\"\\n Accuracy score is-\",test_acc)"
   ]
  },
  {
   "cell_type": "markdown",
   "id": "9009a22b",
   "metadata": {},
   "source": [
    "Best validation score is at cv=7"
   ]
  },
  {
   "cell_type": "code",
   "execution_count": 119,
   "id": "4cdf5156",
   "metadata": {},
   "outputs": [
    {
     "name": "stdout",
     "output_type": "stream",
     "text": [
      "cross validation score is- 51.9792774845391\n",
      "accuracy score for linear regression model is- 52.1\n"
     ]
    }
   ],
   "source": [
    "cv_score_best=cross_val_score(lr,x,y,cv=7).mean()*100\n",
    "print(\"cross validation score is-\",cv_score_best)\n",
    "print(\"accuracy score for linear regression model is-\",test_acc)"
   ]
  },
  {
   "cell_type": "markdown",
   "id": "d322eaa2",
   "metadata": {},
   "source": [
    "## Random Forest Regression"
   ]
  },
  {
   "cell_type": "code",
   "execution_count": 120,
   "id": "38e34d69",
   "metadata": {},
   "outputs": [],
   "source": [
    "from sklearn.ensemble import RandomForestRegressor"
   ]
  },
  {
   "cell_type": "code",
   "execution_count": 121,
   "id": "0e4ca552",
   "metadata": {},
   "outputs": [],
   "source": [
    "rf=RandomForestRegressor()"
   ]
  },
  {
   "cell_type": "code",
   "execution_count": 122,
   "id": "74675c0a",
   "metadata": {},
   "outputs": [
    {
     "name": "stdout",
     "output_type": "stream",
     "text": [
      "\n",
      "\n",
      "At random state: 0\n",
      "\n",
      "Train Accuracy-  93.7\n",
      "\n",
      "Test Accuracy-  55.6\n",
      "\n",
      "\n",
      "At random state: 1\n",
      "\n",
      "Train Accuracy-  93.7\n",
      "\n",
      "Test Accuracy-  54.2\n",
      "\n",
      "\n",
      "At random state: 2\n",
      "\n",
      "Train Accuracy-  93.8\n",
      "\n",
      "Test Accuracy-  54.2\n",
      "\n",
      "\n",
      "At random state: 3\n",
      "\n",
      "Train Accuracy-  93.8\n",
      "\n",
      "Test Accuracy-  56.0\n",
      "\n",
      "\n",
      "At random state: 4\n",
      "\n",
      "Train Accuracy-  93.7\n",
      "\n",
      "Test Accuracy-  56.1\n",
      "\n",
      "\n",
      "At random state: 5\n",
      "\n",
      "Train Accuracy-  93.6\n",
      "\n",
      "Test Accuracy-  57.4\n",
      "\n",
      "\n",
      "At random state: 6\n",
      "\n",
      "Train Accuracy-  93.8\n",
      "\n",
      "Test Accuracy-  56.6\n",
      "\n",
      "\n",
      "At random state: 7\n",
      "\n",
      "Train Accuracy-  93.7\n",
      "\n",
      "Test Accuracy-  55.6\n",
      "\n",
      "\n",
      "At random state: 8\n",
      "\n",
      "Train Accuracy-  93.8\n",
      "\n",
      "Test Accuracy-  53.8\n",
      "\n",
      "\n",
      "At random state: 9\n",
      "\n",
      "Train Accuracy-  93.7\n",
      "\n",
      "Test Accuracy-  54.4\n",
      "\n",
      "\n",
      "At random state: 10\n",
      "\n",
      "Train Accuracy-  93.9\n",
      "\n",
      "Test Accuracy-  51.8\n",
      "\n",
      "\n",
      "At random state: 11\n",
      "\n",
      "Train Accuracy-  93.7\n",
      "\n",
      "Test Accuracy-  54.5\n",
      "\n",
      "\n",
      "At random state: 12\n",
      "\n",
      "Train Accuracy-  93.8\n",
      "\n",
      "Test Accuracy-  53.4\n",
      "\n",
      "\n",
      "At random state: 13\n",
      "\n",
      "Train Accuracy-  93.8\n",
      "\n",
      "Test Accuracy-  55.1\n",
      "\n",
      "\n",
      "At random state: 14\n",
      "\n",
      "Train Accuracy-  93.6\n",
      "\n",
      "Test Accuracy-  57.7\n",
      "\n",
      "\n",
      "At random state: 15\n",
      "\n",
      "Train Accuracy-  93.8\n",
      "\n",
      "Test Accuracy-  56.3\n",
      "\n",
      "\n",
      "At random state: 16\n",
      "\n",
      "Train Accuracy-  93.9\n",
      "\n",
      "Test Accuracy-  52.9\n",
      "\n",
      "\n",
      "At random state: 17\n",
      "\n",
      "Train Accuracy-  93.7\n",
      "\n",
      "Test Accuracy-  53.8\n",
      "\n",
      "\n",
      "At random state: 18\n",
      "\n",
      "Train Accuracy-  93.7\n",
      "\n",
      "Test Accuracy-  56.8\n",
      "\n",
      "\n",
      "At random state: 19\n",
      "\n",
      "Train Accuracy-  93.8\n",
      "\n",
      "Test Accuracy-  54.0\n",
      "\n",
      "\n",
      " Best accuracy at random state- 0\n"
     ]
    }
   ],
   "source": [
    "max_ac=0\n",
    "randomState=0\n",
    "\n",
    "for i in range(20):\n",
    "    x_train,x_test,y_train,y_test=train_test_split(x,y,random_state=i,test_size=0.20)\n",
    "    rf.fit(x_train,y_train)\n",
    "    pred_train=rf.predict(x_train)\n",
    "    pred_test=rf.predict(x_test)\n",
    "    \n",
    "    print(\"\\n\\nAt random state:\",i)\n",
    "    print(\"\\nTrain Accuracy- \",round(r2_score(y_train,pred_train)*100,1))\n",
    "    print(\"\\nTest Accuracy- \",round(r2_score(y_test,pred_test)*100,1))\n",
    "        \n",
    "print(\"\\n\\n Best accuracy at random state-\",randomState)"
   ]
  },
  {
   "cell_type": "markdown",
   "id": "3d017e21",
   "metadata": {},
   "source": [
    "Best result at random state=6"
   ]
  },
  {
   "cell_type": "code",
   "execution_count": 123,
   "id": "0335e500",
   "metadata": {},
   "outputs": [
    {
     "name": "stdout",
     "output_type": "stream",
     "text": [
      "\n",
      "Train Accuracy-  93.7\n",
      "\n",
      "Test Accuracy-  56.3\n"
     ]
    }
   ],
   "source": [
    "x_train,x_test,y_train,y_test=train_test_split(x,y,random_state=6,test_size=0.20)\n",
    "rf.fit(x_train,y_train)\n",
    "pred_train=rf.predict(x_train)\n",
    "pred_test=rf.predict(x_test)\n",
    "train_acc=round(r2_score(y_train,pred_train)*100,1)\n",
    "test_acc=round(r2_score(y_test,pred_test)*100,1)\n",
    "print(\"\\nTrain Accuracy- \",train_acc)\n",
    "print(\"\\nTest Accuracy- \",test_acc)"
   ]
  },
  {
   "cell_type": "markdown",
   "id": "6a263b64",
   "metadata": {},
   "source": [
    "## Cross validation score"
   ]
  },
  {
   "cell_type": "code",
   "execution_count": 124,
   "id": "a6e5cc22",
   "metadata": {},
   "outputs": [
    {
     "name": "stdout",
     "output_type": "stream",
     "text": [
      "\n",
      "\n",
      "At cv- 4\n",
      "\n",
      " cross validation score is- 54.57322264268056\n",
      "\n",
      " Accuracy score is- 56.3\n",
      "\n",
      "\n",
      "At cv- 5\n",
      "\n",
      " cross validation score is- 54.756377232747596\n",
      "\n",
      " Accuracy score is- 56.3\n",
      "\n",
      "\n",
      "At cv- 6\n",
      "\n",
      " cross validation score is- 54.811840335544815\n",
      "\n",
      " Accuracy score is- 56.3\n",
      "\n",
      "\n",
      "At cv- 7\n",
      "\n",
      " cross validation score is- 54.92470774305745\n",
      "\n",
      " Accuracy score is- 56.3\n",
      "\n",
      "\n",
      "At cv- 8\n",
      "\n",
      " cross validation score is- 55.066594424459936\n",
      "\n",
      " Accuracy score is- 56.3\n",
      "\n",
      "\n",
      "At cv- 9\n",
      "\n",
      " cross validation score is- 54.586390336496805\n",
      "\n",
      " Accuracy score is- 56.3\n",
      "\n",
      "\n",
      "At cv- 10\n",
      "\n",
      " cross validation score is- 54.73016151415503\n",
      "\n",
      " Accuracy score is- 56.3\n",
      "\n",
      "\n",
      "At cv- 11\n",
      "\n",
      " cross validation score is- 54.722391300739204\n",
      "\n",
      " Accuracy score is- 56.3\n",
      "\n",
      "\n",
      "At cv- 12\n",
      "\n",
      " cross validation score is- 54.61660912137136\n",
      "\n",
      " Accuracy score is- 56.3\n",
      "\n",
      "\n",
      "At cv- 13\n",
      "\n",
      " cross validation score is- 54.85454445649486\n",
      "\n",
      " Accuracy score is- 56.3\n",
      "\n",
      "\n",
      "At cv- 14\n",
      "\n",
      " cross validation score is- 54.79810495703654\n",
      "\n",
      " Accuracy score is- 56.3\n",
      "\n",
      "\n",
      "At cv- 15\n",
      "\n",
      " cross validation score is- 55.11904616129372\n",
      "\n",
      " Accuracy score is- 56.3\n",
      "\n",
      "\n",
      "At cv- 16\n",
      "\n",
      " cross validation score is- 54.99235471823711\n",
      "\n",
      " Accuracy score is- 56.3\n",
      "\n",
      "\n",
      "At cv- 17\n",
      "\n",
      " cross validation score is- 55.0673137992627\n",
      "\n",
      " Accuracy score is- 56.3\n",
      "\n",
      "\n",
      "At cv- 18\n",
      "\n",
      " cross validation score is- 54.7434463715205\n",
      "\n",
      " Accuracy score is- 56.3\n",
      "\n",
      "\n",
      "At cv- 19\n",
      "\n",
      " cross validation score is- 54.9689807771321\n",
      "\n",
      " Accuracy score is- 56.3\n",
      "\n",
      "\n",
      "At cv- 20\n",
      "\n",
      " cross validation score is- 54.73566561452231\n",
      "\n",
      " Accuracy score is- 56.3\n",
      "\n",
      "\n",
      "At cv- 21\n",
      "\n",
      " cross validation score is- 55.03373189151609\n",
      "\n",
      " Accuracy score is- 56.3\n",
      "\n",
      "\n",
      "At cv- 22\n",
      "\n",
      " cross validation score is- 54.964728820132535\n",
      "\n",
      " Accuracy score is- 56.3\n"
     ]
    }
   ],
   "source": [
    "for i in range(4,23):\n",
    "    cv_score=cross_val_score(rf,x,y,cv=i)\n",
    "    cv_mean=cv_score.mean()\n",
    "    print(\"\\n\\nAt cv-\",i)\n",
    "    print(\"\\n cross validation score is-\",cv_mean*100)\n",
    "    print(\"\\n Accuracy score is-\",test_acc)"
   ]
  },
  {
   "cell_type": "code",
   "execution_count": 125,
   "id": "6454b0cd",
   "metadata": {},
   "outputs": [
    {
     "name": "stdout",
     "output_type": "stream",
     "text": [
      "cross validation score is- 55.08876067482921\n",
      "accuracy score for random forest regression model is- 56.3\n"
     ]
    }
   ],
   "source": [
    "cv_score_best=cross_val_score(rf,x,y,cv=22).mean()*100\n",
    "print(\"cross validation score is-\",cv_score_best)\n",
    "print(\"accuracy score for random forest regression model is-\",test_acc)"
   ]
  },
  {
   "cell_type": "markdown",
   "id": "85dccc99",
   "metadata": {},
   "source": [
    "Seems that the model is overfitted so lets remove overfitting using lasso technique."
   ]
  },
  {
   "cell_type": "markdown",
   "id": "a15acaca",
   "metadata": {},
   "source": [
    "## Treating model overfitting using LassoCV"
   ]
  },
  {
   "cell_type": "code",
   "execution_count": 126,
   "id": "22252902",
   "metadata": {},
   "outputs": [
    {
     "data": {
      "text/plain": [
       "LassoCV(cv=10, normalize=True)"
      ]
     },
     "execution_count": 126,
     "metadata": {},
     "output_type": "execute_result"
    }
   ],
   "source": [
    "from sklearn.linear_model import LassoCV,Lasso\n",
    "lasscv=LassoCV(alphas=None,cv=10,max_iter=1000,normalize=True)\n",
    "lasscv.fit(x_train,y_train)"
   ]
  },
  {
   "cell_type": "code",
   "execution_count": 127,
   "id": "cf67158f",
   "metadata": {},
   "outputs": [
    {
     "data": {
      "text/plain": [
       "0.06763997474224877"
      ]
     },
     "execution_count": 127,
     "metadata": {},
     "output_type": "execute_result"
    }
   ],
   "source": [
    "alpha=lasscv.alpha_\n",
    "alpha"
   ]
  },
  {
   "cell_type": "code",
   "execution_count": 128,
   "id": "694d5e1c",
   "metadata": {},
   "outputs": [
    {
     "data": {
      "text/plain": [
       "Lasso(alpha=0.06763997474224877)"
      ]
     },
     "execution_count": 128,
     "metadata": {},
     "output_type": "execute_result"
    }
   ],
   "source": [
    "lassoReg=Lasso(alpha)\n",
    "lassoReg.fit(x_train,y_train)"
   ]
  },
  {
   "cell_type": "code",
   "execution_count": 129,
   "id": "c9b5fd44",
   "metadata": {},
   "outputs": [
    {
     "data": {
      "text/plain": [
       "51.7163276110757"
      ]
     },
     "execution_count": 129,
     "metadata": {},
     "output_type": "execute_result"
    }
   ],
   "source": [
    "lassoReg.score(x_train,y_train)*100"
   ]
  },
  {
   "cell_type": "code",
   "execution_count": 130,
   "id": "3fe98975",
   "metadata": {},
   "outputs": [
    {
     "data": {
      "text/plain": [
       "53.73260454761428"
      ]
     },
     "execution_count": 130,
     "metadata": {},
     "output_type": "execute_result"
    }
   ],
   "source": [
    "lassoReg.score(x_test,y_test)*100"
   ]
  },
  {
   "cell_type": "markdown",
   "id": "87fa230a",
   "metadata": {},
   "source": [
    "## Knn Regressor"
   ]
  },
  {
   "cell_type": "code",
   "execution_count": 131,
   "id": "52fd9a19",
   "metadata": {},
   "outputs": [],
   "source": [
    "from sklearn.neighbors import KNeighborsRegressor"
   ]
  },
  {
   "cell_type": "code",
   "execution_count": 132,
   "id": "b6ece48d",
   "metadata": {},
   "outputs": [
    {
     "data": {
      "text/plain": [
       "KNeighborsRegressor()"
      ]
     },
     "execution_count": 132,
     "metadata": {},
     "output_type": "execute_result"
    }
   ],
   "source": [
    "knn=KNeighborsRegressor()\n",
    "knn.fit(x_train,y_train)"
   ]
  },
  {
   "cell_type": "code",
   "execution_count": 133,
   "id": "ebc51c8b",
   "metadata": {},
   "outputs": [],
   "source": [
    "knn_pred_train=knn.predict(x_train)\n",
    "knn_pred_test=knn.predict(x_test)"
   ]
  },
  {
   "cell_type": "code",
   "execution_count": 134,
   "id": "e535eaa7",
   "metadata": {},
   "outputs": [
    {
     "name": "stdout",
     "output_type": "stream",
     "text": [
      "acc train 65.97122875760408\n",
      "acc test 50.06692984386278\n"
     ]
    }
   ],
   "source": [
    "knn_acc_train=r2_score(y_train,knn_pred_train)\n",
    "knn_acc_test=r2_score(y_test,knn_pred_test)\n",
    "print(\"acc train\",knn_acc_train*100)\n",
    "print(\"acc test\",knn_acc_test*100)"
   ]
  },
  {
   "cell_type": "markdown",
   "id": "c7e7a1ac",
   "metadata": {},
   "source": [
    "## Cross Validation score"
   ]
  },
  {
   "cell_type": "code",
   "execution_count": 135,
   "id": "7ab00521",
   "metadata": {},
   "outputs": [
    {
     "name": "stdout",
     "output_type": "stream",
     "text": [
      "\n",
      "\n",
      "At cv- 4\n",
      "\n",
      " cross validation score is- 48.63595432262709\n",
      "\n",
      " Accuracy score is- 50.06692984386278\n",
      "\n",
      "\n",
      "At cv- 5\n",
      "\n",
      " cross validation score is- 48.45724839413902\n",
      "\n",
      " Accuracy score is- 50.06692984386278\n",
      "\n",
      "\n",
      "At cv- 6\n",
      "\n",
      " cross validation score is- 49.1459094058261\n",
      "\n",
      " Accuracy score is- 50.06692984386278\n",
      "\n",
      "\n",
      "At cv- 7\n",
      "\n",
      " cross validation score is- 49.23618738446291\n",
      "\n",
      " Accuracy score is- 50.06692984386278\n",
      "\n",
      "\n",
      "At cv- 8\n",
      "\n",
      " cross validation score is- 49.42606096337357\n",
      "\n",
      " Accuracy score is- 50.06692984386278\n",
      "\n",
      "\n",
      "At cv- 9\n",
      "\n",
      " cross validation score is- 48.93167644959827\n",
      "\n",
      " Accuracy score is- 50.06692984386278\n",
      "\n",
      "\n",
      "At cv- 10\n",
      "\n",
      " cross validation score is- 49.05879604250395\n",
      "\n",
      " Accuracy score is- 50.06692984386278\n",
      "\n",
      "\n",
      "At cv- 11\n",
      "\n",
      " cross validation score is- 48.71515480856848\n",
      "\n",
      " Accuracy score is- 50.06692984386278\n",
      "\n",
      "\n",
      "At cv- 12\n",
      "\n",
      " cross validation score is- 49.3146829879799\n",
      "\n",
      " Accuracy score is- 50.06692984386278\n",
      "\n",
      "\n",
      "At cv- 13\n",
      "\n",
      " cross validation score is- 49.13183038207774\n",
      "\n",
      " Accuracy score is- 50.06692984386278\n",
      "\n",
      "\n",
      "At cv- 14\n",
      "\n",
      " cross validation score is- 49.05180394382191\n",
      "\n",
      " Accuracy score is- 50.06692984386278\n"
     ]
    }
   ],
   "source": [
    "for i in range(4,15):\n",
    "    cv_score=cross_val_score(knn,x,y,cv=i)\n",
    "    cv_mean=cv_score.mean()\n",
    "    print(\"\\n\\nAt cv-\",i)\n",
    "    print(\"\\n cross validation score is-\",cv_mean*100)\n",
    "    print(\"\\n Accuracy score is-\",knn_acc_test*100)"
   ]
  },
  {
   "cell_type": "markdown",
   "id": "2afca0d6",
   "metadata": {},
   "source": [
    "So we are getting the least difference between cross_val_score and accuracy score at cv=8"
   ]
  },
  {
   "cell_type": "code",
   "execution_count": 136,
   "id": "c5e5c3de",
   "metadata": {},
   "outputs": [
    {
     "name": "stdout",
     "output_type": "stream",
     "text": [
      "cross validation score is- 49.42606096337357\n",
      "accuracy score for K Nearest classifier model is- 50.06692984386278\n"
     ]
    }
   ],
   "source": [
    "cv_score_best=cross_val_score(knn,x,y,cv=8).mean()*100\n",
    "print(\"cross validation score is-\",cv_score_best)\n",
    "print(\"accuracy score for K Nearest classifier model is-\",knn_acc_test*100)"
   ]
  },
  {
   "cell_type": "markdown",
   "id": "a15c7ff7",
   "metadata": {},
   "source": [
    "## Since Linear Regression model has the least difference between CV score and model accuracy but we cannot perform hyper parameter tunig on it  so lets try to increase the performance of random forest regressor by hyper parameter tuning"
   ]
  },
  {
   "cell_type": "markdown",
   "id": "20c0b1b4",
   "metadata": {},
   "source": [
    "## Hyper Parameter tuning on Random Forest Regressor"
   ]
  },
  {
   "cell_type": "code",
   "execution_count": 137,
   "id": "954a3659",
   "metadata": {},
   "outputs": [
    {
     "name": "stdout",
     "output_type": "stream",
     "text": [
      "Fitting 3 folds for each of 54 candidates, totalling 162 fits\n"
     ]
    },
    {
     "data": {
      "text/plain": [
       "RandomForestRegressor(max_depth=10, max_features=6, n_estimators=300)"
      ]
     },
     "execution_count": 137,
     "metadata": {},
     "output_type": "execute_result"
    }
   ],
   "source": [
    "param_grid = {\n",
    "    \"n_estimators\":[100,200,300],\n",
    "    \"max_depth\":[10, 50, 100],\n",
    "    \"max_features\":[6,8,10,12,14,16]\n",
    "}\n",
    "\n",
    "rf_reg = RandomForestRegressor()\n",
    "\n",
    "rf_reg_tuned = GridSearchCV(estimator=rf_reg,\n",
    "                            param_grid=param_grid,\n",
    "                            cv=3,\n",
    "                            n_jobs=-1,\n",
    "                            verbose=2)\n",
    "\n",
    "rf_reg_tuned.fit(x_train, y_train)\n",
    "rf_reg_tuned.best_estimator_"
   ]
  },
  {
   "cell_type": "code",
   "execution_count": 138,
   "id": "38192344",
   "metadata": {},
   "outputs": [
    {
     "name": "stdout",
     "output_type": "stream",
     "text": [
      "\n",
      "Train Accuracy-  70.7\n",
      "\n",
      "Test Accuracy-  60.4\n"
     ]
    }
   ],
   "source": [
    "rf=RandomForestRegressor(n_estimators=300,max_depth=10,max_features=6)\n",
    "rf.fit(x_train,y_train)\n",
    "pred_train=rf.predict(x_train)\n",
    "pred_test=rf.predict(x_test)\n",
    "train_acc=round(r2_score(y_train,pred_train)*100,1)\n",
    "test_acc=round(r2_score(y_test,pred_test)*100,1)\n",
    "print(\"\\nTrain Accuracy- \",train_acc)\n",
    "print(\"\\nTest Accuracy- \",test_acc)"
   ]
  },
  {
   "cell_type": "markdown",
   "id": "66e8bb34",
   "metadata": {},
   "source": [
    "Test accuracy improved to 60.4%."
   ]
  },
  {
   "cell_type": "markdown",
   "id": "ab023004",
   "metadata": {},
   "source": [
    "## Cross Validation Score"
   ]
  },
  {
   "cell_type": "code",
   "execution_count": 139,
   "id": "2acfe2c8",
   "metadata": {},
   "outputs": [
    {
     "name": "stdout",
     "output_type": "stream",
     "text": [
      "cross validation score is- 58.557520318043046\n",
      "accuracy score for random forest regression model is- 60.4\n"
     ]
    }
   ],
   "source": [
    "cv_score_best=cross_val_score(rf,x,y,cv=22).mean()*100\n",
    "print(\"cross validation score is-\",cv_score_best)\n",
    "print(\"accuracy score for random forest regression model is-\",test_acc)"
   ]
  },
  {
   "cell_type": "markdown",
   "id": "6a0d59dc",
   "metadata": {},
   "source": [
    "## Our model is ready to use, Lets apply this on test data"
   ]
  },
  {
   "cell_type": "code",
   "execution_count": 140,
   "id": "b9f9480d",
   "metadata": {},
   "outputs": [
    {
     "data": {
      "text/html": [
       "<div>\n",
       "<style scoped>\n",
       "    .dataframe tbody tr th:only-of-type {\n",
       "        vertical-align: middle;\n",
       "    }\n",
       "\n",
       "    .dataframe tbody tr th {\n",
       "        vertical-align: top;\n",
       "    }\n",
       "\n",
       "    .dataframe thead th {\n",
       "        text-align: right;\n",
       "    }\n",
       "</style>\n",
       "<table border=\"1\" class=\"dataframe\">\n",
       "  <thead>\n",
       "    <tr style=\"text-align: right;\">\n",
       "      <th></th>\n",
       "      <th>Item_Identifier</th>\n",
       "      <th>Item_Weight</th>\n",
       "      <th>Item_Fat_Content</th>\n",
       "      <th>Item_Visibility</th>\n",
       "      <th>Item_Type</th>\n",
       "      <th>Item_MRP</th>\n",
       "      <th>Outlet_Identifier</th>\n",
       "      <th>Outlet_Establishment_Year</th>\n",
       "      <th>Outlet_Size</th>\n",
       "      <th>Outlet_Location_Type</th>\n",
       "      <th>Outlet_Type</th>\n",
       "    </tr>\n",
       "  </thead>\n",
       "  <tbody>\n",
       "    <tr>\n",
       "      <th>0</th>\n",
       "      <td>FDW58</td>\n",
       "      <td>20.750</td>\n",
       "      <td>Low Fat</td>\n",
       "      <td>0.007565</td>\n",
       "      <td>Snack Foods</td>\n",
       "      <td>107.8622</td>\n",
       "      <td>OUT049</td>\n",
       "      <td>1999</td>\n",
       "      <td>Medium</td>\n",
       "      <td>Tier 1</td>\n",
       "      <td>Supermarket Type1</td>\n",
       "    </tr>\n",
       "    <tr>\n",
       "      <th>1</th>\n",
       "      <td>FDW14</td>\n",
       "      <td>8.300</td>\n",
       "      <td>reg</td>\n",
       "      <td>0.038428</td>\n",
       "      <td>Dairy</td>\n",
       "      <td>87.3198</td>\n",
       "      <td>OUT017</td>\n",
       "      <td>2007</td>\n",
       "      <td>NaN</td>\n",
       "      <td>Tier 2</td>\n",
       "      <td>Supermarket Type1</td>\n",
       "    </tr>\n",
       "    <tr>\n",
       "      <th>2</th>\n",
       "      <td>NCN55</td>\n",
       "      <td>14.600</td>\n",
       "      <td>Low Fat</td>\n",
       "      <td>0.099575</td>\n",
       "      <td>Others</td>\n",
       "      <td>241.7538</td>\n",
       "      <td>OUT010</td>\n",
       "      <td>1998</td>\n",
       "      <td>NaN</td>\n",
       "      <td>Tier 3</td>\n",
       "      <td>Grocery Store</td>\n",
       "    </tr>\n",
       "    <tr>\n",
       "      <th>3</th>\n",
       "      <td>FDQ58</td>\n",
       "      <td>7.315</td>\n",
       "      <td>Low Fat</td>\n",
       "      <td>0.015388</td>\n",
       "      <td>Snack Foods</td>\n",
       "      <td>155.0340</td>\n",
       "      <td>OUT017</td>\n",
       "      <td>2007</td>\n",
       "      <td>NaN</td>\n",
       "      <td>Tier 2</td>\n",
       "      <td>Supermarket Type1</td>\n",
       "    </tr>\n",
       "    <tr>\n",
       "      <th>4</th>\n",
       "      <td>FDY38</td>\n",
       "      <td>NaN</td>\n",
       "      <td>Regular</td>\n",
       "      <td>0.118599</td>\n",
       "      <td>Dairy</td>\n",
       "      <td>234.2300</td>\n",
       "      <td>OUT027</td>\n",
       "      <td>1985</td>\n",
       "      <td>Medium</td>\n",
       "      <td>Tier 3</td>\n",
       "      <td>Supermarket Type3</td>\n",
       "    </tr>\n",
       "  </tbody>\n",
       "</table>\n",
       "</div>"
      ],
      "text/plain": [
       "  Item_Identifier  Item_Weight Item_Fat_Content  Item_Visibility    Item_Type  \\\n",
       "0           FDW58       20.750          Low Fat         0.007565  Snack Foods   \n",
       "1           FDW14        8.300              reg         0.038428        Dairy   \n",
       "2           NCN55       14.600          Low Fat         0.099575       Others   \n",
       "3           FDQ58        7.315          Low Fat         0.015388  Snack Foods   \n",
       "4           FDY38          NaN          Regular         0.118599        Dairy   \n",
       "\n",
       "   Item_MRP Outlet_Identifier  Outlet_Establishment_Year Outlet_Size  \\\n",
       "0  107.8622            OUT049                       1999      Medium   \n",
       "1   87.3198            OUT017                       2007         NaN   \n",
       "2  241.7538            OUT010                       1998         NaN   \n",
       "3  155.0340            OUT017                       2007         NaN   \n",
       "4  234.2300            OUT027                       1985      Medium   \n",
       "\n",
       "  Outlet_Location_Type        Outlet_Type  \n",
       "0               Tier 1  Supermarket Type1  \n",
       "1               Tier 2  Supermarket Type1  \n",
       "2               Tier 3      Grocery Store  \n",
       "3               Tier 2  Supermarket Type1  \n",
       "4               Tier 3  Supermarket Type3  "
      ]
     },
     "execution_count": 140,
     "metadata": {},
     "output_type": "execute_result"
    }
   ],
   "source": [
    "test_df_x.head()"
   ]
  },
  {
   "cell_type": "code",
   "execution_count": 141,
   "id": "26a674f4",
   "metadata": {},
   "outputs": [
    {
     "data": {
      "text/plain": [
       "(5681, 11)"
      ]
     },
     "execution_count": 141,
     "metadata": {},
     "output_type": "execute_result"
    }
   ],
   "source": [
    "test_df_x.shape"
   ]
  },
  {
   "cell_type": "code",
   "execution_count": 142,
   "id": "ff293aa8",
   "metadata": {},
   "outputs": [
    {
     "data": {
      "text/plain": [
       "Item_Identifier                 0\n",
       "Item_Weight                   976\n",
       "Item_Fat_Content                0\n",
       "Item_Visibility                 0\n",
       "Item_Type                       0\n",
       "Item_MRP                        0\n",
       "Outlet_Identifier               0\n",
       "Outlet_Establishment_Year       0\n",
       "Outlet_Size                  1606\n",
       "Outlet_Location_Type            0\n",
       "Outlet_Type                     0\n",
       "dtype: int64"
      ]
     },
     "execution_count": 142,
     "metadata": {},
     "output_type": "execute_result"
    }
   ],
   "source": [
    "test_df_x.isna().sum()"
   ]
  },
  {
   "cell_type": "code",
   "execution_count": 143,
   "id": "72c17be6",
   "metadata": {},
   "outputs": [],
   "source": [
    "# Removing nulls\n",
    "test_df_x['Item_Weight'] = test_df_x['Item_Weight'].fillna(test_df_x.groupby('Item_Identifier')['Item_Weight'].transform('mean'))"
   ]
  },
  {
   "cell_type": "code",
   "execution_count": 144,
   "id": "b754dbc3",
   "metadata": {},
   "outputs": [],
   "source": [
    "test_df_x['Item_Weight'] = test_df_x['Item_Weight'].fillna(test_df_x['Item_Weight'].mean())"
   ]
  },
  {
   "cell_type": "code",
   "execution_count": 145,
   "id": "0aff488a",
   "metadata": {},
   "outputs": [
    {
     "data": {
      "text/plain": [
       "Medium    1862\n",
       "Small     1592\n",
       "High       621\n",
       "Name: Outlet_Size, dtype: int64"
      ]
     },
     "execution_count": 145,
     "metadata": {},
     "output_type": "execute_result"
    }
   ],
   "source": [
    "test_df_x['Outlet_Size'].value_counts()"
   ]
  },
  {
   "cell_type": "code",
   "execution_count": 146,
   "id": "fef98530",
   "metadata": {},
   "outputs": [],
   "source": [
    "test_df_x['Outlet_Size'] =test_df_x['Outlet_Size'].fillna(\"Medium\")"
   ]
  },
  {
   "cell_type": "code",
   "execution_count": 147,
   "id": "f454df8f",
   "metadata": {},
   "outputs": [
    {
     "data": {
      "text/plain": [
       "Item_Identifier              0\n",
       "Item_Weight                  0\n",
       "Item_Fat_Content             0\n",
       "Item_Visibility              0\n",
       "Item_Type                    0\n",
       "Item_MRP                     0\n",
       "Outlet_Identifier            0\n",
       "Outlet_Establishment_Year    0\n",
       "Outlet_Size                  0\n",
       "Outlet_Location_Type         0\n",
       "Outlet_Type                  0\n",
       "dtype: int64"
      ]
     },
     "execution_count": 147,
     "metadata": {},
     "output_type": "execute_result"
    }
   ],
   "source": [
    "test_df_x.isna().sum()"
   ]
  },
  {
   "cell_type": "code",
   "execution_count": 148,
   "id": "83d3cd82",
   "metadata": {},
   "outputs": [
    {
     "data": {
      "text/html": [
       "<div>\n",
       "<style scoped>\n",
       "    .dataframe tbody tr th:only-of-type {\n",
       "        vertical-align: middle;\n",
       "    }\n",
       "\n",
       "    .dataframe tbody tr th {\n",
       "        vertical-align: top;\n",
       "    }\n",
       "\n",
       "    .dataframe thead th {\n",
       "        text-align: right;\n",
       "    }\n",
       "</style>\n",
       "<table border=\"1\" class=\"dataframe\">\n",
       "  <thead>\n",
       "    <tr style=\"text-align: right;\">\n",
       "      <th></th>\n",
       "      <th>Item_Identifier</th>\n",
       "      <th>Item_Weight</th>\n",
       "      <th>Item_Fat_Content</th>\n",
       "      <th>Item_Visibility</th>\n",
       "      <th>Item_Type</th>\n",
       "      <th>Item_MRP</th>\n",
       "      <th>Outlet_Identifier</th>\n",
       "      <th>Outlet_Establishment_Year</th>\n",
       "      <th>Outlet_Size</th>\n",
       "      <th>Outlet_Location_Type</th>\n",
       "      <th>Outlet_Type</th>\n",
       "      <th>Item_Outlet_Sales</th>\n",
       "    </tr>\n",
       "  </thead>\n",
       "  <tbody>\n",
       "    <tr>\n",
       "      <th>0</th>\n",
       "      <td>156.0</td>\n",
       "      <td>9.30</td>\n",
       "      <td>1.0</td>\n",
       "      <td>0.016047</td>\n",
       "      <td>4.0</td>\n",
       "      <td>249.8092</td>\n",
       "      <td>9.0</td>\n",
       "      <td>23</td>\n",
       "      <td>1.0</td>\n",
       "      <td>0.0</td>\n",
       "      <td>1.0</td>\n",
       "      <td>3735.1380</td>\n",
       "    </tr>\n",
       "    <tr>\n",
       "      <th>1</th>\n",
       "      <td>8.0</td>\n",
       "      <td>5.92</td>\n",
       "      <td>2.0</td>\n",
       "      <td>0.019278</td>\n",
       "      <td>14.0</td>\n",
       "      <td>48.2692</td>\n",
       "      <td>3.0</td>\n",
       "      <td>13</td>\n",
       "      <td>1.0</td>\n",
       "      <td>2.0</td>\n",
       "      <td>2.0</td>\n",
       "      <td>443.4228</td>\n",
       "    </tr>\n",
       "    <tr>\n",
       "      <th>2</th>\n",
       "      <td>662.0</td>\n",
       "      <td>17.50</td>\n",
       "      <td>1.0</td>\n",
       "      <td>0.016760</td>\n",
       "      <td>10.0</td>\n",
       "      <td>141.6180</td>\n",
       "      <td>9.0</td>\n",
       "      <td>23</td>\n",
       "      <td>1.0</td>\n",
       "      <td>0.0</td>\n",
       "      <td>1.0</td>\n",
       "      <td>2097.2700</td>\n",
       "    </tr>\n",
       "    <tr>\n",
       "      <th>3</th>\n",
       "      <td>1121.0</td>\n",
       "      <td>19.20</td>\n",
       "      <td>2.0</td>\n",
       "      <td>0.015274</td>\n",
       "      <td>6.0</td>\n",
       "      <td>182.0950</td>\n",
       "      <td>0.0</td>\n",
       "      <td>24</td>\n",
       "      <td>1.0</td>\n",
       "      <td>2.0</td>\n",
       "      <td>0.0</td>\n",
       "      <td>732.3800</td>\n",
       "    </tr>\n",
       "    <tr>\n",
       "      <th>4</th>\n",
       "      <td>1297.0</td>\n",
       "      <td>8.93</td>\n",
       "      <td>1.0</td>\n",
       "      <td>0.008082</td>\n",
       "      <td>9.0</td>\n",
       "      <td>53.8614</td>\n",
       "      <td>1.0</td>\n",
       "      <td>35</td>\n",
       "      <td>0.0</td>\n",
       "      <td>2.0</td>\n",
       "      <td>1.0</td>\n",
       "      <td>994.7052</td>\n",
       "    </tr>\n",
       "  </tbody>\n",
       "</table>\n",
       "</div>"
      ],
      "text/plain": [
       "   Item_Identifier  Item_Weight  Item_Fat_Content  Item_Visibility  Item_Type  \\\n",
       "0            156.0         9.30               1.0         0.016047        4.0   \n",
       "1              8.0         5.92               2.0         0.019278       14.0   \n",
       "2            662.0        17.50               1.0         0.016760       10.0   \n",
       "3           1121.0        19.20               2.0         0.015274        6.0   \n",
       "4           1297.0         8.93               1.0         0.008082        9.0   \n",
       "\n",
       "   Item_MRP  Outlet_Identifier  Outlet_Establishment_Year  Outlet_Size  \\\n",
       "0  249.8092                9.0                         23          1.0   \n",
       "1   48.2692                3.0                         13          1.0   \n",
       "2  141.6180                9.0                         23          1.0   \n",
       "3  182.0950                0.0                         24          1.0   \n",
       "4   53.8614                1.0                         35          0.0   \n",
       "\n",
       "   Outlet_Location_Type  Outlet_Type  Item_Outlet_Sales  \n",
       "0                   0.0          1.0          3735.1380  \n",
       "1                   2.0          2.0           443.4228  \n",
       "2                   0.0          1.0          2097.2700  \n",
       "3                   2.0          0.0           732.3800  \n",
       "4                   2.0          1.0           994.7052  "
      ]
     },
     "execution_count": 148,
     "metadata": {},
     "output_type": "execute_result"
    }
   ],
   "source": [
    "#encoding\n",
    "oe=OrdinalEncoder()\n",
    "df1=oe.fit_transform(test_df_x[['Item_Identifier']])\n",
    "test_df_x['Item_Identifier']=df1\n",
    "df1=oe.fit_transform(test_df_x[['Item_Fat_Content']])\n",
    "test_df_x['Item_Fat_Content']=df1\n",
    "df1=oe.fit_transform(test_df_x[['Item_Type']])\n",
    "test_df_x['Item_Type']=df1\n",
    "df1=oe.fit_transform(test_df_x[['Outlet_Identifier']])\n",
    "test_df_x['Outlet_Identifier']=df1\n",
    "df1=oe.fit_transform(test_df_x[['Outlet_Size']])\n",
    "test_df_x['Outlet_Size']=df1\n",
    "df1=oe.fit_transform(test_df_x[['Outlet_Location_Type']])\n",
    "test_df_x['Outlet_Location_Type']=df1\n",
    "df1=oe.fit_transform(test_df_x[['Outlet_Type']])\n",
    "test_df_x['Outlet_Type']=df1\n",
    "df.head()"
   ]
  },
  {
   "cell_type": "code",
   "execution_count": 149,
   "id": "dc1ed405",
   "metadata": {},
   "outputs": [
    {
     "data": {
      "text/plain": [
       "Item_Identifier             -0.000020\n",
       "Item_Weight                  0.144817\n",
       "Item_Fat_Content             0.999629\n",
       "Item_Visibility              1.238312\n",
       "Item_Type                    0.096486\n",
       "Item_MRP                     0.136182\n",
       "Outlet_Identifier           -0.060209\n",
       "Outlet_Establishment_Year   -0.396306\n",
       "Outlet_Size                 -0.087108\n",
       "Outlet_Location_Type        -0.209049\n",
       "Outlet_Type                  0.927446\n",
       "dtype: float64"
      ]
     },
     "execution_count": 149,
     "metadata": {},
     "output_type": "execute_result"
    }
   ],
   "source": [
    "#Checking skewness\n",
    "test_df_x.skew()"
   ]
  },
  {
   "cell_type": "code",
   "execution_count": 150,
   "id": "5203a183",
   "metadata": {},
   "outputs": [
    {
     "data": {
      "text/plain": [
       "array([[ 0.75746742,  1.59192608, -0.5240889 , ..., -0.29345691,\n",
       "        -1.37374464, -0.12353311],\n",
       "       [ 0.68861828, -0.92578277,  3.19413231, ..., -0.29345691,\n",
       "        -0.13101959, -0.12353311],\n",
       "       [ 1.31359527,  0.48239385, -0.5240889 , ..., -0.29345691,\n",
       "         1.08829997, -1.91575348],\n",
       "       ...,\n",
       "       [ 1.32423381, -0.50676747, -0.5240889 , ..., -0.29345691,\n",
       "        -0.13101959, -0.12353311],\n",
       "       [-0.47261831,  0.61891302,  1.01563473, ..., -0.29345691,\n",
       "        -0.13101959, -0.12353311],\n",
       "       [ 0.53315531, -0.62630649,  1.01563473, ..., -0.29345691,\n",
       "        -0.13101959, -0.12353311]])"
      ]
     },
     "execution_count": 150,
     "metadata": {},
     "output_type": "execute_result"
    }
   ],
   "source": [
    "# Treating skewness\n",
    "#using yeo-johnson transformation\n",
    "from sklearn.preprocessing import power_transform\n",
    "x=power_transform(test_df_x,method='yeo-johnson')\n",
    "x"
   ]
  },
  {
   "cell_type": "code",
   "execution_count": 151,
   "id": "ebb78970",
   "metadata": {},
   "outputs": [
    {
     "data": {
      "text/plain": [
       "array([[ 0.75746742,  1.59192608, -0.5240889 , ..., -0.29345691,\n",
       "        -1.37374464, -0.12353311],\n",
       "       [ 0.68861828, -0.92578277,  3.19413231, ..., -0.29345691,\n",
       "        -0.13101959, -0.12353311],\n",
       "       [ 1.31359527,  0.48239385, -0.5240889 , ..., -0.29345691,\n",
       "         1.08829997, -1.91575348],\n",
       "       ...,\n",
       "       [ 1.32423381, -0.50676747, -0.5240889 , ..., -0.29345691,\n",
       "        -0.13101959, -0.12353311],\n",
       "       [-0.47261831,  0.61891302,  1.01563473, ..., -0.29345691,\n",
       "        -0.13101959, -0.12353311],\n",
       "       [ 0.53315531, -0.62630649,  1.01563473, ..., -0.29345691,\n",
       "        -0.13101959, -0.12353311]])"
      ]
     },
     "execution_count": 151,
     "metadata": {},
     "output_type": "execute_result"
    }
   ],
   "source": [
    "#standardization of data\n",
    "scaler=StandardScaler()\n",
    "x=scaler.fit_transform(x)\n",
    "x"
   ]
  },
  {
   "cell_type": "code",
   "execution_count": 152,
   "id": "8c6a3658",
   "metadata": {},
   "outputs": [
    {
     "name": "stdout",
     "output_type": "stream",
     "text": [
      "[1586.85283148 1324.60709527  819.51147336 ... 1942.83414267 3743.89715018\n",
      " 1266.69615215]\n"
     ]
    }
   ],
   "source": [
    "## Getting the values of Outlet_Sales\n",
    "pred_test=rf.predict(x)\n",
    "print(pred_test)"
   ]
  },
  {
   "cell_type": "code",
   "execution_count": 153,
   "id": "7bfebb28",
   "metadata": {},
   "outputs": [
    {
     "data": {
      "text/html": [
       "<div>\n",
       "<style scoped>\n",
       "    .dataframe tbody tr th:only-of-type {\n",
       "        vertical-align: middle;\n",
       "    }\n",
       "\n",
       "    .dataframe tbody tr th {\n",
       "        vertical-align: top;\n",
       "    }\n",
       "\n",
       "    .dataframe thead th {\n",
       "        text-align: right;\n",
       "    }\n",
       "</style>\n",
       "<table border=\"1\" class=\"dataframe\">\n",
       "  <thead>\n",
       "    <tr style=\"text-align: right;\">\n",
       "      <th></th>\n",
       "      <th>Item_Identifier</th>\n",
       "      <th>Item_Weight</th>\n",
       "      <th>Item_Fat_Content</th>\n",
       "      <th>Item_Visibility</th>\n",
       "      <th>Item_Type</th>\n",
       "      <th>Item_MRP</th>\n",
       "      <th>Outlet_Identifier</th>\n",
       "      <th>Outlet_Establishment_Year</th>\n",
       "      <th>Outlet_Size</th>\n",
       "      <th>Outlet_Location_Type</th>\n",
       "      <th>Outlet_Type</th>\n",
       "      <th>Outlet_Sales</th>\n",
       "    </tr>\n",
       "  </thead>\n",
       "  <tbody>\n",
       "    <tr>\n",
       "      <th>0</th>\n",
       "      <td>1103.0</td>\n",
       "      <td>20.750</td>\n",
       "      <td>1.0</td>\n",
       "      <td>0.007565</td>\n",
       "      <td>13.0</td>\n",
       "      <td>107.8622</td>\n",
       "      <td>9.0</td>\n",
       "      <td>1999</td>\n",
       "      <td>1.0</td>\n",
       "      <td>0.0</td>\n",
       "      <td>1.0</td>\n",
       "      <td>1586.852831</td>\n",
       "    </tr>\n",
       "    <tr>\n",
       "      <th>1</th>\n",
       "      <td>1067.0</td>\n",
       "      <td>8.300</td>\n",
       "      <td>4.0</td>\n",
       "      <td>0.038428</td>\n",
       "      <td>4.0</td>\n",
       "      <td>87.3198</td>\n",
       "      <td>2.0</td>\n",
       "      <td>2007</td>\n",
       "      <td>1.0</td>\n",
       "      <td>1.0</td>\n",
       "      <td>1.0</td>\n",
       "      <td>1324.607095</td>\n",
       "    </tr>\n",
       "    <tr>\n",
       "      <th>2</th>\n",
       "      <td>1406.0</td>\n",
       "      <td>14.600</td>\n",
       "      <td>1.0</td>\n",
       "      <td>0.099575</td>\n",
       "      <td>11.0</td>\n",
       "      <td>241.7538</td>\n",
       "      <td>0.0</td>\n",
       "      <td>1998</td>\n",
       "      <td>1.0</td>\n",
       "      <td>2.0</td>\n",
       "      <td>0.0</td>\n",
       "      <td>819.511473</td>\n",
       "    </tr>\n",
       "    <tr>\n",
       "      <th>3</th>\n",
       "      <td>809.0</td>\n",
       "      <td>7.315</td>\n",
       "      <td>1.0</td>\n",
       "      <td>0.015388</td>\n",
       "      <td>13.0</td>\n",
       "      <td>155.0340</td>\n",
       "      <td>2.0</td>\n",
       "      <td>2007</td>\n",
       "      <td>1.0</td>\n",
       "      <td>1.0</td>\n",
       "      <td>1.0</td>\n",
       "      <td>2432.176741</td>\n",
       "    </tr>\n",
       "    <tr>\n",
       "      <th>4</th>\n",
       "      <td>1184.0</td>\n",
       "      <td>13.600</td>\n",
       "      <td>2.0</td>\n",
       "      <td>0.118599</td>\n",
       "      <td>4.0</td>\n",
       "      <td>234.2300</td>\n",
       "      <td>5.0</td>\n",
       "      <td>1985</td>\n",
       "      <td>1.0</td>\n",
       "      <td>2.0</td>\n",
       "      <td>3.0</td>\n",
       "      <td>4912.690680</td>\n",
       "    </tr>\n",
       "  </tbody>\n",
       "</table>\n",
       "</div>"
      ],
      "text/plain": [
       "   Item_Identifier  Item_Weight  Item_Fat_Content  Item_Visibility  Item_Type  \\\n",
       "0           1103.0       20.750               1.0         0.007565       13.0   \n",
       "1           1067.0        8.300               4.0         0.038428        4.0   \n",
       "2           1406.0       14.600               1.0         0.099575       11.0   \n",
       "3            809.0        7.315               1.0         0.015388       13.0   \n",
       "4           1184.0       13.600               2.0         0.118599        4.0   \n",
       "\n",
       "   Item_MRP  Outlet_Identifier  Outlet_Establishment_Year  Outlet_Size  \\\n",
       "0  107.8622                9.0                       1999          1.0   \n",
       "1   87.3198                2.0                       2007          1.0   \n",
       "2  241.7538                0.0                       1998          1.0   \n",
       "3  155.0340                2.0                       2007          1.0   \n",
       "4  234.2300                5.0                       1985          1.0   \n",
       "\n",
       "   Outlet_Location_Type  Outlet_Type  Outlet_Sales  \n",
       "0                   0.0          1.0   1586.852831  \n",
       "1                   1.0          1.0   1324.607095  \n",
       "2                   2.0          0.0    819.511473  \n",
       "3                   1.0          1.0   2432.176741  \n",
       "4                   2.0          3.0   4912.690680  "
      ]
     },
     "execution_count": 153,
     "metadata": {},
     "output_type": "execute_result"
    }
   ],
   "source": [
    "#Appending output sales in test dataset\n",
    "test_df_x['Outlet_Sales']=pred_test\n",
    "test_df_x.head()"
   ]
  },
  {
   "cell_type": "markdown",
   "id": "6d50220e",
   "metadata": {},
   "source": [
    "## Saving the model"
   ]
  },
  {
   "cell_type": "code",
   "execution_count": 154,
   "id": "45b77ab5",
   "metadata": {},
   "outputs": [],
   "source": [
    "import pickle\n",
    "filename = 'finalized_model.pkl'\n",
    "pickle.dump(rf, open(filename, 'wb'))"
   ]
  }
 ],
 "metadata": {
  "kernelspec": {
   "display_name": "Python 3 (ipykernel)",
   "language": "python",
   "name": "python3"
  },
  "language_info": {
   "codemirror_mode": {
    "name": "ipython",
    "version": 3
   },
   "file_extension": ".py",
   "mimetype": "text/x-python",
   "name": "python",
   "nbconvert_exporter": "python",
   "pygments_lexer": "ipython3",
   "version": "3.9.7"
  }
 },
 "nbformat": 4,
 "nbformat_minor": 5
}
