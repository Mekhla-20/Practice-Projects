{
 "cells": [
  {
   "cell_type": "code",
   "execution_count": 15,
   "id": "a334c847",
   "metadata": {},
   "outputs": [],
   "source": [
    "import pandas as pd\n",
    "from sklearn.preprocessing import OrdinalEncoder\n",
    "import matplotlib.pyplot as plt\n",
    "import seaborn as sns\n",
    "import numpy as np\n",
    "from scipy.stats import zscore\n",
    "from sklearn.preprocessing import StandardScaler\n",
    "from sklearn.preprocessing import power_transform\n",
    "from statsmodels.stats.outliers_influence import variance_inflation_factor\n",
    "from sklearn.model_selection import train_test_split\n",
    "from sklearn.model_selection import cross_val_score"
   ]
  },
  {
   "cell_type": "code",
   "execution_count": 2,
   "id": "87b26479",
   "metadata": {},
   "outputs": [
    {
     "data": {
      "text/html": [
       "<div>\n",
       "<style scoped>\n",
       "    .dataframe tbody tr th:only-of-type {\n",
       "        vertical-align: middle;\n",
       "    }\n",
       "\n",
       "    .dataframe tbody tr th {\n",
       "        vertical-align: top;\n",
       "    }\n",
       "\n",
       "    .dataframe thead th {\n",
       "        text-align: right;\n",
       "    }\n",
       "</style>\n",
       "<table border=\"1\" class=\"dataframe\">\n",
       "  <thead>\n",
       "    <tr style=\"text-align: right;\">\n",
       "      <th></th>\n",
       "      <th>Sex</th>\n",
       "      <th>Length</th>\n",
       "      <th>Diameter</th>\n",
       "      <th>Height</th>\n",
       "      <th>Whole weight</th>\n",
       "      <th>Shucked weight</th>\n",
       "      <th>Viscera weight</th>\n",
       "      <th>Shell weight</th>\n",
       "      <th>Rings</th>\n",
       "    </tr>\n",
       "  </thead>\n",
       "  <tbody>\n",
       "    <tr>\n",
       "      <th>0</th>\n",
       "      <td>M</td>\n",
       "      <td>0.455</td>\n",
       "      <td>0.365</td>\n",
       "      <td>0.095</td>\n",
       "      <td>0.5140</td>\n",
       "      <td>0.2245</td>\n",
       "      <td>0.1010</td>\n",
       "      <td>0.150</td>\n",
       "      <td>15</td>\n",
       "    </tr>\n",
       "    <tr>\n",
       "      <th>1</th>\n",
       "      <td>M</td>\n",
       "      <td>0.350</td>\n",
       "      <td>0.265</td>\n",
       "      <td>0.090</td>\n",
       "      <td>0.2255</td>\n",
       "      <td>0.0995</td>\n",
       "      <td>0.0485</td>\n",
       "      <td>0.070</td>\n",
       "      <td>7</td>\n",
       "    </tr>\n",
       "    <tr>\n",
       "      <th>2</th>\n",
       "      <td>F</td>\n",
       "      <td>0.530</td>\n",
       "      <td>0.420</td>\n",
       "      <td>0.135</td>\n",
       "      <td>0.6770</td>\n",
       "      <td>0.2565</td>\n",
       "      <td>0.1415</td>\n",
       "      <td>0.210</td>\n",
       "      <td>9</td>\n",
       "    </tr>\n",
       "    <tr>\n",
       "      <th>3</th>\n",
       "      <td>M</td>\n",
       "      <td>0.440</td>\n",
       "      <td>0.365</td>\n",
       "      <td>0.125</td>\n",
       "      <td>0.5160</td>\n",
       "      <td>0.2155</td>\n",
       "      <td>0.1140</td>\n",
       "      <td>0.155</td>\n",
       "      <td>10</td>\n",
       "    </tr>\n",
       "    <tr>\n",
       "      <th>4</th>\n",
       "      <td>I</td>\n",
       "      <td>0.330</td>\n",
       "      <td>0.255</td>\n",
       "      <td>0.080</td>\n",
       "      <td>0.2050</td>\n",
       "      <td>0.0895</td>\n",
       "      <td>0.0395</td>\n",
       "      <td>0.055</td>\n",
       "      <td>7</td>\n",
       "    </tr>\n",
       "  </tbody>\n",
       "</table>\n",
       "</div>"
      ],
      "text/plain": [
       "  Sex  Length  Diameter  Height  Whole weight  Shucked weight  Viscera weight  \\\n",
       "0   M   0.455     0.365   0.095        0.5140          0.2245          0.1010   \n",
       "1   M   0.350     0.265   0.090        0.2255          0.0995          0.0485   \n",
       "2   F   0.530     0.420   0.135        0.6770          0.2565          0.1415   \n",
       "3   M   0.440     0.365   0.125        0.5160          0.2155          0.1140   \n",
       "4   I   0.330     0.255   0.080        0.2050          0.0895          0.0395   \n",
       "\n",
       "   Shell weight  Rings  \n",
       "0         0.150     15  \n",
       "1         0.070      7  \n",
       "2         0.210      9  \n",
       "3         0.155     10  \n",
       "4         0.055      7  "
      ]
     },
     "execution_count": 2,
     "metadata": {},
     "output_type": "execute_result"
    }
   ],
   "source": [
    "df=pd.read_csv(\"https://raw.githubusercontent.com/dsrscientist/dataset1/master/abalone.csv\")\n",
    "df.head()"
   ]
  },
  {
   "cell_type": "markdown",
   "id": "ad422c19",
   "metadata": {},
   "source": [
    "## Checking null values"
   ]
  },
  {
   "cell_type": "code",
   "execution_count": 191,
   "id": "2ba63b8b",
   "metadata": {},
   "outputs": [
    {
     "data": {
      "text/plain": [
       "Sex               0\n",
       "Length            0\n",
       "Diameter          0\n",
       "Height            0\n",
       "Whole weight      0\n",
       "Shucked weight    0\n",
       "Viscera weight    0\n",
       "Shell weight      0\n",
       "Rings             0\n",
       "dtype: int64"
      ]
     },
     "execution_count": 191,
     "metadata": {},
     "output_type": "execute_result"
    }
   ],
   "source": [
    "df.isna().sum()"
   ]
  },
  {
   "cell_type": "markdown",
   "id": "b0893f25",
   "metadata": {},
   "source": [
    "conclusion:: No nulls present in dataset"
   ]
  },
  {
   "cell_type": "markdown",
   "id": "ef679482",
   "metadata": {},
   "source": [
    "## Checking data type of each column"
   ]
  },
  {
   "cell_type": "code",
   "execution_count": 192,
   "id": "f1e8cf4f",
   "metadata": {},
   "outputs": [
    {
     "data": {
      "text/plain": [
       "Sex                object\n",
       "Length            float64\n",
       "Diameter          float64\n",
       "Height            float64\n",
       "Whole weight      float64\n",
       "Shucked weight    float64\n",
       "Viscera weight    float64\n",
       "Shell weight      float64\n",
       "Rings               int64\n",
       "dtype: object"
      ]
     },
     "execution_count": 192,
     "metadata": {},
     "output_type": "execute_result"
    }
   ],
   "source": [
    "df.dtypes"
   ]
  },
  {
   "cell_type": "markdown",
   "id": "49039ce3",
   "metadata": {},
   "source": [
    "conclusion:: Sex column is of object type so need to encode it using ordinal encoder."
   ]
  },
  {
   "cell_type": "markdown",
   "id": "17eeb454",
   "metadata": {},
   "source": [
    "## Encoding sex column"
   ]
  },
  {
   "cell_type": "code",
   "execution_count": 3,
   "id": "9102b6f3",
   "metadata": {},
   "outputs": [
    {
     "data": {
      "text/html": [
       "<div>\n",
       "<style scoped>\n",
       "    .dataframe tbody tr th:only-of-type {\n",
       "        vertical-align: middle;\n",
       "    }\n",
       "\n",
       "    .dataframe tbody tr th {\n",
       "        vertical-align: top;\n",
       "    }\n",
       "\n",
       "    .dataframe thead th {\n",
       "        text-align: right;\n",
       "    }\n",
       "</style>\n",
       "<table border=\"1\" class=\"dataframe\">\n",
       "  <thead>\n",
       "    <tr style=\"text-align: right;\">\n",
       "      <th></th>\n",
       "      <th>Sex</th>\n",
       "      <th>Length</th>\n",
       "      <th>Diameter</th>\n",
       "      <th>Height</th>\n",
       "      <th>Whole weight</th>\n",
       "      <th>Shucked weight</th>\n",
       "      <th>Viscera weight</th>\n",
       "      <th>Shell weight</th>\n",
       "      <th>Rings</th>\n",
       "    </tr>\n",
       "  </thead>\n",
       "  <tbody>\n",
       "    <tr>\n",
       "      <th>0</th>\n",
       "      <td>2.0</td>\n",
       "      <td>0.455</td>\n",
       "      <td>0.365</td>\n",
       "      <td>0.095</td>\n",
       "      <td>0.5140</td>\n",
       "      <td>0.2245</td>\n",
       "      <td>0.1010</td>\n",
       "      <td>0.150</td>\n",
       "      <td>15</td>\n",
       "    </tr>\n",
       "    <tr>\n",
       "      <th>1</th>\n",
       "      <td>2.0</td>\n",
       "      <td>0.350</td>\n",
       "      <td>0.265</td>\n",
       "      <td>0.090</td>\n",
       "      <td>0.2255</td>\n",
       "      <td>0.0995</td>\n",
       "      <td>0.0485</td>\n",
       "      <td>0.070</td>\n",
       "      <td>7</td>\n",
       "    </tr>\n",
       "    <tr>\n",
       "      <th>2</th>\n",
       "      <td>0.0</td>\n",
       "      <td>0.530</td>\n",
       "      <td>0.420</td>\n",
       "      <td>0.135</td>\n",
       "      <td>0.6770</td>\n",
       "      <td>0.2565</td>\n",
       "      <td>0.1415</td>\n",
       "      <td>0.210</td>\n",
       "      <td>9</td>\n",
       "    </tr>\n",
       "    <tr>\n",
       "      <th>3</th>\n",
       "      <td>2.0</td>\n",
       "      <td>0.440</td>\n",
       "      <td>0.365</td>\n",
       "      <td>0.125</td>\n",
       "      <td>0.5160</td>\n",
       "      <td>0.2155</td>\n",
       "      <td>0.1140</td>\n",
       "      <td>0.155</td>\n",
       "      <td>10</td>\n",
       "    </tr>\n",
       "    <tr>\n",
       "      <th>4</th>\n",
       "      <td>1.0</td>\n",
       "      <td>0.330</td>\n",
       "      <td>0.255</td>\n",
       "      <td>0.080</td>\n",
       "      <td>0.2050</td>\n",
       "      <td>0.0895</td>\n",
       "      <td>0.0395</td>\n",
       "      <td>0.055</td>\n",
       "      <td>7</td>\n",
       "    </tr>\n",
       "  </tbody>\n",
       "</table>\n",
       "</div>"
      ],
      "text/plain": [
       "   Sex  Length  Diameter  Height  Whole weight  Shucked weight  \\\n",
       "0  2.0   0.455     0.365   0.095        0.5140          0.2245   \n",
       "1  2.0   0.350     0.265   0.090        0.2255          0.0995   \n",
       "2  0.0   0.530     0.420   0.135        0.6770          0.2565   \n",
       "3  2.0   0.440     0.365   0.125        0.5160          0.2155   \n",
       "4  1.0   0.330     0.255   0.080        0.2050          0.0895   \n",
       "\n",
       "   Viscera weight  Shell weight  Rings  \n",
       "0          0.1010         0.150     15  \n",
       "1          0.0485         0.070      7  \n",
       "2          0.1415         0.210      9  \n",
       "3          0.1140         0.155     10  \n",
       "4          0.0395         0.055      7  "
      ]
     },
     "execution_count": 3,
     "metadata": {},
     "output_type": "execute_result"
    }
   ],
   "source": [
    "oe=OrdinalEncoder()\n",
    "df1=oe.fit_transform(df[['Sex']])\n",
    "df['Sex']=df1\n",
    "df.head()"
   ]
  },
  {
   "cell_type": "markdown",
   "id": "5d93e6bd",
   "metadata": {},
   "source": [
    "## Visualizing relationship between features and labels"
   ]
  },
  {
   "cell_type": "code",
   "execution_count": null,
   "id": "a51d7fea",
   "metadata": {},
   "outputs": [],
   "source": [
    "# for column Sex\n",
    "a=sns.scatterplot(x=df['Sex'],y=df['Rings'],data=df)\n",
    "plt.xlabel('Sex')\n",
    "plt.ylabel('Rings')\n",
    "plt.show()"
   ]
  },
  {
   "cell_type": "markdown",
   "id": "6e2653f0",
   "metadata": {},
   "source": [
    "conclusion:: Sex is a FEMALE if rings are between 5 and 26. Sex is INFANT if rings are in between 1 to 22. Sex is MALE if rings are in between 3 to 27.\n",
    "        We could also observe that rings in females are more than that of males and infants."
   ]
  },
  {
   "cell_type": "code",
   "execution_count": null,
   "id": "2f082553",
   "metadata": {},
   "outputs": [],
   "source": [
    "# for column Length\n",
    "a=sns.scatterplot(x=df['Length'],y=df['Rings'],data=df)\n",
    "plt.xlabel('Length')\n",
    "plt.ylabel('Rings')\n",
    "plt.show()"
   ]
  },
  {
   "cell_type": "markdown",
   "id": "7ea05c62",
   "metadata": {},
   "source": [
    "conclusion:: There is linear relation between length and rings, if length increases then number of rings also increase."
   ]
  },
  {
   "cell_type": "code",
   "execution_count": null,
   "id": "905a123f",
   "metadata": {},
   "outputs": [],
   "source": [
    "# for column Diameter\n",
    "a=sns.scatterplot(x=df['Diameter'],y=df['Rings'],data=df)\n",
    "plt.xlabel('Diameter')\n",
    "plt.ylabel('Rings')\n",
    "plt.show()"
   ]
  },
  {
   "cell_type": "markdown",
   "id": "78d0411b",
   "metadata": {},
   "source": [
    "conclusion:: There is linear relation between diameter and rings, if diameter increases then number of rings also increase."
   ]
  },
  {
   "cell_type": "code",
   "execution_count": null,
   "id": "f222bf60",
   "metadata": {},
   "outputs": [],
   "source": [
    "# for column Height\n",
    "a=sns.scatterplot(x=df['Height'],y=df['Rings'],data=df)\n",
    "plt.xlabel('Height')\n",
    "plt.ylabel('Rings')\n",
    "plt.show()"
   ]
  },
  {
   "cell_type": "markdown",
   "id": "ee1925f7",
   "metadata": {},
   "source": [
    "conclusion:: Irrespective of number of rings, the height of abalone is always in a range between 0.0 to 0.2."
   ]
  },
  {
   "cell_type": "code",
   "execution_count": null,
   "id": "a3b316d3",
   "metadata": {},
   "outputs": [],
   "source": [
    "# for column Whole weight\n",
    "a=sns.scatterplot(x=df['Whole weight'],y=df['Rings'],data=df)\n",
    "plt.xlabel('Whole weight')\n",
    "plt.ylabel('Rings')\n",
    "plt.show()"
   ]
  },
  {
   "cell_type": "markdown",
   "id": "14737a26",
   "metadata": {},
   "source": [
    "conclusion:: Weight is approx 0.0 to 0.1 if number of rings are in range 1 to 5. as number of rings increases after 5, weight also increases."
   ]
  },
  {
   "cell_type": "code",
   "execution_count": null,
   "id": "b8c21e22",
   "metadata": {},
   "outputs": [],
   "source": [
    "# for column Shucked weight\n",
    "a=sns.scatterplot(x=df['Shucked weight'],y=df['Rings'],data=df)\n",
    "plt.xlabel('Shucked weight')\n",
    "plt.ylabel('Rings')\n",
    "plt.show()"
   ]
  },
  {
   "cell_type": "markdown",
   "id": "fa035a20",
   "metadata": {},
   "source": [
    "conclusion:: Weight is approx 0.0 to 0.1 if number of rings are in range 1 to 5. Rings between 10 and 14 has the maximum shucked weight."
   ]
  },
  {
   "cell_type": "code",
   "execution_count": null,
   "id": "b1a1da61",
   "metadata": {},
   "outputs": [],
   "source": [
    "# for column Viscera weight\n",
    "a=sns.scatterplot(x=df['Viscera weight'],y=df['Rings'],data=df)\n",
    "plt.xlabel('Viscera weight')\n",
    "plt.ylabel('Rings')\n",
    "plt.show()"
   ]
  },
  {
   "cell_type": "markdown",
   "id": "f8c6ccde",
   "metadata": {},
   "source": [
    "conclusion:: Weight is approx 0.0 to 0.1 if number of rings are in range 1 to 5. as number of rings increases after 5, Viscera weight also increases."
   ]
  },
  {
   "cell_type": "code",
   "execution_count": null,
   "id": "46f504af",
   "metadata": {},
   "outputs": [],
   "source": [
    "# for column Shell weight\n",
    "a=sns.scatterplot(x=df['Shell weight'],y=df['Rings'],data=df)\n",
    "plt.xlabel('Shell weight')\n",
    "plt.ylabel('Rings')\n",
    "plt.show()"
   ]
  },
  {
   "cell_type": "markdown",
   "id": "1b1d1ac7",
   "metadata": {},
   "source": [
    "conclusion:: Weight is approx 0.0 to 0.1 if number of rings are in range 1 to 5. As number of rings increases after 5, shell weight also increases."
   ]
  },
  {
   "cell_type": "markdown",
   "id": "36809261",
   "metadata": {},
   "source": [
    "## Describing dataset"
   ]
  },
  {
   "cell_type": "code",
   "execution_count": null,
   "id": "a778c818",
   "metadata": {},
   "outputs": [],
   "source": [
    "df.describe()"
   ]
  },
  {
   "cell_type": "markdown",
   "id": "f29a702a",
   "metadata": {},
   "source": [
    "conclusion:: there is some kind of skewness present in height, whole weight, shucked weight, viscera weight, shell weight."
   ]
  },
  {
   "cell_type": "markdown",
   "id": "e10fe24f",
   "metadata": {},
   "source": [
    "## Correlation between features and labels"
   ]
  },
  {
   "cell_type": "code",
   "execution_count": null,
   "id": "7f4256de",
   "metadata": {},
   "outputs": [],
   "source": [
    "df.corr().abs()"
   ]
  },
  {
   "cell_type": "code",
   "execution_count": 194,
   "id": "68c62a40",
   "metadata": {},
   "outputs": [
    {
     "data": {
      "text/plain": [
       "<AxesSubplot:>"
      ]
     },
     "execution_count": 194,
     "metadata": {},
     "output_type": "execute_result"
    },
    {
     "data": {
      "image/png": "[encoded data removed]",
      "text/plain": [
       "<Figure size 1440x720 with 2 Axes>"
      ]
     },
     "metadata": {
      "needs_background": "light"
     },
     "output_type": "display_data"
    }
   ],
   "source": [
    "#Plotting heatmap to visualize correlation in a better way\n",
    "plt.figure(figsize=(20,10))\n",
    "sns.heatmap(df.corr().abs(),annot=True,linewidth=0.5,linecolor='black',fmt='.2f')\n"
   ]
  },
  {
   "cell_type": "markdown",
   "id": "b51a9a93",
   "metadata": {},
   "source": [
    "conclusion:: We can observe that multicollinearity exists between many features so we will get sure of it by using VIF."
   ]
  },
  {
   "cell_type": "markdown",
   "id": "d96cb807",
   "metadata": {},
   "source": [
    "## Checking outliers"
   ]
  },
  {
   "cell_type": "code",
   "execution_count": 195,
   "id": "5f18c779",
   "metadata": {},
   "outputs": [
    {
     "data": {
      "image/png": "[encoded data removed]",
      "text/plain": [
       "<Figure size 2160x6480 with 9 Axes>"
      ]
     },
     "metadata": {
      "needs_background": "light"
     },
     "output_type": "display_data"
    }
   ],
   "source": [
    "col=df.columns\n",
    "plt.figure(figsize=(30,90))\n",
    "for i in range(len(col)):\n",
    "    plt.subplot(20,20,i+1)\n",
    "    sns.boxplot(data=df[col[i]],color='green',orient='v')\n",
    "    plt.xlabel(col[i])\n",
    "    plt.tight_layout()"
   ]
  },
  {
   "cell_type": "markdown",
   "id": "a17faa65",
   "metadata": {},
   "source": [
    "conclusion:: Outliers are present in all the features."
   ]
  },
  {
   "cell_type": "markdown",
   "id": "45f0a6c7",
   "metadata": {},
   "source": [
    "## Checking Skewness"
   ]
  },
  {
   "cell_type": "code",
   "execution_count": null,
   "id": "da93589d",
   "metadata": {},
   "outputs": [],
   "source": [
    "df.skew()"
   ]
  },
  {
   "cell_type": "markdown",
   "id": "2d158907",
   "metadata": {},
   "source": [
    "conclusion:: Considering the range of skewness to be (-0.5,0.5), all the continuous features are skewed."
   ]
  },
  {
   "cell_type": "markdown",
   "id": "45f983d3",
   "metadata": {},
   "source": [
    "## Checking skewness using dist plot"
   ]
  },
  {
   "cell_type": "code",
   "execution_count": 196,
   "id": "8e132538",
   "metadata": {},
   "outputs": [
    {
     "data": {
      "text/plain": [
       "<AxesSubplot:xlabel='Length', ylabel='Density'>"
      ]
     },
     "execution_count": 196,
     "metadata": {},
     "output_type": "execute_result"
    },
    {
     "data": {
      "image/png": "[encoded data removed]",
      "text/plain": [
       "<Figure size 720x360 with 1 Axes>"
      ]
     },
     "metadata": {
      "needs_background": "light"
     },
     "output_type": "display_data"
    }
   ],
   "source": [
    "import warnings\n",
    "warnings.filterwarnings('ignore')\n",
    "\n",
    "# for feature Length\n",
    "plt.figure(figsize=(10,5))\n",
    "sns.distplot(df['Length'])"
   ]
  },
  {
   "cell_type": "markdown",
   "id": "900faf5c",
   "metadata": {},
   "source": [
    "conclusion:: It is slightly left skewed."
   ]
  },
  {
   "cell_type": "code",
   "execution_count": null,
   "id": "1121fcec",
   "metadata": {},
   "outputs": [],
   "source": [
    "# for feature Diameter\n",
    "plt.figure(figsize=(10,5))\n",
    "sns.distplot(df['Diameter'])"
   ]
  },
  {
   "cell_type": "markdown",
   "id": "16b0e6e2",
   "metadata": {},
   "source": [
    "conclusion:: It is slightly left skewed"
   ]
  },
  {
   "cell_type": "code",
   "execution_count": null,
   "id": "c7203740",
   "metadata": {},
   "outputs": [],
   "source": [
    "# for feature Height\n",
    "plt.figure(figsize=(10,5))\n",
    "sns.distplot(df['Height'])"
   ]
  },
  {
   "cell_type": "markdown",
   "id": "42dfbc39",
   "metadata": {},
   "source": [
    "conclusion:: It is too much skewed towards right."
   ]
  },
  {
   "cell_type": "code",
   "execution_count": null,
   "id": "6f3da63e",
   "metadata": {},
   "outputs": [],
   "source": [
    "# for feature Whole weight\n",
    "plt.figure(figsize=(10,5))\n",
    "sns.distplot(df['Whole weight'])"
   ]
  },
  {
   "cell_type": "markdown",
   "id": "db5f4afd",
   "metadata": {},
   "source": [
    "conclusion:: It is also skewed towards right."
   ]
  },
  {
   "cell_type": "code",
   "execution_count": null,
   "id": "1ed03215",
   "metadata": {},
   "outputs": [],
   "source": [
    "# for feature Shucked weight\n",
    "plt.figure(figsize=(10,5))\n",
    "sns.distplot(df['Shucked weight'])"
   ]
  },
  {
   "cell_type": "markdown",
   "id": "5a4b347a",
   "metadata": {},
   "source": [
    "conclusion:: It is also skewed towards right."
   ]
  },
  {
   "cell_type": "code",
   "execution_count": null,
   "id": "cca6af16",
   "metadata": {},
   "outputs": [],
   "source": [
    "# for feature Viscera weight\n",
    "plt.figure(figsize=(10,5))\n",
    "sns.distplot(df['Viscera weight'])"
   ]
  },
  {
   "cell_type": "markdown",
   "id": "4af88b99",
   "metadata": {},
   "source": [
    "conclusion:: It is also skewed towards right."
   ]
  },
  {
   "cell_type": "code",
   "execution_count": null,
   "id": "6a1cc663",
   "metadata": {},
   "outputs": [],
   "source": [
    "# for feature Shell weight\n",
    "plt.figure(figsize=(10,5))\n",
    "sns.distplot(df['Shell weight'])"
   ]
  },
  {
   "cell_type": "markdown",
   "id": "c08a4ce7",
   "metadata": {},
   "source": [
    "conclusion:: It is also skewed towards right."
   ]
  },
  {
   "cell_type": "markdown",
   "id": "737ecd34",
   "metadata": {},
   "source": [
    "## Treating outliers using z-score"
   ]
  },
  {
   "cell_type": "code",
   "execution_count": 4,
   "id": "c3b58bf1",
   "metadata": {},
   "outputs": [
    {
     "name": "stdout",
     "output_type": "stream",
     "text": [
      "Outliers index-\n",
      " {2051, 526, 3599, 1048, 1051, 1052, 2090, 3628, 4145, 4148, 2108, 2623, 2624, 2625, 2114, 3148, 3149, 3151, 81, 2157, 2161, 3188, 129, 3713, 3715, 2709, 2710, 2208, 163, 164, 165, 166, 168, 1193, 170, 1197, 1199, 1202, 1204, 694, 1206, 696, 1207, 1209, 719, 720, 3800, 1754, 1756, 1757, 1759, 1761, 1762, 1763, 2274, 1257, 236, 237, 238, 239, 2810, 2811, 3837, 277, 1821, 2334, 2862, 2863, 3899, 3902, 2368, 2381, 334, 3427, 358, 3961, 3962, 891, 1417, 1418, 1422, 1426, 1427, 1428, 1429, 3996, 1982, 3007, 3008, 1986, 1987, 2544, 1528}\n",
      "\n",
      "\n",
      "Number of rows to be eliminated-\n",
      " 93\n"
     ]
    }
   ],
   "source": [
    "#Getting sure of outliers using z score\n",
    "\n",
    "df_z=df.drop(['Rings'],axis=1)\n",
    "z=np.abs(zscore(df_z))\n",
    "i=np.where(z>3)\n",
    "print(\"Outliers index-\\n\",set(i[0]))\n",
    "print(\"\\n\\nNumber of rows to be eliminated-\\n\",len(set(i[0])))"
   ]
  },
  {
   "cell_type": "code",
   "execution_count": null,
   "id": "0169e110",
   "metadata": {},
   "outputs": [],
   "source": [
    "#Total number of rows present in dataset\n",
    "df.shape"
   ]
  },
  {
   "cell_type": "code",
   "execution_count": 8,
   "id": "2c84d883",
   "metadata": {},
   "outputs": [
    {
     "name": "stdout",
     "output_type": "stream",
     "text": [
      "The data loss- 2.226478333732345 %\n"
     ]
    }
   ],
   "source": [
    "#Calculating Data Loss\n",
    "loss=((4177-93)/4177)*100\n",
    "print(\"The data loss-\",100-loss,\"%\")"
   ]
  },
  {
   "cell_type": "markdown",
   "id": "0a577ba8",
   "metadata": {},
   "source": [
    "Since the data loss is just 2% so we will just remove all the rows with outliers from the data set."
   ]
  },
  {
   "cell_type": "code",
   "execution_count": 5,
   "id": "30f19051",
   "metadata": {
    "scrolled": true
   },
   "outputs": [
    {
     "data": {
      "text/html": [
       "<div>\n",
       "<style scoped>\n",
       "    .dataframe tbody tr th:only-of-type {\n",
       "        vertical-align: middle;\n",
       "    }\n",
       "\n",
       "    .dataframe tbody tr th {\n",
       "        vertical-align: top;\n",
       "    }\n",
       "\n",
       "    .dataframe thead th {\n",
       "        text-align: right;\n",
       "    }\n",
       "</style>\n",
       "<table border=\"1\" class=\"dataframe\">\n",
       "  <thead>\n",
       "    <tr style=\"text-align: right;\">\n",
       "      <th></th>\n",
       "      <th>Sex</th>\n",
       "      <th>Length</th>\n",
       "      <th>Diameter</th>\n",
       "      <th>Height</th>\n",
       "      <th>Whole weight</th>\n",
       "      <th>Shucked weight</th>\n",
       "      <th>Viscera weight</th>\n",
       "      <th>Shell weight</th>\n",
       "      <th>Rings</th>\n",
       "    </tr>\n",
       "  </thead>\n",
       "  <tbody>\n",
       "    <tr>\n",
       "      <th>0</th>\n",
       "      <td>2.0</td>\n",
       "      <td>0.455</td>\n",
       "      <td>0.365</td>\n",
       "      <td>0.095</td>\n",
       "      <td>0.5140</td>\n",
       "      <td>0.2245</td>\n",
       "      <td>0.1010</td>\n",
       "      <td>0.1500</td>\n",
       "      <td>15</td>\n",
       "    </tr>\n",
       "    <tr>\n",
       "      <th>1</th>\n",
       "      <td>2.0</td>\n",
       "      <td>0.350</td>\n",
       "      <td>0.265</td>\n",
       "      <td>0.090</td>\n",
       "      <td>0.2255</td>\n",
       "      <td>0.0995</td>\n",
       "      <td>0.0485</td>\n",
       "      <td>0.0700</td>\n",
       "      <td>7</td>\n",
       "    </tr>\n",
       "    <tr>\n",
       "      <th>2</th>\n",
       "      <td>0.0</td>\n",
       "      <td>0.530</td>\n",
       "      <td>0.420</td>\n",
       "      <td>0.135</td>\n",
       "      <td>0.6770</td>\n",
       "      <td>0.2565</td>\n",
       "      <td>0.1415</td>\n",
       "      <td>0.2100</td>\n",
       "      <td>9</td>\n",
       "    </tr>\n",
       "    <tr>\n",
       "      <th>3</th>\n",
       "      <td>2.0</td>\n",
       "      <td>0.440</td>\n",
       "      <td>0.365</td>\n",
       "      <td>0.125</td>\n",
       "      <td>0.5160</td>\n",
       "      <td>0.2155</td>\n",
       "      <td>0.1140</td>\n",
       "      <td>0.1550</td>\n",
       "      <td>10</td>\n",
       "    </tr>\n",
       "    <tr>\n",
       "      <th>4</th>\n",
       "      <td>1.0</td>\n",
       "      <td>0.330</td>\n",
       "      <td>0.255</td>\n",
       "      <td>0.080</td>\n",
       "      <td>0.2050</td>\n",
       "      <td>0.0895</td>\n",
       "      <td>0.0395</td>\n",
       "      <td>0.0550</td>\n",
       "      <td>7</td>\n",
       "    </tr>\n",
       "    <tr>\n",
       "      <th>...</th>\n",
       "      <td>...</td>\n",
       "      <td>...</td>\n",
       "      <td>...</td>\n",
       "      <td>...</td>\n",
       "      <td>...</td>\n",
       "      <td>...</td>\n",
       "      <td>...</td>\n",
       "      <td>...</td>\n",
       "      <td>...</td>\n",
       "    </tr>\n",
       "    <tr>\n",
       "      <th>4172</th>\n",
       "      <td>0.0</td>\n",
       "      <td>0.565</td>\n",
       "      <td>0.450</td>\n",
       "      <td>0.165</td>\n",
       "      <td>0.8870</td>\n",
       "      <td>0.3700</td>\n",
       "      <td>0.2390</td>\n",
       "      <td>0.2490</td>\n",
       "      <td>11</td>\n",
       "    </tr>\n",
       "    <tr>\n",
       "      <th>4173</th>\n",
       "      <td>2.0</td>\n",
       "      <td>0.590</td>\n",
       "      <td>0.440</td>\n",
       "      <td>0.135</td>\n",
       "      <td>0.9660</td>\n",
       "      <td>0.4390</td>\n",
       "      <td>0.2145</td>\n",
       "      <td>0.2605</td>\n",
       "      <td>10</td>\n",
       "    </tr>\n",
       "    <tr>\n",
       "      <th>4174</th>\n",
       "      <td>2.0</td>\n",
       "      <td>0.600</td>\n",
       "      <td>0.475</td>\n",
       "      <td>0.205</td>\n",
       "      <td>1.1760</td>\n",
       "      <td>0.5255</td>\n",
       "      <td>0.2875</td>\n",
       "      <td>0.3080</td>\n",
       "      <td>9</td>\n",
       "    </tr>\n",
       "    <tr>\n",
       "      <th>4175</th>\n",
       "      <td>0.0</td>\n",
       "      <td>0.625</td>\n",
       "      <td>0.485</td>\n",
       "      <td>0.150</td>\n",
       "      <td>1.0945</td>\n",
       "      <td>0.5310</td>\n",
       "      <td>0.2610</td>\n",
       "      <td>0.2960</td>\n",
       "      <td>10</td>\n",
       "    </tr>\n",
       "    <tr>\n",
       "      <th>4176</th>\n",
       "      <td>2.0</td>\n",
       "      <td>0.710</td>\n",
       "      <td>0.555</td>\n",
       "      <td>0.195</td>\n",
       "      <td>1.9485</td>\n",
       "      <td>0.9455</td>\n",
       "      <td>0.3765</td>\n",
       "      <td>0.4950</td>\n",
       "      <td>12</td>\n",
       "    </tr>\n",
       "  </tbody>\n",
       "</table>\n",
       "<p>4084 rows × 9 columns</p>\n",
       "</div>"
      ],
      "text/plain": [
       "      Sex  Length  Diameter  Height  Whole weight  Shucked weight  \\\n",
       "0     2.0   0.455     0.365   0.095        0.5140          0.2245   \n",
       "1     2.0   0.350     0.265   0.090        0.2255          0.0995   \n",
       "2     0.0   0.530     0.420   0.135        0.6770          0.2565   \n",
       "3     2.0   0.440     0.365   0.125        0.5160          0.2155   \n",
       "4     1.0   0.330     0.255   0.080        0.2050          0.0895   \n",
       "...   ...     ...       ...     ...           ...             ...   \n",
       "4172  0.0   0.565     0.450   0.165        0.8870          0.3700   \n",
       "4173  2.0   0.590     0.440   0.135        0.9660          0.4390   \n",
       "4174  2.0   0.600     0.475   0.205        1.1760          0.5255   \n",
       "4175  0.0   0.625     0.485   0.150        1.0945          0.5310   \n",
       "4176  2.0   0.710     0.555   0.195        1.9485          0.9455   \n",
       "\n",
       "      Viscera weight  Shell weight  Rings  \n",
       "0             0.1010        0.1500     15  \n",
       "1             0.0485        0.0700      7  \n",
       "2             0.1415        0.2100      9  \n",
       "3             0.1140        0.1550     10  \n",
       "4             0.0395        0.0550      7  \n",
       "...              ...           ...    ...  \n",
       "4172          0.2390        0.2490     11  \n",
       "4173          0.2145        0.2605     10  \n",
       "4174          0.2875        0.3080      9  \n",
       "4175          0.2610        0.2960     10  \n",
       "4176          0.3765        0.4950     12  \n",
       "\n",
       "[4084 rows x 9 columns]"
      ]
     },
     "execution_count": 5,
     "metadata": {},
     "output_type": "execute_result"
    }
   ],
   "source": [
    "#removing rows with outliers\n",
    "df_new=df.drop(df.index[i[0]])\n",
    "df_new"
   ]
  },
  {
   "cell_type": "markdown",
   "id": "f9d5260a",
   "metadata": {},
   "source": [
    "## Treating Skewness"
   ]
  },
  {
   "cell_type": "code",
   "execution_count": 6,
   "id": "144d144c",
   "metadata": {},
   "outputs": [],
   "source": [
    "# Removing categorical feature and target variable\n",
    "x=df_new.drop(['Rings'],axis=1)\n",
    "y=df_new['Rings']"
   ]
  },
  {
   "cell_type": "code",
   "execution_count": 7,
   "id": "db90b5d5",
   "metadata": {},
   "outputs": [
    {
     "data": {
      "text/plain": [
       "array([[ 1.13181772, -0.69616075, -0.55459434, ..., -0.55003028,\n",
       "        -0.69840563, -0.59876559],\n",
       "       [ 1.13181772, -1.42043347, -1.40942442, ..., -1.31942934,\n",
       "        -1.34109017, -1.34015935],\n",
       "       [-1.30821951, -0.05819969,  0.02502394, ..., -0.3717436 ,\n",
       "        -0.25127223, -0.09646595],\n",
       "       ...,\n",
       "       [ 1.13181772,  0.6408576 ,  0.69355676, ...,  0.89800414,\n",
       "         1.08232478,  0.64101779],\n",
       "       [-1.30821951,  0.91696004,  0.82539728, ...,  0.92042024,\n",
       "         0.86797436,  0.55568766],\n",
       "       [ 1.13181772,  1.96945388,  1.84446429, ...,  2.32590366,\n",
       "         1.72962716,  1.82205054]])"
      ]
     },
     "execution_count": 7,
     "metadata": {},
     "output_type": "execute_result"
    }
   ],
   "source": [
    "#using yeo-johnson transformation\n",
    "x=power_transform(x,method='yeo-johnson')\n",
    "x"
   ]
  },
  {
   "cell_type": "code",
   "execution_count": 8,
   "id": "f2ae6cef",
   "metadata": {
    "scrolled": true
   },
   "outputs": [
    {
     "data": {
      "text/plain": [
       "Sex              -0.174014\n",
       "Length           -0.084034\n",
       "Diameter         -0.080768\n",
       "Height           -0.016167\n",
       "Whole weight     -0.018290\n",
       "Shucked weight    0.020227\n",
       "Viscera weight    0.034242\n",
       "Shell weight      0.017040\n",
       "dtype: float64"
      ]
     },
     "execution_count": 8,
     "metadata": {},
     "output_type": "execute_result"
    }
   ],
   "source": [
    "#for checking skewness again lets convert the above numpy array into a dataframe\n",
    "df_s=pd.DataFrame(x,columns=['Sex','Length','Diameter','Height','Whole weight','Shucked weight','Viscera weight','Shell weight'])\n",
    "df_s.skew()"
   ]
  },
  {
   "cell_type": "markdown",
   "id": "5d74a630",
   "metadata": {},
   "source": [
    "conclusion:: The skewness of all the features are in a range(-5,5) so now our data is good to proceed to standardization."
   ]
  },
  {
   "cell_type": "markdown",
   "id": "a7b4c62a",
   "metadata": {},
   "source": [
    "## Standardization of data set"
   ]
  },
  {
   "cell_type": "code",
   "execution_count": 9,
   "id": "6b1e7408",
   "metadata": {},
   "outputs": [
    {
     "data": {
      "text/plain": [
       "array([[ 1.13181772, -0.69616075, -0.55459434, ..., -0.55003028,\n",
       "        -0.69840563, -0.59876559],\n",
       "       [ 1.13181772, -1.42043347, -1.40942442, ..., -1.31942934,\n",
       "        -1.34109017, -1.34015935],\n",
       "       [-1.30821951, -0.05819969,  0.02502394, ..., -0.3717436 ,\n",
       "        -0.25127223, -0.09646595],\n",
       "       ...,\n",
       "       [ 1.13181772,  0.6408576 ,  0.69355676, ...,  0.89800414,\n",
       "         1.08232478,  0.64101779],\n",
       "       [-1.30821951,  0.91696004,  0.82539728, ...,  0.92042024,\n",
       "         0.86797436,  0.55568766],\n",
       "       [ 1.13181772,  1.96945388,  1.84446429, ...,  2.32590366,\n",
       "         1.72962716,  1.82205054]])"
      ]
     },
     "execution_count": 9,
     "metadata": {},
     "output_type": "execute_result"
    }
   ],
   "source": [
    "scaler=StandardScaler()\n",
    "x=scaler.fit_transform(df_s)\n",
    "x"
   ]
  },
  {
   "cell_type": "code",
   "execution_count": 204,
   "id": "07228ef9",
   "metadata": {},
   "outputs": [
    {
     "data": {
      "text/plain": [
       "8.155409093720542e-18"
      ]
     },
     "execution_count": 204,
     "metadata": {},
     "output_type": "execute_result"
    }
   ],
   "source": [
    "x.mean()"
   ]
  },
  {
   "cell_type": "code",
   "execution_count": 10,
   "id": "003ad090",
   "metadata": {},
   "outputs": [
    {
     "data": {
      "text/html": [
       "<div>\n",
       "<style scoped>\n",
       "    .dataframe tbody tr th:only-of-type {\n",
       "        vertical-align: middle;\n",
       "    }\n",
       "\n",
       "    .dataframe tbody tr th {\n",
       "        vertical-align: top;\n",
       "    }\n",
       "\n",
       "    .dataframe thead th {\n",
       "        text-align: right;\n",
       "    }\n",
       "</style>\n",
       "<table border=\"1\" class=\"dataframe\">\n",
       "  <thead>\n",
       "    <tr style=\"text-align: right;\">\n",
       "      <th></th>\n",
       "      <th>Sex</th>\n",
       "      <th>Length</th>\n",
       "      <th>Diameter</th>\n",
       "      <th>Height</th>\n",
       "      <th>Whole weight</th>\n",
       "      <th>Shucked weight</th>\n",
       "      <th>Viscera weight</th>\n",
       "      <th>Shell weight</th>\n",
       "    </tr>\n",
       "  </thead>\n",
       "  <tbody>\n",
       "    <tr>\n",
       "      <th>0</th>\n",
       "      <td>1.131818</td>\n",
       "      <td>-0.696161</td>\n",
       "      <td>-0.554594</td>\n",
       "      <td>-1.168296</td>\n",
       "      <td>-0.588451</td>\n",
       "      <td>-0.550030</td>\n",
       "      <td>-0.698406</td>\n",
       "      <td>-0.598766</td>\n",
       "    </tr>\n",
       "    <tr>\n",
       "      <th>1</th>\n",
       "      <td>1.131818</td>\n",
       "      <td>-1.420433</td>\n",
       "      <td>-1.409424</td>\n",
       "      <td>-1.289091</td>\n",
       "      <td>-1.362331</td>\n",
       "      <td>-1.319429</td>\n",
       "      <td>-1.341090</td>\n",
       "      <td>-1.340159</td>\n",
       "    </tr>\n",
       "    <tr>\n",
       "      <th>2</th>\n",
       "      <td>-1.308220</td>\n",
       "      <td>-0.058200</td>\n",
       "      <td>0.025024</td>\n",
       "      <td>-0.142854</td>\n",
       "      <td>-0.199039</td>\n",
       "      <td>-0.371744</td>\n",
       "      <td>-0.251272</td>\n",
       "      <td>-0.096466</td>\n",
       "    </tr>\n",
       "    <tr>\n",
       "      <th>3</th>\n",
       "      <td>1.131818</td>\n",
       "      <td>-0.811094</td>\n",
       "      <td>-0.554594</td>\n",
       "      <td>-0.409259</td>\n",
       "      <td>-0.583488</td>\n",
       "      <td>-0.601436</td>\n",
       "      <td>-0.550573</td>\n",
       "      <td>-0.555262</td>\n",
       "    </tr>\n",
       "    <tr>\n",
       "      <th>4</th>\n",
       "      <td>-0.005100</td>\n",
       "      <td>-1.538442</td>\n",
       "      <td>-1.482282</td>\n",
       "      <td>-1.525912</td>\n",
       "      <td>-1.422319</td>\n",
       "      <td>-1.386634</td>\n",
       "      <td>-1.459221</td>\n",
       "      <td>-1.489465</td>\n",
       "    </tr>\n",
       "    <tr>\n",
       "      <th>...</th>\n",
       "      <td>...</td>\n",
       "      <td>...</td>\n",
       "      <td>...</td>\n",
       "      <td>...</td>\n",
       "      <td>...</td>\n",
       "      <td>...</td>\n",
       "      <td>...</td>\n",
       "      <td>...</td>\n",
       "    </tr>\n",
       "    <tr>\n",
       "      <th>4079</th>\n",
       "      <td>-1.308220</td>\n",
       "      <td>0.278101</td>\n",
       "      <td>0.378060</td>\n",
       "      <td>0.698142</td>\n",
       "      <td>0.262973</td>\n",
       "      <td>0.209484</td>\n",
       "      <td>0.681527</td>\n",
       "      <td>0.208481</td>\n",
       "    </tr>\n",
       "    <tr>\n",
       "      <th>4080</th>\n",
       "      <td>1.131818</td>\n",
       "      <td>0.534430</td>\n",
       "      <td>0.257350</td>\n",
       "      <td>-0.142854</td>\n",
       "      <td>0.426834</td>\n",
       "      <td>0.528748</td>\n",
       "      <td>0.464194</td>\n",
       "      <td>0.295413</td>\n",
       "    </tr>\n",
       "    <tr>\n",
       "      <th>4081</th>\n",
       "      <td>1.131818</td>\n",
       "      <td>0.640858</td>\n",
       "      <td>0.693557</td>\n",
       "      <td>1.921334</td>\n",
       "      <td>0.839694</td>\n",
       "      <td>0.898004</td>\n",
       "      <td>1.082325</td>\n",
       "      <td>0.641018</td>\n",
       "    </tr>\n",
       "    <tr>\n",
       "      <th>4082</th>\n",
       "      <td>-1.308220</td>\n",
       "      <td>0.916960</td>\n",
       "      <td>0.825397</td>\n",
       "      <td>0.269701</td>\n",
       "      <td>0.683156</td>\n",
       "      <td>0.920420</td>\n",
       "      <td>0.867974</td>\n",
       "      <td>0.555688</td>\n",
       "    </tr>\n",
       "    <tr>\n",
       "      <th>4083</th>\n",
       "      <td>1.131818</td>\n",
       "      <td>1.969454</td>\n",
       "      <td>1.844464</td>\n",
       "      <td>1.604265</td>\n",
       "      <td>2.140888</td>\n",
       "      <td>2.325904</td>\n",
       "      <td>1.729627</td>\n",
       "      <td>1.822051</td>\n",
       "    </tr>\n",
       "  </tbody>\n",
       "</table>\n",
       "<p>4084 rows × 8 columns</p>\n",
       "</div>"
      ],
      "text/plain": [
       "           Sex    Length  Diameter    Height  Whole weight  Shucked weight  \\\n",
       "0     1.131818 -0.696161 -0.554594 -1.168296     -0.588451       -0.550030   \n",
       "1     1.131818 -1.420433 -1.409424 -1.289091     -1.362331       -1.319429   \n",
       "2    -1.308220 -0.058200  0.025024 -0.142854     -0.199039       -0.371744   \n",
       "3     1.131818 -0.811094 -0.554594 -0.409259     -0.583488       -0.601436   \n",
       "4    -0.005100 -1.538442 -1.482282 -1.525912     -1.422319       -1.386634   \n",
       "...        ...       ...       ...       ...           ...             ...   \n",
       "4079 -1.308220  0.278101  0.378060  0.698142      0.262973        0.209484   \n",
       "4080  1.131818  0.534430  0.257350 -0.142854      0.426834        0.528748   \n",
       "4081  1.131818  0.640858  0.693557  1.921334      0.839694        0.898004   \n",
       "4082 -1.308220  0.916960  0.825397  0.269701      0.683156        0.920420   \n",
       "4083  1.131818  1.969454  1.844464  1.604265      2.140888        2.325904   \n",
       "\n",
       "      Viscera weight  Shell weight  \n",
       "0          -0.698406     -0.598766  \n",
       "1          -1.341090     -1.340159  \n",
       "2          -0.251272     -0.096466  \n",
       "3          -0.550573     -0.555262  \n",
       "4          -1.459221     -1.489465  \n",
       "...              ...           ...  \n",
       "4079        0.681527      0.208481  \n",
       "4080        0.464194      0.295413  \n",
       "4081        1.082325      0.641018  \n",
       "4082        0.867974      0.555688  \n",
       "4083        1.729627      1.822051  \n",
       "\n",
       "[4084 rows x 8 columns]"
      ]
     },
     "execution_count": 10,
     "metadata": {},
     "output_type": "execute_result"
    }
   ],
   "source": [
    "df_x=pd.DataFrame(x,columns=['Sex','Length','Diameter','Height','Whole weight','Shucked weight','Viscera weight','Shell weight'])\n",
    "df_x"
   ]
  },
  {
   "cell_type": "markdown",
   "id": "d94af6a5",
   "metadata": {},
   "source": [
    "## Treating multicolinearity using VIF"
   ]
  },
  {
   "cell_type": "code",
   "execution_count": 11,
   "id": "181eb8a4",
   "metadata": {},
   "outputs": [
    {
     "data": {
      "text/html": [
       "<div>\n",
       "<style scoped>\n",
       "    .dataframe tbody tr th:only-of-type {\n",
       "        vertical-align: middle;\n",
       "    }\n",
       "\n",
       "    .dataframe tbody tr th {\n",
       "        vertical-align: top;\n",
       "    }\n",
       "\n",
       "    .dataframe thead th {\n",
       "        text-align: right;\n",
       "    }\n",
       "</style>\n",
       "<table border=\"1\" class=\"dataframe\">\n",
       "  <thead>\n",
       "    <tr style=\"text-align: right;\">\n",
       "      <th></th>\n",
       "      <th>vif</th>\n",
       "      <th>features</th>\n",
       "    </tr>\n",
       "  </thead>\n",
       "  <tbody>\n",
       "    <tr>\n",
       "      <th>0</th>\n",
       "      <td>1.012801</td>\n",
       "      <td>Sex</td>\n",
       "    </tr>\n",
       "    <tr>\n",
       "      <th>1</th>\n",
       "      <td>34.152964</td>\n",
       "      <td>Length</td>\n",
       "    </tr>\n",
       "    <tr>\n",
       "      <th>2</th>\n",
       "      <td>33.032474</td>\n",
       "      <td>Diameter</td>\n",
       "    </tr>\n",
       "    <tr>\n",
       "      <th>3</th>\n",
       "      <td>6.476925</td>\n",
       "      <td>Height</td>\n",
       "    </tr>\n",
       "    <tr>\n",
       "      <th>4</th>\n",
       "      <td>131.149645</td>\n",
       "      <td>Whole weight</td>\n",
       "    </tr>\n",
       "    <tr>\n",
       "      <th>5</th>\n",
       "      <td>34.641192</td>\n",
       "      <td>Shucked weight</td>\n",
       "    </tr>\n",
       "    <tr>\n",
       "      <th>6</th>\n",
       "      <td>21.328388</td>\n",
       "      <td>Viscera weight</td>\n",
       "    </tr>\n",
       "    <tr>\n",
       "      <th>7</th>\n",
       "      <td>29.562628</td>\n",
       "      <td>Shell weight</td>\n",
       "    </tr>\n",
       "  </tbody>\n",
       "</table>\n",
       "</div>"
      ],
      "text/plain": [
       "          vif        features\n",
       "0    1.012801             Sex\n",
       "1   34.152964          Length\n",
       "2   33.032474        Diameter\n",
       "3    6.476925          Height\n",
       "4  131.149645    Whole weight\n",
       "5   34.641192  Shucked weight\n",
       "6   21.328388  Viscera weight\n",
       "7   29.562628    Shell weight"
      ]
     },
     "execution_count": 11,
     "metadata": {},
     "output_type": "execute_result"
    }
   ],
   "source": [
    "vif=pd.DataFrame()\n",
    "vif['vif']=[variance_inflation_factor(x,i) for i in range(x.shape[1])]\n",
    "vif['features']=df_x.columns\n",
    "vif"
   ]
  },
  {
   "cell_type": "markdown",
   "id": "663f7b73",
   "metadata": {},
   "source": [
    "conclusion:: Length and diameter has same correlation values for all other features as well as there scatter plot and distribution plot both are identical so we will remove one of these features. We will remove feature Length. Since whole weight VIF is very high and also looking at the heat map its correlation with other features are also very high so we will eliminate this feature as well."
   ]
  },
  {
   "cell_type": "markdown",
   "id": "11bfda2c",
   "metadata": {},
   "source": [
    "## PCA for feature selection"
   ]
  },
  {
   "cell_type": "code",
   "execution_count": 12,
   "id": "88db8cc7",
   "metadata": {},
   "outputs": [
    {
     "data": {
      "image/png": "[encoded data removed]",
      "text/plain": [
       "<Figure size 432x288 with 1 Axes>"
      ]
     },
     "metadata": {
      "needs_background": "light"
     },
     "output_type": "display_data"
    }
   ],
   "source": [
    "from sklearn.decomposition import PCA\n",
    "pca=PCA()\n",
    "p_components=pca.fit_transform(df_x)\n",
    "plt.figure()\n",
    "plt.plot(np.cumsum(pca.explained_variance_ratio_))\n",
    "plt.xlabel(\"number of components\")\n",
    "plt.ylabel(\"variance%\")\n",
    "plt.title(\"explanined variance\")\n",
    "plt.show()"
   ]
  },
  {
   "cell_type": "markdown",
   "id": "eb2d9870",
   "metadata": {},
   "source": [
    "conclusion:: We can see that approx 98% of the variance is explained by 5 components so instead of passing all the 8 components in model lets use only 5."
   ]
  },
  {
   "cell_type": "code",
   "execution_count": 13,
   "id": "3b048e16",
   "metadata": {},
   "outputs": [
    {
     "data": {
      "text/html": [
       "<div>\n",
       "<style scoped>\n",
       "    .dataframe tbody tr th:only-of-type {\n",
       "        vertical-align: middle;\n",
       "    }\n",
       "\n",
       "    .dataframe tbody tr th {\n",
       "        vertical-align: top;\n",
       "    }\n",
       "\n",
       "    .dataframe thead th {\n",
       "        text-align: right;\n",
       "    }\n",
       "</style>\n",
       "<table border=\"1\" class=\"dataframe\">\n",
       "  <thead>\n",
       "    <tr style=\"text-align: right;\">\n",
       "      <th></th>\n",
       "      <th>PC1</th>\n",
       "      <th>PC2</th>\n",
       "      <th>PC3</th>\n",
       "      <th>PC4</th>\n",
       "      <th>PC5</th>\n",
       "    </tr>\n",
       "  </thead>\n",
       "  <tbody>\n",
       "    <tr>\n",
       "      <th>0</th>\n",
       "      <td>-1.857581</td>\n",
       "      <td>-1.087182</td>\n",
       "      <td>0.479328</td>\n",
       "      <td>-0.166340</td>\n",
       "      <td>-0.108747</td>\n",
       "    </tr>\n",
       "    <tr>\n",
       "      <th>1</th>\n",
       "      <td>-3.615985</td>\n",
       "      <td>-1.028358</td>\n",
       "      <td>-0.032115</td>\n",
       "      <td>0.035869</td>\n",
       "      <td>-0.043979</td>\n",
       "    </tr>\n",
       "    <tr>\n",
       "      <th>2</th>\n",
       "      <td>-0.374976</td>\n",
       "      <td>1.325475</td>\n",
       "      <td>-0.033461</td>\n",
       "      <td>-0.264366</td>\n",
       "      <td>0.063905</td>\n",
       "    </tr>\n",
       "    <tr>\n",
       "      <th>3</th>\n",
       "      <td>-1.571936</td>\n",
       "      <td>-1.084145</td>\n",
       "      <td>-0.201220</td>\n",
       "      <td>0.060730</td>\n",
       "      <td>-0.065703</td>\n",
       "    </tr>\n",
       "    <tr>\n",
       "      <th>4</th>\n",
       "      <td>-3.891281</td>\n",
       "      <td>0.113599</td>\n",
       "      <td>0.132860</td>\n",
       "      <td>0.049693</td>\n",
       "      <td>-0.035658</td>\n",
       "    </tr>\n",
       "    <tr>\n",
       "      <th>...</th>\n",
       "      <td>...</td>\n",
       "      <td>...</td>\n",
       "      <td>...</td>\n",
       "      <td>...</td>\n",
       "      <td>...</td>\n",
       "    </tr>\n",
       "    <tr>\n",
       "      <th>4079</th>\n",
       "      <td>1.057930</td>\n",
       "      <td>1.286824</td>\n",
       "      <td>-0.291297</td>\n",
       "      <td>0.239155</td>\n",
       "      <td>-0.084524</td>\n",
       "    </tr>\n",
       "    <tr>\n",
       "      <th>4080</th>\n",
       "      <td>0.869109</td>\n",
       "      <td>-1.167425</td>\n",
       "      <td>0.509907</td>\n",
       "      <td>0.025947</td>\n",
       "      <td>-0.109114</td>\n",
       "    </tr>\n",
       "    <tr>\n",
       "      <th>4081</th>\n",
       "      <td>2.485833</td>\n",
       "      <td>-1.192065</td>\n",
       "      <td>-0.958852</td>\n",
       "      <td>0.608019</td>\n",
       "      <td>0.148607</td>\n",
       "    </tr>\n",
       "    <tr>\n",
       "      <th>4082</th>\n",
       "      <td>1.949194</td>\n",
       "      <td>1.243238</td>\n",
       "      <td>0.557808</td>\n",
       "      <td>0.059154</td>\n",
       "      <td>0.040823</td>\n",
       "    </tr>\n",
       "    <tr>\n",
       "      <th>4083</th>\n",
       "      <td>5.048943</td>\n",
       "      <td>-1.292898</td>\n",
       "      <td>0.329734</td>\n",
       "      <td>0.161346</td>\n",
       "      <td>0.185285</td>\n",
       "    </tr>\n",
       "  </tbody>\n",
       "</table>\n",
       "<p>4084 rows × 5 columns</p>\n",
       "</div>"
      ],
      "text/plain": [
       "           PC1       PC2       PC3       PC4       PC5\n",
       "0    -1.857581 -1.087182  0.479328 -0.166340 -0.108747\n",
       "1    -3.615985 -1.028358 -0.032115  0.035869 -0.043979\n",
       "2    -0.374976  1.325475 -0.033461 -0.264366  0.063905\n",
       "3    -1.571936 -1.084145 -0.201220  0.060730 -0.065703\n",
       "4    -3.891281  0.113599  0.132860  0.049693 -0.035658\n",
       "...        ...       ...       ...       ...       ...\n",
       "4079  1.057930  1.286824 -0.291297  0.239155 -0.084524\n",
       "4080  0.869109 -1.167425  0.509907  0.025947 -0.109114\n",
       "4081  2.485833 -1.192065 -0.958852  0.608019  0.148607\n",
       "4082  1.949194  1.243238  0.557808  0.059154  0.040823\n",
       "4083  5.048943 -1.292898  0.329734  0.161346  0.185285\n",
       "\n",
       "[4084 rows x 5 columns]"
      ]
     },
     "execution_count": 13,
     "metadata": {},
     "output_type": "execute_result"
    }
   ],
   "source": [
    "pca=PCA(n_components=5)\n",
    "new_data=pca.fit_transform(df_x)\n",
    "principle_x=pd.DataFrame(new_data,columns=['PC1','PC2','PC3','PC4','PC5'])\n",
    "principle_x"
   ]
  },
  {
   "cell_type": "markdown",
   "id": "1e5ee633",
   "metadata": {},
   "source": [
    "## Train test split"
   ]
  },
  {
   "cell_type": "code",
   "execution_count": 14,
   "id": "f0000360",
   "metadata": {},
   "outputs": [
    {
     "name": "stdout",
     "output_type": "stream",
     "text": [
      "\n",
      "\n",
      "At random state: 15\n",
      "\n",
      "Train Accuracy-  50.5\n",
      "\n",
      "Test Accuracy-  50.5\n",
      "\n",
      "\n",
      "At random state: 126\n",
      "\n",
      "Train Accuracy-  50.5\n",
      "\n",
      "Test Accuracy-  50.5\n",
      "\n",
      "\n",
      "At random state: 137\n",
      "\n",
      "Train Accuracy-  50.5\n",
      "\n",
      "Test Accuracy-  50.5\n",
      "\n",
      "\n",
      "At random state: 251\n",
      "\n",
      "Train Accuracy-  50.5\n",
      "\n",
      "Test Accuracy-  50.5\n",
      "\n",
      "\n",
      "At random state: 450\n",
      "\n",
      "Train Accuracy-  50.4\n",
      "\n",
      "Test Accuracy-  50.4\n",
      "\n",
      "\n",
      " Best accuracy at random state- 15\n"
     ]
    }
   ],
   "source": [
    "from sklearn.linear_model import LinearRegression\n",
    "from sklearn.metrics import r2_score\n",
    "max_ac=0\n",
    "randomState=0\n",
    "lr=LinearRegression()\n",
    "for i in range(500):\n",
    "    x_train,x_test,y_train,y_test=train_test_split(principle_x,y,random_state=i,test_size=0.20)\n",
    "    lr.fit(x_train,y_train)\n",
    "    pred_train=lr.predict(x_train)\n",
    "    pred_test=lr.predict(x_test)\n",
    "    if round(r2_score(y_train,pred_train)*100,1)==round(r2_score(y_test,pred_test)*100,1):\n",
    "        print(\"\\n\\nAt random state:\",i)\n",
    "        print(\"\\nTrain Accuracy- \",round(r2_score(y_train,pred_train)*100,1))\n",
    "        print(\"\\nTest Accuracy- \",round(r2_score(y_test,pred_test)*100,1))\n",
    "        if round(r2_score(y_test,pred_test)*100,1)>max_ac:\n",
    "            randomState=i\n",
    "            max_ac=round(r2_score(y_test,pred_test)*100,1)\n",
    "print(\"\\n\\n Best accuracy at random state-\",randomState)"
   ]
  },
  {
   "cell_type": "markdown",
   "id": "96ecfadb",
   "metadata": {},
   "source": [
    "## Applying Linear Regression model"
   ]
  },
  {
   "cell_type": "code",
   "execution_count": 34,
   "id": "2000a590",
   "metadata": {
    "scrolled": true
   },
   "outputs": [
    {
     "name": "stdout",
     "output_type": "stream",
     "text": [
      "\n",
      "train accuracy- 50.5\n",
      "\n",
      "test accuracy- 50.5\n"
     ]
    }
   ],
   "source": [
    "x_train,x_test,y_train,y_test=train_test_split(principle_x,y,random_state=15,test_size=0.20)\n",
    "lr.fit(x_train,y_train)\n",
    "pred_train=lr.predict(x_train)\n",
    "pred_test=lr.predict(x_test)\n",
    "train_accuracy=round(r2_score(y_train,pred_train)*100,1)\n",
    "test_accuracy=round(r2_score(y_test,pred_test)*100,1)\n",
    "print(\"\\ntrain accuracy-\",train_accuracy)\n",
    "print(\"\\ntest accuracy-\",test_accuracy)"
   ]
  },
  {
   "cell_type": "markdown",
   "id": "b4ac0a5e",
   "metadata": {},
   "source": [
    "## Cross validation score"
   ]
  },
  {
   "cell_type": "code",
   "execution_count": 35,
   "id": "865c6168",
   "metadata": {
    "scrolled": false
   },
   "outputs": [
    {
     "name": "stdout",
     "output_type": "stream",
     "text": [
      "\n",
      "\n",
      "At cv- 4\n",
      "\n",
      " cross validation score is- 38.47674622470218\n",
      "\n",
      " Accuracy score is- 50.5\n",
      "\n",
      "\n",
      "At cv- 5\n",
      "\n",
      " cross validation score is- 38.25356225663966\n",
      "\n",
      " Accuracy score is- 50.5\n",
      "\n",
      "\n",
      "At cv- 6\n",
      "\n",
      " cross validation score is- 38.10906938565964\n",
      "\n",
      " Accuracy score is- 50.5\n",
      "\n",
      "\n",
      "At cv- 7\n",
      "\n",
      " cross validation score is- 40.5874529636301\n",
      "\n",
      " Accuracy score is- 50.5\n",
      "\n",
      "\n",
      "At cv- 8\n",
      "\n",
      " cross validation score is- 34.009241227920754\n",
      "\n",
      " Accuracy score is- 50.5\n",
      "\n",
      "\n",
      "At cv- 9\n",
      "\n",
      " cross validation score is- 38.335609066485866\n",
      "\n",
      " Accuracy score is- 50.5\n",
      "\n",
      "\n",
      "At cv- 10\n",
      "\n",
      " cross validation score is- 32.36998351750315\n",
      "\n",
      " Accuracy score is- 50.5\n",
      "\n",
      "\n",
      "At cv- 11\n",
      "\n",
      " cross validation score is- 33.72468682558928\n",
      "\n",
      " Accuracy score is- 50.5\n",
      "\n",
      "\n",
      "At cv- 12\n",
      "\n",
      " cross validation score is- 33.57627162708134\n",
      "\n",
      " Accuracy score is- 50.5\n",
      "\n",
      "\n",
      "At cv- 13\n",
      "\n",
      " cross validation score is- 31.439440363317207\n",
      "\n",
      " Accuracy score is- 50.5\n",
      "\n",
      "\n",
      "At cv- 14\n",
      "\n",
      " cross validation score is- 34.63899375105572\n",
      "\n",
      " Accuracy score is- 50.5\n",
      "\n",
      "\n",
      "At cv- 15\n",
      "\n",
      " cross validation score is- 31.740915339083898\n",
      "\n",
      " Accuracy score is- 50.5\n",
      "\n",
      "\n",
      "At cv- 16\n",
      "\n",
      " cross validation score is- 29.33414805040076\n",
      "\n",
      " Accuracy score is- 50.5\n",
      "\n",
      "\n",
      "At cv- 17\n",
      "\n",
      " cross validation score is- 32.22926902336333\n",
      "\n",
      " Accuracy score is- 50.5\n",
      "\n",
      "\n",
      "At cv- 18\n",
      "\n",
      " cross validation score is- 31.927842358096427\n",
      "\n",
      " Accuracy score is- 50.5\n",
      "\n",
      "\n",
      "At cv- 19\n",
      "\n",
      " cross validation score is- 30.359177345890593\n",
      "\n",
      " Accuracy score is- 50.5\n",
      "\n",
      "\n",
      "At cv- 20\n",
      "\n",
      " cross validation score is- 27.647611627464663\n",
      "\n",
      " Accuracy score is- 50.5\n",
      "\n",
      "\n",
      "At cv- 21\n",
      "\n",
      " cross validation score is- 29.172781719266393\n",
      "\n",
      " Accuracy score is- 50.5\n",
      "\n",
      "\n",
      "At cv- 22\n",
      "\n",
      " cross validation score is- 29.372356979861014\n",
      "\n",
      " Accuracy score is- 50.5\n",
      "\n",
      "\n",
      "At cv- 23\n",
      "\n",
      " cross validation score is- 27.292415711417846\n",
      "\n",
      " Accuracy score is- 50.5\n",
      "\n",
      "\n",
      "At cv- 24\n",
      "\n",
      " cross validation score is- 27.941966192391604\n",
      "\n",
      " Accuracy score is- 50.5\n",
      "\n",
      "\n",
      "At cv- 25\n",
      "\n",
      " cross validation score is- 30.126096109830726\n",
      "\n",
      " Accuracy score is- 50.5\n",
      "\n",
      "\n",
      "At cv- 26\n",
      "\n",
      " cross validation score is- 26.033010238551302\n",
      "\n",
      " Accuracy score is- 50.5\n",
      "\n",
      "\n",
      "At cv- 27\n",
      "\n",
      " cross validation score is- 27.641380208883575\n",
      "\n",
      " Accuracy score is- 50.5\n",
      "\n",
      "\n",
      "At cv- 28\n",
      "\n",
      " cross validation score is- 28.070643703818345\n",
      "\n",
      " Accuracy score is- 50.5\n",
      "\n",
      "\n",
      "At cv- 29\n",
      "\n",
      " cross validation score is- 28.404368302628356\n",
      "\n",
      " Accuracy score is- 50.5\n"
     ]
    }
   ],
   "source": [
    "\n",
    "for i in range(4,30):\n",
    "    cv_score=cross_val_score(lr,principle_x,y,cv=i)\n",
    "    cv_mean=cv_score.mean()\n",
    "    print(\"\\n\\nAt cv-\",i)\n",
    "    print(\"\\n cross validation score is-\",cv_mean*100)\n",
    "    print(\"\\n Accuracy score is-\",test_accuracy)"
   ]
  },
  {
   "cell_type": "markdown",
   "id": "b9692a83",
   "metadata": {},
   "source": [
    "So we are getting the least difference between cross_val_score and accuracy score at cv=7"
   ]
  },
  {
   "cell_type": "code",
   "execution_count": 245,
   "id": "04056d57",
   "metadata": {},
   "outputs": [
    {
     "name": "stdout",
     "output_type": "stream",
     "text": [
      "cross validation score is- 40.58745296363011\n",
      "accuracy score for logistic regression model is- 50.5\n"
     ]
    }
   ],
   "source": [
    "cv_score_best=cross_val_score(lr,principle_x,y,cv=7).mean()*100\n",
    "print(\"cross validation score is-\",cv_score_best)\n",
    "print(\"accuracy score for linear regression model is-\",test_accuracy)"
   ]
  },
  {
   "cell_type": "markdown",
   "id": "e95b88a0",
   "metadata": {},
   "source": [
    "## Support Vector Regression\n"
   ]
  },
  {
   "cell_type": "code",
   "execution_count": 16,
   "id": "ab07e581",
   "metadata": {},
   "outputs": [],
   "source": [
    "from sklearn import svm"
   ]
  },
  {
   "cell_type": "code",
   "execution_count": 29,
   "id": "85999e0f",
   "metadata": {},
   "outputs": [
    {
     "data": {
      "text/plain": [
       "SVR()"
      ]
     },
     "execution_count": 29,
     "metadata": {},
     "output_type": "execute_result"
    }
   ],
   "source": [
    "sm=svm.SVR()\n",
    "sm.fit(x_train,y_train)"
   ]
  },
  {
   "cell_type": "code",
   "execution_count": 30,
   "id": "d2b2709e",
   "metadata": {},
   "outputs": [],
   "source": [
    "sm_pred_train=sm.predict(x_train)\n",
    "sm_pred_test=sm.predict(x_test)"
   ]
  },
  {
   "cell_type": "code",
   "execution_count": 31,
   "id": "c71bbc01",
   "metadata": {},
   "outputs": [
    {
     "name": "stdout",
     "output_type": "stream",
     "text": [
      "acc train 52.2243711666742\n",
      "acc test 51.218986982094215\n"
     ]
    }
   ],
   "source": [
    "sm_acc_train=r2_score(y_train,sm_pred_train)\n",
    "sm_acc_test=r2_score(y_test,sm_pred_test)\n",
    "print(\"acc train\",sm_acc_train*100)\n",
    "print(\"acc test\",sm_acc_test*100)"
   ]
  },
  {
   "cell_type": "markdown",
   "id": "1c6fb010",
   "metadata": {},
   "source": [
    "## Cross validation score"
   ]
  },
  {
   "cell_type": "code",
   "execution_count": 36,
   "id": "955bf88f",
   "metadata": {
    "scrolled": true
   },
   "outputs": [
    {
     "name": "stdout",
     "output_type": "stream",
     "text": [
      "\n",
      "\n",
      "At cv- 4\n",
      "\n",
      " cross validation score is- 46.617264491799574\n",
      "\n",
      " Accuracy score is- 51.218986982094215\n",
      "\n",
      "\n",
      "At cv- 5\n",
      "\n",
      " cross validation score is- 45.983463366563015\n",
      "\n",
      " Accuracy score is- 51.218986982094215\n",
      "\n",
      "\n",
      "At cv- 6\n",
      "\n",
      " cross validation score is- 46.85571056512272\n",
      "\n",
      " Accuracy score is- 51.218986982094215\n",
      "\n",
      "\n",
      "At cv- 7\n",
      "\n",
      " cross validation score is- 47.58292877722658\n",
      "\n",
      " Accuracy score is- 51.218986982094215\n",
      "\n",
      "\n",
      "At cv- 8\n",
      "\n",
      " cross validation score is- 45.61100611590994\n",
      "\n",
      " Accuracy score is- 51.218986982094215\n",
      "\n",
      "\n",
      "At cv- 9\n",
      "\n",
      " cross validation score is- 46.883323760166256\n",
      "\n",
      " Accuracy score is- 51.218986982094215\n",
      "\n",
      "\n",
      "At cv- 10\n",
      "\n",
      " cross validation score is- 44.10287882168433\n",
      "\n",
      " Accuracy score is- 51.218986982094215\n",
      "\n",
      "\n",
      "At cv- 11\n",
      "\n",
      " cross validation score is- 45.17978120016798\n",
      "\n",
      " Accuracy score is- 51.218986982094215\n",
      "\n",
      "\n",
      "At cv- 12\n",
      "\n",
      " cross validation score is- 46.28748150499386\n",
      "\n",
      " Accuracy score is- 51.218986982094215\n",
      "\n",
      "\n",
      "At cv- 13\n",
      "\n",
      " cross validation score is- 43.95927612766786\n",
      "\n",
      " Accuracy score is- 51.218986982094215\n",
      "\n",
      "\n",
      "At cv- 14\n",
      "\n",
      " cross validation score is- 45.92314130894706\n",
      "\n",
      " Accuracy score is- 51.218986982094215\n"
     ]
    }
   ],
   "source": [
    "for i in range(4,15):\n",
    "    cv_score=cross_val_score(sm,principle_x,y,cv=i)\n",
    "    cv_mean=cv_score.mean()\n",
    "    print(\"\\n\\nAt cv-\",i)\n",
    "    print(\"\\n cross validation score is-\",cv_mean*100)\n",
    "    print(\"\\n Accuracy score is-\",sm_acc_test*100)"
   ]
  },
  {
   "cell_type": "markdown",
   "id": "cff62be5",
   "metadata": {},
   "source": [
    "So we are getting the least difference between cross_val_score and accuracy score at cv=7"
   ]
  },
  {
   "cell_type": "code",
   "execution_count": 37,
   "id": "ad1eb4f2",
   "metadata": {},
   "outputs": [
    {
     "name": "stdout",
     "output_type": "stream",
     "text": [
      "cross validation score is- 47.58292877722658\n",
      "accuracy score for support vector regressor model is- 51.218986982094215\n"
     ]
    }
   ],
   "source": [
    "cv_score_best=cross_val_score(sm,principle_x,y,cv=7).mean()*100\n",
    "print(\"cross validation score is-\",cv_score_best)\n",
    "print(\"accuracy score for support vector regressor model is-\",sm_acc_test*100)"
   ]
  },
  {
   "cell_type": "markdown",
   "id": "541dd2be",
   "metadata": {},
   "source": [
    "## Random Forest Regression"
   ]
  },
  {
   "cell_type": "code",
   "execution_count": 251,
   "id": "9bf0f7db",
   "metadata": {},
   "outputs": [],
   "source": [
    "from sklearn.ensemble import RandomForestRegressor"
   ]
  },
  {
   "cell_type": "code",
   "execution_count": 252,
   "id": "ffb66317",
   "metadata": {},
   "outputs": [],
   "source": [
    "rf=RandomForestRegressor()\n"
   ]
  },
  {
   "cell_type": "code",
   "execution_count": 232,
   "id": "adb0a760",
   "metadata": {},
   "outputs": [
    {
     "name": "stdout",
     "output_type": "stream",
     "text": [
      "\n",
      "\n",
      "At random state: 0\n",
      "\n",
      "Train Accuracy-  93.3\n",
      "\n",
      "Test Accuracy-  48.5\n",
      "\n",
      "\n",
      "At random state: 1\n",
      "\n",
      "Train Accuracy-  93.2\n",
      "\n",
      "Test Accuracy-  52.4\n",
      "\n",
      "\n",
      "At random state: 2\n",
      "\n",
      "Train Accuracy-  93.4\n",
      "\n",
      "Test Accuracy-  47.2\n",
      "\n",
      "\n",
      "At random state: 3\n",
      "\n",
      "Train Accuracy-  93.3\n",
      "\n",
      "Test Accuracy-  50.4\n",
      "\n",
      "\n",
      "At random state: 4\n",
      "\n",
      "Train Accuracy-  93.1\n",
      "\n",
      "Test Accuracy-  52.3\n",
      "\n",
      "\n",
      "At random state: 5\n",
      "\n",
      "Train Accuracy-  93.1\n",
      "\n",
      "Test Accuracy-  50.2\n",
      "\n",
      "\n",
      "At random state: 6\n",
      "\n",
      "Train Accuracy-  93.0\n",
      "\n",
      "Test Accuracy-  52.5\n",
      "\n",
      "\n",
      "At random state: 7\n",
      "\n",
      "Train Accuracy-  93.1\n",
      "\n",
      "Test Accuracy-  50.2\n",
      "\n",
      "\n",
      "At random state: 8\n",
      "\n",
      "Train Accuracy-  93.1\n",
      "\n",
      "Test Accuracy-  50.8\n",
      "\n",
      "\n",
      "At random state: 9\n",
      "\n",
      "Train Accuracy-  93.2\n",
      "\n",
      "Test Accuracy-  45.9\n",
      "\n",
      "\n",
      "At random state: 10\n",
      "\n",
      "Train Accuracy-  93.3\n",
      "\n",
      "Test Accuracy-  50.9\n",
      "\n",
      "\n",
      "At random state: 11\n",
      "\n",
      "Train Accuracy-  93.0\n",
      "\n",
      "Test Accuracy-  54.6\n",
      "\n",
      "\n",
      "At random state: 12\n",
      "\n",
      "Train Accuracy-  93.1\n",
      "\n",
      "Test Accuracy-  52.1\n",
      "\n",
      "\n",
      "At random state: 13\n",
      "\n",
      "Train Accuracy-  93.1\n",
      "\n",
      "Test Accuracy-  50.2\n",
      "\n",
      "\n",
      "At random state: 14\n",
      "\n",
      "Train Accuracy-  93.1\n",
      "\n",
      "Test Accuracy-  50.2\n",
      "\n",
      "\n",
      "At random state: 15\n",
      "\n",
      "Train Accuracy-  93.1\n",
      "\n",
      "Test Accuracy-  51.8\n",
      "\n",
      "\n",
      "At random state: 16\n",
      "\n",
      "Train Accuracy-  93.2\n",
      "\n",
      "Test Accuracy-  49.8\n",
      "\n",
      "\n",
      "At random state: 17\n",
      "\n",
      "Train Accuracy-  93.1\n",
      "\n",
      "Test Accuracy-  53.5\n",
      "\n",
      "\n",
      "At random state: 18\n",
      "\n",
      "Train Accuracy-  93.0\n",
      "\n",
      "Test Accuracy-  49.6\n",
      "\n",
      "\n",
      "At random state: 19\n",
      "\n",
      "Train Accuracy-  93.3\n",
      "\n",
      "Test Accuracy-  48.9\n",
      "\n",
      "\n",
      " Best accuracy at random state- 0\n"
     ]
    }
   ],
   "source": [
    "max_ac=0\n",
    "randomState=0\n",
    "\n",
    "for i in range(20):\n",
    "    x_train,x_test,y_train,y_test=train_test_split(principle_x,y,random_state=i,test_size=0.20)\n",
    "    rf.fit(x_train,y_train)\n",
    "    pred_train=rf.predict(x_train)\n",
    "    pred_test=rf.predict(x_test)\n",
    "    \n",
    "    print(\"\\n\\nAt random state:\",i)\n",
    "    print(\"\\nTrain Accuracy- \",round(r2_score(y_train,pred_train)*100,1))\n",
    "    print(\"\\nTest Accuracy- \",round(r2_score(y_test,pred_test)*100,1))\n",
    "        \n",
    "print(\"\\n\\n Best accuracy at random state-\",randomState)"
   ]
  },
  {
   "cell_type": "code",
   "execution_count": 237,
   "id": "a36f77a0",
   "metadata": {},
   "outputs": [
    {
     "name": "stdout",
     "output_type": "stream",
     "text": [
      "\n",
      "train accuracy- 93.0\n",
      "\n",
      "test accuracy- 55.1\n"
     ]
    }
   ],
   "source": [
    "x_train,x_test,y_train,y_test=train_test_split(principle_x,y,random_state=11,test_size=0.20)\n",
    "rf.fit(x_train,y_train)\n",
    "pred_train=rf.predict(x_train)\n",
    "pred_test=rf.predict(x_test)\n",
    "rf_acc_train=round(r2_score(y_train,pred_train)*100,1)\n",
    "rf_acc_test=round(r2_score(y_test,pred_test)*100,1)\n",
    "print(\"\\ntrain accuracy-\",rf_acc_train)\n",
    "print(\"\\ntest accuracy-\",rf_acc_test)"
   ]
  },
  {
   "cell_type": "markdown",
   "id": "7a611d0f",
   "metadata": {},
   "source": [
    "## Cross validation score"
   ]
  },
  {
   "cell_type": "code",
   "execution_count": 253,
   "id": "d51d6134",
   "metadata": {},
   "outputs": [
    {
     "name": "stdout",
     "output_type": "stream",
     "text": [
      "\n",
      "\n",
      "At cv- 4\n",
      "\n",
      " cross validation score is- 40.26223693774696\n",
      "\n",
      " Accuracy score is- 5510.0\n",
      "\n",
      "\n",
      "At cv- 5\n",
      "\n",
      " cross validation score is- 41.09049154905242\n",
      "\n",
      " Accuracy score is- 5510.0\n",
      "\n",
      "\n",
      "At cv- 6\n",
      "\n",
      " cross validation score is- 40.83245603085543\n",
      "\n",
      " Accuracy score is- 5510.0\n",
      "\n",
      "\n",
      "At cv- 7\n",
      "\n",
      " cross validation score is- 43.28500530173161\n",
      "\n",
      " Accuracy score is- 5510.0\n",
      "\n",
      "\n",
      "At cv- 8\n",
      "\n",
      " cross validation score is- 37.45822836475205\n",
      "\n",
      " Accuracy score is- 5510.0\n",
      "\n",
      "\n",
      "At cv- 9\n",
      "\n",
      " cross validation score is- 41.0069900512812\n",
      "\n",
      " Accuracy score is- 5510.0\n",
      "\n",
      "\n",
      "At cv- 10\n",
      "\n",
      " cross validation score is- 35.52849483538717\n",
      "\n",
      " Accuracy score is- 5510.0\n",
      "\n",
      "\n",
      "At cv- 11\n",
      "\n",
      " cross validation score is- 37.377640852874414\n",
      "\n",
      " Accuracy score is- 5510.0\n",
      "\n",
      "\n",
      "At cv- 12\n",
      "\n",
      " cross validation score is- 37.97246831545262\n",
      "\n",
      " Accuracy score is- 5510.0\n",
      "\n",
      "\n",
      "At cv- 13\n",
      "\n",
      " cross validation score is- 33.98829008132612\n",
      "\n",
      " Accuracy score is- 5510.0\n",
      "\n",
      "\n",
      "At cv- 14\n",
      "\n",
      " cross validation score is- 38.315524802060786\n",
      "\n",
      " Accuracy score is- 5510.0\n"
     ]
    }
   ],
   "source": [
    "for i in range(4,15):\n",
    "    cv_score=cross_val_score(rf,principle_x,y,cv=i)\n",
    "    cv_mean=cv_score.mean()\n",
    "    print(\"\\n\\nAt cv-\",i)\n",
    "    print(\"\\n cross validation score is-\",cv_mean*100)\n",
    "    print(\"\\n Accuracy score is-\",rf_acc_test)"
   ]
  },
  {
   "cell_type": "markdown",
   "id": "3c0b3f80",
   "metadata": {},
   "source": [
    "So we are getting the least difference between cross_val_score and accuracy score at cv=7"
   ]
  },
  {
   "cell_type": "code",
   "execution_count": 254,
   "id": "a52c083a",
   "metadata": {},
   "outputs": [
    {
     "name": "stdout",
     "output_type": "stream",
     "text": [
      "cross validation score is- 43.827051871450266\n",
      "accuracy score for support vector classifier model is- 55.1\n"
     ]
    }
   ],
   "source": [
    "cv_score_best=cross_val_score(rf,principle_x,y,cv=7).mean()*100\n",
    "print(\"cross validation score is-\",cv_score_best)\n",
    "print(\"accuracy score for random forest regressor model is-\",rf_acc_test)"
   ]
  },
  {
   "cell_type": "markdown",
   "id": "70dce0f2",
   "metadata": {},
   "source": [
    "Looking at the above models the best performing model is support vector regressor model so now we will try to improve accuracy by hyperparameter tuning."
   ]
  },
  {
   "cell_type": "markdown",
   "id": "75ab70ac",
   "metadata": {},
   "source": [
    "## Hyperparameter Tuning on SVR"
   ]
  },
  {
   "cell_type": "code",
   "execution_count": 40,
   "id": "d80d035c",
   "metadata": {},
   "outputs": [],
   "source": [
    "from sklearn.model_selection import GridSearchCV\n"
   ]
  },
  {
   "cell_type": "code",
   "execution_count": 41,
   "id": "368d9346",
   "metadata": {},
   "outputs": [],
   "source": [
    "param_grid={'kernel':['rbf','sigmoid'],\n",
    "           'C':[0.1,1.0,10],\n",
    "           'gamma':[0.01,0.1,1.0]}"
   ]
  },
  {
   "cell_type": "code",
   "execution_count": null,
   "id": "37ca0c98",
   "metadata": {},
   "outputs": [],
   "source": [
    "gridsearch=GridSearchCV(sm,param_grid)\n",
    "gridsearch.fit(x_train,y_train)"
   ]
  },
  {
   "cell_type": "code",
   "execution_count": null,
   "id": "22a2e72d",
   "metadata": {},
   "outputs": [],
   "source": [
    "gridsearch.best_params_"
   ]
  },
  {
   "cell_type": "code",
   "execution_count": null,
   "id": "d8ef5ff9",
   "metadata": {},
   "outputs": [],
   "source": [
    "sm=svm.SVR(kernel='rbf',C=1,gamma=1.0)\n",
    "sm.fit(x_train,y_train)"
   ]
  },
  {
   "cell_type": "code",
   "execution_count": 36,
   "id": "8abc1bf7",
   "metadata": {},
   "outputs": [],
   "source": [
    "sm_pred_train=sm.predict(x_train)\n",
    "sm_pred_test=sm.predict(x_test)"
   ]
  },
  {
   "cell_type": "code",
   "execution_count": null,
   "id": "d0cd61af",
   "metadata": {},
   "outputs": [],
   "source": [
    "sm_acc_train=r2_score(y_train,sm_pred_train)\n",
    "sm_acc_test=r2_score(y_test,sm_pred_test)\n",
    "print(\"acc train\",sm_acc_train*100)\n",
    "print(\"acc test\",sm_acc_test*100)"
   ]
  },
  {
   "cell_type": "markdown",
   "id": "05236456",
   "metadata": {},
   "source": [
    "## Cross Validation score"
   ]
  },
  {
   "cell_type": "code",
   "execution_count": null,
   "id": "683f6974",
   "metadata": {},
   "outputs": [],
   "source": [
    "for i in range(4,15):\n",
    "    cv_score=cross_val_score(sm,principle_x,y,cv=i)\n",
    "    cv_mean=cv_score.mean()\n",
    "    print(\"\\n\\nAt cv-\",i)\n",
    "    print(\"\\n cross validation score is-\",cv_mean*100)\n",
    "    print(\"\\n Accuracy score is-\",sm_acc_test*100)"
   ]
  },
  {
   "cell_type": "markdown",
   "id": "19eb3c2b",
   "metadata": {},
   "source": [
    "So we are getting the least difference between cross_val_score and accuracy score at cv=7"
   ]
  },
  {
   "cell_type": "code",
   "execution_count": null,
   "id": "1aa6d923",
   "metadata": {},
   "outputs": [],
   "source": [
    "cv_score_best=cross_val_score(sm,principle_x,y,cv=7).mean()*100\n",
    "print(\"cross validation score is-\",cv_score_best)\n",
    "print(\"accuracy score for support vector regressor model is-\",sm_acc_test*100)"
   ]
  },
  {
   "cell_type": "markdown",
   "id": "572cc4dc",
   "metadata": {},
   "source": [
    "## Model Saving"
   ]
  },
  {
   "cell_type": "code",
   "execution_count": null,
   "id": "58af9fe7",
   "metadata": {},
   "outputs": [],
   "source": [
    "import pickle\n",
    "filename = 'finalized_model.pkl'\n",
    "pickle.dump(sm, open(filename, 'wb'))\n",
    " "
   ]
  }
 ],
 "metadata": {
  "kernelspec": {
   "display_name": "Python 3 (ipykernel)",
   "language": "python",
   "name": "python3"
  },
  "language_info": {
   "codemirror_mode": {
    "name": "ipython",
    "version": 3
   },
   "file_extension": ".py",
   "mimetype": "text/x-python",
   "name": "python",
   "nbconvert_exporter": "python",
   "pygments_lexer": "ipython3",
   "version": "3.9.7"
  }
 },
 "nbformat": 4,
 "nbformat_minor": 5
}
