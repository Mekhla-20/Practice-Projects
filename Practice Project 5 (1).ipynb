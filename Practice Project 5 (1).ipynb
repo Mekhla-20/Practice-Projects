{
 "cells": [
  {
   "cell_type": "code",
   "execution_count": 2,
   "id": "38b79b4f",
   "metadata": {},
   "outputs": [],
   "source": [
    "import pandas as pd\n",
    "import matplotlib.pyplot as plt\n",
    "import seaborn as sns\n",
    "import numpy as np\n",
    "from scipy.stats import zscore\n",
    "from sklearn.preprocessing import power_transform\n",
    "from sklearn.preprocessing import StandardScaler\n",
    "from sklearn.model_selection import train_test_split\n",
    "from sklearn.model_selection import cross_val_score\n",
    "from sklearn.model_selection import GridSearchCV\n",
    "from sklearn.preprocessing import OrdinalEncoder\n",
    "from sklearn.metrics import accuracy_score\n",
    "import warnings\n",
    "warnings.filterwarnings('ignore')"
   ]
  },
  {
   "cell_type": "code",
   "execution_count": 3,
   "id": "2d96b37f",
   "metadata": {},
   "outputs": [
    {
     "data": {
      "text/html": [
       "<div>\n",
       "<style scoped>\n",
       "    .dataframe tbody tr th:only-of-type {\n",
       "        vertical-align: middle;\n",
       "    }\n",
       "\n",
       "    .dataframe tbody tr th {\n",
       "        vertical-align: top;\n",
       "    }\n",
       "\n",
       "    .dataframe thead th {\n",
       "        text-align: right;\n",
       "    }\n",
       "</style>\n",
       "<table border=\"1\" class=\"dataframe\">\n",
       "  <thead>\n",
       "    <tr style=\"text-align: right;\">\n",
       "      <th></th>\n",
       "      <th>PassengerId</th>\n",
       "      <th>Survived</th>\n",
       "      <th>Pclass</th>\n",
       "      <th>Name</th>\n",
       "      <th>Sex</th>\n",
       "      <th>Age</th>\n",
       "      <th>SibSp</th>\n",
       "      <th>Parch</th>\n",
       "      <th>Ticket</th>\n",
       "      <th>Fare</th>\n",
       "      <th>Cabin</th>\n",
       "      <th>Embarked</th>\n",
       "    </tr>\n",
       "  </thead>\n",
       "  <tbody>\n",
       "    <tr>\n",
       "      <th>0</th>\n",
       "      <td>1</td>\n",
       "      <td>0</td>\n",
       "      <td>3</td>\n",
       "      <td>Braund, Mr. Owen Harris</td>\n",
       "      <td>male</td>\n",
       "      <td>22.0</td>\n",
       "      <td>1</td>\n",
       "      <td>0</td>\n",
       "      <td>A/5 21171</td>\n",
       "      <td>7.2500</td>\n",
       "      <td>NaN</td>\n",
       "      <td>S</td>\n",
       "    </tr>\n",
       "    <tr>\n",
       "      <th>1</th>\n",
       "      <td>2</td>\n",
       "      <td>1</td>\n",
       "      <td>1</td>\n",
       "      <td>Cumings, Mrs. John Bradley (Florence Briggs Th...</td>\n",
       "      <td>female</td>\n",
       "      <td>38.0</td>\n",
       "      <td>1</td>\n",
       "      <td>0</td>\n",
       "      <td>PC 17599</td>\n",
       "      <td>71.2833</td>\n",
       "      <td>C85</td>\n",
       "      <td>C</td>\n",
       "    </tr>\n",
       "    <tr>\n",
       "      <th>2</th>\n",
       "      <td>3</td>\n",
       "      <td>1</td>\n",
       "      <td>3</td>\n",
       "      <td>Heikkinen, Miss. Laina</td>\n",
       "      <td>female</td>\n",
       "      <td>26.0</td>\n",
       "      <td>0</td>\n",
       "      <td>0</td>\n",
       "      <td>STON/O2. 3101282</td>\n",
       "      <td>7.9250</td>\n",
       "      <td>NaN</td>\n",
       "      <td>S</td>\n",
       "    </tr>\n",
       "    <tr>\n",
       "      <th>3</th>\n",
       "      <td>4</td>\n",
       "      <td>1</td>\n",
       "      <td>1</td>\n",
       "      <td>Futrelle, Mrs. Jacques Heath (Lily May Peel)</td>\n",
       "      <td>female</td>\n",
       "      <td>35.0</td>\n",
       "      <td>1</td>\n",
       "      <td>0</td>\n",
       "      <td>113803</td>\n",
       "      <td>53.1000</td>\n",
       "      <td>C123</td>\n",
       "      <td>S</td>\n",
       "    </tr>\n",
       "    <tr>\n",
       "      <th>4</th>\n",
       "      <td>5</td>\n",
       "      <td>0</td>\n",
       "      <td>3</td>\n",
       "      <td>Allen, Mr. William Henry</td>\n",
       "      <td>male</td>\n",
       "      <td>35.0</td>\n",
       "      <td>0</td>\n",
       "      <td>0</td>\n",
       "      <td>373450</td>\n",
       "      <td>8.0500</td>\n",
       "      <td>NaN</td>\n",
       "      <td>S</td>\n",
       "    </tr>\n",
       "  </tbody>\n",
       "</table>\n",
       "</div>"
      ],
      "text/plain": [
       "   PassengerId  Survived  Pclass  \\\n",
       "0            1         0       3   \n",
       "1            2         1       1   \n",
       "2            3         1       3   \n",
       "3            4         1       1   \n",
       "4            5         0       3   \n",
       "\n",
       "                                                Name     Sex   Age  SibSp  \\\n",
       "0                            Braund, Mr. Owen Harris    male  22.0      1   \n",
       "1  Cumings, Mrs. John Bradley (Florence Briggs Th...  female  38.0      1   \n",
       "2                             Heikkinen, Miss. Laina  female  26.0      0   \n",
       "3       Futrelle, Mrs. Jacques Heath (Lily May Peel)  female  35.0      1   \n",
       "4                           Allen, Mr. William Henry    male  35.0      0   \n",
       "\n",
       "   Parch            Ticket     Fare Cabin Embarked  \n",
       "0      0         A/5 21171   7.2500   NaN        S  \n",
       "1      0          PC 17599  71.2833   C85        C  \n",
       "2      0  STON/O2. 3101282   7.9250   NaN        S  \n",
       "3      0            113803  53.1000  C123        S  \n",
       "4      0            373450   8.0500   NaN        S  "
      ]
     },
     "execution_count": 3,
     "metadata": {},
     "output_type": "execute_result"
    }
   ],
   "source": [
    "df=pd.read_csv(\"https://raw.githubusercontent.com/dsrscientist/dataset1/master/titanic_train.csv\")\n",
    "df.head()"
   ]
  },
  {
   "cell_type": "code",
   "execution_count": 4,
   "id": "dfcc71d0",
   "metadata": {},
   "outputs": [
    {
     "data": {
      "text/plain": [
       "(891, 12)"
      ]
     },
     "execution_count": 4,
     "metadata": {},
     "output_type": "execute_result"
    }
   ],
   "source": [
    "df.shape"
   ]
  },
  {
   "cell_type": "code",
   "execution_count": 5,
   "id": "b2199a38",
   "metadata": {},
   "outputs": [
    {
     "data": {
      "text/plain": [
       "PassengerId      int64\n",
       "Survived         int64\n",
       "Pclass           int64\n",
       "Name            object\n",
       "Sex             object\n",
       "Age            float64\n",
       "SibSp            int64\n",
       "Parch            int64\n",
       "Ticket          object\n",
       "Fare           float64\n",
       "Cabin           object\n",
       "Embarked        object\n",
       "dtype: object"
      ]
     },
     "execution_count": 5,
     "metadata": {},
     "output_type": "execute_result"
    }
   ],
   "source": [
    "df.dtypes"
   ]
  },
  {
   "cell_type": "code",
   "execution_count": 6,
   "id": "88231928",
   "metadata": {},
   "outputs": [
    {
     "data": {
      "text/plain": [
       "PassengerId      0\n",
       "Survived         0\n",
       "Pclass           0\n",
       "Name             0\n",
       "Sex              0\n",
       "Age            177\n",
       "SibSp            0\n",
       "Parch            0\n",
       "Ticket           0\n",
       "Fare             0\n",
       "Cabin          687\n",
       "Embarked         2\n",
       "dtype: int64"
      ]
     },
     "execution_count": 6,
     "metadata": {},
     "output_type": "execute_result"
    }
   ],
   "source": [
    "df.isna().sum()"
   ]
  },
  {
   "cell_type": "markdown",
   "id": "ae415076",
   "metadata": {},
   "source": [
    "## Treating null values"
   ]
  },
  {
   "cell_type": "code",
   "execution_count": 7,
   "id": "a858a4fa",
   "metadata": {},
   "outputs": [],
   "source": [
    "# Filling nulls in Age feature\n",
    "df['Age']=df['Age'].fillna(df.groupby('Sex')['Age'].transform('mean'))"
   ]
  },
  {
   "cell_type": "code",
   "execution_count": 8,
   "id": "852670dd",
   "metadata": {},
   "outputs": [
    {
     "data": {
      "text/plain": [
       "PassengerId      0\n",
       "Survived         0\n",
       "Pclass           0\n",
       "Name             0\n",
       "Sex              0\n",
       "Age              0\n",
       "SibSp            0\n",
       "Parch            0\n",
       "Ticket           0\n",
       "Fare             0\n",
       "Cabin          687\n",
       "Embarked         2\n",
       "dtype: int64"
      ]
     },
     "execution_count": 8,
     "metadata": {},
     "output_type": "execute_result"
    }
   ],
   "source": [
    "df.isna().sum()"
   ]
  },
  {
   "cell_type": "code",
   "execution_count": 9,
   "id": "0675d968",
   "metadata": {
    "scrolled": true
   },
   "outputs": [
    {
     "data": {
      "text/plain": [
       "n    687\n",
       "C     59\n",
       "B     47\n",
       "D     33\n",
       "E     32\n",
       "A     15\n",
       "F     13\n",
       "G      4\n",
       "T      1\n",
       "Name: Cabin, dtype: int64"
      ]
     },
     "execution_count": 9,
     "metadata": {},
     "output_type": "execute_result"
    }
   ],
   "source": [
    "# Filling nulls in Cabin feature\n",
    "df['Cabin'].value_counts()\n",
    "df['Cabin']=df['Cabin'].apply(lambda x: str(x)[0])\n",
    "df['Cabin'].value_counts()"
   ]
  },
  {
   "cell_type": "code",
   "execution_count": 10,
   "id": "2acb7798",
   "metadata": {},
   "outputs": [
    {
     "data": {
      "text/plain": [
       "0      0\n",
       "1      C\n",
       "2      0\n",
       "3      C\n",
       "4      0\n",
       "      ..\n",
       "886    0\n",
       "887    B\n",
       "888    0\n",
       "889    C\n",
       "890    0\n",
       "Name: Cabin, Length: 891, dtype: object"
      ]
     },
     "execution_count": 10,
     "metadata": {},
     "output_type": "execute_result"
    }
   ],
   "source": [
    "df['Cabin']=df['Cabin'].apply(lambda x: str(0) if (x=='n') else x)\n",
    "df['Cabin']"
   ]
  },
  {
   "cell_type": "code",
   "execution_count": 11,
   "id": "2f36307f",
   "metadata": {},
   "outputs": [
    {
     "data": {
      "text/plain": [
       "S    644\n",
       "C    168\n",
       "Q     77\n",
       "Name: Embarked, dtype: int64"
      ]
     },
     "execution_count": 11,
     "metadata": {},
     "output_type": "execute_result"
    }
   ],
   "source": [
    "# Filling nulls in Embarked feature by mode\n",
    "df['Embarked'].value_counts()"
   ]
  },
  {
   "cell_type": "code",
   "execution_count": 12,
   "id": "7465d46b",
   "metadata": {},
   "outputs": [],
   "source": [
    "df['Embarked']=df['Embarked'].fillna('S')"
   ]
  },
  {
   "cell_type": "markdown",
   "id": "cad2e4b7",
   "metadata": {},
   "source": [
    "## Analyse relation of categorical features with label"
   ]
  },
  {
   "cell_type": "code",
   "execution_count": 13,
   "id": "6bedd440",
   "metadata": {},
   "outputs": [
    {
     "data": {
      "image/png": "[encoded data removed]",
      "text/plain": [
       "<Figure size 432x288 with 1 Axes>"
      ]
     },
     "metadata": {
      "needs_background": "light"
     },
     "output_type": "display_data"
    },
    {
     "data": {
      "image/png": "[encoded data removed]",
      "text/plain": [
       "<Figure size 432x288 with 1 Axes>"
      ]
     },
     "metadata": {
      "needs_background": "light"
     },
     "output_type": "display_data"
    },
    {
     "data": {
      "image/png": "[encoded data removed]",
      "text/plain": [
       "<Figure size 432x288 with 1 Axes>"
      ]
     },
     "metadata": {
      "needs_background": "light"
     },
     "output_type": "display_data"
    },
    {
     "data": {
      "image/png": "[encoded data removed]",
      "text/plain": [
       "<Figure size 432x288 with 1 Axes>"
      ]
     },
     "metadata": {
      "needs_background": "light"
     },
     "output_type": "display_data"
    },
    {
     "data": {
      "image/png": "[encoded data removed]",
      "text/plain": [
       "<Figure size 432x288 with 1 Axes>"
      ]
     },
     "metadata": {
      "needs_background": "light"
     },
     "output_type": "display_data"
    },
    {
     "data": {
      "image/png": "[encoded data removed]",
      "text/plain": [
       "<Figure size 432x288 with 1 Axes>"
      ]
     },
     "metadata": {
      "needs_background": "light"
     },
     "output_type": "display_data"
    }
   ],
   "source": [
    "cols=['Pclass','Sex','SibSp','Parch','Cabin','Embarked']\n",
    "for i in cols:\n",
    "    sns.countplot(x=i,hue='Survived',data=df)\n",
    "    plt.xlabel(i)\n",
    "    plt.ylabel(\"number\")\n",
    "    plt.show()"
   ]
  },
  {
   "cell_type": "markdown",
   "id": "b7b2190b",
   "metadata": {},
   "source": [
    "conclusion::Passenger travelling in class 1 survived the most. Females survived more then males.Perople having sibling and a parent survived the tragedy. People travelling in cabin B has higher chance of survival and people boarded from terminal C has higher chance of survival."
   ]
  },
  {
   "cell_type": "markdown",
   "id": "0e781ea0",
   "metadata": {},
   "source": [
    "## Visualizing numerical features"
   ]
  },
  {
   "cell_type": "code",
   "execution_count": 14,
   "id": "01013c4b",
   "metadata": {
    "scrolled": true
   },
   "outputs": [
    {
     "data": {
      "image/png": "[encoded data removed]",
      "text/plain": [
       "<Figure size 432x288 with 1 Axes>"
      ]
     },
     "metadata": {
      "needs_background": "light"
     },
     "output_type": "display_data"
    },
    {
     "data": {
      "image/png": "[encoded data removed]",
      "text/plain": [
       "<Figure size 432x288 with 1 Axes>"
      ]
     },
     "metadata": {
      "needs_background": "light"
     },
     "output_type": "display_data"
    },
    {
     "data": {
      "image/png": "[encoded data removed]",
      "text/plain": [
       "<Figure size 432x288 with 1 Axes>"
      ]
     },
     "metadata": {
      "needs_background": "light"
     },
     "output_type": "display_data"
    }
   ],
   "source": [
    "col=['Age','Ticket','Fare']\n",
    "for i in col:\n",
    "    sns.scatterplot(x=i,y='Survived',data=df)\n",
    "    plt.xlabel(i)\n",
    "    plt.ylabel(\"Survived\")\n",
    "    plt.show()"
   ]
  },
  {
   "cell_type": "markdown",
   "id": "c3b3b2d5",
   "metadata": {},
   "source": [
    "## Encoding"
   ]
  },
  {
   "cell_type": "code",
   "execution_count": 15,
   "id": "27c53721",
   "metadata": {},
   "outputs": [
    {
     "data": {
      "text/html": [
       "<div>\n",
       "<style scoped>\n",
       "    .dataframe tbody tr th:only-of-type {\n",
       "        vertical-align: middle;\n",
       "    }\n",
       "\n",
       "    .dataframe tbody tr th {\n",
       "        vertical-align: top;\n",
       "    }\n",
       "\n",
       "    .dataframe thead th {\n",
       "        text-align: right;\n",
       "    }\n",
       "</style>\n",
       "<table border=\"1\" class=\"dataframe\">\n",
       "  <thead>\n",
       "    <tr style=\"text-align: right;\">\n",
       "      <th></th>\n",
       "      <th>PassengerId</th>\n",
       "      <th>Survived</th>\n",
       "      <th>Pclass</th>\n",
       "      <th>Name</th>\n",
       "      <th>Sex</th>\n",
       "      <th>Age</th>\n",
       "      <th>SibSp</th>\n",
       "      <th>Parch</th>\n",
       "      <th>Ticket</th>\n",
       "      <th>Fare</th>\n",
       "      <th>Cabin</th>\n",
       "      <th>Embarked</th>\n",
       "    </tr>\n",
       "  </thead>\n",
       "  <tbody>\n",
       "    <tr>\n",
       "      <th>0</th>\n",
       "      <td>1</td>\n",
       "      <td>0</td>\n",
       "      <td>3</td>\n",
       "      <td>Braund, Mr. Owen Harris</td>\n",
       "      <td>1.0</td>\n",
       "      <td>22.0</td>\n",
       "      <td>1</td>\n",
       "      <td>0</td>\n",
       "      <td>A/5 21171</td>\n",
       "      <td>7.2500</td>\n",
       "      <td>0.0</td>\n",
       "      <td>2.0</td>\n",
       "    </tr>\n",
       "    <tr>\n",
       "      <th>1</th>\n",
       "      <td>2</td>\n",
       "      <td>1</td>\n",
       "      <td>1</td>\n",
       "      <td>Cumings, Mrs. John Bradley (Florence Briggs Th...</td>\n",
       "      <td>0.0</td>\n",
       "      <td>38.0</td>\n",
       "      <td>1</td>\n",
       "      <td>0</td>\n",
       "      <td>PC 17599</td>\n",
       "      <td>71.2833</td>\n",
       "      <td>3.0</td>\n",
       "      <td>0.0</td>\n",
       "    </tr>\n",
       "    <tr>\n",
       "      <th>2</th>\n",
       "      <td>3</td>\n",
       "      <td>1</td>\n",
       "      <td>3</td>\n",
       "      <td>Heikkinen, Miss. Laina</td>\n",
       "      <td>0.0</td>\n",
       "      <td>26.0</td>\n",
       "      <td>0</td>\n",
       "      <td>0</td>\n",
       "      <td>STON/O2. 3101282</td>\n",
       "      <td>7.9250</td>\n",
       "      <td>0.0</td>\n",
       "      <td>2.0</td>\n",
       "    </tr>\n",
       "    <tr>\n",
       "      <th>3</th>\n",
       "      <td>4</td>\n",
       "      <td>1</td>\n",
       "      <td>1</td>\n",
       "      <td>Futrelle, Mrs. Jacques Heath (Lily May Peel)</td>\n",
       "      <td>0.0</td>\n",
       "      <td>35.0</td>\n",
       "      <td>1</td>\n",
       "      <td>0</td>\n",
       "      <td>113803</td>\n",
       "      <td>53.1000</td>\n",
       "      <td>3.0</td>\n",
       "      <td>2.0</td>\n",
       "    </tr>\n",
       "    <tr>\n",
       "      <th>4</th>\n",
       "      <td>5</td>\n",
       "      <td>0</td>\n",
       "      <td>3</td>\n",
       "      <td>Allen, Mr. William Henry</td>\n",
       "      <td>1.0</td>\n",
       "      <td>35.0</td>\n",
       "      <td>0</td>\n",
       "      <td>0</td>\n",
       "      <td>373450</td>\n",
       "      <td>8.0500</td>\n",
       "      <td>0.0</td>\n",
       "      <td>2.0</td>\n",
       "    </tr>\n",
       "  </tbody>\n",
       "</table>\n",
       "</div>"
      ],
      "text/plain": [
       "   PassengerId  Survived  Pclass  \\\n",
       "0            1         0       3   \n",
       "1            2         1       1   \n",
       "2            3         1       3   \n",
       "3            4         1       1   \n",
       "4            5         0       3   \n",
       "\n",
       "                                                Name  Sex   Age  SibSp  Parch  \\\n",
       "0                            Braund, Mr. Owen Harris  1.0  22.0      1      0   \n",
       "1  Cumings, Mrs. John Bradley (Florence Briggs Th...  0.0  38.0      1      0   \n",
       "2                             Heikkinen, Miss. Laina  0.0  26.0      0      0   \n",
       "3       Futrelle, Mrs. Jacques Heath (Lily May Peel)  0.0  35.0      1      0   \n",
       "4                           Allen, Mr. William Henry  1.0  35.0      0      0   \n",
       "\n",
       "             Ticket     Fare  Cabin  Embarked  \n",
       "0         A/5 21171   7.2500    0.0       2.0  \n",
       "1          PC 17599  71.2833    3.0       0.0  \n",
       "2  STON/O2. 3101282   7.9250    0.0       2.0  \n",
       "3            113803  53.1000    3.0       2.0  \n",
       "4            373450   8.0500    0.0       2.0  "
      ]
     },
     "execution_count": 15,
     "metadata": {},
     "output_type": "execute_result"
    }
   ],
   "source": [
    "# encoding sex\n",
    "oe=OrdinalEncoder()\n",
    "df1=oe.fit_transform(df[['Sex']])\n",
    "df['Sex']=df1\n",
    "df2=oe.fit_transform(df[['Cabin']])\n",
    "df['Cabin']=df2\n",
    "df3=oe.fit_transform(df[['Embarked']])\n",
    "df['Embarked']=df3\n",
    "df.head()"
   ]
  },
  {
   "cell_type": "markdown",
   "id": "f0f7ea51",
   "metadata": {},
   "source": [
    "conclusion:: Most of the people below the 40 years survived and higher the fare higher the chances of survival."
   ]
  },
  {
   "cell_type": "markdown",
   "id": "f50cec03",
   "metadata": {},
   "source": [
    "## Finding correlation "
   ]
  },
  {
   "cell_type": "code",
   "execution_count": 16,
   "id": "ff555015",
   "metadata": {},
   "outputs": [
    {
     "data": {
      "text/html": [
       "<div>\n",
       "<style scoped>\n",
       "    .dataframe tbody tr th:only-of-type {\n",
       "        vertical-align: middle;\n",
       "    }\n",
       "\n",
       "    .dataframe tbody tr th {\n",
       "        vertical-align: top;\n",
       "    }\n",
       "\n",
       "    .dataframe thead th {\n",
       "        text-align: right;\n",
       "    }\n",
       "</style>\n",
       "<table border=\"1\" class=\"dataframe\">\n",
       "  <thead>\n",
       "    <tr style=\"text-align: right;\">\n",
       "      <th></th>\n",
       "      <th>PassengerId</th>\n",
       "      <th>Survived</th>\n",
       "      <th>Pclass</th>\n",
       "      <th>Sex</th>\n",
       "      <th>Age</th>\n",
       "      <th>SibSp</th>\n",
       "      <th>Parch</th>\n",
       "      <th>Fare</th>\n",
       "      <th>Cabin</th>\n",
       "      <th>Embarked</th>\n",
       "    </tr>\n",
       "  </thead>\n",
       "  <tbody>\n",
       "    <tr>\n",
       "      <th>PassengerId</th>\n",
       "      <td>1.000000</td>\n",
       "      <td>0.005007</td>\n",
       "      <td>0.035144</td>\n",
       "      <td>0.042939</td>\n",
       "      <td>0.035543</td>\n",
       "      <td>0.057527</td>\n",
       "      <td>0.001652</td>\n",
       "      <td>0.012658</td>\n",
       "      <td>0.000483</td>\n",
       "      <td>0.013128</td>\n",
       "    </tr>\n",
       "    <tr>\n",
       "      <th>Survived</th>\n",
       "      <td>0.005007</td>\n",
       "      <td>1.000000</td>\n",
       "      <td>0.338481</td>\n",
       "      <td>0.543351</td>\n",
       "      <td>0.080453</td>\n",
       "      <td>0.035322</td>\n",
       "      <td>0.081629</td>\n",
       "      <td>0.257307</td>\n",
       "      <td>0.287944</td>\n",
       "      <td>0.167675</td>\n",
       "    </tr>\n",
       "    <tr>\n",
       "      <th>Pclass</th>\n",
       "      <td>0.035144</td>\n",
       "      <td>0.338481</td>\n",
       "      <td>1.000000</td>\n",
       "      <td>0.131900</td>\n",
       "      <td>0.330391</td>\n",
       "      <td>0.083081</td>\n",
       "      <td>0.018443</td>\n",
       "      <td>0.549500</td>\n",
       "      <td>0.570691</td>\n",
       "      <td>0.162098</td>\n",
       "    </tr>\n",
       "    <tr>\n",
       "      <th>Sex</th>\n",
       "      <td>0.042939</td>\n",
       "      <td>0.543351</td>\n",
       "      <td>0.131900</td>\n",
       "      <td>1.000000</td>\n",
       "      <td>0.103236</td>\n",
       "      <td>0.114631</td>\n",
       "      <td>0.245489</td>\n",
       "      <td>0.182333</td>\n",
       "      <td>0.143517</td>\n",
       "      <td>0.108262</td>\n",
       "    </tr>\n",
       "    <tr>\n",
       "      <th>Age</th>\n",
       "      <td>0.035543</td>\n",
       "      <td>0.080453</td>\n",
       "      <td>0.330391</td>\n",
       "      <td>0.103236</td>\n",
       "      <td>1.000000</td>\n",
       "      <td>0.236920</td>\n",
       "      <td>0.182556</td>\n",
       "      <td>0.089079</td>\n",
       "      <td>0.166653</td>\n",
       "      <td>0.024352</td>\n",
       "    </tr>\n",
       "    <tr>\n",
       "      <th>SibSp</th>\n",
       "      <td>0.057527</td>\n",
       "      <td>0.035322</td>\n",
       "      <td>0.083081</td>\n",
       "      <td>0.114631</td>\n",
       "      <td>0.236920</td>\n",
       "      <td>1.000000</td>\n",
       "      <td>0.414838</td>\n",
       "      <td>0.159651</td>\n",
       "      <td>0.031973</td>\n",
       "      <td>0.068230</td>\n",
       "    </tr>\n",
       "    <tr>\n",
       "      <th>Parch</th>\n",
       "      <td>0.001652</td>\n",
       "      <td>0.081629</td>\n",
       "      <td>0.018443</td>\n",
       "      <td>0.245489</td>\n",
       "      <td>0.182556</td>\n",
       "      <td>0.414838</td>\n",
       "      <td>1.000000</td>\n",
       "      <td>0.216225</td>\n",
       "      <td>0.037621</td>\n",
       "      <td>0.039798</td>\n",
       "    </tr>\n",
       "    <tr>\n",
       "      <th>Fare</th>\n",
       "      <td>0.012658</td>\n",
       "      <td>0.257307</td>\n",
       "      <td>0.549500</td>\n",
       "      <td>0.182333</td>\n",
       "      <td>0.089079</td>\n",
       "      <td>0.159651</td>\n",
       "      <td>0.216225</td>\n",
       "      <td>1.000000</td>\n",
       "      <td>0.337525</td>\n",
       "      <td>0.224719</td>\n",
       "    </tr>\n",
       "    <tr>\n",
       "      <th>Cabin</th>\n",
       "      <td>0.000483</td>\n",
       "      <td>0.287944</td>\n",
       "      <td>0.570691</td>\n",
       "      <td>0.143517</td>\n",
       "      <td>0.166653</td>\n",
       "      <td>0.031973</td>\n",
       "      <td>0.037621</td>\n",
       "      <td>0.337525</td>\n",
       "      <td>1.000000</td>\n",
       "      <td>0.080523</td>\n",
       "    </tr>\n",
       "    <tr>\n",
       "      <th>Embarked</th>\n",
       "      <td>0.013128</td>\n",
       "      <td>0.167675</td>\n",
       "      <td>0.162098</td>\n",
       "      <td>0.108262</td>\n",
       "      <td>0.024352</td>\n",
       "      <td>0.068230</td>\n",
       "      <td>0.039798</td>\n",
       "      <td>0.224719</td>\n",
       "      <td>0.080523</td>\n",
       "      <td>1.000000</td>\n",
       "    </tr>\n",
       "  </tbody>\n",
       "</table>\n",
       "</div>"
      ],
      "text/plain": [
       "             PassengerId  Survived    Pclass       Sex       Age     SibSp  \\\n",
       "PassengerId     1.000000  0.005007  0.035144  0.042939  0.035543  0.057527   \n",
       "Survived        0.005007  1.000000  0.338481  0.543351  0.080453  0.035322   \n",
       "Pclass          0.035144  0.338481  1.000000  0.131900  0.330391  0.083081   \n",
       "Sex             0.042939  0.543351  0.131900  1.000000  0.103236  0.114631   \n",
       "Age             0.035543  0.080453  0.330391  0.103236  1.000000  0.236920   \n",
       "SibSp           0.057527  0.035322  0.083081  0.114631  0.236920  1.000000   \n",
       "Parch           0.001652  0.081629  0.018443  0.245489  0.182556  0.414838   \n",
       "Fare            0.012658  0.257307  0.549500  0.182333  0.089079  0.159651   \n",
       "Cabin           0.000483  0.287944  0.570691  0.143517  0.166653  0.031973   \n",
       "Embarked        0.013128  0.167675  0.162098  0.108262  0.024352  0.068230   \n",
       "\n",
       "                Parch      Fare     Cabin  Embarked  \n",
       "PassengerId  0.001652  0.012658  0.000483  0.013128  \n",
       "Survived     0.081629  0.257307  0.287944  0.167675  \n",
       "Pclass       0.018443  0.549500  0.570691  0.162098  \n",
       "Sex          0.245489  0.182333  0.143517  0.108262  \n",
       "Age          0.182556  0.089079  0.166653  0.024352  \n",
       "SibSp        0.414838  0.159651  0.031973  0.068230  \n",
       "Parch        1.000000  0.216225  0.037621  0.039798  \n",
       "Fare         0.216225  1.000000  0.337525  0.224719  \n",
       "Cabin        0.037621  0.337525  1.000000  0.080523  \n",
       "Embarked     0.039798  0.224719  0.080523  1.000000  "
      ]
     },
     "execution_count": 16,
     "metadata": {},
     "output_type": "execute_result"
    }
   ],
   "source": [
    "df.corr().abs()"
   ]
  },
  {
   "cell_type": "code",
   "execution_count": 17,
   "id": "cd2abd32",
   "metadata": {},
   "outputs": [
    {
     "data": {
      "text/plain": [
       "<AxesSubplot:>"
      ]
     },
     "execution_count": 17,
     "metadata": {},
     "output_type": "execute_result"
    },
    {
     "data": {
      "image/png": "[encoded data removed]",
      "text/plain": [
       "<Figure size 1440x720 with 2 Axes>"
      ]
     },
     "metadata": {
      "needs_background": "light"
     },
     "output_type": "display_data"
    }
   ],
   "source": [
    "plt.figure(figsize=(20,10))\n",
    "sns.heatmap(df.corr().abs(),annot=True,linewidth=0.5,linecolor='black',fmt='.2f')"
   ]
  },
  {
   "cell_type": "markdown",
   "id": "5da45488",
   "metadata": {},
   "source": [
    "conclusion::Multicollinearity doesnot exists."
   ]
  },
  {
   "cell_type": "markdown",
   "id": "7e33a078",
   "metadata": {},
   "source": [
    "We can simply combine SibSp and Parch column as both of them shows that passenger is either travelling alone or with family. So we will make one column out of it,"
   ]
  },
  {
   "cell_type": "code",
   "execution_count": 18,
   "id": "68e77a46",
   "metadata": {},
   "outputs": [
    {
     "data": {
      "text/html": [
       "<div>\n",
       "<style scoped>\n",
       "    .dataframe tbody tr th:only-of-type {\n",
       "        vertical-align: middle;\n",
       "    }\n",
       "\n",
       "    .dataframe tbody tr th {\n",
       "        vertical-align: top;\n",
       "    }\n",
       "\n",
       "    .dataframe thead th {\n",
       "        text-align: right;\n",
       "    }\n",
       "</style>\n",
       "<table border=\"1\" class=\"dataframe\">\n",
       "  <thead>\n",
       "    <tr style=\"text-align: right;\">\n",
       "      <th></th>\n",
       "      <th>PassengerId</th>\n",
       "      <th>Survived</th>\n",
       "      <th>Pclass</th>\n",
       "      <th>Name</th>\n",
       "      <th>Sex</th>\n",
       "      <th>Age</th>\n",
       "      <th>SibSp</th>\n",
       "      <th>Parch</th>\n",
       "      <th>Ticket</th>\n",
       "      <th>Fare</th>\n",
       "      <th>Cabin</th>\n",
       "      <th>Embarked</th>\n",
       "      <th>relation</th>\n",
       "      <th>Family</th>\n",
       "    </tr>\n",
       "  </thead>\n",
       "  <tbody>\n",
       "    <tr>\n",
       "      <th>0</th>\n",
       "      <td>1</td>\n",
       "      <td>0</td>\n",
       "      <td>3</td>\n",
       "      <td>Braund, Mr. Owen Harris</td>\n",
       "      <td>1.0</td>\n",
       "      <td>22.0</td>\n",
       "      <td>1</td>\n",
       "      <td>0</td>\n",
       "      <td>A/5 21171</td>\n",
       "      <td>7.2500</td>\n",
       "      <td>0.0</td>\n",
       "      <td>2.0</td>\n",
       "      <td>1</td>\n",
       "      <td>1.0</td>\n",
       "    </tr>\n",
       "    <tr>\n",
       "      <th>1</th>\n",
       "      <td>2</td>\n",
       "      <td>1</td>\n",
       "      <td>1</td>\n",
       "      <td>Cumings, Mrs. John Bradley (Florence Briggs Th...</td>\n",
       "      <td>0.0</td>\n",
       "      <td>38.0</td>\n",
       "      <td>1</td>\n",
       "      <td>0</td>\n",
       "      <td>PC 17599</td>\n",
       "      <td>71.2833</td>\n",
       "      <td>3.0</td>\n",
       "      <td>0.0</td>\n",
       "      <td>1</td>\n",
       "      <td>1.0</td>\n",
       "    </tr>\n",
       "    <tr>\n",
       "      <th>2</th>\n",
       "      <td>3</td>\n",
       "      <td>1</td>\n",
       "      <td>3</td>\n",
       "      <td>Heikkinen, Miss. Laina</td>\n",
       "      <td>0.0</td>\n",
       "      <td>26.0</td>\n",
       "      <td>0</td>\n",
       "      <td>0</td>\n",
       "      <td>STON/O2. 3101282</td>\n",
       "      <td>7.9250</td>\n",
       "      <td>0.0</td>\n",
       "      <td>2.0</td>\n",
       "      <td>0</td>\n",
       "      <td>0.0</td>\n",
       "    </tr>\n",
       "    <tr>\n",
       "      <th>3</th>\n",
       "      <td>4</td>\n",
       "      <td>1</td>\n",
       "      <td>1</td>\n",
       "      <td>Futrelle, Mrs. Jacques Heath (Lily May Peel)</td>\n",
       "      <td>0.0</td>\n",
       "      <td>35.0</td>\n",
       "      <td>1</td>\n",
       "      <td>0</td>\n",
       "      <td>113803</td>\n",
       "      <td>53.1000</td>\n",
       "      <td>3.0</td>\n",
       "      <td>2.0</td>\n",
       "      <td>1</td>\n",
       "      <td>1.0</td>\n",
       "    </tr>\n",
       "    <tr>\n",
       "      <th>4</th>\n",
       "      <td>5</td>\n",
       "      <td>0</td>\n",
       "      <td>3</td>\n",
       "      <td>Allen, Mr. William Henry</td>\n",
       "      <td>1.0</td>\n",
       "      <td>35.0</td>\n",
       "      <td>0</td>\n",
       "      <td>0</td>\n",
       "      <td>373450</td>\n",
       "      <td>8.0500</td>\n",
       "      <td>0.0</td>\n",
       "      <td>2.0</td>\n",
       "      <td>0</td>\n",
       "      <td>0.0</td>\n",
       "    </tr>\n",
       "  </tbody>\n",
       "</table>\n",
       "</div>"
      ],
      "text/plain": [
       "   PassengerId  Survived  Pclass  \\\n",
       "0            1         0       3   \n",
       "1            2         1       1   \n",
       "2            3         1       3   \n",
       "3            4         1       1   \n",
       "4            5         0       3   \n",
       "\n",
       "                                                Name  Sex   Age  SibSp  Parch  \\\n",
       "0                            Braund, Mr. Owen Harris  1.0  22.0      1      0   \n",
       "1  Cumings, Mrs. John Bradley (Florence Briggs Th...  0.0  38.0      1      0   \n",
       "2                             Heikkinen, Miss. Laina  0.0  26.0      0      0   \n",
       "3       Futrelle, Mrs. Jacques Heath (Lily May Peel)  0.0  35.0      1      0   \n",
       "4                           Allen, Mr. William Henry  1.0  35.0      0      0   \n",
       "\n",
       "             Ticket     Fare  Cabin  Embarked  relation  Family  \n",
       "0         A/5 21171   7.2500    0.0       2.0         1     1.0  \n",
       "1          PC 17599  71.2833    3.0       0.0         1     1.0  \n",
       "2  STON/O2. 3101282   7.9250    0.0       2.0         0     0.0  \n",
       "3            113803  53.1000    3.0       2.0         1     1.0  \n",
       "4            373450   8.0500    0.0       2.0         0     0.0  "
      ]
     },
     "execution_count": 18,
     "metadata": {},
     "output_type": "execute_result"
    }
   ],
   "source": [
    "df['relation']=df['SibSp']+df['Parch']\n",
    "df.loc[df['relation']>0,'Family']=1\n",
    "df.loc[df['relation']==0,'Family']=0\n",
    "df['relation'].astype('int')\n",
    "df.head()"
   ]
  },
  {
   "cell_type": "markdown",
   "id": "da5dd240",
   "metadata": {},
   "source": [
    "We dont need name, ticket, SibSp,Parch now so we will drop it."
   ]
  },
  {
   "cell_type": "code",
   "execution_count": 19,
   "id": "da40a14e",
   "metadata": {},
   "outputs": [],
   "source": [
    "x=df.drop(['PassengerId','Name','Ticket','SibSp','Parch','relation','Survived'],axis=1)\n",
    "y=df['Survived']"
   ]
  },
  {
   "cell_type": "code",
   "execution_count": 20,
   "id": "3da19e7f",
   "metadata": {},
   "outputs": [
    {
     "data": {
      "text/html": [
       "<div>\n",
       "<style scoped>\n",
       "    .dataframe tbody tr th:only-of-type {\n",
       "        vertical-align: middle;\n",
       "    }\n",
       "\n",
       "    .dataframe tbody tr th {\n",
       "        vertical-align: top;\n",
       "    }\n",
       "\n",
       "    .dataframe thead th {\n",
       "        text-align: right;\n",
       "    }\n",
       "</style>\n",
       "<table border=\"1\" class=\"dataframe\">\n",
       "  <thead>\n",
       "    <tr style=\"text-align: right;\">\n",
       "      <th></th>\n",
       "      <th>Pclass</th>\n",
       "      <th>Sex</th>\n",
       "      <th>Age</th>\n",
       "      <th>Fare</th>\n",
       "      <th>Cabin</th>\n",
       "      <th>Embarked</th>\n",
       "      <th>Family</th>\n",
       "    </tr>\n",
       "  </thead>\n",
       "  <tbody>\n",
       "    <tr>\n",
       "      <th>0</th>\n",
       "      <td>3</td>\n",
       "      <td>1.0</td>\n",
       "      <td>22.0</td>\n",
       "      <td>7.2500</td>\n",
       "      <td>0.0</td>\n",
       "      <td>2.0</td>\n",
       "      <td>1.0</td>\n",
       "    </tr>\n",
       "    <tr>\n",
       "      <th>1</th>\n",
       "      <td>1</td>\n",
       "      <td>0.0</td>\n",
       "      <td>38.0</td>\n",
       "      <td>71.2833</td>\n",
       "      <td>3.0</td>\n",
       "      <td>0.0</td>\n",
       "      <td>1.0</td>\n",
       "    </tr>\n",
       "    <tr>\n",
       "      <th>2</th>\n",
       "      <td>3</td>\n",
       "      <td>0.0</td>\n",
       "      <td>26.0</td>\n",
       "      <td>7.9250</td>\n",
       "      <td>0.0</td>\n",
       "      <td>2.0</td>\n",
       "      <td>0.0</td>\n",
       "    </tr>\n",
       "    <tr>\n",
       "      <th>3</th>\n",
       "      <td>1</td>\n",
       "      <td>0.0</td>\n",
       "      <td>35.0</td>\n",
       "      <td>53.1000</td>\n",
       "      <td>3.0</td>\n",
       "      <td>2.0</td>\n",
       "      <td>1.0</td>\n",
       "    </tr>\n",
       "    <tr>\n",
       "      <th>4</th>\n",
       "      <td>3</td>\n",
       "      <td>1.0</td>\n",
       "      <td>35.0</td>\n",
       "      <td>8.0500</td>\n",
       "      <td>0.0</td>\n",
       "      <td>2.0</td>\n",
       "      <td>0.0</td>\n",
       "    </tr>\n",
       "  </tbody>\n",
       "</table>\n",
       "</div>"
      ],
      "text/plain": [
       "   Pclass  Sex   Age     Fare  Cabin  Embarked  Family\n",
       "0       3  1.0  22.0   7.2500    0.0       2.0     1.0\n",
       "1       1  0.0  38.0  71.2833    3.0       0.0     1.0\n",
       "2       3  0.0  26.0   7.9250    0.0       2.0     0.0\n",
       "3       1  0.0  35.0  53.1000    3.0       2.0     1.0\n",
       "4       3  1.0  35.0   8.0500    0.0       2.0     0.0"
      ]
     },
     "execution_count": 20,
     "metadata": {},
     "output_type": "execute_result"
    }
   ],
   "source": [
    "x.head()"
   ]
  },
  {
   "cell_type": "markdown",
   "id": "5fa2afea",
   "metadata": {},
   "source": [
    "## Checking skewness"
   ]
  },
  {
   "cell_type": "code",
   "execution_count": 21,
   "id": "8e72e96f",
   "metadata": {},
   "outputs": [
    {
     "data": {
      "text/plain": [
       "Pclass     -0.630548\n",
       "Sex        -0.618921\n",
       "Age         0.424586\n",
       "Fare        4.787317\n",
       "Cabin       1.991925\n",
       "Embarked   -1.264823\n",
       "Family      0.420431\n",
       "dtype: float64"
      ]
     },
     "execution_count": 21,
     "metadata": {},
     "output_type": "execute_result"
    }
   ],
   "source": [
    "x.skew()"
   ]
  },
  {
   "cell_type": "markdown",
   "id": "d5fcde77",
   "metadata": {},
   "source": [
    "conclusion:: Fare being continuous data is right skewed."
   ]
  },
  {
   "cell_type": "code",
   "execution_count": 22,
   "id": "877606ab",
   "metadata": {},
   "outputs": [
    {
     "data": {
      "text/plain": [
       "<AxesSubplot:xlabel='Fare', ylabel='Density'>"
      ]
     },
     "execution_count": 22,
     "metadata": {},
     "output_type": "execute_result"
    },
    {
     "data": {
      "image/png": "[encoded data removed]",
      "text/plain": [
       "<Figure size 432x288 with 1 Axes>"
      ]
     },
     "metadata": {
      "needs_background": "light"
     },
     "output_type": "display_data"
    }
   ],
   "source": [
    "#Ploting dist graph for fare\n",
    "sns.distplot(x['Fare'])"
   ]
  },
  {
   "cell_type": "markdown",
   "id": "0e899bde",
   "metadata": {},
   "source": [
    "It is highly right skewed."
   ]
  },
  {
   "cell_type": "markdown",
   "id": "3e868bd4",
   "metadata": {},
   "source": [
    "## Checking outliers"
   ]
  },
  {
   "cell_type": "code",
   "execution_count": 23,
   "id": "5d904593",
   "metadata": {},
   "outputs": [
    {
     "data": {
      "image/png": "[encoded data removed]",
      "text/plain": [
       "<Figure size 2160x6480 with 7 Axes>"
      ]
     },
     "metadata": {
      "needs_background": "light"
     },
     "output_type": "display_data"
    }
   ],
   "source": [
    "\n",
    "col=x.columns\n",
    "plt.figure(figsize=(30,90))\n",
    "for i in range(len(col)):\n",
    "    plt.subplot(20,20,i+1)\n",
    "    sns.boxplot(data=df[col[i]],color='green',orient='v')\n",
    "    plt.xlabel(col[i])\n",
    "    plt.tight_layout()"
   ]
  },
  {
   "cell_type": "markdown",
   "id": "52076ced",
   "metadata": {},
   "source": [
    "conclusion:: We could see outlier in Age and Fare feature. Cabin is a categorical feature so cannot consider it."
   ]
  },
  {
   "cell_type": "markdown",
   "id": "d46d68d5",
   "metadata": {},
   "source": [
    "## Treating outlier"
   ]
  },
  {
   "cell_type": "code",
   "execution_count": 24,
   "id": "3716c332",
   "metadata": {},
   "outputs": [
    {
     "name": "stdout",
     "output_type": "stream",
     "text": [
      "Outliers index-\n",
      " {258, 779, 527, 27, 672, 679, 299, 557, 689, 438, 311, 700, 716, 851, 341, 88, 730, 96, 737, 742, 745, 493, 116, 118, 630, 377, 380}\n",
      "\n",
      "\n",
      "Number of rows to be eliminated-\n",
      " 27\n"
     ]
    }
   ],
   "source": [
    "df_z=pd.DataFrame()\n",
    "df_z['Age']=x['Age']\n",
    "df_z['Fare']=x['Fare']\n",
    "z=np.abs(zscore(df_z))\n",
    "i=np.where(z>3)\n",
    "print(\"Outliers index-\\n\",set(i[0]))\n",
    "print(\"\\n\\nNumber of rows to be eliminated-\\n\",len(set(i[0])))"
   ]
  },
  {
   "cell_type": "code",
   "execution_count": 25,
   "id": "1ec53718",
   "metadata": {},
   "outputs": [
    {
     "name": "stdout",
     "output_type": "stream",
     "text": [
      "The data loss- 3.030303030303031 %\n"
     ]
    }
   ],
   "source": [
    "#Calculating Data Loss\n",
    "loss=((891-27)/891)*100\n",
    "print(\"The data loss-\",100-loss,\"%\")"
   ]
  },
  {
   "cell_type": "markdown",
   "id": "404484ed",
   "metadata": {},
   "source": [
    "If we drop 27 rows there will be 3% data loss which is bearable. So we will drop these rows."
   ]
  },
  {
   "cell_type": "code",
   "execution_count": 26,
   "id": "3b9d2ea7",
   "metadata": {},
   "outputs": [
    {
     "data": {
      "text/html": [
       "<div>\n",
       "<style scoped>\n",
       "    .dataframe tbody tr th:only-of-type {\n",
       "        vertical-align: middle;\n",
       "    }\n",
       "\n",
       "    .dataframe tbody tr th {\n",
       "        vertical-align: top;\n",
       "    }\n",
       "\n",
       "    .dataframe thead th {\n",
       "        text-align: right;\n",
       "    }\n",
       "</style>\n",
       "<table border=\"1\" class=\"dataframe\">\n",
       "  <thead>\n",
       "    <tr style=\"text-align: right;\">\n",
       "      <th></th>\n",
       "      <th>Pclass</th>\n",
       "      <th>Sex</th>\n",
       "      <th>Age</th>\n",
       "      <th>Fare</th>\n",
       "      <th>Cabin</th>\n",
       "      <th>Embarked</th>\n",
       "      <th>Family</th>\n",
       "    </tr>\n",
       "  </thead>\n",
       "  <tbody>\n",
       "    <tr>\n",
       "      <th>0</th>\n",
       "      <td>3</td>\n",
       "      <td>1.0</td>\n",
       "      <td>22.000000</td>\n",
       "      <td>7.2500</td>\n",
       "      <td>0.0</td>\n",
       "      <td>2.0</td>\n",
       "      <td>1.0</td>\n",
       "    </tr>\n",
       "    <tr>\n",
       "      <th>1</th>\n",
       "      <td>1</td>\n",
       "      <td>0.0</td>\n",
       "      <td>38.000000</td>\n",
       "      <td>71.2833</td>\n",
       "      <td>3.0</td>\n",
       "      <td>0.0</td>\n",
       "      <td>1.0</td>\n",
       "    </tr>\n",
       "    <tr>\n",
       "      <th>2</th>\n",
       "      <td>3</td>\n",
       "      <td>0.0</td>\n",
       "      <td>26.000000</td>\n",
       "      <td>7.9250</td>\n",
       "      <td>0.0</td>\n",
       "      <td>2.0</td>\n",
       "      <td>0.0</td>\n",
       "    </tr>\n",
       "    <tr>\n",
       "      <th>3</th>\n",
       "      <td>1</td>\n",
       "      <td>0.0</td>\n",
       "      <td>35.000000</td>\n",
       "      <td>53.1000</td>\n",
       "      <td>3.0</td>\n",
       "      <td>2.0</td>\n",
       "      <td>1.0</td>\n",
       "    </tr>\n",
       "    <tr>\n",
       "      <th>4</th>\n",
       "      <td>3</td>\n",
       "      <td>1.0</td>\n",
       "      <td>35.000000</td>\n",
       "      <td>8.0500</td>\n",
       "      <td>0.0</td>\n",
       "      <td>2.0</td>\n",
       "      <td>0.0</td>\n",
       "    </tr>\n",
       "    <tr>\n",
       "      <th>...</th>\n",
       "      <td>...</td>\n",
       "      <td>...</td>\n",
       "      <td>...</td>\n",
       "      <td>...</td>\n",
       "      <td>...</td>\n",
       "      <td>...</td>\n",
       "      <td>...</td>\n",
       "    </tr>\n",
       "    <tr>\n",
       "      <th>886</th>\n",
       "      <td>2</td>\n",
       "      <td>1.0</td>\n",
       "      <td>27.000000</td>\n",
       "      <td>13.0000</td>\n",
       "      <td>0.0</td>\n",
       "      <td>2.0</td>\n",
       "      <td>0.0</td>\n",
       "    </tr>\n",
       "    <tr>\n",
       "      <th>887</th>\n",
       "      <td>1</td>\n",
       "      <td>0.0</td>\n",
       "      <td>19.000000</td>\n",
       "      <td>30.0000</td>\n",
       "      <td>2.0</td>\n",
       "      <td>2.0</td>\n",
       "      <td>0.0</td>\n",
       "    </tr>\n",
       "    <tr>\n",
       "      <th>888</th>\n",
       "      <td>3</td>\n",
       "      <td>0.0</td>\n",
       "      <td>27.915709</td>\n",
       "      <td>23.4500</td>\n",
       "      <td>0.0</td>\n",
       "      <td>2.0</td>\n",
       "      <td>1.0</td>\n",
       "    </tr>\n",
       "    <tr>\n",
       "      <th>889</th>\n",
       "      <td>1</td>\n",
       "      <td>1.0</td>\n",
       "      <td>26.000000</td>\n",
       "      <td>30.0000</td>\n",
       "      <td>3.0</td>\n",
       "      <td>0.0</td>\n",
       "      <td>0.0</td>\n",
       "    </tr>\n",
       "    <tr>\n",
       "      <th>890</th>\n",
       "      <td>3</td>\n",
       "      <td>1.0</td>\n",
       "      <td>32.000000</td>\n",
       "      <td>7.7500</td>\n",
       "      <td>0.0</td>\n",
       "      <td>1.0</td>\n",
       "      <td>0.0</td>\n",
       "    </tr>\n",
       "  </tbody>\n",
       "</table>\n",
       "<p>864 rows × 7 columns</p>\n",
       "</div>"
      ],
      "text/plain": [
       "     Pclass  Sex        Age     Fare  Cabin  Embarked  Family\n",
       "0         3  1.0  22.000000   7.2500    0.0       2.0     1.0\n",
       "1         1  0.0  38.000000  71.2833    3.0       0.0     1.0\n",
       "2         3  0.0  26.000000   7.9250    0.0       2.0     0.0\n",
       "3         1  0.0  35.000000  53.1000    3.0       2.0     1.0\n",
       "4         3  1.0  35.000000   8.0500    0.0       2.0     0.0\n",
       "..      ...  ...        ...      ...    ...       ...     ...\n",
       "886       2  1.0  27.000000  13.0000    0.0       2.0     0.0\n",
       "887       1  0.0  19.000000  30.0000    2.0       2.0     0.0\n",
       "888       3  0.0  27.915709  23.4500    0.0       2.0     1.0\n",
       "889       1  1.0  26.000000  30.0000    3.0       0.0     0.0\n",
       "890       3  1.0  32.000000   7.7500    0.0       1.0     0.0\n",
       "\n",
       "[864 rows x 7 columns]"
      ]
     },
     "execution_count": 26,
     "metadata": {},
     "output_type": "execute_result"
    }
   ],
   "source": [
    "#removing rows with outliers\n",
    "x=x.drop(x.index[i[0]])\n",
    "x"
   ]
  },
  {
   "cell_type": "code",
   "execution_count": 27,
   "id": "e7ad4c67",
   "metadata": {},
   "outputs": [
    {
     "data": {
      "text/plain": [
       "0      0\n",
       "1      1\n",
       "2      1\n",
       "3      1\n",
       "4      0\n",
       "      ..\n",
       "886    0\n",
       "887    1\n",
       "888    0\n",
       "889    1\n",
       "890    0\n",
       "Name: Survived, Length: 864, dtype: int64"
      ]
     },
     "execution_count": 27,
     "metadata": {},
     "output_type": "execute_result"
    }
   ],
   "source": [
    "y=y.drop(y.index[i[0]])\n",
    "y"
   ]
  },
  {
   "cell_type": "markdown",
   "id": "36f828a2",
   "metadata": {},
   "source": [
    "## Treating Skewness"
   ]
  },
  {
   "cell_type": "code",
   "execution_count": 28,
   "id": "bca3805e",
   "metadata": {},
   "outputs": [
    {
     "data": {
      "text/html": [
       "<div>\n",
       "<style scoped>\n",
       "    .dataframe tbody tr th:only-of-type {\n",
       "        vertical-align: middle;\n",
       "    }\n",
       "\n",
       "    .dataframe tbody tr th {\n",
       "        vertical-align: top;\n",
       "    }\n",
       "\n",
       "    .dataframe thead th {\n",
       "        text-align: right;\n",
       "    }\n",
       "</style>\n",
       "<table border=\"1\" class=\"dataframe\">\n",
       "  <thead>\n",
       "    <tr style=\"text-align: right;\">\n",
       "      <th></th>\n",
       "      <th>Pclass</th>\n",
       "      <th>Sex</th>\n",
       "      <th>Age</th>\n",
       "      <th>Fare</th>\n",
       "      <th>Cabin</th>\n",
       "      <th>Embarked</th>\n",
       "      <th>Family</th>\n",
       "    </tr>\n",
       "  </thead>\n",
       "  <tbody>\n",
       "    <tr>\n",
       "      <th>0</th>\n",
       "      <td>3</td>\n",
       "      <td>1.0</td>\n",
       "      <td>22.0</td>\n",
       "      <td>-0.882769</td>\n",
       "      <td>0.0</td>\n",
       "      <td>2.0</td>\n",
       "      <td>1.0</td>\n",
       "    </tr>\n",
       "    <tr>\n",
       "      <th>1</th>\n",
       "      <td>1</td>\n",
       "      <td>0.0</td>\n",
       "      <td>38.0</td>\n",
       "      <td>1.529038</td>\n",
       "      <td>3.0</td>\n",
       "      <td>0.0</td>\n",
       "      <td>1.0</td>\n",
       "    </tr>\n",
       "    <tr>\n",
       "      <th>2</th>\n",
       "      <td>3</td>\n",
       "      <td>0.0</td>\n",
       "      <td>26.0</td>\n",
       "      <td>-0.792444</td>\n",
       "      <td>0.0</td>\n",
       "      <td>2.0</td>\n",
       "      <td>0.0</td>\n",
       "    </tr>\n",
       "    <tr>\n",
       "      <th>3</th>\n",
       "      <td>1</td>\n",
       "      <td>0.0</td>\n",
       "      <td>35.0</td>\n",
       "      <td>1.216581</td>\n",
       "      <td>3.0</td>\n",
       "      <td>2.0</td>\n",
       "      <td>1.0</td>\n",
       "    </tr>\n",
       "    <tr>\n",
       "      <th>4</th>\n",
       "      <td>3</td>\n",
       "      <td>1.0</td>\n",
       "      <td>35.0</td>\n",
       "      <td>-0.776493</td>\n",
       "      <td>0.0</td>\n",
       "      <td>2.0</td>\n",
       "      <td>0.0</td>\n",
       "    </tr>\n",
       "  </tbody>\n",
       "</table>\n",
       "</div>"
      ],
      "text/plain": [
       "   Pclass  Sex   Age      Fare  Cabin  Embarked  Family\n",
       "0       3  1.0  22.0 -0.882769    0.0       2.0     1.0\n",
       "1       1  0.0  38.0  1.529038    3.0       0.0     1.0\n",
       "2       3  0.0  26.0 -0.792444    0.0       2.0     0.0\n",
       "3       1  0.0  35.0  1.216581    3.0       2.0     1.0\n",
       "4       3  1.0  35.0 -0.776493    0.0       2.0     0.0"
      ]
     },
     "execution_count": 28,
     "metadata": {},
     "output_type": "execute_result"
    }
   ],
   "source": [
    "#using yeo-johnson transformation\n",
    "from sklearn.preprocessing import power_transform\n",
    "x['Fare']=power_transform(x[['Fare']],method='yeo-johnson')\n",
    "x.head()"
   ]
  },
  {
   "cell_type": "code",
   "execution_count": 29,
   "id": "b8245895",
   "metadata": {},
   "outputs": [
    {
     "data": {
      "text/plain": [
       "Pclass     -0.708375\n",
       "Sex        -0.632203\n",
       "Age         0.229679\n",
       "Fare       -0.009095\n",
       "Cabin       2.067197\n",
       "Embarked   -1.328443\n",
       "Family      0.436684\n",
       "dtype: float64"
      ]
     },
     "execution_count": 29,
     "metadata": {},
     "output_type": "execute_result"
    }
   ],
   "source": [
    "x.skew()"
   ]
  },
  {
   "cell_type": "markdown",
   "id": "8fb08c3b",
   "metadata": {},
   "source": [
    "## Standardization"
   ]
  },
  {
   "cell_type": "code",
   "execution_count": 30,
   "id": "df939cec",
   "metadata": {},
   "outputs": [
    {
     "data": {
      "text/plain": [
       "array([[ 0.8017188 ,  0.7330529 , -0.58878329, ..., -0.46930674,\n",
       "         0.57215883,  1.24144129],\n",
       "       [-1.64161469, -1.36415804,  0.69141931, ...,  1.41373206,\n",
       "        -2.00255591,  1.24144129],\n",
       "       [ 0.8017188 , -1.36415804, -0.26873264, ..., -0.46930674,\n",
       "         0.57215883, -0.80551534],\n",
       "       ...,\n",
       "       [ 0.8017188 , -1.36415804, -0.11545168, ..., -0.46930674,\n",
       "         0.57215883,  1.24144129],\n",
       "       [-1.64161469,  0.7330529 , -0.26873264, ...,  1.41373206,\n",
       "        -2.00255591, -0.80551534],\n",
       "       [ 0.8017188 ,  0.7330529 ,  0.21134334, ..., -0.46930674,\n",
       "        -0.71519854, -0.80551534]])"
      ]
     },
     "execution_count": 30,
     "metadata": {},
     "output_type": "execute_result"
    }
   ],
   "source": [
    "scaler=StandardScaler()\n",
    "x=scaler.fit_transform(x)\n",
    "x"
   ]
  },
  {
   "cell_type": "markdown",
   "id": "b9c72f5a",
   "metadata": {},
   "source": [
    "## Train test split"
   ]
  },
  {
   "cell_type": "code",
   "execution_count": 31,
   "id": "3c915f4c",
   "metadata": {},
   "outputs": [
    {
     "name": "stdout",
     "output_type": "stream",
     "text": [
      "\n",
      "\n",
      "At random state: 17\n",
      "\n",
      "Train Accuracy-  80.3\n",
      "\n",
      "Test Accuracy-  80.3\n",
      "\n",
      "\n",
      "At random state: 88\n",
      "\n",
      "Train Accuracy-  80.3\n",
      "\n",
      "Test Accuracy-  80.3\n",
      "\n",
      "\n",
      "At random state: 121\n",
      "\n",
      "Train Accuracy-  80.3\n",
      "\n",
      "Test Accuracy-  80.3\n",
      "\n",
      "\n",
      "At random state: 233\n",
      "\n",
      "Train Accuracy-  80.9\n",
      "\n",
      "Test Accuracy-  80.9\n",
      "\n",
      "\n",
      "At random state: 259\n",
      "\n",
      "Train Accuracy-  80.3\n",
      "\n",
      "Test Accuracy-  80.3\n",
      "\n",
      "\n",
      "At random state: 275\n",
      "\n",
      "Train Accuracy-  80.3\n",
      "\n",
      "Test Accuracy-  80.3\n",
      "\n",
      "\n",
      "At random state: 323\n",
      "\n",
      "Train Accuracy-  80.9\n",
      "\n",
      "Test Accuracy-  80.9\n",
      "\n",
      "\n",
      "At random state: 330\n",
      "\n",
      "Train Accuracy-  80.9\n",
      "\n",
      "Test Accuracy-  80.9\n",
      "\n",
      "\n",
      "At random state: 412\n",
      "\n",
      "Train Accuracy-  80.3\n",
      "\n",
      "Test Accuracy-  80.3\n",
      "\n",
      "\n",
      " Best accuracy at random state- 233\n"
     ]
    }
   ],
   "source": [
    "from sklearn.linear_model import LogisticRegression\n",
    "max_ac=0\n",
    "randomState=0\n",
    "lr=LogisticRegression()\n",
    "for i in range(500):\n",
    "    x_train,x_test,y_train,y_test=train_test_split(x,y,random_state=i,test_size=0.20)\n",
    "    lr.fit(x_train,y_train)\n",
    "    pred_train=lr.predict(x_train)\n",
    "    pred_test=lr.predict(x_test)\n",
    "    if round(accuracy_score(y_train,pred_train)*100,1)==round(accuracy_score(y_test,pred_test)*100,1):\n",
    "        print(\"\\n\\nAt random state:\",i)\n",
    "        print(\"\\nTrain Accuracy- \",round(accuracy_score(y_train,pred_train)*100,1))\n",
    "        print(\"\\nTest Accuracy- \",round(accuracy_score(y_test,pred_test)*100,1))\n",
    "        if round(accuracy_score(y_test,pred_test)*100,1)>max_ac:\n",
    "            randomState=i\n",
    "            max_ac=round(accuracy_score(y_test,pred_test)*100,1)\n",
    "print(\"\\n\\n Best accuracy at random state-\",randomState)"
   ]
  },
  {
   "cell_type": "markdown",
   "id": "33323587",
   "metadata": {},
   "source": [
    "## Logistic Regression"
   ]
  },
  {
   "cell_type": "code",
   "execution_count": 47,
   "id": "9f023269",
   "metadata": {},
   "outputs": [
    {
     "name": "stdout",
     "output_type": "stream",
     "text": [
      "\n",
      "Train Accuracy-  79.7\n",
      "\n",
      "Test Accuracy-  80.3\n"
     ]
    }
   ],
   "source": [
    "lr=LogisticRegression()\n",
    "x_train,x_test,y_train,y_test=train_test_split(x,y,random_state=34,test_size=0.20)\n",
    "lr.fit(x_train,y_train)\n",
    "pred_train=lr.predict(x_train)\n",
    "pred_test=lr.predict(x_test)\n",
    "train_acc=round(accuracy_score(y_train,pred_train)*100,1)\n",
    "test_acc=round(accuracy_score(y_test,pred_test)*100,1)\n",
    "print(\"\\nTrain Accuracy- \",train_acc)\n",
    "print(\"\\nTest Accuracy- \",test_acc)"
   ]
  },
  {
   "cell_type": "markdown",
   "id": "8bbea025",
   "metadata": {},
   "source": [
    "## AUC-ROC Curve"
   ]
  },
  {
   "cell_type": "code",
   "execution_count": 48,
   "id": "a43d071d",
   "metadata": {},
   "outputs": [
    {
     "data": {
      "image/png": "[encoded data removed]",
      "text/plain": [
       "<Figure size 432x288 with 1 Axes>"
      ]
     },
     "metadata": {
      "needs_background": "light"
     },
     "output_type": "display_data"
    }
   ],
   "source": [
    "from sklearn.metrics import roc_curve,auc\n",
    "fpr,tpr,thresholds=roc_curve(pred_test,y_test)\n",
    "roc_auc=auc(fpr,tpr)\n",
    "\n",
    "plt.figure()\n",
    "plt.plot(fpr,tpr,color='orange',lw=10,label=\"ROC curve (area=%0.2f)\"%roc_auc)\n",
    "plt.plot([0,1],[0,1],color='navy',lw=10,linestyle=\"--\")\n",
    "plt.xlim([0.0,1.0])\n",
    "plt.ylim([0.0,1.05])\n",
    "plt.xlabel(\"false positive rate\")\n",
    "plt.ylabel(\"true positive rate\")\n",
    "plt.title(\"reciever operating characteristics\")\n",
    "plt.legend(loc=\"lower right\")\n",
    "plt.show()"
   ]
  },
  {
   "cell_type": "markdown",
   "id": "d070bc7d",
   "metadata": {},
   "source": [
    "## Random Forest Classifier"
   ]
  },
  {
   "cell_type": "code",
   "execution_count": 49,
   "id": "f1070deb",
   "metadata": {},
   "outputs": [],
   "source": [
    "from sklearn.ensemble import RandomForestClassifier"
   ]
  },
  {
   "cell_type": "code",
   "execution_count": 50,
   "id": "85946e22",
   "metadata": {},
   "outputs": [],
   "source": [
    "rf=RandomForestClassifier()"
   ]
  },
  {
   "cell_type": "code",
   "execution_count": 35,
   "id": "f7ac8d73",
   "metadata": {},
   "outputs": [
    {
     "name": "stdout",
     "output_type": "stream",
     "text": [
      "\n",
      "\n",
      "At random state: 0\n",
      "\n",
      "Train Accuracy-  99.2\n",
      "\n",
      "Test Accuracy-  79.2\n",
      "\n",
      "\n",
      "At random state: 1\n",
      "\n",
      "Train Accuracy-  99.1\n",
      "\n",
      "Test Accuracy-  77.3\n",
      "\n",
      "\n",
      "At random state: 2\n",
      "\n",
      "Train Accuracy-  98.6\n",
      "\n",
      "Test Accuracy-  79.2\n",
      "\n",
      "\n",
      "At random state: 3\n",
      "\n",
      "Train Accuracy-  98.6\n",
      "\n",
      "Test Accuracy-  82.9\n",
      "\n",
      "\n",
      "At random state: 4\n",
      "\n",
      "Train Accuracy-  98.6\n",
      "\n",
      "Test Accuracy-  81.5\n",
      "\n",
      "\n",
      "At random state: 5\n",
      "\n",
      "Train Accuracy-  98.8\n",
      "\n",
      "Test Accuracy-  80.1\n",
      "\n",
      "\n",
      "At random state: 6\n",
      "\n",
      "Train Accuracy-  98.8\n",
      "\n",
      "Test Accuracy-  83.3\n",
      "\n",
      "\n",
      "At random state: 7\n",
      "\n",
      "Train Accuracy-  98.9\n",
      "\n",
      "Test Accuracy-  79.6\n",
      "\n",
      "\n",
      "At random state: 8\n",
      "\n",
      "Train Accuracy-  98.6\n",
      "\n",
      "Test Accuracy-  80.6\n",
      "\n",
      "\n",
      "At random state: 9\n",
      "\n",
      "Train Accuracy-  98.8\n",
      "\n",
      "Test Accuracy-  75.5\n",
      "\n",
      "\n",
      "At random state: 10\n",
      "\n",
      "Train Accuracy-  99.2\n",
      "\n",
      "Test Accuracy-  80.1\n",
      "\n",
      "\n",
      "At random state: 11\n",
      "\n",
      "Train Accuracy-  98.8\n",
      "\n",
      "Test Accuracy-  82.9\n",
      "\n",
      "\n",
      "At random state: 12\n",
      "\n",
      "Train Accuracy-  99.1\n",
      "\n",
      "Test Accuracy-  77.3\n",
      "\n",
      "\n",
      "At random state: 13\n",
      "\n",
      "Train Accuracy-  98.6\n",
      "\n",
      "Test Accuracy-  82.9\n",
      "\n",
      "\n",
      "At random state: 14\n",
      "\n",
      "Train Accuracy-  98.6\n",
      "\n",
      "Test Accuracy-  85.6\n",
      "\n",
      "\n",
      "At random state: 15\n",
      "\n",
      "Train Accuracy-  99.1\n",
      "\n",
      "Test Accuracy-  83.3\n",
      "\n",
      "\n",
      "At random state: 16\n",
      "\n",
      "Train Accuracy-  98.8\n",
      "\n",
      "Test Accuracy-  77.3\n",
      "\n",
      "\n",
      "At random state: 17\n",
      "\n",
      "Train Accuracy-  98.5\n",
      "\n",
      "Test Accuracy-  83.3\n",
      "\n",
      "\n",
      "At random state: 18\n",
      "\n",
      "Train Accuracy-  98.8\n",
      "\n",
      "Test Accuracy-  81.5\n",
      "\n",
      "\n",
      "At random state: 19\n",
      "\n",
      "Train Accuracy-  98.8\n",
      "\n",
      "Test Accuracy-  79.2\n",
      "\n",
      "\n",
      "At random state: 20\n",
      "\n",
      "Train Accuracy-  98.9\n",
      "\n",
      "Test Accuracy-  77.8\n",
      "\n",
      "\n",
      "At random state: 21\n",
      "\n",
      "Train Accuracy-  98.8\n",
      "\n",
      "Test Accuracy-  79.6\n",
      "\n",
      "\n",
      "At random state: 22\n",
      "\n",
      "Train Accuracy-  98.5\n",
      "\n",
      "Test Accuracy-  82.4\n",
      "\n",
      "\n",
      "At random state: 23\n",
      "\n",
      "Train Accuracy-  98.6\n",
      "\n",
      "Test Accuracy-  80.1\n",
      "\n",
      "\n",
      "At random state: 24\n",
      "\n",
      "Train Accuracy-  99.1\n",
      "\n",
      "Test Accuracy-  82.9\n",
      "\n",
      "\n",
      "At random state: 25\n",
      "\n",
      "Train Accuracy-  98.9\n",
      "\n",
      "Test Accuracy-  79.6\n",
      "\n",
      "\n",
      "At random state: 26\n",
      "\n",
      "Train Accuracy-  98.9\n",
      "\n",
      "Test Accuracy-  80.1\n",
      "\n",
      "\n",
      "At random state: 27\n",
      "\n",
      "Train Accuracy-  98.9\n",
      "\n",
      "Test Accuracy-  77.3\n",
      "\n",
      "\n",
      "At random state: 28\n",
      "\n",
      "Train Accuracy-  98.5\n",
      "\n",
      "Test Accuracy-  85.6\n",
      "\n",
      "\n",
      "At random state: 29\n",
      "\n",
      "Train Accuracy-  98.5\n",
      "\n",
      "Test Accuracy-  83.3\n",
      "\n",
      "\n",
      "At random state: 30\n",
      "\n",
      "Train Accuracy-  98.8\n",
      "\n",
      "Test Accuracy-  79.6\n",
      "\n",
      "\n",
      "At random state: 31\n",
      "\n",
      "Train Accuracy-  98.6\n",
      "\n",
      "Test Accuracy-  79.6\n",
      "\n",
      "\n",
      "At random state: 32\n",
      "\n",
      "Train Accuracy-  99.1\n",
      "\n",
      "Test Accuracy-  79.6\n",
      "\n",
      "\n",
      "At random state: 33\n",
      "\n",
      "Train Accuracy-  98.6\n",
      "\n",
      "Test Accuracy-  82.4\n",
      "\n",
      "\n",
      "At random state: 34\n",
      "\n",
      "Train Accuracy-  98.9\n",
      "\n",
      "Test Accuracy-  81.9\n",
      "\n",
      "\n",
      "At random state: 35\n",
      "\n",
      "Train Accuracy-  98.8\n",
      "\n",
      "Test Accuracy-  84.7\n",
      "\n",
      "\n",
      "At random state: 36\n",
      "\n",
      "Train Accuracy-  98.6\n",
      "\n",
      "Test Accuracy-  81.0\n",
      "\n",
      "\n",
      "At random state: 37\n",
      "\n",
      "Train Accuracy-  98.8\n",
      "\n",
      "Test Accuracy-  76.9\n",
      "\n",
      "\n",
      "At random state: 38\n",
      "\n",
      "Train Accuracy-  98.9\n",
      "\n",
      "Test Accuracy-  75.5\n",
      "\n",
      "\n",
      "At random state: 39\n",
      "\n",
      "Train Accuracy-  99.2\n",
      "\n",
      "Test Accuracy-  79.6\n",
      "\n",
      "\n",
      " Best accuracy at random state- 0\n"
     ]
    }
   ],
   "source": [
    "max_ac=0\n",
    "randomState=0\n",
    "\n",
    "for i in range(40):\n",
    "    x_train,x_test,y_train,y_test=train_test_split(x,y,random_state=i,test_size=0.25)\n",
    "    rf.fit(x_train,y_train)\n",
    "    pred_train=rf.predict(x_train)\n",
    "    pred_test=rf.predict(x_test)\n",
    "    \n",
    "    print(\"\\n\\nAt random state:\",i)\n",
    "    print(\"\\nTrain Accuracy- \",round(accuracy_score(y_train,pred_train)*100,1))\n",
    "    print(\"\\nTest Accuracy- \",round(accuracy_score(y_test,pred_test)*100,1))\n",
    "        \n",
    "print(\"\\n\\n Best accuracy at random state-\",randomState)"
   ]
  },
  {
   "cell_type": "code",
   "execution_count": 51,
   "id": "2bd5bd4d",
   "metadata": {},
   "outputs": [
    {
     "name": "stdout",
     "output_type": "stream",
     "text": [
      "\n",
      "Train Accuracy-  98.7\n",
      "\n",
      "Test Accuracy-  85.0\n"
     ]
    }
   ],
   "source": [
    "x_train,x_test,y_train,y_test=train_test_split(x,y,random_state=35,test_size=0.20)\n",
    "rf.fit(x_train,y_train)\n",
    "pred_train=rf.predict(x_train)\n",
    "pred_test=rf.predict(x_test)\n",
    "train_acc=round(accuracy_score(y_train,pred_train)*100,1)\n",
    "test_acc=round(accuracy_score(y_test,pred_test)*100,1)\n",
    "print(\"\\nTrain Accuracy- \",train_acc)\n",
    "print(\"\\nTest Accuracy- \",test_acc)"
   ]
  },
  {
   "cell_type": "markdown",
   "id": "ae82c7a6",
   "metadata": {},
   "source": [
    "## AUC-ROC CURVE"
   ]
  },
  {
   "cell_type": "code",
   "execution_count": 52,
   "id": "07ef175c",
   "metadata": {},
   "outputs": [
    {
     "data": {
      "image/png": "[encoded data removed]",
      "text/plain": [
       "<Figure size 432x288 with 1 Axes>"
      ]
     },
     "metadata": {
      "needs_background": "light"
     },
     "output_type": "display_data"
    }
   ],
   "source": [
    "from sklearn.metrics import roc_curve,auc\n",
    "fpr,tpr,thresholds=roc_curve(pred_test,y_test)\n",
    "roc_auc=auc(fpr,tpr)\n",
    "\n",
    "plt.figure()\n",
    "plt.plot(fpr,tpr,color='orange',lw=10,label=\"ROC curve (area=%0.2f)\"%roc_auc)\n",
    "plt.plot([0,1],[0,1],color='navy',lw=10,linestyle=\"--\")\n",
    "plt.xlim([0.0,1.0])\n",
    "plt.ylim([0.0,1.05])\n",
    "plt.xlabel(\"false positive rate\")\n",
    "plt.ylabel(\"true positive rate\")\n",
    "plt.title(\"reciever operating characteristics\")\n",
    "plt.legend(loc=\"lower right\")\n",
    "plt.show()"
   ]
  },
  {
   "cell_type": "markdown",
   "id": "a922aaf0",
   "metadata": {},
   "source": [
    "## Decision Tree classifier"
   ]
  },
  {
   "cell_type": "code",
   "execution_count": 53,
   "id": "d14303a4",
   "metadata": {},
   "outputs": [
    {
     "name": "stdout",
     "output_type": "stream",
     "text": [
      "acc train 98.7\n",
      "acc test 76.3\n"
     ]
    }
   ],
   "source": [
    "from sklearn.tree import DecisionTreeClassifier\n",
    "dt=DecisionTreeClassifier()\n",
    "dt.fit(x_train,y_train)\n",
    "dt_pred_train=dt.predict(x_train)\n",
    "dt_pred_test=dt.predict(x_test)\n",
    "dt_acc_train=round(accuracy_score(y_train,dt_pred_train)*100,1)\n",
    "dt_acc_test=round(accuracy_score(y_test,dt_pred_test)*100,1)\n",
    "print(\"acc train\",dt_acc_train)\n",
    "print(\"acc test\",dt_acc_test)"
   ]
  },
  {
   "cell_type": "markdown",
   "id": "cc125a77",
   "metadata": {},
   "source": [
    "## AUC-ROC CURVE"
   ]
  },
  {
   "cell_type": "code",
   "execution_count": 54,
   "id": "9c584468",
   "metadata": {},
   "outputs": [
    {
     "data": {
      "image/png": "[encoded data removed]",
      "text/plain": [
       "<Figure size 432x288 with 1 Axes>"
      ]
     },
     "metadata": {
      "needs_background": "light"
     },
     "output_type": "display_data"
    }
   ],
   "source": [
    "from sklearn.metrics import roc_curve,auc\n",
    "fpr,tpr,thresholds=roc_curve(dt_pred_test,y_test)\n",
    "roc_auc=auc(fpr,tpr)\n",
    "\n",
    "plt.figure()\n",
    "plt.plot(fpr,tpr,color='orange',lw=10,label=\"ROC curve (area=%0.2f)\"%roc_auc)\n",
    "plt.plot([0,1],[0,1],color='navy',lw=10,linestyle=\"--\")\n",
    "plt.xlim([0.0,1.0])\n",
    "plt.ylim([0.0,1.05])\n",
    "plt.xlabel(\"false positive rate\")\n",
    "plt.ylabel(\"true positive rate\")\n",
    "plt.title(\"reciever operating characteristics\")\n",
    "plt.legend(loc=\"lower right\")\n",
    "plt.show()"
   ]
  },
  {
   "cell_type": "markdown",
   "id": "cecc2808",
   "metadata": {},
   "source": [
    "## Knn Classifier"
   ]
  },
  {
   "cell_type": "code",
   "execution_count": 38,
   "id": "cd2dd007",
   "metadata": {},
   "outputs": [
    {
     "name": "stdout",
     "output_type": "stream",
     "text": [
      "\n",
      "\n",
      "At random state: 0\n",
      "\n",
      "Train Accuracy-  85.8\n",
      "\n",
      "Test Accuracy-  80.1\n",
      "\n",
      "\n",
      "At random state: 1\n",
      "\n",
      "Train Accuracy-  86.9\n",
      "\n",
      "Test Accuracy-  75.0\n",
      "\n",
      "\n",
      "At random state: 2\n",
      "\n",
      "Train Accuracy-  85.5\n",
      "\n",
      "Test Accuracy-  79.6\n",
      "\n",
      "\n",
      "At random state: 3\n",
      "\n",
      "Train Accuracy-  87.7\n",
      "\n",
      "Test Accuracy-  79.2\n",
      "\n",
      "\n",
      "At random state: 4\n",
      "\n",
      "Train Accuracy-  84.4\n",
      "\n",
      "Test Accuracy-  81.9\n",
      "\n",
      "\n",
      "At random state: 5\n",
      "\n",
      "Train Accuracy-  86.6\n",
      "\n",
      "Test Accuracy-  78.2\n",
      "\n",
      "\n",
      "At random state: 6\n",
      "\n",
      "Train Accuracy-  84.3\n",
      "\n",
      "Test Accuracy-  79.2\n",
      "\n",
      "\n",
      "At random state: 7\n",
      "\n",
      "Train Accuracy-  85.0\n",
      "\n",
      "Test Accuracy-  82.4\n",
      "\n",
      "\n",
      "At random state: 8\n",
      "\n",
      "Train Accuracy-  86.3\n",
      "\n",
      "Test Accuracy-  80.1\n",
      "\n",
      "\n",
      "At random state: 9\n",
      "\n",
      "Train Accuracy-  86.4\n",
      "\n",
      "Test Accuracy-  76.4\n",
      "\n",
      "\n",
      "At random state: 10\n",
      "\n",
      "Train Accuracy-  85.6\n",
      "\n",
      "Test Accuracy-  81.0\n",
      "\n",
      "\n",
      "At random state: 11\n",
      "\n",
      "Train Accuracy-  86.0\n",
      "\n",
      "Test Accuracy-  77.8\n",
      "\n",
      "\n",
      "At random state: 12\n",
      "\n",
      "Train Accuracy-  87.0\n",
      "\n",
      "Test Accuracy-  77.3\n",
      "\n",
      "\n",
      "At random state: 13\n",
      "\n",
      "Train Accuracy-  85.5\n",
      "\n",
      "Test Accuracy-  78.7\n",
      "\n",
      "\n",
      "At random state: 14\n",
      "\n",
      "Train Accuracy-  85.5\n",
      "\n",
      "Test Accuracy-  83.8\n",
      "\n",
      "\n",
      "At random state: 15\n",
      "\n",
      "Train Accuracy-  84.7\n",
      "\n",
      "Test Accuracy-  84.3\n",
      "\n",
      "\n",
      "At random state: 16\n",
      "\n",
      "Train Accuracy-  85.3\n",
      "\n",
      "Test Accuracy-  78.7\n",
      "\n",
      "\n",
      "At random state: 17\n",
      "\n",
      "Train Accuracy-  85.3\n",
      "\n",
      "Test Accuracy-  79.6\n",
      "\n",
      "\n",
      "At random state: 18\n",
      "\n",
      "Train Accuracy-  85.3\n",
      "\n",
      "Test Accuracy-  82.4\n",
      "\n",
      "\n",
      "At random state: 19\n",
      "\n",
      "Train Accuracy-  86.6\n",
      "\n",
      "Test Accuracy-  80.1\n",
      "\n",
      "\n",
      "At random state: 20\n",
      "\n",
      "Train Accuracy-  85.5\n",
      "\n",
      "Test Accuracy-  75.9\n",
      "\n",
      "\n",
      "At random state: 21\n",
      "\n",
      "Train Accuracy-  84.9\n",
      "\n",
      "Test Accuracy-  79.6\n",
      "\n",
      "\n",
      "At random state: 22\n",
      "\n",
      "Train Accuracy-  86.1\n",
      "\n",
      "Test Accuracy-  79.6\n",
      "\n",
      "\n",
      "At random state: 23\n",
      "\n",
      "Train Accuracy-  84.6\n",
      "\n",
      "Test Accuracy-  83.8\n",
      "\n",
      "\n",
      "At random state: 24\n",
      "\n",
      "Train Accuracy-  84.6\n",
      "\n",
      "Test Accuracy-  79.6\n",
      "\n",
      "\n",
      "At random state: 25\n",
      "\n",
      "Train Accuracy-  86.0\n",
      "\n",
      "Test Accuracy-  82.4\n",
      "\n",
      "\n",
      "At random state: 26\n",
      "\n",
      "Train Accuracy-  86.3\n",
      "\n",
      "Test Accuracy-  80.6\n",
      "\n",
      "\n",
      "At random state: 27\n",
      "\n",
      "Train Accuracy-  87.0\n",
      "\n",
      "Test Accuracy-  79.2\n",
      "\n",
      "\n",
      "At random state: 28\n",
      "\n",
      "Train Accuracy-  84.1\n",
      "\n",
      "Test Accuracy-  82.9\n",
      "\n",
      "\n",
      "At random state: 29\n",
      "\n",
      "Train Accuracy-  84.3\n",
      "\n",
      "Test Accuracy-  78.7\n",
      "\n",
      "\n",
      "At random state: 30\n",
      "\n",
      "Train Accuracy-  85.3\n",
      "\n",
      "Test Accuracy-  78.7\n",
      "\n",
      "\n",
      "At random state: 31\n",
      "\n",
      "Train Accuracy-  86.0\n",
      "\n",
      "Test Accuracy-  78.7\n",
      "\n",
      "\n",
      "At random state: 32\n",
      "\n",
      "Train Accuracy-  86.3\n",
      "\n",
      "Test Accuracy-  80.6\n",
      "\n",
      "\n",
      "At random state: 33\n",
      "\n",
      "Train Accuracy-  84.0\n",
      "\n",
      "Test Accuracy-  81.0\n",
      "\n",
      "\n",
      "At random state: 34\n",
      "\n",
      "Train Accuracy-  85.6\n",
      "\n",
      "Test Accuracy-  81.0\n",
      "\n",
      "\n",
      "At random state: 35\n",
      "\n",
      "Train Accuracy-  84.1\n",
      "\n",
      "Test Accuracy-  82.9\n",
      "\n",
      "\n",
      "At random state: 36\n",
      "\n",
      "Train Accuracy-  85.8\n",
      "\n",
      "Test Accuracy-  80.1\n",
      "\n",
      "\n",
      "At random state: 37\n",
      "\n",
      "Train Accuracy-  86.6\n",
      "\n",
      "Test Accuracy-  78.2\n",
      "\n",
      "\n",
      "At random state: 38\n",
      "\n",
      "Train Accuracy-  86.7\n",
      "\n",
      "Test Accuracy-  77.8\n",
      "\n",
      "\n",
      "At random state: 39\n",
      "\n",
      "Train Accuracy-  85.6\n",
      "\n",
      "Test Accuracy-  82.4\n",
      "\n",
      "\n",
      " Best accuracy at random state- 0\n"
     ]
    }
   ],
   "source": [
    "from sklearn.neighbors import KNeighborsClassifier\n",
    "max_ac=0\n",
    "randomState=0\n",
    "knn=KNeighborsClassifier()\n",
    "for i in range(40):\n",
    "    x_train,x_test,y_train,y_test=train_test_split(x,y,random_state=i,test_size=0.25)\n",
    "    knn.fit(x_train,y_train)\n",
    "    pred_train=knn.predict(x_train)\n",
    "    pred_test=knn.predict(x_test)\n",
    "    \n",
    "    print(\"\\n\\nAt random state:\",i)\n",
    "    print(\"\\nTrain Accuracy- \",round(accuracy_score(y_train,pred_train)*100,1))\n",
    "    print(\"\\nTest Accuracy- \",round(accuracy_score(y_test,pred_test)*100,1))\n",
    "        \n",
    "print(\"\\n\\n Best accuracy at random state-\",randomState)"
   ]
  },
  {
   "cell_type": "code",
   "execution_count": null,
   "id": "bee40ec8",
   "metadata": {},
   "outputs": [],
   "source": []
  },
  {
   "cell_type": "code",
   "execution_count": 55,
   "id": "495b2e23",
   "metadata": {},
   "outputs": [
    {
     "name": "stdout",
     "output_type": "stream",
     "text": [
      "\n",
      "Train Accuracy-  85.4\n",
      "\n",
      "Test Accuracy-  83.2\n"
     ]
    }
   ],
   "source": [
    "x_train,x_test,y_train,y_test=train_test_split(x,y,random_state=14,test_size=0.20)\n",
    "knn.fit(x_train,y_train)\n",
    "pred_train=knn.predict(x_train)\n",
    "pred_test=knn.predict(x_test)\n",
    "train_acc=round(accuracy_score(y_train,pred_train)*100,1)\n",
    "test_acc=round(accuracy_score(y_test,pred_test)*100,1)\n",
    "print(\"\\nTrain Accuracy- \",train_acc)\n",
    "print(\"\\nTest Accuracy- \",test_acc)"
   ]
  },
  {
   "cell_type": "markdown",
   "id": "afc9bf5c",
   "metadata": {},
   "source": [
    "## AUC-ROC CURVE"
   ]
  },
  {
   "cell_type": "code",
   "execution_count": 56,
   "id": "90239cb0",
   "metadata": {},
   "outputs": [
    {
     "data": {
      "image/png": "[encoded data removed]",
      "text/plain": [
       "<Figure size 432x288 with 1 Axes>"
      ]
     },
     "metadata": {
      "needs_background": "light"
     },
     "output_type": "display_data"
    }
   ],
   "source": [
    "from sklearn.metrics import roc_curve,auc\n",
    "fpr,tpr,thresholds=roc_curve(pred_test,y_test)\n",
    "roc_auc=auc(fpr,tpr)\n",
    "\n",
    "plt.figure()\n",
    "plt.plot(fpr,tpr,color='orange',lw=10,label=\"ROC curve (area=%0.2f)\"%roc_auc)\n",
    "plt.plot([0,1],[0,1],color='navy',lw=10,linestyle=\"--\")\n",
    "plt.xlim([0.0,1.0])\n",
    "plt.ylim([0.0,1.05])\n",
    "plt.xlabel(\"false positive rate\")\n",
    "plt.ylabel(\"true positive rate\")\n",
    "plt.title(\"reciever operating characteristics\")\n",
    "plt.legend(loc=\"lower right\")\n",
    "plt.show()"
   ]
  },
  {
   "cell_type": "markdown",
   "id": "4b794cf4",
   "metadata": {},
   "source": [
    "## Best test accuracy score is given by Randon Forest Classifier so now we will perform hyper parameter tuning on it to improve accuracy"
   ]
  },
  {
   "cell_type": "code",
   "execution_count": 40,
   "id": "9ca76cde",
   "metadata": {},
   "outputs": [
    {
     "name": "stdout",
     "output_type": "stream",
     "text": [
      "Fitting 3 folds for each of 108 candidates, totalling 324 fits\n"
     ]
    },
    {
     "data": {
      "text/plain": [
       "RandomForestClassifier(max_depth=10, max_features=6, n_estimators=200)"
      ]
     },
     "execution_count": 40,
     "metadata": {},
     "output_type": "execute_result"
    }
   ],
   "source": [
    "param_grid = {\n",
    "    \"n_estimators\":[100,200,300],\n",
    "    \"max_depth\":[10, 50, 100],\n",
    "    \"max_features\":[6,8,10,12,14,16],\n",
    "    'bootstrap': [True, False]\n",
    "}\n",
    "\n",
    "rf_reg = RandomForestClassifier()\n",
    "\n",
    "rf_reg_tuned = GridSearchCV(estimator=rf_reg,\n",
    "                            param_grid=param_grid,\n",
    "                            cv=3,\n",
    "                            n_jobs=-1,\n",
    "                            verbose=2)\n",
    "\n",
    "rf_reg_tuned.fit(x_train, y_train)\n",
    "rf_reg_tuned.best_estimator_"
   ]
  },
  {
   "cell_type": "code",
   "execution_count": 44,
   "id": "2087fb92",
   "metadata": {},
   "outputs": [
    {
     "name": "stdout",
     "output_type": "stream",
     "text": [
      "\n",
      "Train Accuracy-  95.8\n",
      "\n",
      "Test Accuracy-  86.1\n"
     ]
    }
   ],
   "source": [
    "rf=RandomForestClassifier(n_estimators=200,max_depth=10,max_features=6,bootstrap=True)\n",
    "rf.fit(x_train,y_train)\n",
    "pred_train=rf.predict(x_train)\n",
    "pred_test=rf.predict(x_test)\n",
    "train_acc=round(accuracy_score(y_train,pred_train)*100,1)\n",
    "test_acc=round(accuracy_score(y_test,pred_test)*100,1)\n",
    "print(\"\\nTrain Accuracy- \",train_acc)\n",
    "print(\"\\nTest Accuracy- \",test_acc)"
   ]
  },
  {
   "cell_type": "markdown",
   "id": "9f6cfdde",
   "metadata": {},
   "source": [
    "## Cross Validation Score"
   ]
  },
  {
   "cell_type": "code",
   "execution_count": 45,
   "id": "fb7c1d89",
   "metadata": {},
   "outputs": [
    {
     "name": "stdout",
     "output_type": "stream",
     "text": [
      "cross validation score is- 82.54079254079254\n",
      "accuracy score for random forest regression model is- 86.1\n"
     ]
    }
   ],
   "source": [
    "cv_score_best=cross_val_score(rf,x,y,cv=22).mean()*100\n",
    "print(\"cross validation score is-\",cv_score_best)\n",
    "print(\"accuracy score for random forest regression model is-\",test_acc)"
   ]
  },
  {
   "cell_type": "markdown",
   "id": "d960d497",
   "metadata": {},
   "source": [
    "## So we finalise this Random Forest Classifier Model with accuracy 86.1% and save it."
   ]
  },
  {
   "cell_type": "markdown",
   "id": "98c9ac7b",
   "metadata": {},
   "source": [
    "## Model Saving"
   ]
  },
  {
   "cell_type": "code",
   "execution_count": 43,
   "id": "24654099",
   "metadata": {},
   "outputs": [],
   "source": [
    "import pickle\n",
    "filename = 'finalized_model.pkl'\n",
    "pickle.dump(rf, open(filename, 'wb'))"
   ]
  }
 ],
 "metadata": {
  "kernelspec": {
   "display_name": "Python 3 (ipykernel)",
   "language": "python",
   "name": "python3"
  },
  "language_info": {
   "codemirror_mode": {
    "name": "ipython",
    "version": 3
   },
   "file_extension": ".py",
   "mimetype": "text/x-python",
   "name": "python",
   "nbconvert_exporter": "python",
   "pygments_lexer": "ipython3",
   "version": "3.9.7"
  }
 },
 "nbformat": 4,
 "nbformat_minor": 5
}
