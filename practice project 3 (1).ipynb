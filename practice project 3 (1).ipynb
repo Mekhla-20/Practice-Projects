{
 "cells": [
  {
   "cell_type": "code",
   "execution_count": 1,
   "id": "defff8a7",
   "metadata": {},
   "outputs": [],
   "source": [
    "import pandas as pd\n"
   ]
  },
  {
   "cell_type": "code",
   "execution_count": 2,
   "id": "f4bb6894",
   "metadata": {
    "scrolled": true
   },
   "outputs": [
    {
     "data": {
      "text/html": [
       "<div>\n",
       "<style scoped>\n",
       "    .dataframe tbody tr th:only-of-type {\n",
       "        vertical-align: middle;\n",
       "    }\n",
       "\n",
       "    .dataframe tbody tr th {\n",
       "        vertical-align: top;\n",
       "    }\n",
       "\n",
       "    .dataframe thead th {\n",
       "        text-align: right;\n",
       "    }\n",
       "</style>\n",
       "<table border=\"1\" class=\"dataframe\">\n",
       "  <thead>\n",
       "    <tr style=\"text-align: right;\">\n",
       "      <th></th>\n",
       "      <th>fixed acidity</th>\n",
       "      <th>volatile acidity</th>\n",
       "      <th>citric acid</th>\n",
       "      <th>residual sugar</th>\n",
       "      <th>chlorides</th>\n",
       "      <th>free sulfur dioxide</th>\n",
       "      <th>total sulfur dioxide</th>\n",
       "      <th>density</th>\n",
       "      <th>pH</th>\n",
       "      <th>sulphates</th>\n",
       "      <th>alcohol</th>\n",
       "      <th>quality</th>\n",
       "    </tr>\n",
       "  </thead>\n",
       "  <tbody>\n",
       "    <tr>\n",
       "      <th>0</th>\n",
       "      <td>7.4</td>\n",
       "      <td>0.70</td>\n",
       "      <td>0.00</td>\n",
       "      <td>1.9</td>\n",
       "      <td>0.076</td>\n",
       "      <td>11.0</td>\n",
       "      <td>34.0</td>\n",
       "      <td>0.9978</td>\n",
       "      <td>3.51</td>\n",
       "      <td>0.56</td>\n",
       "      <td>9.4</td>\n",
       "      <td>5</td>\n",
       "    </tr>\n",
       "    <tr>\n",
       "      <th>1</th>\n",
       "      <td>7.8</td>\n",
       "      <td>0.88</td>\n",
       "      <td>0.00</td>\n",
       "      <td>2.6</td>\n",
       "      <td>0.098</td>\n",
       "      <td>25.0</td>\n",
       "      <td>67.0</td>\n",
       "      <td>0.9968</td>\n",
       "      <td>3.20</td>\n",
       "      <td>0.68</td>\n",
       "      <td>9.8</td>\n",
       "      <td>5</td>\n",
       "    </tr>\n",
       "    <tr>\n",
       "      <th>2</th>\n",
       "      <td>7.8</td>\n",
       "      <td>0.76</td>\n",
       "      <td>0.04</td>\n",
       "      <td>2.3</td>\n",
       "      <td>0.092</td>\n",
       "      <td>15.0</td>\n",
       "      <td>54.0</td>\n",
       "      <td>0.9970</td>\n",
       "      <td>3.26</td>\n",
       "      <td>0.65</td>\n",
       "      <td>9.8</td>\n",
       "      <td>5</td>\n",
       "    </tr>\n",
       "    <tr>\n",
       "      <th>3</th>\n",
       "      <td>11.2</td>\n",
       "      <td>0.28</td>\n",
       "      <td>0.56</td>\n",
       "      <td>1.9</td>\n",
       "      <td>0.075</td>\n",
       "      <td>17.0</td>\n",
       "      <td>60.0</td>\n",
       "      <td>0.9980</td>\n",
       "      <td>3.16</td>\n",
       "      <td>0.58</td>\n",
       "      <td>9.8</td>\n",
       "      <td>6</td>\n",
       "    </tr>\n",
       "    <tr>\n",
       "      <th>4</th>\n",
       "      <td>7.4</td>\n",
       "      <td>0.70</td>\n",
       "      <td>0.00</td>\n",
       "      <td>1.9</td>\n",
       "      <td>0.076</td>\n",
       "      <td>11.0</td>\n",
       "      <td>34.0</td>\n",
       "      <td>0.9978</td>\n",
       "      <td>3.51</td>\n",
       "      <td>0.56</td>\n",
       "      <td>9.4</td>\n",
       "      <td>5</td>\n",
       "    </tr>\n",
       "  </tbody>\n",
       "</table>\n",
       "</div>"
      ],
      "text/plain": [
       "   fixed acidity  volatile acidity  citric acid  residual sugar  chlorides  \\\n",
       "0            7.4              0.70         0.00             1.9      0.076   \n",
       "1            7.8              0.88         0.00             2.6      0.098   \n",
       "2            7.8              0.76         0.04             2.3      0.092   \n",
       "3           11.2              0.28         0.56             1.9      0.075   \n",
       "4            7.4              0.70         0.00             1.9      0.076   \n",
       "\n",
       "   free sulfur dioxide  total sulfur dioxide  density    pH  sulphates  \\\n",
       "0                 11.0                  34.0   0.9978  3.51       0.56   \n",
       "1                 25.0                  67.0   0.9968  3.20       0.68   \n",
       "2                 15.0                  54.0   0.9970  3.26       0.65   \n",
       "3                 17.0                  60.0   0.9980  3.16       0.58   \n",
       "4                 11.0                  34.0   0.9978  3.51       0.56   \n",
       "\n",
       "   alcohol  quality  \n",
       "0      9.4        5  \n",
       "1      9.8        5  \n",
       "2      9.8        5  \n",
       "3      9.8        6  \n",
       "4      9.4        5  "
      ]
     },
     "execution_count": 2,
     "metadata": {},
     "output_type": "execute_result"
    }
   ],
   "source": [
    "df=pd.read_csv(\"https://raw.githubusercontent.com/dsrscientist/DSData/master/winequality-red.csv\")\n",
    "df.head()"
   ]
  },
  {
   "cell_type": "code",
   "execution_count": 3,
   "id": "546c8e83",
   "metadata": {},
   "outputs": [
    {
     "data": {
      "text/plain": [
       "(1599, 12)"
      ]
     },
     "execution_count": 3,
     "metadata": {},
     "output_type": "execute_result"
    }
   ],
   "source": [
    "df.shape"
   ]
  },
  {
   "cell_type": "markdown",
   "id": "2d0d9f46",
   "metadata": {},
   "source": [
    "# Exploratory Data Analysis"
   ]
  },
  {
   "cell_type": "code",
   "execution_count": 4,
   "id": "20d1a7d7",
   "metadata": {},
   "outputs": [
    {
     "data": {
      "text/plain": [
       "fixed acidity           0\n",
       "volatile acidity        0\n",
       "citric acid             0\n",
       "residual sugar          0\n",
       "chlorides               0\n",
       "free sulfur dioxide     0\n",
       "total sulfur dioxide    0\n",
       "density                 0\n",
       "pH                      0\n",
       "sulphates               0\n",
       "alcohol                 0\n",
       "quality                 0\n",
       "dtype: int64"
      ]
     },
     "execution_count": 4,
     "metadata": {},
     "output_type": "execute_result"
    }
   ],
   "source": [
    "#Checking null values\n",
    "df.isna().sum()"
   ]
  },
  {
   "cell_type": "markdown",
   "id": "58b6821c",
   "metadata": {},
   "source": [
    "## There are no null values present in this data set so we can proceed now.\n"
   ]
  },
  {
   "cell_type": "code",
   "execution_count": 5,
   "id": "7b055703",
   "metadata": {},
   "outputs": [
    {
     "data": {
      "text/plain": [
       "fixed acidity           float64\n",
       "volatile acidity        float64\n",
       "citric acid             float64\n",
       "residual sugar          float64\n",
       "chlorides               float64\n",
       "free sulfur dioxide     float64\n",
       "total sulfur dioxide    float64\n",
       "density                 float64\n",
       "pH                      float64\n",
       "sulphates               float64\n",
       "alcohol                 float64\n",
       "quality                   int64\n",
       "dtype: object"
      ]
     },
     "execution_count": 5,
     "metadata": {},
     "output_type": "execute_result"
    }
   ],
   "source": [
    "#checking data types of each column\n",
    "df.dtypes"
   ]
  },
  {
   "cell_type": "markdown",
   "id": "0807c17e",
   "metadata": {},
   "source": [
    "All the columns are of float data type so we can procceed with EDA"
   ]
  },
  {
   "cell_type": "code",
   "execution_count": 6,
   "id": "ff5e01f8",
   "metadata": {},
   "outputs": [
    {
     "data": {
      "text/html": [
       "<div>\n",
       "<style scoped>\n",
       "    .dataframe tbody tr th:only-of-type {\n",
       "        vertical-align: middle;\n",
       "    }\n",
       "\n",
       "    .dataframe tbody tr th {\n",
       "        vertical-align: top;\n",
       "    }\n",
       "\n",
       "    .dataframe thead th {\n",
       "        text-align: right;\n",
       "    }\n",
       "</style>\n",
       "<table border=\"1\" class=\"dataframe\">\n",
       "  <thead>\n",
       "    <tr style=\"text-align: right;\">\n",
       "      <th></th>\n",
       "      <th>fixed acidity</th>\n",
       "      <th>volatile acidity</th>\n",
       "      <th>citric acid</th>\n",
       "      <th>residual sugar</th>\n",
       "      <th>chlorides</th>\n",
       "      <th>free sulfur dioxide</th>\n",
       "      <th>total sulfur dioxide</th>\n",
       "      <th>density</th>\n",
       "      <th>pH</th>\n",
       "      <th>sulphates</th>\n",
       "      <th>alcohol</th>\n",
       "      <th>quality</th>\n",
       "    </tr>\n",
       "  </thead>\n",
       "  <tbody>\n",
       "    <tr>\n",
       "      <th>0</th>\n",
       "      <td>7.4</td>\n",
       "      <td>0.70</td>\n",
       "      <td>0.00</td>\n",
       "      <td>1.9</td>\n",
       "      <td>0.076</td>\n",
       "      <td>11.0</td>\n",
       "      <td>34.0</td>\n",
       "      <td>0.9978</td>\n",
       "      <td>3.51</td>\n",
       "      <td>0.56</td>\n",
       "      <td>9.4</td>\n",
       "      <td>0</td>\n",
       "    </tr>\n",
       "    <tr>\n",
       "      <th>1</th>\n",
       "      <td>7.8</td>\n",
       "      <td>0.88</td>\n",
       "      <td>0.00</td>\n",
       "      <td>2.6</td>\n",
       "      <td>0.098</td>\n",
       "      <td>25.0</td>\n",
       "      <td>67.0</td>\n",
       "      <td>0.9968</td>\n",
       "      <td>3.20</td>\n",
       "      <td>0.68</td>\n",
       "      <td>9.8</td>\n",
       "      <td>0</td>\n",
       "    </tr>\n",
       "    <tr>\n",
       "      <th>2</th>\n",
       "      <td>7.8</td>\n",
       "      <td>0.76</td>\n",
       "      <td>0.04</td>\n",
       "      <td>2.3</td>\n",
       "      <td>0.092</td>\n",
       "      <td>15.0</td>\n",
       "      <td>54.0</td>\n",
       "      <td>0.9970</td>\n",
       "      <td>3.26</td>\n",
       "      <td>0.65</td>\n",
       "      <td>9.8</td>\n",
       "      <td>0</td>\n",
       "    </tr>\n",
       "    <tr>\n",
       "      <th>3</th>\n",
       "      <td>11.2</td>\n",
       "      <td>0.28</td>\n",
       "      <td>0.56</td>\n",
       "      <td>1.9</td>\n",
       "      <td>0.075</td>\n",
       "      <td>17.0</td>\n",
       "      <td>60.0</td>\n",
       "      <td>0.9980</td>\n",
       "      <td>3.16</td>\n",
       "      <td>0.58</td>\n",
       "      <td>9.8</td>\n",
       "      <td>0</td>\n",
       "    </tr>\n",
       "    <tr>\n",
       "      <th>4</th>\n",
       "      <td>7.4</td>\n",
       "      <td>0.70</td>\n",
       "      <td>0.00</td>\n",
       "      <td>1.9</td>\n",
       "      <td>0.076</td>\n",
       "      <td>11.0</td>\n",
       "      <td>34.0</td>\n",
       "      <td>0.9978</td>\n",
       "      <td>3.51</td>\n",
       "      <td>0.56</td>\n",
       "      <td>9.4</td>\n",
       "      <td>0</td>\n",
       "    </tr>\n",
       "  </tbody>\n",
       "</table>\n",
       "</div>"
      ],
      "text/plain": [
       "   fixed acidity  volatile acidity  citric acid  residual sugar  chlorides  \\\n",
       "0            7.4              0.70         0.00             1.9      0.076   \n",
       "1            7.8              0.88         0.00             2.6      0.098   \n",
       "2            7.8              0.76         0.04             2.3      0.092   \n",
       "3           11.2              0.28         0.56             1.9      0.075   \n",
       "4            7.4              0.70         0.00             1.9      0.076   \n",
       "\n",
       "   free sulfur dioxide  total sulfur dioxide  density    pH  sulphates  \\\n",
       "0                 11.0                  34.0   0.9978  3.51       0.56   \n",
       "1                 25.0                  67.0   0.9968  3.20       0.68   \n",
       "2                 15.0                  54.0   0.9970  3.26       0.65   \n",
       "3                 17.0                  60.0   0.9980  3.16       0.58   \n",
       "4                 11.0                  34.0   0.9978  3.51       0.56   \n",
       "\n",
       "   alcohol  quality  \n",
       "0      9.4        0  \n",
       "1      9.8        0  \n",
       "2      9.8        0  \n",
       "3      9.8        0  \n",
       "4      9.4        0  "
      ]
     },
     "execution_count": 6,
     "metadata": {},
     "output_type": "execute_result"
    }
   ],
   "source": [
    "#Converting quality column values to 0 and 1. If quality is less then 7 then set quality to 0 and if its above or equal to 7 then set quality as 1\n",
    "df.loc[df['quality']<7,'quality'] = 0  \n",
    "df.loc[df['quality']>=7,'quality'] = 1  \n",
    "df.head()"
   ]
  },
  {
   "cell_type": "code",
   "execution_count": 7,
   "id": "0a4f9fa2",
   "metadata": {},
   "outputs": [
    {
     "data": {
      "text/plain": [
       "0    1382\n",
       "1     217\n",
       "Name: quality, dtype: int64"
      ]
     },
     "execution_count": 7,
     "metadata": {},
     "output_type": "execute_result"
    }
   ],
   "source": [
    "df['quality'].value_counts()"
   ]
  },
  {
   "cell_type": "code",
   "execution_count": 8,
   "id": "6195a662",
   "metadata": {},
   "outputs": [
    {
     "data": {
      "image/png": "[encoded data removed]",
      "text/plain": [
       "<Figure size 432x288 with 1 Axes>"
      ]
     },
     "metadata": {
      "needs_background": "light"
     },
     "output_type": "display_data"
    }
   ],
   "source": [
    "#Generating scatter plots to visualize the relationship between features and labels\n",
    "import matplotlib.pyplot as plt\n",
    "import seaborn as sns\n",
    "\n",
    "# for fixed acidity\n",
    "a=sns.scatterplot(x=df['fixed acidity'],y=df['quality'],data=df)\n",
    "plt.xlabel('fixed acidity')\n",
    "plt.ylabel('quality')\n",
    "plt.show()"
   ]
  },
  {
   "cell_type": "markdown",
   "id": "59aee90d",
   "metadata": {},
   "source": [
    "From the above scatter plot we can conclude that if the fixed acidity is greater than 13.5 then the quality of wine becomes poor."
   ]
  },
  {
   "cell_type": "code",
   "execution_count": 9,
   "id": "bf40b62e",
   "metadata": {},
   "outputs": [
    {
     "data": {
      "image/png": "[encoded data removed]",
      "text/plain": [
       "<Figure size 432x288 with 1 Axes>"
      ]
     },
     "metadata": {
      "needs_background": "light"
     },
     "output_type": "display_data"
    }
   ],
   "source": [
    "# for volatile acidity\n",
    "a=sns.scatterplot(x=df['volatile acidity'],y=df['quality'],data=df)\n",
    "plt.xlabel('volatile acidity')\n",
    "plt.ylabel('quality')\n",
    "plt.show()"
   ]
  },
  {
   "cell_type": "markdown",
   "id": "d9899a70",
   "metadata": {},
   "source": [
    "It is clearly visible that if volatile acidity is more than 1 then the quality of wine becomes poor."
   ]
  },
  {
   "cell_type": "code",
   "execution_count": 10,
   "id": "1496fa7c",
   "metadata": {},
   "outputs": [
    {
     "data": {
      "image/png": "[encoded data removed]",
      "text/plain": [
       "<Figure size 432x288 with 1 Axes>"
      ]
     },
     "metadata": {
      "needs_background": "light"
     },
     "output_type": "display_data"
    }
   ],
   "source": [
    "# for citric acid\n",
    "a=sns.scatterplot(x=df['citric acid'],y=df['quality'],data=df)\n",
    "plt.xlabel('citric acid')\n",
    "plt.ylabel('quality')\n",
    "plt.show()"
   ]
  },
  {
   "cell_type": "markdown",
   "id": "64d36a53",
   "metadata": {},
   "source": [
    "It could be seen that vaalues of citric acid hardly puta any effect on the quality of wine."
   ]
  },
  {
   "cell_type": "code",
   "execution_count": 11,
   "id": "ff2347a2",
   "metadata": {},
   "outputs": [
    {
     "data": {
      "image/png": "[encoded data removed]",
      "text/plain": [
       "<Figure size 432x288 with 1 Axes>"
      ]
     },
     "metadata": {
      "needs_background": "light"
     },
     "output_type": "display_data"
    }
   ],
   "source": [
    "# for residual sugar\n",
    "a=sns.scatterplot(x=df['residual sugar'],y=df['quality'],data=df)\n",
    "plt.xlabel('residual sugar')\n",
    "plt.ylabel('quality')\n",
    "plt.show()"
   ]
  },
  {
   "cell_type": "markdown",
   "id": "ecfd9bef",
   "metadata": {},
   "source": [
    "from the above plot we can conclude that residual sugar has negative effect on quality as value of residual sugar becomes \n",
    "greater than 7, the quality of wine becomes poor."
   ]
  },
  {
   "cell_type": "code",
   "execution_count": 12,
   "id": "84271fd4",
   "metadata": {},
   "outputs": [
    {
     "data": {
      "image/png": "[encoded data removed]",
      "text/plain": [
       "<Figure size 432x288 with 1 Axes>"
      ]
     },
     "metadata": {
      "needs_background": "light"
     },
     "output_type": "display_data"
    }
   ],
   "source": [
    "# for chlorides\n",
    "a=sns.scatterplot(x=df['chlorides'],y=df['quality'],data=df)\n",
    "plt.xlabel('chlorides')\n",
    "plt.ylabel('quality')\n",
    "plt.show()"
   ]
  },
  {
   "cell_type": "markdown",
   "id": "bfcfbbba",
   "metadata": {},
   "source": [
    "We can conclude that as the level of chloride becomes greater than 0.15 the quality of wine becomes poor."
   ]
  },
  {
   "cell_type": "code",
   "execution_count": 13,
   "id": "fe61976e",
   "metadata": {},
   "outputs": [
    {
     "data": {
      "image/png": "[encoded data removed]",
      "text/plain": [
       "<Figure size 432x288 with 1 Axes>"
      ]
     },
     "metadata": {
      "needs_background": "light"
     },
     "output_type": "display_data"
    }
   ],
   "source": [
    "# for free sulfur dioxide\n",
    "a=sns.scatterplot(x=df['free sulfur dioxide'],y=df['quality'],data=df)\n",
    "plt.xlabel('free sulfur dioxide')\n",
    "plt.ylabel('quality')\n",
    "plt.show()"
   ]
  },
  {
   "cell_type": "markdown",
   "id": "3a87c725",
   "metadata": {},
   "source": [
    "we can conclude that if level of free sulfur dioxide becomes greater than 42 then the quality of wine depreciates."
   ]
  },
  {
   "cell_type": "code",
   "execution_count": 14,
   "id": "38ef6a5f",
   "metadata": {},
   "outputs": [
    {
     "data": {
      "image/png": "[encoded data removed]",
      "text/plain": [
       "<Figure size 432x288 with 1 Axes>"
      ]
     },
     "metadata": {
      "needs_background": "light"
     },
     "output_type": "display_data"
    }
   ],
   "source": [
    "# for total sulfur dioxide\n",
    "a=sns.scatterplot(x=df['total sulfur dioxide'],y=df['quality'],data=df)\n",
    "plt.xlabel('total sulfur dioxide')\n",
    "plt.ylabel('quality')\n",
    "plt.show()"
   ]
  },
  {
   "cell_type": "markdown",
   "id": "e1194f58",
   "metadata": {},
   "source": [
    "It is very evident that if value of total sulfur dioxide is in between 120 and 170 the quality of wine is poor and once \n",
    "it becomes 280 and 290 approx quality of wine becomes good"
   ]
  },
  {
   "cell_type": "code",
   "execution_count": 15,
   "id": "2ad59079",
   "metadata": {},
   "outputs": [
    {
     "data": {
      "image/png": "[encoded data removed]",
      "text/plain": [
       "<Figure size 432x288 with 1 Axes>"
      ]
     },
     "metadata": {
      "needs_background": "light"
     },
     "output_type": "display_data"
    }
   ],
   "source": [
    "# for density\n",
    "a=sns.scatterplot(x=df['density'],y=df['quality'],data=df)\n",
    "plt.xlabel('density')\n",
    "plt.ylabel('quality')\n",
    "plt.show()"
   ]
  },
  {
   "cell_type": "markdown",
   "id": "09a9a4ac",
   "metadata": {},
   "source": [
    "We can concludwe that quality of wine is good if the density is in the range 0.993 to 1.001."
   ]
  },
  {
   "cell_type": "code",
   "execution_count": 16,
   "id": "df3efd2e",
   "metadata": {},
   "outputs": [
    {
     "data": {
      "image/png": "[encoded data removed]",
      "text/plain": [
       "<Figure size 432x288 with 1 Axes>"
      ]
     },
     "metadata": {
      "needs_background": "light"
     },
     "output_type": "display_data"
    }
   ],
   "source": [
    "# for pH\n",
    "a=sns.scatterplot(x=df['pH'],y=df['quality'],data=df)\n",
    "plt.xlabel('pH')\n",
    "plt.ylabel('quality')\n",
    "plt.show()"
   ]
  },
  {
   "cell_type": "markdown",
   "id": "4953ae78",
   "metadata": {},
   "source": [
    "Quality of wine becomes poor if pH value becomes greater than 3.65"
   ]
  },
  {
   "cell_type": "code",
   "execution_count": 17,
   "id": "1e5489e4",
   "metadata": {},
   "outputs": [
    {
     "data": {
      "image/png": "[encoded data removed]",
      "text/plain": [
       "<Figure size 432x288 with 1 Axes>"
      ]
     },
     "metadata": {
      "needs_background": "light"
     },
     "output_type": "display_data"
    }
   ],
   "source": [
    "# for sulphates\n",
    "a=sns.scatterplot(x=df['sulphates'],y=df['quality'],data=df)\n",
    "plt.xlabel('sulphates')\n",
    "plt.ylabel('quality')\n",
    "plt.show()"
   ]
  },
  {
   "cell_type": "markdown",
   "id": "619287be",
   "metadata": {},
   "source": [
    "Quality of wine is good if sulphates is in the range 0.50 to 1.20"
   ]
  },
  {
   "cell_type": "code",
   "execution_count": 18,
   "id": "def4dc2a",
   "metadata": {},
   "outputs": [
    {
     "data": {
      "image/png": "[encoded data removed]",
      "text/plain": [
       "<Figure size 432x288 with 1 Axes>"
      ]
     },
     "metadata": {
      "needs_background": "light"
     },
     "output_type": "display_data"
    }
   ],
   "source": [
    "# for alcohol\n",
    "a=sns.scatterplot(x=df['alcohol'],y=df['quality'],data=df)\n",
    "plt.xlabel('alcohol')\n",
    "plt.ylabel('quality')\n",
    "plt.show()"
   ]
  },
  {
   "cell_type": "markdown",
   "id": "36a74b10",
   "metadata": {},
   "source": [
    "quality of wine is poor if the alcohol content is less than 9.7."
   ]
  },
  {
   "cell_type": "code",
   "execution_count": 19,
   "id": "633fa416",
   "metadata": {},
   "outputs": [
    {
     "data": {
      "text/html": [
       "<div>\n",
       "<style scoped>\n",
       "    .dataframe tbody tr th:only-of-type {\n",
       "        vertical-align: middle;\n",
       "    }\n",
       "\n",
       "    .dataframe tbody tr th {\n",
       "        vertical-align: top;\n",
       "    }\n",
       "\n",
       "    .dataframe thead th {\n",
       "        text-align: right;\n",
       "    }\n",
       "</style>\n",
       "<table border=\"1\" class=\"dataframe\">\n",
       "  <thead>\n",
       "    <tr style=\"text-align: right;\">\n",
       "      <th></th>\n",
       "      <th>fixed acidity</th>\n",
       "      <th>volatile acidity</th>\n",
       "      <th>citric acid</th>\n",
       "      <th>residual sugar</th>\n",
       "      <th>chlorides</th>\n",
       "      <th>free sulfur dioxide</th>\n",
       "      <th>total sulfur dioxide</th>\n",
       "      <th>density</th>\n",
       "      <th>pH</th>\n",
       "      <th>sulphates</th>\n",
       "      <th>alcohol</th>\n",
       "      <th>quality</th>\n",
       "    </tr>\n",
       "  </thead>\n",
       "  <tbody>\n",
       "    <tr>\n",
       "      <th>count</th>\n",
       "      <td>1599.000000</td>\n",
       "      <td>1599.000000</td>\n",
       "      <td>1599.000000</td>\n",
       "      <td>1599.000000</td>\n",
       "      <td>1599.000000</td>\n",
       "      <td>1599.000000</td>\n",
       "      <td>1599.000000</td>\n",
       "      <td>1599.000000</td>\n",
       "      <td>1599.000000</td>\n",
       "      <td>1599.000000</td>\n",
       "      <td>1599.000000</td>\n",
       "      <td>1599.000000</td>\n",
       "    </tr>\n",
       "    <tr>\n",
       "      <th>mean</th>\n",
       "      <td>8.319637</td>\n",
       "      <td>0.527821</td>\n",
       "      <td>0.270976</td>\n",
       "      <td>2.538806</td>\n",
       "      <td>0.087467</td>\n",
       "      <td>15.874922</td>\n",
       "      <td>46.467792</td>\n",
       "      <td>0.996747</td>\n",
       "      <td>3.311113</td>\n",
       "      <td>0.658149</td>\n",
       "      <td>10.422983</td>\n",
       "      <td>0.135710</td>\n",
       "    </tr>\n",
       "    <tr>\n",
       "      <th>std</th>\n",
       "      <td>1.741096</td>\n",
       "      <td>0.179060</td>\n",
       "      <td>0.194801</td>\n",
       "      <td>1.409928</td>\n",
       "      <td>0.047065</td>\n",
       "      <td>10.460157</td>\n",
       "      <td>32.895324</td>\n",
       "      <td>0.001887</td>\n",
       "      <td>0.154386</td>\n",
       "      <td>0.169507</td>\n",
       "      <td>1.065668</td>\n",
       "      <td>0.342587</td>\n",
       "    </tr>\n",
       "    <tr>\n",
       "      <th>min</th>\n",
       "      <td>4.600000</td>\n",
       "      <td>0.120000</td>\n",
       "      <td>0.000000</td>\n",
       "      <td>0.900000</td>\n",
       "      <td>0.012000</td>\n",
       "      <td>1.000000</td>\n",
       "      <td>6.000000</td>\n",
       "      <td>0.990070</td>\n",
       "      <td>2.740000</td>\n",
       "      <td>0.330000</td>\n",
       "      <td>8.400000</td>\n",
       "      <td>0.000000</td>\n",
       "    </tr>\n",
       "    <tr>\n",
       "      <th>25%</th>\n",
       "      <td>7.100000</td>\n",
       "      <td>0.390000</td>\n",
       "      <td>0.090000</td>\n",
       "      <td>1.900000</td>\n",
       "      <td>0.070000</td>\n",
       "      <td>7.000000</td>\n",
       "      <td>22.000000</td>\n",
       "      <td>0.995600</td>\n",
       "      <td>3.210000</td>\n",
       "      <td>0.550000</td>\n",
       "      <td>9.500000</td>\n",
       "      <td>0.000000</td>\n",
       "    </tr>\n",
       "    <tr>\n",
       "      <th>50%</th>\n",
       "      <td>7.900000</td>\n",
       "      <td>0.520000</td>\n",
       "      <td>0.260000</td>\n",
       "      <td>2.200000</td>\n",
       "      <td>0.079000</td>\n",
       "      <td>14.000000</td>\n",
       "      <td>38.000000</td>\n",
       "      <td>0.996750</td>\n",
       "      <td>3.310000</td>\n",
       "      <td>0.620000</td>\n",
       "      <td>10.200000</td>\n",
       "      <td>0.000000</td>\n",
       "    </tr>\n",
       "    <tr>\n",
       "      <th>75%</th>\n",
       "      <td>9.200000</td>\n",
       "      <td>0.640000</td>\n",
       "      <td>0.420000</td>\n",
       "      <td>2.600000</td>\n",
       "      <td>0.090000</td>\n",
       "      <td>21.000000</td>\n",
       "      <td>62.000000</td>\n",
       "      <td>0.997835</td>\n",
       "      <td>3.400000</td>\n",
       "      <td>0.730000</td>\n",
       "      <td>11.100000</td>\n",
       "      <td>0.000000</td>\n",
       "    </tr>\n",
       "    <tr>\n",
       "      <th>max</th>\n",
       "      <td>15.900000</td>\n",
       "      <td>1.580000</td>\n",
       "      <td>1.000000</td>\n",
       "      <td>15.500000</td>\n",
       "      <td>0.611000</td>\n",
       "      <td>72.000000</td>\n",
       "      <td>289.000000</td>\n",
       "      <td>1.003690</td>\n",
       "      <td>4.010000</td>\n",
       "      <td>2.000000</td>\n",
       "      <td>14.900000</td>\n",
       "      <td>1.000000</td>\n",
       "    </tr>\n",
       "  </tbody>\n",
       "</table>\n",
       "</div>"
      ],
      "text/plain": [
       "       fixed acidity  volatile acidity  citric acid  residual sugar  \\\n",
       "count    1599.000000       1599.000000  1599.000000     1599.000000   \n",
       "mean        8.319637          0.527821     0.270976        2.538806   \n",
       "std         1.741096          0.179060     0.194801        1.409928   \n",
       "min         4.600000          0.120000     0.000000        0.900000   \n",
       "25%         7.100000          0.390000     0.090000        1.900000   \n",
       "50%         7.900000          0.520000     0.260000        2.200000   \n",
       "75%         9.200000          0.640000     0.420000        2.600000   \n",
       "max        15.900000          1.580000     1.000000       15.500000   \n",
       "\n",
       "         chlorides  free sulfur dioxide  total sulfur dioxide      density  \\\n",
       "count  1599.000000          1599.000000           1599.000000  1599.000000   \n",
       "mean      0.087467            15.874922             46.467792     0.996747   \n",
       "std       0.047065            10.460157             32.895324     0.001887   \n",
       "min       0.012000             1.000000              6.000000     0.990070   \n",
       "25%       0.070000             7.000000             22.000000     0.995600   \n",
       "50%       0.079000            14.000000             38.000000     0.996750   \n",
       "75%       0.090000            21.000000             62.000000     0.997835   \n",
       "max       0.611000            72.000000            289.000000     1.003690   \n",
       "\n",
       "                pH    sulphates      alcohol      quality  \n",
       "count  1599.000000  1599.000000  1599.000000  1599.000000  \n",
       "mean      3.311113     0.658149    10.422983     0.135710  \n",
       "std       0.154386     0.169507     1.065668     0.342587  \n",
       "min       2.740000     0.330000     8.400000     0.000000  \n",
       "25%       3.210000     0.550000     9.500000     0.000000  \n",
       "50%       3.310000     0.620000    10.200000     0.000000  \n",
       "75%       3.400000     0.730000    11.100000     0.000000  \n",
       "max       4.010000     2.000000    14.900000     1.000000  "
      ]
     },
     "execution_count": 19,
     "metadata": {},
     "output_type": "execute_result"
    }
   ],
   "source": [
    "#Lets describe the data set\n",
    "df.describe()"
   ]
  },
  {
   "cell_type": "markdown",
   "id": "7efe1f6a",
   "metadata": {},
   "source": [
    "We could observe from the above description table that there could be possibility of skweness and outliers in feature\n",
    "fixed acidity,residual sugar,chlorides,free sulfur dioxide,total sulfur dioxide."
   ]
  },
  {
   "cell_type": "code",
   "execution_count": 20,
   "id": "977c10ba",
   "metadata": {},
   "outputs": [
    {
     "data": {
      "text/html": [
       "<div>\n",
       "<style scoped>\n",
       "    .dataframe tbody tr th:only-of-type {\n",
       "        vertical-align: middle;\n",
       "    }\n",
       "\n",
       "    .dataframe tbody tr th {\n",
       "        vertical-align: top;\n",
       "    }\n",
       "\n",
       "    .dataframe thead th {\n",
       "        text-align: right;\n",
       "    }\n",
       "</style>\n",
       "<table border=\"1\" class=\"dataframe\">\n",
       "  <thead>\n",
       "    <tr style=\"text-align: right;\">\n",
       "      <th></th>\n",
       "      <th>fixed acidity</th>\n",
       "      <th>volatile acidity</th>\n",
       "      <th>citric acid</th>\n",
       "      <th>residual sugar</th>\n",
       "      <th>chlorides</th>\n",
       "      <th>free sulfur dioxide</th>\n",
       "      <th>total sulfur dioxide</th>\n",
       "      <th>density</th>\n",
       "      <th>pH</th>\n",
       "      <th>sulphates</th>\n",
       "      <th>alcohol</th>\n",
       "      <th>quality</th>\n",
       "    </tr>\n",
       "  </thead>\n",
       "  <tbody>\n",
       "    <tr>\n",
       "      <th>fixed acidity</th>\n",
       "      <td>1.000000</td>\n",
       "      <td>0.256131</td>\n",
       "      <td>0.671703</td>\n",
       "      <td>0.114777</td>\n",
       "      <td>0.093705</td>\n",
       "      <td>0.153794</td>\n",
       "      <td>0.113181</td>\n",
       "      <td>0.668047</td>\n",
       "      <td>0.682978</td>\n",
       "      <td>0.183006</td>\n",
       "      <td>0.061668</td>\n",
       "      <td>0.120061</td>\n",
       "    </tr>\n",
       "    <tr>\n",
       "      <th>volatile acidity</th>\n",
       "      <td>0.256131</td>\n",
       "      <td>1.000000</td>\n",
       "      <td>0.552496</td>\n",
       "      <td>0.001918</td>\n",
       "      <td>0.061298</td>\n",
       "      <td>0.010504</td>\n",
       "      <td>0.076470</td>\n",
       "      <td>0.022026</td>\n",
       "      <td>0.234937</td>\n",
       "      <td>0.260987</td>\n",
       "      <td>0.202288</td>\n",
       "      <td>0.270712</td>\n",
       "    </tr>\n",
       "    <tr>\n",
       "      <th>citric acid</th>\n",
       "      <td>0.671703</td>\n",
       "      <td>0.552496</td>\n",
       "      <td>1.000000</td>\n",
       "      <td>0.143577</td>\n",
       "      <td>0.203823</td>\n",
       "      <td>0.060978</td>\n",
       "      <td>0.035533</td>\n",
       "      <td>0.364947</td>\n",
       "      <td>0.541904</td>\n",
       "      <td>0.312770</td>\n",
       "      <td>0.109903</td>\n",
       "      <td>0.214716</td>\n",
       "    </tr>\n",
       "    <tr>\n",
       "      <th>residual sugar</th>\n",
       "      <td>0.114777</td>\n",
       "      <td>0.001918</td>\n",
       "      <td>0.143577</td>\n",
       "      <td>1.000000</td>\n",
       "      <td>0.055610</td>\n",
       "      <td>0.187049</td>\n",
       "      <td>0.203028</td>\n",
       "      <td>0.355283</td>\n",
       "      <td>0.085652</td>\n",
       "      <td>0.005527</td>\n",
       "      <td>0.042075</td>\n",
       "      <td>0.047779</td>\n",
       "    </tr>\n",
       "    <tr>\n",
       "      <th>chlorides</th>\n",
       "      <td>0.093705</td>\n",
       "      <td>0.061298</td>\n",
       "      <td>0.203823</td>\n",
       "      <td>0.055610</td>\n",
       "      <td>1.000000</td>\n",
       "      <td>0.005562</td>\n",
       "      <td>0.047400</td>\n",
       "      <td>0.200632</td>\n",
       "      <td>0.265026</td>\n",
       "      <td>0.371260</td>\n",
       "      <td>0.221141</td>\n",
       "      <td>0.097308</td>\n",
       "    </tr>\n",
       "    <tr>\n",
       "      <th>free sulfur dioxide</th>\n",
       "      <td>0.153794</td>\n",
       "      <td>0.010504</td>\n",
       "      <td>0.060978</td>\n",
       "      <td>0.187049</td>\n",
       "      <td>0.005562</td>\n",
       "      <td>1.000000</td>\n",
       "      <td>0.667666</td>\n",
       "      <td>0.021946</td>\n",
       "      <td>0.070377</td>\n",
       "      <td>0.051658</td>\n",
       "      <td>0.069408</td>\n",
       "      <td>0.071747</td>\n",
       "    </tr>\n",
       "    <tr>\n",
       "      <th>total sulfur dioxide</th>\n",
       "      <td>0.113181</td>\n",
       "      <td>0.076470</td>\n",
       "      <td>0.035533</td>\n",
       "      <td>0.203028</td>\n",
       "      <td>0.047400</td>\n",
       "      <td>0.667666</td>\n",
       "      <td>1.000000</td>\n",
       "      <td>0.071269</td>\n",
       "      <td>0.066495</td>\n",
       "      <td>0.042947</td>\n",
       "      <td>0.205654</td>\n",
       "      <td>0.139517</td>\n",
       "    </tr>\n",
       "    <tr>\n",
       "      <th>density</th>\n",
       "      <td>0.668047</td>\n",
       "      <td>0.022026</td>\n",
       "      <td>0.364947</td>\n",
       "      <td>0.355283</td>\n",
       "      <td>0.200632</td>\n",
       "      <td>0.021946</td>\n",
       "      <td>0.071269</td>\n",
       "      <td>1.000000</td>\n",
       "      <td>0.341699</td>\n",
       "      <td>0.148506</td>\n",
       "      <td>0.496180</td>\n",
       "      <td>0.150460</td>\n",
       "    </tr>\n",
       "    <tr>\n",
       "      <th>pH</th>\n",
       "      <td>0.682978</td>\n",
       "      <td>0.234937</td>\n",
       "      <td>0.541904</td>\n",
       "      <td>0.085652</td>\n",
       "      <td>0.265026</td>\n",
       "      <td>0.070377</td>\n",
       "      <td>0.066495</td>\n",
       "      <td>0.341699</td>\n",
       "      <td>1.000000</td>\n",
       "      <td>0.196648</td>\n",
       "      <td>0.205633</td>\n",
       "      <td>0.057283</td>\n",
       "    </tr>\n",
       "    <tr>\n",
       "      <th>sulphates</th>\n",
       "      <td>0.183006</td>\n",
       "      <td>0.260987</td>\n",
       "      <td>0.312770</td>\n",
       "      <td>0.005527</td>\n",
       "      <td>0.371260</td>\n",
       "      <td>0.051658</td>\n",
       "      <td>0.042947</td>\n",
       "      <td>0.148506</td>\n",
       "      <td>0.196648</td>\n",
       "      <td>1.000000</td>\n",
       "      <td>0.093595</td>\n",
       "      <td>0.199485</td>\n",
       "    </tr>\n",
       "    <tr>\n",
       "      <th>alcohol</th>\n",
       "      <td>0.061668</td>\n",
       "      <td>0.202288</td>\n",
       "      <td>0.109903</td>\n",
       "      <td>0.042075</td>\n",
       "      <td>0.221141</td>\n",
       "      <td>0.069408</td>\n",
       "      <td>0.205654</td>\n",
       "      <td>0.496180</td>\n",
       "      <td>0.205633</td>\n",
       "      <td>0.093595</td>\n",
       "      <td>1.000000</td>\n",
       "      <td>0.407315</td>\n",
       "    </tr>\n",
       "    <tr>\n",
       "      <th>quality</th>\n",
       "      <td>0.120061</td>\n",
       "      <td>0.270712</td>\n",
       "      <td>0.214716</td>\n",
       "      <td>0.047779</td>\n",
       "      <td>0.097308</td>\n",
       "      <td>0.071747</td>\n",
       "      <td>0.139517</td>\n",
       "      <td>0.150460</td>\n",
       "      <td>0.057283</td>\n",
       "      <td>0.199485</td>\n",
       "      <td>0.407315</td>\n",
       "      <td>1.000000</td>\n",
       "    </tr>\n",
       "  </tbody>\n",
       "</table>\n",
       "</div>"
      ],
      "text/plain": [
       "                      fixed acidity  volatile acidity  citric acid  \\\n",
       "fixed acidity              1.000000          0.256131     0.671703   \n",
       "volatile acidity           0.256131          1.000000     0.552496   \n",
       "citric acid                0.671703          0.552496     1.000000   \n",
       "residual sugar             0.114777          0.001918     0.143577   \n",
       "chlorides                  0.093705          0.061298     0.203823   \n",
       "free sulfur dioxide        0.153794          0.010504     0.060978   \n",
       "total sulfur dioxide       0.113181          0.076470     0.035533   \n",
       "density                    0.668047          0.022026     0.364947   \n",
       "pH                         0.682978          0.234937     0.541904   \n",
       "sulphates                  0.183006          0.260987     0.312770   \n",
       "alcohol                    0.061668          0.202288     0.109903   \n",
       "quality                    0.120061          0.270712     0.214716   \n",
       "\n",
       "                      residual sugar  chlorides  free sulfur dioxide  \\\n",
       "fixed acidity               0.114777   0.093705             0.153794   \n",
       "volatile acidity            0.001918   0.061298             0.010504   \n",
       "citric acid                 0.143577   0.203823             0.060978   \n",
       "residual sugar              1.000000   0.055610             0.187049   \n",
       "chlorides                   0.055610   1.000000             0.005562   \n",
       "free sulfur dioxide         0.187049   0.005562             1.000000   \n",
       "total sulfur dioxide        0.203028   0.047400             0.667666   \n",
       "density                     0.355283   0.200632             0.021946   \n",
       "pH                          0.085652   0.265026             0.070377   \n",
       "sulphates                   0.005527   0.371260             0.051658   \n",
       "alcohol                     0.042075   0.221141             0.069408   \n",
       "quality                     0.047779   0.097308             0.071747   \n",
       "\n",
       "                      total sulfur dioxide   density        pH  sulphates  \\\n",
       "fixed acidity                     0.113181  0.668047  0.682978   0.183006   \n",
       "volatile acidity                  0.076470  0.022026  0.234937   0.260987   \n",
       "citric acid                       0.035533  0.364947  0.541904   0.312770   \n",
       "residual sugar                    0.203028  0.355283  0.085652   0.005527   \n",
       "chlorides                         0.047400  0.200632  0.265026   0.371260   \n",
       "free sulfur dioxide               0.667666  0.021946  0.070377   0.051658   \n",
       "total sulfur dioxide              1.000000  0.071269  0.066495   0.042947   \n",
       "density                           0.071269  1.000000  0.341699   0.148506   \n",
       "pH                                0.066495  0.341699  1.000000   0.196648   \n",
       "sulphates                         0.042947  0.148506  0.196648   1.000000   \n",
       "alcohol                           0.205654  0.496180  0.205633   0.093595   \n",
       "quality                           0.139517  0.150460  0.057283   0.199485   \n",
       "\n",
       "                       alcohol   quality  \n",
       "fixed acidity         0.061668  0.120061  \n",
       "volatile acidity      0.202288  0.270712  \n",
       "citric acid           0.109903  0.214716  \n",
       "residual sugar        0.042075  0.047779  \n",
       "chlorides             0.221141  0.097308  \n",
       "free sulfur dioxide   0.069408  0.071747  \n",
       "total sulfur dioxide  0.205654  0.139517  \n",
       "density               0.496180  0.150460  \n",
       "pH                    0.205633  0.057283  \n",
       "sulphates             0.093595  0.199485  \n",
       "alcohol               1.000000  0.407315  \n",
       "quality               0.407315  1.000000  "
      ]
     },
     "execution_count": 20,
     "metadata": {},
     "output_type": "execute_result"
    }
   ],
   "source": [
    "#Checking correlation between features and labels\n",
    "df.corr().abs()"
   ]
  },
  {
   "cell_type": "code",
   "execution_count": 21,
   "id": "301612ed",
   "metadata": {},
   "outputs": [
    {
     "data": {
      "text/plain": [
       "<AxesSubplot:>"
      ]
     },
     "execution_count": 21,
     "metadata": {},
     "output_type": "execute_result"
    },
    {
     "data": {
      "image/png": "[encoded data removed]",
      "text/plain": [
       "<Figure size 1440x720 with 2 Axes>"
      ]
     },
     "metadata": {
      "needs_background": "light"
     },
     "output_type": "display_data"
    }
   ],
   "source": [
    "#For better visualization of correlation lets generate heatmap\n",
    "plt.figure(figsize=(20,10))\n",
    "sns.heatmap(df.corr().abs(),annot=True,linewidth=0.5,linecolor='black',fmt='.2f')"
   ]
  },
  {
   "cell_type": "markdown",
   "id": "e846531b",
   "metadata": {},
   "source": [
    "Looking at the heatmap it can be noticed that multicolinearity does not exists and the relation of residual sugar and \n",
    "pH with quality is very low."
   ]
  },
  {
   "cell_type": "code",
   "execution_count": 22,
   "id": "e44ed02d",
   "metadata": {
    "scrolled": true
   },
   "outputs": [
    {
     "data": {
      "image/png": "[encoded data removed]",
      "text/plain": [
       "<Figure size 2160x6480 with 12 Axes>"
      ]
     },
     "metadata": {
      "needs_background": "light"
     },
     "output_type": "display_data"
    }
   ],
   "source": [
    "#Checking outliers\n",
    "\n",
    "col=df.columns\n",
    "plt.figure(figsize=(30,90))\n",
    "for i in range(len(col)):\n",
    "    plt.subplot(20,20,i+1)\n",
    "    sns.boxplot(data=df[col[i]],color='green',orient='v')\n",
    "    plt.xlabel(col[i])\n",
    "    plt.tight_layout()"
   ]
  },
  {
   "cell_type": "markdown",
   "id": "c90d9062",
   "metadata": {},
   "source": [
    "Looking at the above boxplot we could see outliers in fixed acidity, volatile acidity,residual sugar,chlorides,free \n",
    "sulphur dioxide,total sulfur dioxide,density,sulphates,alcohol"
   ]
  },
  {
   "cell_type": "code",
   "execution_count": null,
   "id": "e767a72d",
   "metadata": {},
   "outputs": [],
   "source": []
  },
  {
   "cell_type": "code",
   "execution_count": null,
   "id": "eda7217e",
   "metadata": {},
   "outputs": [],
   "source": []
  },
  {
   "cell_type": "code",
   "execution_count": 23,
   "id": "a93be876",
   "metadata": {},
   "outputs": [
    {
     "data": {
      "text/plain": [
       "fixed acidity           0.982751\n",
       "volatile acidity        0.671593\n",
       "citric acid             0.318337\n",
       "residual sugar          4.540655\n",
       "chlorides               5.680347\n",
       "free sulfur dioxide     1.250567\n",
       "total sulfur dioxide    1.515531\n",
       "density                 0.071288\n",
       "pH                      0.193683\n",
       "sulphates               2.428672\n",
       "alcohol                 0.860829\n",
       "quality                 2.129363\n",
       "dtype: float64"
      ]
     },
     "execution_count": 23,
     "metadata": {},
     "output_type": "execute_result"
    }
   ],
   "source": [
    "#Lets check skewness as well\n",
    "df.skew()"
   ]
  },
  {
   "cell_type": "markdown",
   "id": "27d5f733",
   "metadata": {},
   "source": [
    "considering the range of skewness as -0.5 to 0.5, these are the features with skewness:\n",
    "    fixed acidity\n",
    "    volatile acidity\n",
    "    residual sugar \n",
    "    chlorides\n",
    "    free sulfur dioxide\n",
    "    total sulfur dioxide\n",
    "    sulphates\n",
    "    alcohol\n",
    "    "
   ]
  },
  {
   "cell_type": "code",
   "execution_count": 24,
   "id": "8b2f47fa",
   "metadata": {},
   "outputs": [
    {
     "data": {
      "text/plain": [
       "<AxesSubplot:xlabel='fixed acidity', ylabel='Density'>"
      ]
     },
     "execution_count": 24,
     "metadata": {},
     "output_type": "execute_result"
    },
    {
     "data": {
      "image/png": "[encoded data removed]",
      "text/plain": [
       "<Figure size 720x360 with 1 Axes>"
      ]
     },
     "metadata": {
      "needs_background": "light"
     },
     "output_type": "display_data"
    }
   ],
   "source": [
    "#Lets check the skewness of the above features using dist plot\n",
    "import warnings\n",
    "warnings.filterwarnings('ignore')\n",
    "\n",
    "plt.figure(figsize=(10,5))\n",
    "sns.distplot(df['fixed acidity'])"
   ]
  },
  {
   "cell_type": "markdown",
   "id": "604c2f09",
   "metadata": {},
   "source": [
    "fixed acidity is right skewed"
   ]
  },
  {
   "cell_type": "code",
   "execution_count": 25,
   "id": "e35c1b6d",
   "metadata": {},
   "outputs": [
    {
     "data": {
      "text/plain": [
       "<AxesSubplot:xlabel='volatile acidity', ylabel='Density'>"
      ]
     },
     "execution_count": 25,
     "metadata": {},
     "output_type": "execute_result"
    },
    {
     "data": {
      "image/png": "[encoded data removed]",
      "text/plain": [
       "<Figure size 720x360 with 1 Axes>"
      ]
     },
     "metadata": {
      "needs_background": "light"
     },
     "output_type": "display_data"
    }
   ],
   "source": [
    "plt.figure(figsize=(10,5))\n",
    "sns.distplot(df['volatile acidity'])"
   ]
  },
  {
   "cell_type": "markdown",
   "id": "302e6945",
   "metadata": {},
   "source": [
    "volatile acidity is bimodal and is not normally distributed"
   ]
  },
  {
   "cell_type": "code",
   "execution_count": 26,
   "id": "4f004a4d",
   "metadata": {},
   "outputs": [
    {
     "data": {
      "text/plain": [
       "<AxesSubplot:xlabel='residual sugar', ylabel='Density'>"
      ]
     },
     "execution_count": 26,
     "metadata": {},
     "output_type": "execute_result"
    },
    {
     "data": {
      "image/png": "[encoded data removed]",
      "text/plain": [
       "<Figure size 720x360 with 1 Axes>"
      ]
     },
     "metadata": {
      "needs_background": "light"
     },
     "output_type": "display_data"
    }
   ],
   "source": [
    "plt.figure(figsize=(10,5))\n",
    "sns.distplot(df['residual sugar'])"
   ]
  },
  {
   "cell_type": "markdown",
   "id": "7d2fbca5",
   "metadata": {},
   "source": [
    "residual sugar is also not normally distributed. It is right skewed."
   ]
  },
  {
   "cell_type": "code",
   "execution_count": 27,
   "id": "2c8908f8",
   "metadata": {},
   "outputs": [
    {
     "data": {
      "text/plain": [
       "<AxesSubplot:xlabel='chlorides', ylabel='Density'>"
      ]
     },
     "execution_count": 27,
     "metadata": {},
     "output_type": "execute_result"
    },
    {
     "data": {
      "image/png": "[encoded data removed]",
      "text/plain": [
       "<Figure size 720x360 with 1 Axes>"
      ]
     },
     "metadata": {
      "needs_background": "light"
     },
     "output_type": "display_data"
    }
   ],
   "source": [
    "plt.figure(figsize=(10,5))\n",
    "sns.distplot(df['chlorides'])"
   ]
  },
  {
   "cell_type": "markdown",
   "id": "8d104dda",
   "metadata": {},
   "source": [
    "Chlorides feature is also bimodal and is not normally distributed."
   ]
  },
  {
   "cell_type": "code",
   "execution_count": 28,
   "id": "b3a63f5b",
   "metadata": {},
   "outputs": [
    {
     "data": {
      "text/plain": [
       "<AxesSubplot:xlabel='free sulfur dioxide', ylabel='Density'>"
      ]
     },
     "execution_count": 28,
     "metadata": {},
     "output_type": "execute_result"
    },
    {
     "data": {
      "image/png": "[encoded data removed]",
      "text/plain": [
       "<Figure size 720x360 with 1 Axes>"
      ]
     },
     "metadata": {
      "needs_background": "light"
     },
     "output_type": "display_data"
    }
   ],
   "source": [
    "plt.figure(figsize=(10,5))\n",
    "sns.distplot(df['free sulfur dioxide'])"
   ]
  },
  {
   "cell_type": "markdown",
   "id": "2ae8bc2c",
   "metadata": {},
   "source": [
    "free sulphur dioxide is also right-skewed and is not normally distributed."
   ]
  },
  {
   "cell_type": "code",
   "execution_count": 29,
   "id": "5fc6bcd0",
   "metadata": {},
   "outputs": [
    {
     "data": {
      "text/plain": [
       "<AxesSubplot:xlabel='total sulfur dioxide', ylabel='Density'>"
      ]
     },
     "execution_count": 29,
     "metadata": {},
     "output_type": "execute_result"
    },
    {
     "data": {
      "image/png": "[encoded data removed]",
      "text/plain": [
       "<Figure size 720x360 with 1 Axes>"
      ]
     },
     "metadata": {
      "needs_background": "light"
     },
     "output_type": "display_data"
    }
   ],
   "source": [
    "plt.figure(figsize=(10,5))\n",
    "sns.distplot(df['total sulfur dioxide'])"
   ]
  },
  {
   "cell_type": "markdown",
   "id": "439b89dc",
   "metadata": {},
   "source": [
    "total sulfur dioxide is also right-skewed."
   ]
  },
  {
   "cell_type": "code",
   "execution_count": 30,
   "id": "958c807c",
   "metadata": {},
   "outputs": [
    {
     "data": {
      "text/plain": [
       "<AxesSubplot:xlabel='sulphates', ylabel='Density'>"
      ]
     },
     "execution_count": 30,
     "metadata": {},
     "output_type": "execute_result"
    },
    {
     "data": {
      "image/png": "[encoded data removed]",
      "text/plain": [
       "<Figure size 720x360 with 1 Axes>"
      ]
     },
     "metadata": {
      "needs_background": "light"
     },
     "output_type": "display_data"
    }
   ],
   "source": [
    "plt.figure(figsize=(10,5))\n",
    "sns.distplot(df['sulphates'])"
   ]
  },
  {
   "cell_type": "markdown",
   "id": "7002f44b",
   "metadata": {},
   "source": [
    "sulphates is also right-skewed and not normally distributed."
   ]
  },
  {
   "cell_type": "code",
   "execution_count": 31,
   "id": "de38e4ad",
   "metadata": {},
   "outputs": [
    {
     "data": {
      "text/plain": [
       "<AxesSubplot:xlabel='alcohol', ylabel='Density'>"
      ]
     },
     "execution_count": 31,
     "metadata": {},
     "output_type": "execute_result"
    },
    {
     "data": {
      "image/png": "[encoded data removed]",
      "text/plain": [
       "<Figure size 720x360 with 1 Axes>"
      ]
     },
     "metadata": {
      "needs_background": "light"
     },
     "output_type": "display_data"
    }
   ],
   "source": [
    "plt.figure(figsize=(10,5))\n",
    "sns.distplot(df['alcohol'])"
   ]
  },
  {
   "cell_type": "markdown",
   "id": "8fde7c52",
   "metadata": {},
   "source": [
    "alcohol is also right-skewed and not normally distributed."
   ]
  },
  {
   "cell_type": "markdown",
   "id": "87945d0f",
   "metadata": {},
   "source": [
    "From all the above observations we conclude that feature residual sugar, free sulfur dioxide and pH are least correlated \n",
    "with label quality approx 7%, they also has outliers and are also skewed so based on this analysis we will remove these\n",
    "features from out features list."
   ]
  },
  {
   "cell_type": "code",
   "execution_count": 32,
   "id": "352a244f",
   "metadata": {},
   "outputs": [],
   "source": [
    "df=df.drop(['residual sugar','free sulfur dioxide','pH'],axis=1)\n"
   ]
  },
  {
   "cell_type": "code",
   "execution_count": 33,
   "id": "cff60e33",
   "metadata": {},
   "outputs": [
    {
     "name": "stdout",
     "output_type": "stream",
     "text": [
      "Outliers index-\n",
      " {515, 13, 15, 17, 19, 1558, 1051, 544, 1570, 38, 42, 43, 554, 555, 557, 1079, 568, 1081, 588, 591, 81, 83, 86, 88, 1114, 91, 92, 608, 614, 106, 109, 120, 636, 126, 639, 127, 649, 651, 652, 1165, 142, 144, 147, 151, 672, 169, 684, 690, 692, 181, 199, 723, 724, 730, 1244, 226, 1260, 240, 754, 243, 244, 1269, 1270, 258, 776, 777, 1288, 1289, 1299, 281, 795, 1312, 291, 1319, 821, 836, 837, 339, 340, 1367, 1370, 347, 1372, 1374, 354, 374, 889, 381, 391, 1434, 1435, 442, 1474, 451, 1476, 467, 1493, 1496, 480, 1017, 1018}\n",
      "\n",
      "\n",
      "Number of rows to be eliminated-\n",
      " 101\n"
     ]
    }
   ],
   "source": [
    "#Getting sure of outliers using z score\n",
    "import numpy as np\n",
    "from scipy.stats import zscore\n",
    "df_z=df.drop(['quality'],axis=1)\n",
    "z=np.abs(zscore(df_z))\n",
    "i=np.where(z>3)\n",
    "print(\"Outliers index-\\n\",set(i[0]))\n",
    "print(\"\\n\\nNumber of rows to be eliminated-\\n\",len(set(i[0])))"
   ]
  },
  {
   "cell_type": "code",
   "execution_count": 34,
   "id": "6812bd83",
   "metadata": {},
   "outputs": [
    {
     "name": "stdout",
     "output_type": "stream",
     "text": [
      "The data loss- 6.316447779862415\n"
     ]
    }
   ],
   "source": [
    "#Calculating Data Loss\n",
    "loss=((1599-101)/1599)*100\n",
    "print(\"The data loss-\",100-loss)"
   ]
  },
  {
   "cell_type": "markdown",
   "id": "1cec25f6",
   "metadata": {},
   "source": [
    "We could see that the data loss after removing outliers is 6% which is acceptable so we will just remove these indexes or\n",
    "rows from our data."
   ]
  },
  {
   "cell_type": "code",
   "execution_count": 35,
   "id": "89573dfe",
   "metadata": {},
   "outputs": [
    {
     "data": {
      "text/html": [
       "<div>\n",
       "<style scoped>\n",
       "    .dataframe tbody tr th:only-of-type {\n",
       "        vertical-align: middle;\n",
       "    }\n",
       "\n",
       "    .dataframe tbody tr th {\n",
       "        vertical-align: top;\n",
       "    }\n",
       "\n",
       "    .dataframe thead th {\n",
       "        text-align: right;\n",
       "    }\n",
       "</style>\n",
       "<table border=\"1\" class=\"dataframe\">\n",
       "  <thead>\n",
       "    <tr style=\"text-align: right;\">\n",
       "      <th></th>\n",
       "      <th>fixed acidity</th>\n",
       "      <th>volatile acidity</th>\n",
       "      <th>citric acid</th>\n",
       "      <th>chlorides</th>\n",
       "      <th>total sulfur dioxide</th>\n",
       "      <th>density</th>\n",
       "      <th>sulphates</th>\n",
       "      <th>alcohol</th>\n",
       "      <th>quality</th>\n",
       "    </tr>\n",
       "  </thead>\n",
       "  <tbody>\n",
       "    <tr>\n",
       "      <th>0</th>\n",
       "      <td>7.4</td>\n",
       "      <td>0.700</td>\n",
       "      <td>0.00</td>\n",
       "      <td>0.076</td>\n",
       "      <td>34.0</td>\n",
       "      <td>0.99780</td>\n",
       "      <td>0.56</td>\n",
       "      <td>9.4</td>\n",
       "      <td>0</td>\n",
       "    </tr>\n",
       "    <tr>\n",
       "      <th>1</th>\n",
       "      <td>7.8</td>\n",
       "      <td>0.880</td>\n",
       "      <td>0.00</td>\n",
       "      <td>0.098</td>\n",
       "      <td>67.0</td>\n",
       "      <td>0.99680</td>\n",
       "      <td>0.68</td>\n",
       "      <td>9.8</td>\n",
       "      <td>0</td>\n",
       "    </tr>\n",
       "    <tr>\n",
       "      <th>2</th>\n",
       "      <td>7.8</td>\n",
       "      <td>0.760</td>\n",
       "      <td>0.04</td>\n",
       "      <td>0.092</td>\n",
       "      <td>54.0</td>\n",
       "      <td>0.99700</td>\n",
       "      <td>0.65</td>\n",
       "      <td>9.8</td>\n",
       "      <td>0</td>\n",
       "    </tr>\n",
       "    <tr>\n",
       "      <th>3</th>\n",
       "      <td>11.2</td>\n",
       "      <td>0.280</td>\n",
       "      <td>0.56</td>\n",
       "      <td>0.075</td>\n",
       "      <td>60.0</td>\n",
       "      <td>0.99800</td>\n",
       "      <td>0.58</td>\n",
       "      <td>9.8</td>\n",
       "      <td>0</td>\n",
       "    </tr>\n",
       "    <tr>\n",
       "      <th>4</th>\n",
       "      <td>7.4</td>\n",
       "      <td>0.700</td>\n",
       "      <td>0.00</td>\n",
       "      <td>0.076</td>\n",
       "      <td>34.0</td>\n",
       "      <td>0.99780</td>\n",
       "      <td>0.56</td>\n",
       "      <td>9.4</td>\n",
       "      <td>0</td>\n",
       "    </tr>\n",
       "    <tr>\n",
       "      <th>...</th>\n",
       "      <td>...</td>\n",
       "      <td>...</td>\n",
       "      <td>...</td>\n",
       "      <td>...</td>\n",
       "      <td>...</td>\n",
       "      <td>...</td>\n",
       "      <td>...</td>\n",
       "      <td>...</td>\n",
       "      <td>...</td>\n",
       "    </tr>\n",
       "    <tr>\n",
       "      <th>1594</th>\n",
       "      <td>6.2</td>\n",
       "      <td>0.600</td>\n",
       "      <td>0.08</td>\n",
       "      <td>0.090</td>\n",
       "      <td>44.0</td>\n",
       "      <td>0.99490</td>\n",
       "      <td>0.58</td>\n",
       "      <td>10.5</td>\n",
       "      <td>0</td>\n",
       "    </tr>\n",
       "    <tr>\n",
       "      <th>1595</th>\n",
       "      <td>5.9</td>\n",
       "      <td>0.550</td>\n",
       "      <td>0.10</td>\n",
       "      <td>0.062</td>\n",
       "      <td>51.0</td>\n",
       "      <td>0.99512</td>\n",
       "      <td>0.76</td>\n",
       "      <td>11.2</td>\n",
       "      <td>0</td>\n",
       "    </tr>\n",
       "    <tr>\n",
       "      <th>1596</th>\n",
       "      <td>6.3</td>\n",
       "      <td>0.510</td>\n",
       "      <td>0.13</td>\n",
       "      <td>0.076</td>\n",
       "      <td>40.0</td>\n",
       "      <td>0.99574</td>\n",
       "      <td>0.75</td>\n",
       "      <td>11.0</td>\n",
       "      <td>0</td>\n",
       "    </tr>\n",
       "    <tr>\n",
       "      <th>1597</th>\n",
       "      <td>5.9</td>\n",
       "      <td>0.645</td>\n",
       "      <td>0.12</td>\n",
       "      <td>0.075</td>\n",
       "      <td>44.0</td>\n",
       "      <td>0.99547</td>\n",
       "      <td>0.71</td>\n",
       "      <td>10.2</td>\n",
       "      <td>0</td>\n",
       "    </tr>\n",
       "    <tr>\n",
       "      <th>1598</th>\n",
       "      <td>6.0</td>\n",
       "      <td>0.310</td>\n",
       "      <td>0.47</td>\n",
       "      <td>0.067</td>\n",
       "      <td>42.0</td>\n",
       "      <td>0.99549</td>\n",
       "      <td>0.66</td>\n",
       "      <td>11.0</td>\n",
       "      <td>0</td>\n",
       "    </tr>\n",
       "  </tbody>\n",
       "</table>\n",
       "<p>1498 rows × 9 columns</p>\n",
       "</div>"
      ],
      "text/plain": [
       "      fixed acidity  volatile acidity  citric acid  chlorides  \\\n",
       "0               7.4             0.700         0.00      0.076   \n",
       "1               7.8             0.880         0.00      0.098   \n",
       "2               7.8             0.760         0.04      0.092   \n",
       "3              11.2             0.280         0.56      0.075   \n",
       "4               7.4             0.700         0.00      0.076   \n",
       "...             ...               ...          ...        ...   \n",
       "1594            6.2             0.600         0.08      0.090   \n",
       "1595            5.9             0.550         0.10      0.062   \n",
       "1596            6.3             0.510         0.13      0.076   \n",
       "1597            5.9             0.645         0.12      0.075   \n",
       "1598            6.0             0.310         0.47      0.067   \n",
       "\n",
       "      total sulfur dioxide  density  sulphates  alcohol  quality  \n",
       "0                     34.0  0.99780       0.56      9.4        0  \n",
       "1                     67.0  0.99680       0.68      9.8        0  \n",
       "2                     54.0  0.99700       0.65      9.8        0  \n",
       "3                     60.0  0.99800       0.58      9.8        0  \n",
       "4                     34.0  0.99780       0.56      9.4        0  \n",
       "...                    ...      ...        ...      ...      ...  \n",
       "1594                  44.0  0.99490       0.58     10.5        0  \n",
       "1595                  51.0  0.99512       0.76     11.2        0  \n",
       "1596                  40.0  0.99574       0.75     11.0        0  \n",
       "1597                  44.0  0.99547       0.71     10.2        0  \n",
       "1598                  42.0  0.99549       0.66     11.0        0  \n",
       "\n",
       "[1498 rows x 9 columns]"
      ]
     },
     "execution_count": 35,
     "metadata": {},
     "output_type": "execute_result"
    }
   ],
   "source": [
    "#removing rows with outliers\n",
    "df_new=df.drop(df.index[i[0]])\n",
    "df_new"
   ]
  },
  {
   "cell_type": "code",
   "execution_count": 36,
   "id": "656ba2a1",
   "metadata": {},
   "outputs": [
    {
     "data": {
      "text/plain": [
       "0    1293\n",
       "1     205\n",
       "Name: quality, dtype: int64"
      ]
     },
     "execution_count": 36,
     "metadata": {},
     "output_type": "execute_result"
    }
   ],
   "source": [
    "#Checking whether the data is balanced or not.\n",
    "df_new['quality'].value_counts()"
   ]
  },
  {
   "cell_type": "markdown",
   "id": "59b3ba8e",
   "metadata": {},
   "source": [
    "Its very evident that the data is imbalanced so we need to do UPSAMPLING of data with quality=1 so that we get\n",
    "correct model predictions."
   ]
  },
  {
   "cell_type": "markdown",
   "id": "05933038",
   "metadata": {},
   "source": [
    "# Treating imbalanced data by doing upsampling"
   ]
  },
  {
   "cell_type": "code",
   "execution_count": 37,
   "id": "223f5dd7",
   "metadata": {},
   "outputs": [],
   "source": [
    "from sklearn.utils import resample"
   ]
  },
  {
   "cell_type": "code",
   "execution_count": 38,
   "id": "8e7370e9",
   "metadata": {},
   "outputs": [],
   "source": [
    "poor_quality=df_new[df_new.quality==0]\n",
    "good_quality=df_new[df_new.quality==1]"
   ]
  },
  {
   "cell_type": "code",
   "execution_count": 39,
   "id": "261cd9e4",
   "metadata": {},
   "outputs": [],
   "source": [
    "good_upsampled=resample(good_quality,replace=True,n_samples=len(poor_quality),random_state=27)"
   ]
  },
  {
   "cell_type": "code",
   "execution_count": 40,
   "id": "cc306746",
   "metadata": {},
   "outputs": [
    {
     "data": {
      "text/plain": [
       "0    1293\n",
       "1    1293\n",
       "Name: quality, dtype: int64"
      ]
     },
     "execution_count": 40,
     "metadata": {},
     "output_type": "execute_result"
    }
   ],
   "source": [
    "df_up=pd.concat([poor_quality,good_upsampled])\n",
    "df_up['quality'].value_counts()"
   ]
  },
  {
   "cell_type": "code",
   "execution_count": 41,
   "id": "f1998044",
   "metadata": {},
   "outputs": [
    {
     "data": {
      "text/html": [
       "<div>\n",
       "<style scoped>\n",
       "    .dataframe tbody tr th:only-of-type {\n",
       "        vertical-align: middle;\n",
       "    }\n",
       "\n",
       "    .dataframe tbody tr th {\n",
       "        vertical-align: top;\n",
       "    }\n",
       "\n",
       "    .dataframe thead th {\n",
       "        text-align: right;\n",
       "    }\n",
       "</style>\n",
       "<table border=\"1\" class=\"dataframe\">\n",
       "  <thead>\n",
       "    <tr style=\"text-align: right;\">\n",
       "      <th></th>\n",
       "      <th>fixed acidity</th>\n",
       "      <th>volatile acidity</th>\n",
       "      <th>citric acid</th>\n",
       "      <th>chlorides</th>\n",
       "      <th>total sulfur dioxide</th>\n",
       "      <th>density</th>\n",
       "      <th>sulphates</th>\n",
       "      <th>alcohol</th>\n",
       "    </tr>\n",
       "  </thead>\n",
       "  <tbody>\n",
       "    <tr>\n",
       "      <th>0</th>\n",
       "      <td>7.4</td>\n",
       "      <td>0.700</td>\n",
       "      <td>0.00</td>\n",
       "      <td>0.076</td>\n",
       "      <td>34.0</td>\n",
       "      <td>0.99780</td>\n",
       "      <td>0.56</td>\n",
       "      <td>9.4</td>\n",
       "    </tr>\n",
       "    <tr>\n",
       "      <th>1</th>\n",
       "      <td>7.8</td>\n",
       "      <td>0.880</td>\n",
       "      <td>0.00</td>\n",
       "      <td>0.098</td>\n",
       "      <td>67.0</td>\n",
       "      <td>0.99680</td>\n",
       "      <td>0.68</td>\n",
       "      <td>9.8</td>\n",
       "    </tr>\n",
       "    <tr>\n",
       "      <th>2</th>\n",
       "      <td>7.8</td>\n",
       "      <td>0.760</td>\n",
       "      <td>0.04</td>\n",
       "      <td>0.092</td>\n",
       "      <td>54.0</td>\n",
       "      <td>0.99700</td>\n",
       "      <td>0.65</td>\n",
       "      <td>9.8</td>\n",
       "    </tr>\n",
       "    <tr>\n",
       "      <th>3</th>\n",
       "      <td>11.2</td>\n",
       "      <td>0.280</td>\n",
       "      <td>0.56</td>\n",
       "      <td>0.075</td>\n",
       "      <td>60.0</td>\n",
       "      <td>0.99800</td>\n",
       "      <td>0.58</td>\n",
       "      <td>9.8</td>\n",
       "    </tr>\n",
       "    <tr>\n",
       "      <th>4</th>\n",
       "      <td>7.4</td>\n",
       "      <td>0.700</td>\n",
       "      <td>0.00</td>\n",
       "      <td>0.076</td>\n",
       "      <td>34.0</td>\n",
       "      <td>0.99780</td>\n",
       "      <td>0.56</td>\n",
       "      <td>9.4</td>\n",
       "    </tr>\n",
       "    <tr>\n",
       "      <th>...</th>\n",
       "      <td>...</td>\n",
       "      <td>...</td>\n",
       "      <td>...</td>\n",
       "      <td>...</td>\n",
       "      <td>...</td>\n",
       "      <td>...</td>\n",
       "      <td>...</td>\n",
       "      <td>...</td>\n",
       "    </tr>\n",
       "    <tr>\n",
       "      <th>949</th>\n",
       "      <td>8.9</td>\n",
       "      <td>0.120</td>\n",
       "      <td>0.45</td>\n",
       "      <td>0.075</td>\n",
       "      <td>21.0</td>\n",
       "      <td>0.99552</td>\n",
       "      <td>0.76</td>\n",
       "      <td>11.9</td>\n",
       "    </tr>\n",
       "    <tr>\n",
       "      <th>1061</th>\n",
       "      <td>9.1</td>\n",
       "      <td>0.400</td>\n",
       "      <td>0.50</td>\n",
       "      <td>0.071</td>\n",
       "      <td>16.0</td>\n",
       "      <td>0.99462</td>\n",
       "      <td>0.69</td>\n",
       "      <td>12.5</td>\n",
       "    </tr>\n",
       "    <tr>\n",
       "      <th>128</th>\n",
       "      <td>8.0</td>\n",
       "      <td>0.590</td>\n",
       "      <td>0.16</td>\n",
       "      <td>0.065</td>\n",
       "      <td>16.0</td>\n",
       "      <td>0.99620</td>\n",
       "      <td>0.92</td>\n",
       "      <td>10.5</td>\n",
       "    </tr>\n",
       "    <tr>\n",
       "      <th>941</th>\n",
       "      <td>9.9</td>\n",
       "      <td>0.270</td>\n",
       "      <td>0.49</td>\n",
       "      <td>0.082</td>\n",
       "      <td>17.0</td>\n",
       "      <td>0.99484</td>\n",
       "      <td>0.52</td>\n",
       "      <td>12.5</td>\n",
       "    </tr>\n",
       "    <tr>\n",
       "      <th>802</th>\n",
       "      <td>5.1</td>\n",
       "      <td>0.585</td>\n",
       "      <td>0.00</td>\n",
       "      <td>0.044</td>\n",
       "      <td>86.0</td>\n",
       "      <td>0.99264</td>\n",
       "      <td>0.94</td>\n",
       "      <td>12.9</td>\n",
       "    </tr>\n",
       "  </tbody>\n",
       "</table>\n",
       "<p>2586 rows × 8 columns</p>\n",
       "</div>"
      ],
      "text/plain": [
       "      fixed acidity  volatile acidity  citric acid  chlorides  \\\n",
       "0               7.4             0.700         0.00      0.076   \n",
       "1               7.8             0.880         0.00      0.098   \n",
       "2               7.8             0.760         0.04      0.092   \n",
       "3              11.2             0.280         0.56      0.075   \n",
       "4               7.4             0.700         0.00      0.076   \n",
       "...             ...               ...          ...        ...   \n",
       "949             8.9             0.120         0.45      0.075   \n",
       "1061            9.1             0.400         0.50      0.071   \n",
       "128             8.0             0.590         0.16      0.065   \n",
       "941             9.9             0.270         0.49      0.082   \n",
       "802             5.1             0.585         0.00      0.044   \n",
       "\n",
       "      total sulfur dioxide  density  sulphates  alcohol  \n",
       "0                     34.0  0.99780       0.56      9.4  \n",
       "1                     67.0  0.99680       0.68      9.8  \n",
       "2                     54.0  0.99700       0.65      9.8  \n",
       "3                     60.0  0.99800       0.58      9.8  \n",
       "4                     34.0  0.99780       0.56      9.4  \n",
       "...                    ...      ...        ...      ...  \n",
       "949                   21.0  0.99552       0.76     11.9  \n",
       "1061                  16.0  0.99462       0.69     12.5  \n",
       "128                   16.0  0.99620       0.92     10.5  \n",
       "941                   17.0  0.99484       0.52     12.5  \n",
       "802                   86.0  0.99264       0.94     12.9  \n",
       "\n",
       "[2586 rows x 8 columns]"
      ]
     },
     "execution_count": 41,
     "metadata": {},
     "output_type": "execute_result"
    }
   ],
   "source": [
    "x=df_up.drop(['quality'],axis=1)\n",
    "y=df_up['quality']\n",
    "x"
   ]
  },
  {
   "cell_type": "markdown",
   "id": "cb3c5f5f",
   "metadata": {},
   "source": [
    "# Standadisation of data"
   ]
  },
  {
   "cell_type": "code",
   "execution_count": 42,
   "id": "28c4e819",
   "metadata": {},
   "outputs": [
    {
     "data": {
      "text/plain": [
       "array([[-0.63472478,  1.33965581, -1.55598367, ...,  0.70817138,\n",
       "        -0.90340362, -1.31344622],\n",
       "       [-0.40670529,  2.42287636, -1.55598367, ...,  0.18191922,\n",
       "        -0.00661781, -0.96117782],\n",
       "       [-0.40670529,  1.70072933, -1.35549669, ...,  0.28716966,\n",
       "        -0.23081426, -0.96117782],\n",
       "       ...,\n",
       "       [-0.29269555,  0.6776877 , -0.75403573, ..., -0.13383207,\n",
       "         1.78695381, -0.34470812],\n",
       "       [ 0.79039702, -1.24803771,  0.89998189, ..., -0.849535  ,\n",
       "        -1.20233222,  1.41663389],\n",
       "       [-1.94583683,  0.64759824, -1.55598367, ..., -2.00728974,\n",
       "         1.93641811,  1.7689023 ]])"
      ]
     },
     "execution_count": 42,
     "metadata": {},
     "output_type": "execute_result"
    }
   ],
   "source": [
    "from sklearn.preprocessing import StandardScaler\n",
    "scaler=StandardScaler()\n",
    "x=scaler.fit_transform(x)\n",
    "x"
   ]
  },
  {
   "cell_type": "code",
   "execution_count": 43,
   "id": "d749a934",
   "metadata": {},
   "outputs": [
    {
     "data": {
      "text/plain": [
       "7.63572414028352e-15"
      ]
     },
     "execution_count": 43,
     "metadata": {},
     "output_type": "execute_result"
    }
   ],
   "source": [
    "x.mean()"
   ]
  },
  {
   "cell_type": "code",
   "execution_count": 44,
   "id": "f7033db6",
   "metadata": {
    "scrolled": true
   },
   "outputs": [
    {
     "data": {
      "text/html": [
       "<div>\n",
       "<style scoped>\n",
       "    .dataframe tbody tr th:only-of-type {\n",
       "        vertical-align: middle;\n",
       "    }\n",
       "\n",
       "    .dataframe tbody tr th {\n",
       "        vertical-align: top;\n",
       "    }\n",
       "\n",
       "    .dataframe thead th {\n",
       "        text-align: right;\n",
       "    }\n",
       "</style>\n",
       "<table border=\"1\" class=\"dataframe\">\n",
       "  <thead>\n",
       "    <tr style=\"text-align: right;\">\n",
       "      <th></th>\n",
       "      <th>fixed acidity</th>\n",
       "      <th>volatile acidity</th>\n",
       "      <th>citric acid</th>\n",
       "      <th>chlorides</th>\n",
       "      <th>total sulfur dioxide</th>\n",
       "      <th>density</th>\n",
       "      <th>sulphates</th>\n",
       "      <th>alcohol</th>\n",
       "    </tr>\n",
       "  </thead>\n",
       "  <tbody>\n",
       "    <tr>\n",
       "      <th>0</th>\n",
       "      <td>-0.634725</td>\n",
       "      <td>1.339656</td>\n",
       "      <td>-1.555984</td>\n",
       "      <td>-0.148480</td>\n",
       "      <td>-0.178140</td>\n",
       "      <td>0.708171</td>\n",
       "      <td>-0.903404</td>\n",
       "      <td>-1.313446</td>\n",
       "    </tr>\n",
       "    <tr>\n",
       "      <th>1</th>\n",
       "      <td>-0.406705</td>\n",
       "      <td>2.422876</td>\n",
       "      <td>-1.555984</td>\n",
       "      <td>0.896336</td>\n",
       "      <td>1.030872</td>\n",
       "      <td>0.181919</td>\n",
       "      <td>-0.006618</td>\n",
       "      <td>-0.961178</td>\n",
       "    </tr>\n",
       "    <tr>\n",
       "      <th>2</th>\n",
       "      <td>-0.406705</td>\n",
       "      <td>1.700729</td>\n",
       "      <td>-1.355497</td>\n",
       "      <td>0.611386</td>\n",
       "      <td>0.554594</td>\n",
       "      <td>0.287170</td>\n",
       "      <td>-0.230814</td>\n",
       "      <td>-0.961178</td>\n",
       "    </tr>\n",
       "    <tr>\n",
       "      <th>3</th>\n",
       "      <td>1.531460</td>\n",
       "      <td>-1.187859</td>\n",
       "      <td>1.250834</td>\n",
       "      <td>-0.195972</td>\n",
       "      <td>0.774415</td>\n",
       "      <td>0.813422</td>\n",
       "      <td>-0.753939</td>\n",
       "      <td>-0.961178</td>\n",
       "    </tr>\n",
       "    <tr>\n",
       "      <th>4</th>\n",
       "      <td>-0.634725</td>\n",
       "      <td>1.339656</td>\n",
       "      <td>-1.555984</td>\n",
       "      <td>-0.148480</td>\n",
       "      <td>-0.178140</td>\n",
       "      <td>0.708171</td>\n",
       "      <td>-0.903404</td>\n",
       "      <td>-1.313446</td>\n",
       "    </tr>\n",
       "    <tr>\n",
       "      <th>...</th>\n",
       "      <td>...</td>\n",
       "      <td>...</td>\n",
       "      <td>...</td>\n",
       "      <td>...</td>\n",
       "      <td>...</td>\n",
       "      <td>...</td>\n",
       "      <td>...</td>\n",
       "      <td>...</td>\n",
       "    </tr>\n",
       "    <tr>\n",
       "      <th>2581</th>\n",
       "      <td>0.220348</td>\n",
       "      <td>-2.150722</td>\n",
       "      <td>0.699495</td>\n",
       "      <td>-0.195972</td>\n",
       "      <td>-0.654417</td>\n",
       "      <td>-0.491684</td>\n",
       "      <td>0.591239</td>\n",
       "      <td>0.888231</td>\n",
       "    </tr>\n",
       "    <tr>\n",
       "      <th>2582</th>\n",
       "      <td>0.334358</td>\n",
       "      <td>-0.465712</td>\n",
       "      <td>0.950104</td>\n",
       "      <td>-0.385939</td>\n",
       "      <td>-0.837601</td>\n",
       "      <td>-0.965310</td>\n",
       "      <td>0.068114</td>\n",
       "      <td>1.416634</td>\n",
       "    </tr>\n",
       "    <tr>\n",
       "      <th>2583</th>\n",
       "      <td>-0.292696</td>\n",
       "      <td>0.677688</td>\n",
       "      <td>-0.754036</td>\n",
       "      <td>-0.670889</td>\n",
       "      <td>-0.837601</td>\n",
       "      <td>-0.133832</td>\n",
       "      <td>1.786954</td>\n",
       "      <td>-0.344708</td>\n",
       "    </tr>\n",
       "    <tr>\n",
       "      <th>2584</th>\n",
       "      <td>0.790397</td>\n",
       "      <td>-1.248038</td>\n",
       "      <td>0.899982</td>\n",
       "      <td>0.136470</td>\n",
       "      <td>-0.800964</td>\n",
       "      <td>-0.849535</td>\n",
       "      <td>-1.202332</td>\n",
       "      <td>1.416634</td>\n",
       "    </tr>\n",
       "    <tr>\n",
       "      <th>2585</th>\n",
       "      <td>-1.945837</td>\n",
       "      <td>0.647598</td>\n",
       "      <td>-1.555984</td>\n",
       "      <td>-1.668214</td>\n",
       "      <td>1.726970</td>\n",
       "      <td>-2.007290</td>\n",
       "      <td>1.936418</td>\n",
       "      <td>1.768902</td>\n",
       "    </tr>\n",
       "  </tbody>\n",
       "</table>\n",
       "<p>2586 rows × 8 columns</p>\n",
       "</div>"
      ],
      "text/plain": [
       "      fixed acidity  volatile acidity  citric acid  chlorides  \\\n",
       "0         -0.634725          1.339656    -1.555984  -0.148480   \n",
       "1         -0.406705          2.422876    -1.555984   0.896336   \n",
       "2         -0.406705          1.700729    -1.355497   0.611386   \n",
       "3          1.531460         -1.187859     1.250834  -0.195972   \n",
       "4         -0.634725          1.339656    -1.555984  -0.148480   \n",
       "...             ...               ...          ...        ...   \n",
       "2581       0.220348         -2.150722     0.699495  -0.195972   \n",
       "2582       0.334358         -0.465712     0.950104  -0.385939   \n",
       "2583      -0.292696          0.677688    -0.754036  -0.670889   \n",
       "2584       0.790397         -1.248038     0.899982   0.136470   \n",
       "2585      -1.945837          0.647598    -1.555984  -1.668214   \n",
       "\n",
       "      total sulfur dioxide   density  sulphates   alcohol  \n",
       "0                -0.178140  0.708171  -0.903404 -1.313446  \n",
       "1                 1.030872  0.181919  -0.006618 -0.961178  \n",
       "2                 0.554594  0.287170  -0.230814 -0.961178  \n",
       "3                 0.774415  0.813422  -0.753939 -0.961178  \n",
       "4                -0.178140  0.708171  -0.903404 -1.313446  \n",
       "...                    ...       ...        ...       ...  \n",
       "2581             -0.654417 -0.491684   0.591239  0.888231  \n",
       "2582             -0.837601 -0.965310   0.068114  1.416634  \n",
       "2583             -0.837601 -0.133832   1.786954 -0.344708  \n",
       "2584             -0.800964 -0.849535  -1.202332  1.416634  \n",
       "2585              1.726970 -2.007290   1.936418  1.768902  \n",
       "\n",
       "[2586 rows x 8 columns]"
      ]
     },
     "execution_count": 44,
     "metadata": {},
     "output_type": "execute_result"
    }
   ],
   "source": [
    "x=pd.DataFrame(x,columns=['fixed acidity','volatile acidity','citric acid','chlorides','total sulfur dioxide',\n",
    "                                'density','sulphates','alcohol'])\n",
    "x"
   ]
  },
  {
   "cell_type": "markdown",
   "id": "62ac1e00",
   "metadata": {},
   "source": [
    "After standardization checking skewness, still the data is skewed."
   ]
  },
  {
   "cell_type": "code",
   "execution_count": 45,
   "id": "c37dfde6",
   "metadata": {
    "scrolled": true
   },
   "outputs": [
    {
     "data": {
      "text/plain": [
       "fixed acidity           0.535009\n",
       "volatile acidity        0.622216\n",
       "citric acid             0.025528\n",
       "chlorides               2.139288\n",
       "total sulfur dioxide    1.382193\n",
       "density                 0.157787\n",
       "sulphates               0.571461\n",
       "alcohol                 0.259955\n",
       "dtype: float64"
      ]
     },
     "execution_count": 45,
     "metadata": {},
     "output_type": "execute_result"
    }
   ],
   "source": [
    "x.skew()"
   ]
  },
  {
   "cell_type": "markdown",
   "id": "e7421eaf",
   "metadata": {},
   "source": [
    "Let the skewness range be -0.5 to 0.5, so according to this range there is skewness in fixed acidiyy, volatile acidity, \n",
    "chlorides, total sulfur dioxide and sulphates."
   ]
  },
  {
   "cell_type": "markdown",
   "id": "da5a8672",
   "metadata": {},
   "source": [
    "# Treating skewness using power transform method"
   ]
  },
  {
   "cell_type": "code",
   "execution_count": 46,
   "id": "315b255c",
   "metadata": {},
   "outputs": [
    {
     "data": {
      "text/plain": [
       "array([[-0.58738681,  1.28503193, -1.54803076, ...,  0.72095928,\n",
       "        -0.92383471, -1.38681262],\n",
       "       [-0.31511475,  2.01455632, -1.54803076, ...,  0.20886755,\n",
       "         0.10967547, -0.97141146],\n",
       "       [-0.31511475,  1.54102669, -1.35051126, ...,  0.3125296 ,\n",
       "        -0.12808041, -0.97141146],\n",
       "       ...,\n",
       "       [-0.18477566,  0.76940138, -0.75617068, ..., -0.10681322,\n",
       "         1.62410827, -0.28288225],\n",
       "       [ 0.85201065, -1.41153814,  0.8992273 , ..., -0.84625127,\n",
       "        -1.31090978,  1.36130599],\n",
       "       [-2.40061682,  0.74416192, -1.54803076, ..., -2.08969272,\n",
       "         1.73228525,  1.65221191]])"
      ]
     },
     "execution_count": 46,
     "metadata": {},
     "output_type": "execute_result"
    }
   ],
   "source": [
    "#using yeo-johnson transformation\n",
    "from sklearn.preprocessing import power_transform\n",
    "x=power_transform(x,method='yeo-johnson')\n",
    "x"
   ]
  },
  {
   "cell_type": "code",
   "execution_count": 47,
   "id": "0001374e",
   "metadata": {},
   "outputs": [
    {
     "data": {
      "text/html": [
       "<div>\n",
       "<style scoped>\n",
       "    .dataframe tbody tr th:only-of-type {\n",
       "        vertical-align: middle;\n",
       "    }\n",
       "\n",
       "    .dataframe tbody tr th {\n",
       "        vertical-align: top;\n",
       "    }\n",
       "\n",
       "    .dataframe thead th {\n",
       "        text-align: right;\n",
       "    }\n",
       "</style>\n",
       "<table border=\"1\" class=\"dataframe\">\n",
       "  <thead>\n",
       "    <tr style=\"text-align: right;\">\n",
       "      <th></th>\n",
       "      <th>fixed acidity</th>\n",
       "      <th>volatile acidity</th>\n",
       "      <th>citric acid</th>\n",
       "      <th>chlorides</th>\n",
       "      <th>total sulfur dioxide</th>\n",
       "      <th>density</th>\n",
       "      <th>sulphates</th>\n",
       "      <th>alcohol</th>\n",
       "    </tr>\n",
       "  </thead>\n",
       "  <tbody>\n",
       "    <tr>\n",
       "      <th>0</th>\n",
       "      <td>-0.587387</td>\n",
       "      <td>1.285032</td>\n",
       "      <td>-1.548031</td>\n",
       "      <td>0.026920</td>\n",
       "      <td>0.126351</td>\n",
       "      <td>0.720959</td>\n",
       "      <td>-0.923835</td>\n",
       "      <td>-1.386813</td>\n",
       "    </tr>\n",
       "    <tr>\n",
       "      <th>1</th>\n",
       "      <td>-0.315115</td>\n",
       "      <td>2.014556</td>\n",
       "      <td>-1.548031</td>\n",
       "      <td>1.024344</td>\n",
       "      <td>1.181110</td>\n",
       "      <td>0.208868</td>\n",
       "      <td>0.109675</td>\n",
       "      <td>-0.971411</td>\n",
       "    </tr>\n",
       "    <tr>\n",
       "      <th>2</th>\n",
       "      <td>-0.315115</td>\n",
       "      <td>1.541027</td>\n",
       "      <td>-1.350511</td>\n",
       "      <td>0.795553</td>\n",
       "      <td>0.868432</td>\n",
       "      <td>0.312530</td>\n",
       "      <td>-0.128080</td>\n",
       "      <td>-0.971411</td>\n",
       "    </tr>\n",
       "    <tr>\n",
       "      <th>3</th>\n",
       "      <td>1.426055</td>\n",
       "      <td>-1.325855</td>\n",
       "      <td>1.254311</td>\n",
       "      <td>-0.032334</td>\n",
       "      <td>1.023134</td>\n",
       "      <td>0.821733</td>\n",
       "      <td>-0.737490</td>\n",
       "      <td>-0.971411</td>\n",
       "    </tr>\n",
       "    <tr>\n",
       "      <th>4</th>\n",
       "      <td>-0.587387</td>\n",
       "      <td>1.285032</td>\n",
       "      <td>-1.548031</td>\n",
       "      <td>0.026920</td>\n",
       "      <td>0.126351</td>\n",
       "      <td>0.720959</td>\n",
       "      <td>-0.923835</td>\n",
       "      <td>-1.386813</td>\n",
       "    </tr>\n",
       "    <tr>\n",
       "      <th>...</th>\n",
       "      <td>...</td>\n",
       "      <td>...</td>\n",
       "      <td>...</td>\n",
       "      <td>...</td>\n",
       "      <td>...</td>\n",
       "      <td>...</td>\n",
       "      <td>...</td>\n",
       "      <td>...</td>\n",
       "    </tr>\n",
       "    <tr>\n",
       "      <th>2581</th>\n",
       "      <td>0.347695</td>\n",
       "      <td>-2.801771</td>\n",
       "      <td>0.696798</td>\n",
       "      <td>-0.032334</td>\n",
       "      <td>-0.660396</td>\n",
       "      <td>-0.472971</td>\n",
       "      <td>0.673793</td>\n",
       "      <td>0.907499</td>\n",
       "    </tr>\n",
       "    <tr>\n",
       "      <th>2582</th>\n",
       "      <td>0.454502</td>\n",
       "      <td>-0.376945</td>\n",
       "      <td>0.949891</td>\n",
       "      <td>-0.283747</td>\n",
       "      <td>-1.033183</td>\n",
       "      <td>-0.968314</td>\n",
       "      <td>0.185337</td>\n",
       "      <td>1.361306</td>\n",
       "    </tr>\n",
       "    <tr>\n",
       "      <th>2583</th>\n",
       "      <td>-0.184776</td>\n",
       "      <td>0.769401</td>\n",
       "      <td>-0.756171</td>\n",
       "      <td>-0.701946</td>\n",
       "      <td>-1.033183</td>\n",
       "      <td>-0.106813</td>\n",
       "      <td>1.624108</td>\n",
       "      <td>-0.282882</td>\n",
       "    </tr>\n",
       "    <tr>\n",
       "      <th>2584</th>\n",
       "      <td>0.852011</td>\n",
       "      <td>-1.411538</td>\n",
       "      <td>0.899227</td>\n",
       "      <td>0.350933</td>\n",
       "      <td>-0.955507</td>\n",
       "      <td>-0.846251</td>\n",
       "      <td>-1.310910</td>\n",
       "      <td>1.361306</td>\n",
       "    </tr>\n",
       "    <tr>\n",
       "      <th>2585</th>\n",
       "      <td>-2.400617</td>\n",
       "      <td>0.744162</td>\n",
       "      <td>-1.548031</td>\n",
       "      <td>-2.513120</td>\n",
       "      <td>1.526259</td>\n",
       "      <td>-2.089693</td>\n",
       "      <td>1.732285</td>\n",
       "      <td>1.652212</td>\n",
       "    </tr>\n",
       "  </tbody>\n",
       "</table>\n",
       "<p>2586 rows × 8 columns</p>\n",
       "</div>"
      ],
      "text/plain": [
       "      fixed acidity  volatile acidity  citric acid  chlorides  \\\n",
       "0         -0.587387          1.285032    -1.548031   0.026920   \n",
       "1         -0.315115          2.014556    -1.548031   1.024344   \n",
       "2         -0.315115          1.541027    -1.350511   0.795553   \n",
       "3          1.426055         -1.325855     1.254311  -0.032334   \n",
       "4         -0.587387          1.285032    -1.548031   0.026920   \n",
       "...             ...               ...          ...        ...   \n",
       "2581       0.347695         -2.801771     0.696798  -0.032334   \n",
       "2582       0.454502         -0.376945     0.949891  -0.283747   \n",
       "2583      -0.184776          0.769401    -0.756171  -0.701946   \n",
       "2584       0.852011         -1.411538     0.899227   0.350933   \n",
       "2585      -2.400617          0.744162    -1.548031  -2.513120   \n",
       "\n",
       "      total sulfur dioxide   density  sulphates   alcohol  \n",
       "0                 0.126351  0.720959  -0.923835 -1.386813  \n",
       "1                 1.181110  0.208868   0.109675 -0.971411  \n",
       "2                 0.868432  0.312530  -0.128080 -0.971411  \n",
       "3                 1.023134  0.821733  -0.737490 -0.971411  \n",
       "4                 0.126351  0.720959  -0.923835 -1.386813  \n",
       "...                    ...       ...        ...       ...  \n",
       "2581             -0.660396 -0.472971   0.673793  0.907499  \n",
       "2582             -1.033183 -0.968314   0.185337  1.361306  \n",
       "2583             -1.033183 -0.106813   1.624108 -0.282882  \n",
       "2584             -0.955507 -0.846251  -1.310910  1.361306  \n",
       "2585              1.526259 -2.089693   1.732285  1.652212  \n",
       "\n",
       "[2586 rows x 8 columns]"
      ]
     },
     "execution_count": 47,
     "metadata": {},
     "output_type": "execute_result"
    }
   ],
   "source": [
    "x=pd.DataFrame(x,columns=['fixed acidity','volatile acidity','citric acid','chlorides','total sulfur dioxide',\n",
    "                                'density','sulphates','alcohol'])\n",
    "x"
   ]
  },
  {
   "cell_type": "code",
   "execution_count": 48,
   "id": "53a0a43f",
   "metadata": {
    "scrolled": true
   },
   "outputs": [
    {
     "data": {
      "text/plain": [
       "fixed acidity           0.003383\n",
       "volatile acidity        0.039570\n",
       "citric acid             0.042955\n",
       "chlorides              -0.038754\n",
       "total sulfur dioxide    0.160131\n",
       "density                 0.008814\n",
       "sulphates               0.028517\n",
       "alcohol                 0.049909\n",
       "dtype: float64"
      ]
     },
     "execution_count": 48,
     "metadata": {},
     "output_type": "execute_result"
    }
   ],
   "source": [
    "x.skew()"
   ]
  },
  {
   "cell_type": "markdown",
   "id": "f993aed3",
   "metadata": {},
   "source": [
    "We could see that the skewness has been treated and skew values of all the features are in the range -0.20 to 0.20."
   ]
  },
  {
   "cell_type": "markdown",
   "id": "2aeeb5e8",
   "metadata": {},
   "source": [
    "# Train Test Split"
   ]
  },
  {
   "cell_type": "code",
   "execution_count": 49,
   "id": "02a79eaa",
   "metadata": {
    "scrolled": true
   },
   "outputs": [
    {
     "name": "stdout",
     "output_type": "stream",
     "text": [
      "\n",
      "\n",
      "At random state: 53\n",
      "\n",
      "Train Accuracy-  79.9\n",
      "\n",
      "Test Accuracy-  79.9\n",
      "\n",
      "\n",
      "At random state: 81\n",
      "\n",
      "Train Accuracy-  79.9\n",
      "\n",
      "Test Accuracy-  79.9\n",
      "\n",
      "\n",
      "At random state: 90\n",
      "\n",
      "Train Accuracy-  80.1\n",
      "\n",
      "Test Accuracy-  80.1\n",
      "\n",
      "\n",
      "At random state: 104\n",
      "\n",
      "Train Accuracy-  79.9\n",
      "\n",
      "Test Accuracy-  79.9\n",
      "\n",
      "\n",
      " Best accuracy at random state- 90\n"
     ]
    }
   ],
   "source": [
    "from sklearn.linear_model import LogisticRegression\n",
    "from sklearn.model_selection import train_test_split\n",
    "from sklearn.metrics import accuracy_score\n",
    "max_ac=0\n",
    "randomState=0\n",
    "le=LogisticRegression()\n",
    "for i in range(200):\n",
    "    x_train,x_test,y_train,y_test=train_test_split(x,y,random_state=i,test_size=0.20)\n",
    "    le.fit(x_train,y_train)\n",
    "    pred_train=le.predict(x_train)\n",
    "    pred_test=le.predict(x_test)\n",
    "    if round(accuracy_score(y_train,pred_train)*100,1)==round(accuracy_score(y_test,pred_test)*100,1):\n",
    "        print(\"\\n\\nAt random state:\",i)\n",
    "        print(\"\\nTrain Accuracy- \",round(accuracy_score(y_train,pred_train)*100,1))\n",
    "        print(\"\\nTest Accuracy- \",round(accuracy_score(y_test,pred_test)*100,1))\n",
    "        if round(accuracy_score(y_test,pred_test)*100,1)>max_ac:\n",
    "            randomState=i\n",
    "            max_ac=round(accuracy_score(y_test,pred_test)*100,1)\n",
    "print(\"\\n\\n Best accuracy at random state-\",randomState)"
   ]
  },
  {
   "cell_type": "markdown",
   "id": "c5d2a6aa",
   "metadata": {},
   "source": [
    "# Applying Logistic Regressin Model"
   ]
  },
  {
   "cell_type": "code",
   "execution_count": 50,
   "id": "5c7cfdce",
   "metadata": {},
   "outputs": [
    {
     "name": "stdout",
     "output_type": "stream",
     "text": [
      "\n",
      "train accuracy- 80.1\n",
      "\n",
      "test accuracy- 80.1\n"
     ]
    }
   ],
   "source": [
    "x_train,x_test,y_train,y_test=train_test_split(x,y,random_state=90,test_size=0.20)\n",
    "le.fit(x_train,y_train)\n",
    "pred_train=le.predict(x_train)\n",
    "pred_test=le.predict(x_test)\n",
    "train_accuracy=round(accuracy_score(y_train,pred_train)*100,1)\n",
    "test_accuracy=round(accuracy_score(y_test,pred_test)*100,1)\n",
    "print(\"\\ntrain accuracy-\",train_accuracy)\n",
    "print(\"\\ntest accuracy-\",test_accuracy)"
   ]
  },
  {
   "cell_type": "code",
   "execution_count": 51,
   "id": "b044c950",
   "metadata": {},
   "outputs": [
    {
     "name": "stdout",
     "output_type": "stream",
     "text": [
      "              precision    recall  f1-score   support\n",
      "\n",
      "           0       0.84      0.77      0.80       274\n",
      "           1       0.76      0.84      0.80       244\n",
      "\n",
      "    accuracy                           0.80       518\n",
      "   macro avg       0.80      0.80      0.80       518\n",
      "weighted avg       0.80      0.80      0.80       518\n",
      "\n"
     ]
    }
   ],
   "source": [
    "from sklearn.metrics import classification_report\n",
    "print(classification_report(y_test,pred_test))"
   ]
  },
  {
   "cell_type": "markdown",
   "id": "0efbfa81",
   "metadata": {},
   "source": [
    "Calculating cross validation score"
   ]
  },
  {
   "cell_type": "code",
   "execution_count": 52,
   "id": "9e5da238",
   "metadata": {},
   "outputs": [
    {
     "name": "stdout",
     "output_type": "stream",
     "text": [
      "\n",
      "\n",
      "At cv- 4\n",
      "\n",
      " cross validation score is- 78.34073432513003\n",
      "\n",
      " Accuracy score is- 80.1\n",
      "\n",
      "\n",
      "At cv- 5\n",
      "\n",
      " cross validation score is- 78.72863192012127\n",
      "\n",
      " Accuracy score is- 80.1\n",
      "\n",
      "\n",
      "At cv- 6\n",
      "\n",
      " cross validation score is- 78.538283062645\n",
      "\n",
      " Accuracy score is- 80.1\n",
      "\n",
      "\n",
      "At cv- 7\n",
      "\n",
      " cross validation score is- 78.53396950957926\n",
      "\n",
      " Accuracy score is- 80.1\n",
      "\n",
      "\n",
      "At cv- 8\n",
      "\n",
      " cross validation score is- 78.68817605014715\n",
      "\n",
      " Accuracy score is- 80.1\n",
      "\n",
      "\n",
      "At cv- 9\n",
      "\n",
      " cross validation score is- 78.96018841140793\n",
      "\n",
      " Accuracy score is- 80.1\n",
      "\n",
      "\n",
      "At cv- 10\n",
      "\n",
      " cross validation score is- 78.91817066235672\n",
      "\n",
      " Accuracy score is- 80.1\n",
      "\n",
      "\n",
      "At cv- 11\n",
      "\n",
      " cross validation score is- 78.96108579483986\n",
      "\n",
      " Accuracy score is- 80.1\n",
      "\n",
      "\n",
      "At cv- 12\n",
      "\n",
      " cross validation score is- 78.87453344817685\n",
      "\n",
      " Accuracy score is- 80.1\n",
      "\n",
      "\n",
      "At cv- 13\n",
      "\n",
      " cross validation score is- 78.80662051516322\n",
      "\n",
      " Accuracy score is- 80.1\n",
      "\n",
      "\n",
      "At cv- 14\n",
      "\n",
      " cross validation score is- 79.07650663085445\n",
      "\n",
      " Accuracy score is- 80.1\n"
     ]
    }
   ],
   "source": [
    "from sklearn.model_selection import cross_val_score\n",
    "for i in range(4,15):\n",
    "    cv_score=cross_val_score(le,x,y,cv=i)\n",
    "    cv_mean=cv_score.mean()\n",
    "    print(\"\\n\\nAt cv-\",i)\n",
    "    print(\"\\n cross validation score is-\",cv_mean*100)\n",
    "    print(\"\\n Accuracy score is-\",test_accuracy)"
   ]
  },
  {
   "cell_type": "markdown",
   "id": "6fe2c4c8",
   "metadata": {},
   "source": [
    "So we are getting the least difference between cross_val_score and accuracy score at cv=14."
   ]
  },
  {
   "cell_type": "code",
   "execution_count": 53,
   "id": "e6fd99b9",
   "metadata": {},
   "outputs": [
    {
     "name": "stdout",
     "output_type": "stream",
     "text": [
      "cross validation score is- 79.07650663085445\n",
      "accuracy score for logistic regression model is- 80.1\n"
     ]
    }
   ],
   "source": [
    "cv_score_best=cross_val_score(le,x,y,cv=14).mean()*100\n",
    "print(\"cross validation score is-\",cv_score_best)\n",
    "print(\"accuracy score for logistic regression model is-\",test_accuracy)"
   ]
  },
  {
   "cell_type": "markdown",
   "id": "feaca2d2",
   "metadata": {},
   "source": [
    "## Building AUC-ROC Curve"
   ]
  },
  {
   "cell_type": "code",
   "execution_count": 54,
   "id": "8f66b89e",
   "metadata": {},
   "outputs": [
    {
     "data": {
      "image/png": "[encoded data removed]",
      "text/plain": [
       "<Figure size 432x288 with 1 Axes>"
      ]
     },
     "metadata": {
      "needs_background": "light"
     },
     "output_type": "display_data"
    }
   ],
   "source": [
    "from sklearn.metrics import roc_curve,auc\n",
    "fpr,tpr,thresholds=roc_curve(pred_test,y_test)\n",
    "roc_auc=auc(fpr,tpr)\n",
    "\n",
    "plt.figure()\n",
    "plt.plot(fpr,tpr,color='orange',lw=10,label=\"ROC curve (area=%0.2f)\"%roc_auc)\n",
    "plt.plot([0,1],[0,1],color='navy',lw=10,linestyle=\"--\")\n",
    "plt.xlim([0.0,1.0])\n",
    "plt.ylim([0.0,1.05])\n",
    "plt.xlabel(\"false positive rate\")\n",
    "plt.ylabel(\"true positive rate\")\n",
    "plt.title(\"reciever operating characteristics\")\n",
    "plt.legend(loc=\"lower right\")\n",
    "plt.show()"
   ]
  },
  {
   "cell_type": "markdown",
   "id": "dd3989b7",
   "metadata": {},
   "source": [
    "## Decision Tree Classifier"
   ]
  },
  {
   "cell_type": "code",
   "execution_count": null,
   "id": "f53de3dc",
   "metadata": {},
   "outputs": [],
   "source": []
  },
  {
   "cell_type": "code",
   "execution_count": 55,
   "id": "01024cfb",
   "metadata": {},
   "outputs": [
    {
     "data": {
      "text/plain": [
       "DecisionTreeClassifier()"
      ]
     },
     "execution_count": 55,
     "metadata": {},
     "output_type": "execute_result"
    }
   ],
   "source": [
    "from sklearn.tree import DecisionTreeClassifier\n",
    "dt=DecisionTreeClassifier()\n",
    "dt.fit(x_train,y_train)"
   ]
  },
  {
   "cell_type": "code",
   "execution_count": 56,
   "id": "ee1f5e9f",
   "metadata": {},
   "outputs": [],
   "source": [
    "dt_pred_train=dt.predict(x_train)\n",
    "dt_pred_test=dt.predict(x_test)"
   ]
  },
  {
   "cell_type": "code",
   "execution_count": 57,
   "id": "c6c80784",
   "metadata": {},
   "outputs": [
    {
     "name": "stdout",
     "output_type": "stream",
     "text": [
      "acc train 1.0\n",
      "acc test 0.9633204633204633\n"
     ]
    }
   ],
   "source": [
    "dt_acc_train=accuracy_score(y_train,dt_pred_train)\n",
    "dt_acc_test=accuracy_score(y_test,dt_pred_test)\n",
    "print(\"acc train\",dt_acc_train)\n",
    "print(\"acc test\",dt_acc_test)\n"
   ]
  },
  {
   "cell_type": "markdown",
   "id": "8a9d285a",
   "metadata": {},
   "source": [
    "## Calculating Cross validation score"
   ]
  },
  {
   "cell_type": "code",
   "execution_count": 58,
   "id": "c6b69c6a",
   "metadata": {},
   "outputs": [
    {
     "name": "stdout",
     "output_type": "stream",
     "text": [
      "\n",
      "\n",
      "At cv- 4\n",
      "\n",
      " cross validation score is- 91.45143577645815\n",
      "\n",
      " Accuracy score is- 96.33204633204633\n",
      "\n",
      "\n",
      "At cv- 5\n",
      "\n",
      " cross validation score is- 93.58027826112932\n",
      "\n",
      " Accuracy score is- 96.33204633204633\n",
      "\n",
      "\n",
      "At cv- 6\n",
      "\n",
      " cross validation score is- 93.89017788089714\n",
      "\n",
      " Accuracy score is- 96.33204633204633\n",
      "\n",
      "\n",
      "At cv- 7\n",
      "\n",
      " cross validation score is- 93.11485701729603\n",
      "\n",
      " Accuracy score is- 96.33204633204633\n",
      "\n",
      "\n",
      "At cv- 8\n",
      "\n",
      " cross validation score is- 93.4638134006039\n",
      "\n",
      " Accuracy score is- 96.33204633204633\n",
      "\n",
      "\n",
      "At cv- 9\n",
      "\n",
      " cross validation score is- 93.61799371961975\n",
      "\n",
      " Accuracy score is- 96.33204633204633\n",
      "\n",
      "\n",
      "At cv- 10\n",
      "\n",
      " cross validation score is- 93.7709137709138\n",
      "\n",
      " Accuracy score is- 96.33204633204633\n",
      "\n",
      "\n",
      "At cv- 11\n",
      "\n",
      " cross validation score is- 94.46857686129232\n",
      "\n",
      " Accuracy score is- 96.33204633204633\n",
      "\n",
      "\n",
      "At cv- 12\n",
      "\n",
      " cross validation score is- 94.4663364915303\n",
      "\n",
      " Accuracy score is- 96.33204633204633\n",
      "\n",
      "\n",
      "At cv- 13\n",
      "\n",
      " cross validation score is- 94.70097183665023\n",
      "\n",
      " Accuracy score is- 96.33204633204633\n",
      "\n",
      "\n",
      "At cv- 14\n",
      "\n",
      " cross validation score is- 93.88807285546417\n",
      "\n",
      " Accuracy score is- 96.33204633204633\n"
     ]
    }
   ],
   "source": [
    "for i in range(4,15):\n",
    "    cv_score=cross_val_score(dt,x,y,cv=i)\n",
    "    cv_mean=cv_score.mean()\n",
    "    print(\"\\n\\nAt cv-\",i)\n",
    "    print(\"\\n cross validation score is-\",cv_mean*100)\n",
    "    print(\"\\n Accuracy score is-\",dt_acc_test*100)"
   ]
  },
  {
   "cell_type": "markdown",
   "id": "215122cf",
   "metadata": {},
   "source": [
    "So we are getting the least difference between cross_val_score and accuracy score at cv=12"
   ]
  },
  {
   "cell_type": "code",
   "execution_count": 59,
   "id": "27e2de01",
   "metadata": {},
   "outputs": [
    {
     "name": "stdout",
     "output_type": "stream",
     "text": [
      "cross validation score is- 94.54277921332185\n",
      "accuracy score for decision tree classifier model is- 96.33204633204633\n"
     ]
    }
   ],
   "source": [
    "cv_score_best=cross_val_score(dt,x,y,cv=12).mean()*100\n",
    "print(\"cross validation score is-\",cv_score_best)\n",
    "print(\"accuracy score for decision tree classifier model is-\",dt_acc_test*100)"
   ]
  },
  {
   "cell_type": "markdown",
   "id": "725c70d5",
   "metadata": {},
   "source": [
    "## Support Vector Machine(SVM)"
   ]
  },
  {
   "cell_type": "code",
   "execution_count": 60,
   "id": "7c669f4f",
   "metadata": {},
   "outputs": [],
   "source": [
    "from sklearn import svm"
   ]
  },
  {
   "cell_type": "code",
   "execution_count": 61,
   "id": "41e86967",
   "metadata": {},
   "outputs": [
    {
     "data": {
      "text/plain": [
       "SVC()"
      ]
     },
     "execution_count": 61,
     "metadata": {},
     "output_type": "execute_result"
    }
   ],
   "source": [
    "sm=svm.SVC()\n",
    "sm.fit(x_train,y_train)"
   ]
  },
  {
   "cell_type": "code",
   "execution_count": 62,
   "id": "561348d1",
   "metadata": {},
   "outputs": [],
   "source": [
    "sm_pred_train=sm.predict(x_train)\n",
    "sm_pred_test=sm.predict(x_test)"
   ]
  },
  {
   "cell_type": "code",
   "execution_count": 63,
   "id": "9dc86dca",
   "metadata": {},
   "outputs": [
    {
     "name": "stdout",
     "output_type": "stream",
     "text": [
      "acc train 87.9110251450677\n",
      "acc test 85.52123552123551\n"
     ]
    }
   ],
   "source": [
    "sm_acc_train=accuracy_score(y_train,sm_pred_train)\n",
    "sm_acc_test=accuracy_score(y_test,sm_pred_test)\n",
    "print(\"acc train\",sm_acc_train*100)\n",
    "print(\"acc test\",sm_acc_test*100)"
   ]
  },
  {
   "cell_type": "markdown",
   "id": "59ee6285",
   "metadata": {},
   "source": [
    "## Calculating Cross Validation Score"
   ]
  },
  {
   "cell_type": "code",
   "execution_count": 64,
   "id": "f3d5d9f9",
   "metadata": {},
   "outputs": [
    {
     "name": "stdout",
     "output_type": "stream",
     "text": [
      "\n",
      "\n",
      "At cv- 4\n",
      "\n",
      " cross validation score is- 84.0264784836899\n",
      "\n",
      " Accuracy score is- 85.52123552123551\n",
      "\n",
      "\n",
      "At cv- 5\n",
      "\n",
      " cross validation score is- 84.14284967476456\n",
      "\n",
      " Accuracy score is- 85.52123552123551\n",
      "\n",
      "\n",
      "At cv- 6\n",
      "\n",
      " cross validation score is- 84.37741686001546\n",
      "\n",
      " Accuracy score is- 85.52123552123551\n",
      "\n",
      "\n",
      "At cv- 7\n",
      "\n",
      " cross validation score is- 84.56718042083897\n",
      "\n",
      " Accuracy score is- 85.52123552123551\n",
      "\n",
      "\n",
      "At cv- 8\n",
      "\n",
      " cross validation score is- 84.83784351947406\n",
      "\n",
      " Accuracy score is- 85.52123552123551\n",
      "\n",
      "\n",
      "At cv- 9\n",
      "\n",
      " cross validation score is- 85.14835247558824\n",
      "\n",
      " Accuracy score is- 85.52123552123551\n",
      "\n",
      "\n",
      "At cv- 10\n",
      "\n",
      " cross validation score is- 84.87474185148602\n",
      "\n",
      " Accuracy score is- 85.52123552123551\n",
      "\n",
      "\n",
      "At cv- 11\n",
      "\n",
      " cross validation score is- 84.99327934957216\n",
      "\n",
      " Accuracy score is- 85.52123552123551\n",
      "\n",
      "\n",
      "At cv- 12\n",
      "\n",
      " cross validation score is- 85.18034022394487\n",
      "\n",
      " Accuracy score is- 85.52123552123551\n",
      "\n",
      "\n",
      "At cv- 13\n",
      "\n",
      " cross validation score is- 85.41874094637912\n",
      "\n",
      " Accuracy score is- 85.52123552123551\n",
      "\n",
      "\n",
      "At cv- 14\n",
      "\n",
      " cross validation score is- 85.0726036595602\n",
      "\n",
      " Accuracy score is- 85.52123552123551\n"
     ]
    }
   ],
   "source": [
    "for i in range(4,15):\n",
    "    cv_score=cross_val_score(sm,x,y,cv=i)\n",
    "    cv_mean=cv_score.mean()\n",
    "    print(\"\\n\\nAt cv-\",i)\n",
    "    print(\"\\n cross validation score is-\",cv_mean*100)\n",
    "    print(\"\\n Accuracy score is-\",sm_acc_test*100)"
   ]
  },
  {
   "cell_type": "markdown",
   "id": "abf299d0",
   "metadata": {},
   "source": [
    "So we are getting the least difference between cross_val_score and accuracy score at cv=13"
   ]
  },
  {
   "cell_type": "code",
   "execution_count": 65,
   "id": "355fad25",
   "metadata": {},
   "outputs": [
    {
     "name": "stdout",
     "output_type": "stream",
     "text": [
      "cross validation score is- 85.41874094637912\n",
      "accuracy score for support vector classifier model is- 85.52123552123551\n"
     ]
    }
   ],
   "source": [
    "cv_score_best=cross_val_score(sm,x,y,cv=13).mean()*100\n",
    "print(\"cross validation score is-\",cv_score_best)\n",
    "print(\"accuracy score for support vector classifier model is-\",sm_acc_test*100)"
   ]
  },
  {
   "cell_type": "markdown",
   "id": "e31c8888",
   "metadata": {},
   "source": [
    "## K Nearest Classifier"
   ]
  },
  {
   "cell_type": "code",
   "execution_count": 66,
   "id": "e18f1b9d",
   "metadata": {},
   "outputs": [],
   "source": [
    "from sklearn.neighbors import KNeighborsClassifier"
   ]
  },
  {
   "cell_type": "code",
   "execution_count": 67,
   "id": "8fa12861",
   "metadata": {},
   "outputs": [
    {
     "data": {
      "text/plain": [
       "KNeighborsClassifier()"
      ]
     },
     "execution_count": 67,
     "metadata": {},
     "output_type": "execute_result"
    }
   ],
   "source": [
    "knn=KNeighborsClassifier()\n",
    "knn.fit(x_train,y_train)"
   ]
  },
  {
   "cell_type": "code",
   "execution_count": 68,
   "id": "7117f0c7",
   "metadata": {},
   "outputs": [],
   "source": [
    "knn_pred_train=knn.predict(x_train)\n",
    "knn_pred_test=knn.predict(x_test)"
   ]
  },
  {
   "cell_type": "code",
   "execution_count": 69,
   "id": "b06b7729",
   "metadata": {},
   "outputs": [
    {
     "name": "stdout",
     "output_type": "stream",
     "text": [
      "acc train 92.84332688588007\n",
      "acc test 88.03088803088804\n"
     ]
    }
   ],
   "source": [
    "knn_acc_train=accuracy_score(y_train,knn_pred_train)\n",
    "knn_acc_test=accuracy_score(y_test,knn_pred_test)\n",
    "print(\"acc train\",knn_acc_train*100)\n",
    "print(\"acc test\",knn_acc_test*100)"
   ]
  },
  {
   "cell_type": "markdown",
   "id": "9142122e",
   "metadata": {},
   "source": [
    "## Calculating Cross Validation Score"
   ]
  },
  {
   "cell_type": "code",
   "execution_count": 70,
   "id": "ebe7114c",
   "metadata": {},
   "outputs": [
    {
     "name": "stdout",
     "output_type": "stream",
     "text": [
      "\n",
      "\n",
      "At cv- 4\n",
      "\n",
      " cross validation score is- 84.29665854790626\n",
      "\n",
      " Accuracy score is- 88.03088803088804\n",
      "\n",
      "\n",
      "At cv- 5\n",
      "\n",
      " cross validation score is- 85.45723396787228\n",
      "\n",
      " Accuracy score is- 88.03088803088804\n",
      "\n",
      "\n",
      "At cv- 6\n",
      "\n",
      " cross validation score is- 85.38283062645013\n",
      "\n",
      " Accuracy score is- 88.03088803088804\n",
      "\n",
      "\n",
      "At cv- 7\n",
      "\n",
      " cross validation score is- 86.501553818627\n",
      "\n",
      " Accuracy score is- 88.03088803088804\n",
      "\n",
      "\n",
      "At cv- 8\n",
      "\n",
      " cross validation score is- 86.92607403585215\n",
      "\n",
      " Accuracy score is- 88.03088803088804\n",
      "\n",
      "\n",
      "At cv- 9\n",
      "\n",
      " cross validation score is- 87.19834817395792\n",
      "\n",
      " Accuracy score is- 88.03088803088804\n",
      "\n",
      "\n",
      "At cv- 10\n",
      "\n",
      " cross validation score is- 87.0789560324444\n",
      "\n",
      " Accuracy score is- 88.03088803088804\n",
      "\n",
      "\n",
      "At cv- 11\n",
      "\n",
      " cross validation score is- 87.62449595121791\n",
      "\n",
      " Accuracy score is- 88.03088803088804\n",
      "\n",
      "\n",
      "At cv- 12\n",
      "\n",
      " cross validation score is- 88.08265144989952\n",
      "\n",
      " Accuracy score is- 88.03088803088804\n",
      "\n",
      "\n",
      "At cv- 13\n",
      "\n",
      " cross validation score is- 87.97171560990658\n",
      "\n",
      " Accuracy score is- 88.03088803088804\n",
      "\n",
      "\n",
      "At cv- 14\n",
      "\n",
      " cross validation score is- 88.20526271613228\n",
      "\n",
      " Accuracy score is- 88.03088803088804\n"
     ]
    }
   ],
   "source": [
    "for i in range(4,15):\n",
    "    cv_score=cross_val_score(knn,x,y,cv=i)\n",
    "    cv_mean=cv_score.mean()\n",
    "    print(\"\\n\\nAt cv-\",i)\n",
    "    print(\"\\n cross validation score is-\",cv_mean*100)\n",
    "    print(\"\\n Accuracy score is-\",knn_acc_test*100)"
   ]
  },
  {
   "cell_type": "markdown",
   "id": "4c34bf60",
   "metadata": {},
   "source": [
    "So we are getting the least difference between cross_val_score and accuracy score at cv=12"
   ]
  },
  {
   "cell_type": "code",
   "execution_count": 71,
   "id": "42c271c9",
   "metadata": {},
   "outputs": [
    {
     "name": "stdout",
     "output_type": "stream",
     "text": [
      "cross validation score is- 88.08265144989952\n",
      "accuracy score for K Nearest classifier model is- 88.03088803088804\n"
     ]
    }
   ],
   "source": [
    "cv_score_best=cross_val_score(knn,x,y,cv=12).mean()*100\n",
    "print(\"cross validation score is-\",cv_score_best)\n",
    "print(\"accuracy score for K Nearest classifier model is-\",knn_acc_test*100)"
   ]
  },
  {
   "cell_type": "markdown",
   "id": "34ab191b",
   "metadata": {},
   "source": [
    "# So after analysing 4 models, we are getting following accuracy with each model as below: \n",
    "1) Logistic Regression- 80.1% and cv score- 79.07%\n",
    "2) Decision Tree Classifier- 95.94% and cv score- 94.69%\n",
    "3) Support Vector Classifier- 86.87% and cv score- 85.41%\n",
    "4) K nearest neighbors classifier- 88.03% and cv score- 88.08%\n",
    "\n",
    "So Knn classifier will be considered as the best performing model as the difference between its accuracy score and cv score\n",
    "is least, \n",
    "So now lets apply hyper parameter tuning on this model for its better performance and for getting better accuracy."
   ]
  },
  {
   "cell_type": "markdown",
   "id": "ff51d5f4",
   "metadata": {},
   "source": [
    "## Hyper Parameter Tuning"
   ]
  },
  {
   "cell_type": "code",
   "execution_count": 72,
   "id": "393adcd8",
   "metadata": {},
   "outputs": [],
   "source": [
    "from sklearn.model_selection import GridSearchCV"
   ]
  },
  {
   "cell_type": "code",
   "execution_count": 73,
   "id": "9cdcb053",
   "metadata": {},
   "outputs": [],
   "source": [
    "param_grid={'algorithm':['ball_tree','kd_tree','brute'],\n",
    "           'leaf_size':[18,20,25,27,30,32,34],\n",
    "           'n_neighbors':[3,5,7,9,11,12,13]}"
   ]
  },
  {
   "cell_type": "code",
   "execution_count": 74,
   "id": "312e2c3f",
   "metadata": {},
   "outputs": [],
   "source": [
    "gridsearch=GridSearchCV(knn,param_grid,verbose=3)"
   ]
  },
  {
   "cell_type": "code",
   "execution_count": 75,
   "id": "3fc047d6",
   "metadata": {},
   "outputs": [
    {
     "name": "stdout",
     "output_type": "stream",
     "text": [
      "Fitting 5 folds for each of 147 candidates, totalling 735 fits\n",
      "[CV 1/5] END algorithm=ball_tree, leaf_size=18, n_neighbors=3;, score=0.901 total time=   0.0s\n",
      "[CV 2/5] END algorithm=ball_tree, leaf_size=18, n_neighbors=3;, score=0.886 total time=   0.0s\n",
      "[CV 3/5] END algorithm=ball_tree, leaf_size=18, n_neighbors=3;, score=0.925 total time=   0.0s\n",
      "[CV 4/5] END algorithm=ball_tree, leaf_size=18, n_neighbors=3;, score=0.908 total time=   0.0s\n",
      "[CV 5/5] END algorithm=ball_tree, leaf_size=18, n_neighbors=3;, score=0.927 total time=   0.0s\n",
      "[CV 1/5] END algorithm=ball_tree, leaf_size=18, n_neighbors=5;, score=0.867 total time=   0.0s\n",
      "[CV 2/5] END algorithm=ball_tree, leaf_size=18, n_neighbors=5;, score=0.872 total time=   0.0s\n",
      "[CV 3/5] END algorithm=ball_tree, leaf_size=18, n_neighbors=5;, score=0.896 total time=   0.0s\n",
      "[CV 4/5] END algorithm=ball_tree, leaf_size=18, n_neighbors=5;, score=0.869 total time=   0.0s\n",
      "[CV 5/5] END algorithm=ball_tree, leaf_size=18, n_neighbors=5;, score=0.881 total time=   0.0s\n",
      "[CV 1/5] END algorithm=ball_tree, leaf_size=18, n_neighbors=7;, score=0.841 total time=   0.0s\n",
      "[CV 2/5] END algorithm=ball_tree, leaf_size=18, n_neighbors=7;, score=0.860 total time=   0.0s\n",
      "[CV 3/5] END algorithm=ball_tree, leaf_size=18, n_neighbors=7;, score=0.865 total time=   0.0s\n",
      "[CV 4/5] END algorithm=ball_tree, leaf_size=18, n_neighbors=7;, score=0.845 total time=   0.0s\n",
      "[CV 5/5] END algorithm=ball_tree, leaf_size=18, n_neighbors=7;, score=0.862 total time=   0.0s\n",
      "[CV 1/5] END algorithm=ball_tree, leaf_size=18, n_neighbors=9;, score=0.819 total time=   0.0s\n",
      "[CV 2/5] END algorithm=ball_tree, leaf_size=18, n_neighbors=9;, score=0.838 total time=   0.0s\n",
      "[CV 3/5] END algorithm=ball_tree, leaf_size=18, n_neighbors=9;, score=0.853 total time=   0.0s\n",
      "[CV 4/5] END algorithm=ball_tree, leaf_size=18, n_neighbors=9;, score=0.818 total time=   0.0s\n",
      "[CV 5/5] END algorithm=ball_tree, leaf_size=18, n_neighbors=9;, score=0.850 total time=   0.0s\n",
      "[CV 1/5] END algorithm=ball_tree, leaf_size=18, n_neighbors=11;, score=0.809 total time=   0.0s\n",
      "[CV 2/5] END algorithm=ball_tree, leaf_size=18, n_neighbors=11;, score=0.841 total time=   0.0s\n",
      "[CV 3/5] END algorithm=ball_tree, leaf_size=18, n_neighbors=11;, score=0.831 total time=   0.0s\n",
      "[CV 4/5] END algorithm=ball_tree, leaf_size=18, n_neighbors=11;, score=0.811 total time=   0.0s\n",
      "[CV 5/5] END algorithm=ball_tree, leaf_size=18, n_neighbors=11;, score=0.821 total time=   0.0s\n",
      "[CV 1/5] END algorithm=ball_tree, leaf_size=18, n_neighbors=12;, score=0.816 total time=   0.0s\n",
      "[CV 2/5] END algorithm=ball_tree, leaf_size=18, n_neighbors=12;, score=0.850 total time=   0.0s\n",
      "[CV 3/5] END algorithm=ball_tree, leaf_size=18, n_neighbors=12;, score=0.829 total time=   0.0s\n",
      "[CV 4/5] END algorithm=ball_tree, leaf_size=18, n_neighbors=12;, score=0.814 total time=   0.0s\n",
      "[CV 5/5] END algorithm=ball_tree, leaf_size=18, n_neighbors=12;, score=0.816 total time=   0.0s\n",
      "[CV 1/5] END algorithm=ball_tree, leaf_size=18, n_neighbors=13;, score=0.812 total time=   0.0s\n",
      "[CV 2/5] END algorithm=ball_tree, leaf_size=18, n_neighbors=13;, score=0.845 total time=   0.0s\n",
      "[CV 3/5] END algorithm=ball_tree, leaf_size=18, n_neighbors=13;, score=0.829 total time=   0.0s\n",
      "[CV 4/5] END algorithm=ball_tree, leaf_size=18, n_neighbors=13;, score=0.809 total time=   0.0s\n",
      "[CV 5/5] END algorithm=ball_tree, leaf_size=18, n_neighbors=13;, score=0.821 total time=   0.0s\n",
      "[CV 1/5] END algorithm=ball_tree, leaf_size=20, n_neighbors=3;, score=0.901 total time=   0.0s\n",
      "[CV 2/5] END algorithm=ball_tree, leaf_size=20, n_neighbors=3;, score=0.886 total time=   0.0s\n",
      "[CV 3/5] END algorithm=ball_tree, leaf_size=20, n_neighbors=3;, score=0.925 total time=   0.0s\n",
      "[CV 4/5] END algorithm=ball_tree, leaf_size=20, n_neighbors=3;, score=0.908 total time=   0.0s\n",
      "[CV 5/5] END algorithm=ball_tree, leaf_size=20, n_neighbors=3;, score=0.927 total time=   0.0s\n",
      "[CV 1/5] END algorithm=ball_tree, leaf_size=20, n_neighbors=5;, score=0.867 total time=   0.0s\n",
      "[CV 2/5] END algorithm=ball_tree, leaf_size=20, n_neighbors=5;, score=0.872 total time=   0.0s\n",
      "[CV 3/5] END algorithm=ball_tree, leaf_size=20, n_neighbors=5;, score=0.896 total time=   0.0s\n",
      "[CV 4/5] END algorithm=ball_tree, leaf_size=20, n_neighbors=5;, score=0.869 total time=   0.0s\n",
      "[CV 5/5] END algorithm=ball_tree, leaf_size=20, n_neighbors=5;, score=0.881 total time=   0.0s\n",
      "[CV 1/5] END algorithm=ball_tree, leaf_size=20, n_neighbors=7;, score=0.841 total time=   0.0s\n",
      "[CV 2/5] END algorithm=ball_tree, leaf_size=20, n_neighbors=7;, score=0.860 total time=   0.0s\n",
      "[CV 3/5] END algorithm=ball_tree, leaf_size=20, n_neighbors=7;, score=0.865 total time=   0.0s\n",
      "[CV 4/5] END algorithm=ball_tree, leaf_size=20, n_neighbors=7;, score=0.845 total time=   0.0s\n",
      "[CV 5/5] END algorithm=ball_tree, leaf_size=20, n_neighbors=7;, score=0.862 total time=   0.0s\n",
      "[CV 1/5] END algorithm=ball_tree, leaf_size=20, n_neighbors=9;, score=0.819 total time=   0.0s\n",
      "[CV 2/5] END algorithm=ball_tree, leaf_size=20, n_neighbors=9;, score=0.838 total time=   0.0s\n",
      "[CV 3/5] END algorithm=ball_tree, leaf_size=20, n_neighbors=9;, score=0.853 total time=   0.0s\n",
      "[CV 4/5] END algorithm=ball_tree, leaf_size=20, n_neighbors=9;, score=0.818 total time=   0.0s\n",
      "[CV 5/5] END algorithm=ball_tree, leaf_size=20, n_neighbors=9;, score=0.850 total time=   0.0s\n",
      "[CV 1/5] END algorithm=ball_tree, leaf_size=20, n_neighbors=11;, score=0.809 total time=   0.0s\n",
      "[CV 2/5] END algorithm=ball_tree, leaf_size=20, n_neighbors=11;, score=0.841 total time=   0.0s\n",
      "[CV 3/5] END algorithm=ball_tree, leaf_size=20, n_neighbors=11;, score=0.831 total time=   0.0s\n",
      "[CV 4/5] END algorithm=ball_tree, leaf_size=20, n_neighbors=11;, score=0.811 total time=   0.0s\n",
      "[CV 5/5] END algorithm=ball_tree, leaf_size=20, n_neighbors=11;, score=0.821 total time=   0.0s\n",
      "[CV 1/5] END algorithm=ball_tree, leaf_size=20, n_neighbors=12;, score=0.816 total time=   0.0s\n",
      "[CV 2/5] END algorithm=ball_tree, leaf_size=20, n_neighbors=12;, score=0.850 total time=   0.0s\n",
      "[CV 3/5] END algorithm=ball_tree, leaf_size=20, n_neighbors=12;, score=0.829 total time=   0.0s\n",
      "[CV 4/5] END algorithm=ball_tree, leaf_size=20, n_neighbors=12;, score=0.814 total time=   0.0s\n",
      "[CV 5/5] END algorithm=ball_tree, leaf_size=20, n_neighbors=12;, score=0.816 total time=   0.0s\n",
      "[CV 1/5] END algorithm=ball_tree, leaf_size=20, n_neighbors=13;, score=0.812 total time=   0.0s\n",
      "[CV 2/5] END algorithm=ball_tree, leaf_size=20, n_neighbors=13;, score=0.845 total time=   0.0s\n",
      "[CV 3/5] END algorithm=ball_tree, leaf_size=20, n_neighbors=13;, score=0.829 total time=   0.0s\n",
      "[CV 4/5] END algorithm=ball_tree, leaf_size=20, n_neighbors=13;, score=0.809 total time=   0.0s\n",
      "[CV 5/5] END algorithm=ball_tree, leaf_size=20, n_neighbors=13;, score=0.821 total time=   0.0s\n",
      "[CV 1/5] END algorithm=ball_tree, leaf_size=25, n_neighbors=3;, score=0.901 total time=   0.0s\n",
      "[CV 2/5] END algorithm=ball_tree, leaf_size=25, n_neighbors=3;, score=0.886 total time=   0.0s\n",
      "[CV 3/5] END algorithm=ball_tree, leaf_size=25, n_neighbors=3;, score=0.925 total time=   0.0s\n",
      "[CV 4/5] END algorithm=ball_tree, leaf_size=25, n_neighbors=3;, score=0.908 total time=   0.0s\n",
      "[CV 5/5] END algorithm=ball_tree, leaf_size=25, n_neighbors=3;, score=0.927 total time=   0.0s\n",
      "[CV 1/5] END algorithm=ball_tree, leaf_size=25, n_neighbors=5;, score=0.867 total time=   0.0s\n",
      "[CV 2/5] END algorithm=ball_tree, leaf_size=25, n_neighbors=5;, score=0.872 total time=   0.0s\n",
      "[CV 3/5] END algorithm=ball_tree, leaf_size=25, n_neighbors=5;, score=0.896 total time=   0.0s\n",
      "[CV 4/5] END algorithm=ball_tree, leaf_size=25, n_neighbors=5;, score=0.869 total time=   0.0s\n",
      "[CV 5/5] END algorithm=ball_tree, leaf_size=25, n_neighbors=5;, score=0.881 total time=   0.0s\n",
      "[CV 1/5] END algorithm=ball_tree, leaf_size=25, n_neighbors=7;, score=0.841 total time=   0.0s\n",
      "[CV 2/5] END algorithm=ball_tree, leaf_size=25, n_neighbors=7;, score=0.860 total time=   0.0s\n",
      "[CV 3/5] END algorithm=ball_tree, leaf_size=25, n_neighbors=7;, score=0.865 total time=   0.0s\n",
      "[CV 4/5] END algorithm=ball_tree, leaf_size=25, n_neighbors=7;, score=0.845 total time=   0.0s\n",
      "[CV 5/5] END algorithm=ball_tree, leaf_size=25, n_neighbors=7;, score=0.862 total time=   0.0s\n",
      "[CV 1/5] END algorithm=ball_tree, leaf_size=25, n_neighbors=9;, score=0.819 total time=   0.0s\n",
      "[CV 2/5] END algorithm=ball_tree, leaf_size=25, n_neighbors=9;, score=0.838 total time=   0.0s\n",
      "[CV 3/5] END algorithm=ball_tree, leaf_size=25, n_neighbors=9;, score=0.853 total time=   0.0s\n",
      "[CV 4/5] END algorithm=ball_tree, leaf_size=25, n_neighbors=9;, score=0.818 total time=   0.0s\n",
      "[CV 5/5] END algorithm=ball_tree, leaf_size=25, n_neighbors=9;, score=0.850 total time=   0.0s\n",
      "[CV 1/5] END algorithm=ball_tree, leaf_size=25, n_neighbors=11;, score=0.809 total time=   0.0s\n",
      "[CV 2/5] END algorithm=ball_tree, leaf_size=25, n_neighbors=11;, score=0.841 total time=   0.0s\n",
      "[CV 3/5] END algorithm=ball_tree, leaf_size=25, n_neighbors=11;, score=0.831 total time=   0.0s\n",
      "[CV 4/5] END algorithm=ball_tree, leaf_size=25, n_neighbors=11;, score=0.811 total time=   0.0s\n",
      "[CV 5/5] END algorithm=ball_tree, leaf_size=25, n_neighbors=11;, score=0.821 total time=   0.0s\n",
      "[CV 1/5] END algorithm=ball_tree, leaf_size=25, n_neighbors=12;, score=0.816 total time=   0.0s\n",
      "[CV 2/5] END algorithm=ball_tree, leaf_size=25, n_neighbors=12;, score=0.850 total time=   0.0s\n",
      "[CV 3/5] END algorithm=ball_tree, leaf_size=25, n_neighbors=12;, score=0.829 total time=   0.0s\n",
      "[CV 4/5] END algorithm=ball_tree, leaf_size=25, n_neighbors=12;, score=0.814 total time=   0.0s\n",
      "[CV 5/5] END algorithm=ball_tree, leaf_size=25, n_neighbors=12;, score=0.816 total time=   0.0s\n",
      "[CV 1/5] END algorithm=ball_tree, leaf_size=25, n_neighbors=13;, score=0.812 total time=   0.0s\n",
      "[CV 2/5] END algorithm=ball_tree, leaf_size=25, n_neighbors=13;, score=0.845 total time=   0.0s\n",
      "[CV 3/5] END algorithm=ball_tree, leaf_size=25, n_neighbors=13;, score=0.829 total time=   0.0s\n",
      "[CV 4/5] END algorithm=ball_tree, leaf_size=25, n_neighbors=13;, score=0.809 total time=   0.0s\n",
      "[CV 5/5] END algorithm=ball_tree, leaf_size=25, n_neighbors=13;, score=0.821 total time=   0.0s\n",
      "[CV 1/5] END algorithm=ball_tree, leaf_size=27, n_neighbors=3;, score=0.901 total time=   0.0s\n",
      "[CV 2/5] END algorithm=ball_tree, leaf_size=27, n_neighbors=3;, score=0.886 total time=   0.0s\n",
      "[CV 3/5] END algorithm=ball_tree, leaf_size=27, n_neighbors=3;, score=0.925 total time=   0.0s\n",
      "[CV 4/5] END algorithm=ball_tree, leaf_size=27, n_neighbors=3;, score=0.908 total time=   0.0s\n",
      "[CV 5/5] END algorithm=ball_tree, leaf_size=27, n_neighbors=3;, score=0.927 total time=   0.0s\n",
      "[CV 1/5] END algorithm=ball_tree, leaf_size=27, n_neighbors=5;, score=0.867 total time=   0.0s\n",
      "[CV 2/5] END algorithm=ball_tree, leaf_size=27, n_neighbors=5;, score=0.872 total time=   0.0s\n",
      "[CV 3/5] END algorithm=ball_tree, leaf_size=27, n_neighbors=5;, score=0.896 total time=   0.0s\n",
      "[CV 4/5] END algorithm=ball_tree, leaf_size=27, n_neighbors=5;, score=0.869 total time=   0.0s\n",
      "[CV 5/5] END algorithm=ball_tree, leaf_size=27, n_neighbors=5;, score=0.881 total time=   0.0s\n",
      "[CV 1/5] END algorithm=ball_tree, leaf_size=27, n_neighbors=7;, score=0.841 total time=   0.0s\n",
      "[CV 2/5] END algorithm=ball_tree, leaf_size=27, n_neighbors=7;, score=0.860 total time=   0.0s\n",
      "[CV 3/5] END algorithm=ball_tree, leaf_size=27, n_neighbors=7;, score=0.865 total time=   0.0s\n",
      "[CV 4/5] END algorithm=ball_tree, leaf_size=27, n_neighbors=7;, score=0.845 total time=   0.0s\n",
      "[CV 5/5] END algorithm=ball_tree, leaf_size=27, n_neighbors=7;, score=0.862 total time=   0.0s\n",
      "[CV 1/5] END algorithm=ball_tree, leaf_size=27, n_neighbors=9;, score=0.819 total time=   0.0s\n",
      "[CV 2/5] END algorithm=ball_tree, leaf_size=27, n_neighbors=9;, score=0.838 total time=   0.0s\n",
      "[CV 3/5] END algorithm=ball_tree, leaf_size=27, n_neighbors=9;, score=0.853 total time=   0.0s\n",
      "[CV 4/5] END algorithm=ball_tree, leaf_size=27, n_neighbors=9;, score=0.818 total time=   0.0s\n",
      "[CV 5/5] END algorithm=ball_tree, leaf_size=27, n_neighbors=9;, score=0.850 total time=   0.0s\n",
      "[CV 1/5] END algorithm=ball_tree, leaf_size=27, n_neighbors=11;, score=0.809 total time=   0.0s\n",
      "[CV 2/5] END algorithm=ball_tree, leaf_size=27, n_neighbors=11;, score=0.841 total time=   0.0s\n",
      "[CV 3/5] END algorithm=ball_tree, leaf_size=27, n_neighbors=11;, score=0.831 total time=   0.0s\n",
      "[CV 4/5] END algorithm=ball_tree, leaf_size=27, n_neighbors=11;, score=0.811 total time=   0.0s\n",
      "[CV 5/5] END algorithm=ball_tree, leaf_size=27, n_neighbors=11;, score=0.821 total time=   0.0s\n",
      "[CV 1/5] END algorithm=ball_tree, leaf_size=27, n_neighbors=12;, score=0.816 total time=   0.0s\n",
      "[CV 2/5] END algorithm=ball_tree, leaf_size=27, n_neighbors=12;, score=0.850 total time=   0.0s\n",
      "[CV 3/5] END algorithm=ball_tree, leaf_size=27, n_neighbors=12;, score=0.829 total time=   0.0s\n",
      "[CV 4/5] END algorithm=ball_tree, leaf_size=27, n_neighbors=12;, score=0.814 total time=   0.0s\n",
      "[CV 5/5] END algorithm=ball_tree, leaf_size=27, n_neighbors=12;, score=0.816 total time=   0.0s\n",
      "[CV 1/5] END algorithm=ball_tree, leaf_size=27, n_neighbors=13;, score=0.812 total time=   0.0s\n",
      "[CV 2/5] END algorithm=ball_tree, leaf_size=27, n_neighbors=13;, score=0.845 total time=   0.0s\n",
      "[CV 3/5] END algorithm=ball_tree, leaf_size=27, n_neighbors=13;, score=0.829 total time=   0.0s\n",
      "[CV 4/5] END algorithm=ball_tree, leaf_size=27, n_neighbors=13;, score=0.809 total time=   0.0s\n",
      "[CV 5/5] END algorithm=ball_tree, leaf_size=27, n_neighbors=13;, score=0.821 total time=   0.0s\n",
      "[CV 1/5] END algorithm=ball_tree, leaf_size=30, n_neighbors=3;, score=0.901 total time=   0.0s\n",
      "[CV 2/5] END algorithm=ball_tree, leaf_size=30, n_neighbors=3;, score=0.886 total time=   0.0s\n",
      "[CV 3/5] END algorithm=ball_tree, leaf_size=30, n_neighbors=3;, score=0.925 total time=   0.0s\n",
      "[CV 4/5] END algorithm=ball_tree, leaf_size=30, n_neighbors=3;, score=0.908 total time=   0.0s\n",
      "[CV 5/5] END algorithm=ball_tree, leaf_size=30, n_neighbors=3;, score=0.927 total time=   0.0s\n",
      "[CV 1/5] END algorithm=ball_tree, leaf_size=30, n_neighbors=5;, score=0.867 total time=   0.0s\n",
      "[CV 2/5] END algorithm=ball_tree, leaf_size=30, n_neighbors=5;, score=0.872 total time=   0.0s\n",
      "[CV 3/5] END algorithm=ball_tree, leaf_size=30, n_neighbors=5;, score=0.896 total time=   0.0s\n",
      "[CV 4/5] END algorithm=ball_tree, leaf_size=30, n_neighbors=5;, score=0.869 total time=   0.0s\n",
      "[CV 5/5] END algorithm=ball_tree, leaf_size=30, n_neighbors=5;, score=0.881 total time=   0.0s\n",
      "[CV 1/5] END algorithm=ball_tree, leaf_size=30, n_neighbors=7;, score=0.841 total time=   0.0s\n",
      "[CV 2/5] END algorithm=ball_tree, leaf_size=30, n_neighbors=7;, score=0.860 total time=   0.0s\n",
      "[CV 3/5] END algorithm=ball_tree, leaf_size=30, n_neighbors=7;, score=0.865 total time=   0.0s\n",
      "[CV 4/5] END algorithm=ball_tree, leaf_size=30, n_neighbors=7;, score=0.845 total time=   0.0s\n",
      "[CV 5/5] END algorithm=ball_tree, leaf_size=30, n_neighbors=7;, score=0.862 total time=   0.0s\n",
      "[CV 1/5] END algorithm=ball_tree, leaf_size=30, n_neighbors=9;, score=0.819 total time=   0.0s\n",
      "[CV 2/5] END algorithm=ball_tree, leaf_size=30, n_neighbors=9;, score=0.838 total time=   0.0s\n",
      "[CV 3/5] END algorithm=ball_tree, leaf_size=30, n_neighbors=9;, score=0.853 total time=   0.0s\n",
      "[CV 4/5] END algorithm=ball_tree, leaf_size=30, n_neighbors=9;, score=0.818 total time=   0.0s\n",
      "[CV 5/5] END algorithm=ball_tree, leaf_size=30, n_neighbors=9;, score=0.850 total time=   0.0s\n",
      "[CV 1/5] END algorithm=ball_tree, leaf_size=30, n_neighbors=11;, score=0.809 total time=   0.0s\n",
      "[CV 2/5] END algorithm=ball_tree, leaf_size=30, n_neighbors=11;, score=0.841 total time=   0.0s\n",
      "[CV 3/5] END algorithm=ball_tree, leaf_size=30, n_neighbors=11;, score=0.831 total time=   0.0s\n",
      "[CV 4/5] END algorithm=ball_tree, leaf_size=30, n_neighbors=11;, score=0.811 total time=   0.0s\n",
      "[CV 5/5] END algorithm=ball_tree, leaf_size=30, n_neighbors=11;, score=0.821 total time=   0.0s\n",
      "[CV 1/5] END algorithm=ball_tree, leaf_size=30, n_neighbors=12;, score=0.816 total time=   0.0s\n",
      "[CV 2/5] END algorithm=ball_tree, leaf_size=30, n_neighbors=12;, score=0.850 total time=   0.0s\n",
      "[CV 3/5] END algorithm=ball_tree, leaf_size=30, n_neighbors=12;, score=0.829 total time=   0.0s\n",
      "[CV 4/5] END algorithm=ball_tree, leaf_size=30, n_neighbors=12;, score=0.814 total time=   0.0s\n",
      "[CV 5/5] END algorithm=ball_tree, leaf_size=30, n_neighbors=12;, score=0.816 total time=   0.0s\n",
      "[CV 1/5] END algorithm=ball_tree, leaf_size=30, n_neighbors=13;, score=0.812 total time=   0.0s\n",
      "[CV 2/5] END algorithm=ball_tree, leaf_size=30, n_neighbors=13;, score=0.845 total time=   0.0s\n",
      "[CV 3/5] END algorithm=ball_tree, leaf_size=30, n_neighbors=13;, score=0.829 total time=   0.0s\n",
      "[CV 4/5] END algorithm=ball_tree, leaf_size=30, n_neighbors=13;, score=0.809 total time=   0.0s\n",
      "[CV 5/5] END algorithm=ball_tree, leaf_size=30, n_neighbors=13;, score=0.821 total time=   0.0s\n",
      "[CV 1/5] END algorithm=ball_tree, leaf_size=32, n_neighbors=3;, score=0.901 total time=   0.0s\n",
      "[CV 2/5] END algorithm=ball_tree, leaf_size=32, n_neighbors=3;, score=0.886 total time=   0.0s\n",
      "[CV 3/5] END algorithm=ball_tree, leaf_size=32, n_neighbors=3;, score=0.925 total time=   0.0s\n",
      "[CV 4/5] END algorithm=ball_tree, leaf_size=32, n_neighbors=3;, score=0.908 total time=   0.0s\n",
      "[CV 5/5] END algorithm=ball_tree, leaf_size=32, n_neighbors=3;, score=0.927 total time=   0.0s\n",
      "[CV 1/5] END algorithm=ball_tree, leaf_size=32, n_neighbors=5;, score=0.867 total time=   0.0s\n",
      "[CV 2/5] END algorithm=ball_tree, leaf_size=32, n_neighbors=5;, score=0.872 total time=   0.0s\n",
      "[CV 3/5] END algorithm=ball_tree, leaf_size=32, n_neighbors=5;, score=0.896 total time=   0.0s\n",
      "[CV 4/5] END algorithm=ball_tree, leaf_size=32, n_neighbors=5;, score=0.869 total time=   0.0s\n",
      "[CV 5/5] END algorithm=ball_tree, leaf_size=32, n_neighbors=5;, score=0.881 total time=   0.0s\n",
      "[CV 1/5] END algorithm=ball_tree, leaf_size=32, n_neighbors=7;, score=0.841 total time=   0.0s\n",
      "[CV 2/5] END algorithm=ball_tree, leaf_size=32, n_neighbors=7;, score=0.860 total time=   0.0s\n",
      "[CV 3/5] END algorithm=ball_tree, leaf_size=32, n_neighbors=7;, score=0.865 total time=   0.0s\n",
      "[CV 4/5] END algorithm=ball_tree, leaf_size=32, n_neighbors=7;, score=0.845 total time=   0.0s\n",
      "[CV 5/5] END algorithm=ball_tree, leaf_size=32, n_neighbors=7;, score=0.862 total time=   0.0s\n",
      "[CV 1/5] END algorithm=ball_tree, leaf_size=32, n_neighbors=9;, score=0.819 total time=   0.0s\n",
      "[CV 2/5] END algorithm=ball_tree, leaf_size=32, n_neighbors=9;, score=0.838 total time=   0.0s\n",
      "[CV 3/5] END algorithm=ball_tree, leaf_size=32, n_neighbors=9;, score=0.853 total time=   0.0s\n",
      "[CV 4/5] END algorithm=ball_tree, leaf_size=32, n_neighbors=9;, score=0.818 total time=   0.0s\n",
      "[CV 5/5] END algorithm=ball_tree, leaf_size=32, n_neighbors=9;, score=0.850 total time=   0.0s\n",
      "[CV 1/5] END algorithm=ball_tree, leaf_size=32, n_neighbors=11;, score=0.809 total time=   0.0s\n",
      "[CV 2/5] END algorithm=ball_tree, leaf_size=32, n_neighbors=11;, score=0.841 total time=   0.0s\n",
      "[CV 3/5] END algorithm=ball_tree, leaf_size=32, n_neighbors=11;, score=0.831 total time=   0.0s\n",
      "[CV 4/5] END algorithm=ball_tree, leaf_size=32, n_neighbors=11;, score=0.811 total time=   0.0s\n",
      "[CV 5/5] END algorithm=ball_tree, leaf_size=32, n_neighbors=11;, score=0.821 total time=   0.0s\n",
      "[CV 1/5] END algorithm=ball_tree, leaf_size=32, n_neighbors=12;, score=0.816 total time=   0.0s\n",
      "[CV 2/5] END algorithm=ball_tree, leaf_size=32, n_neighbors=12;, score=0.850 total time=   0.0s\n",
      "[CV 3/5] END algorithm=ball_tree, leaf_size=32, n_neighbors=12;, score=0.829 total time=   0.0s\n",
      "[CV 4/5] END algorithm=ball_tree, leaf_size=32, n_neighbors=12;, score=0.814 total time=   0.0s\n",
      "[CV 5/5] END algorithm=ball_tree, leaf_size=32, n_neighbors=12;, score=0.816 total time=   0.0s\n",
      "[CV 1/5] END algorithm=ball_tree, leaf_size=32, n_neighbors=13;, score=0.812 total time=   0.0s\n",
      "[CV 2/5] END algorithm=ball_tree, leaf_size=32, n_neighbors=13;, score=0.845 total time=   0.0s\n",
      "[CV 3/5] END algorithm=ball_tree, leaf_size=32, n_neighbors=13;, score=0.829 total time=   0.0s\n",
      "[CV 4/5] END algorithm=ball_tree, leaf_size=32, n_neighbors=13;, score=0.809 total time=   0.0s\n",
      "[CV 5/5] END algorithm=ball_tree, leaf_size=32, n_neighbors=13;, score=0.821 total time=   0.0s\n",
      "[CV 1/5] END algorithm=ball_tree, leaf_size=34, n_neighbors=3;, score=0.901 total time=   0.0s\n",
      "[CV 2/5] END algorithm=ball_tree, leaf_size=34, n_neighbors=3;, score=0.886 total time=   0.0s\n",
      "[CV 3/5] END algorithm=ball_tree, leaf_size=34, n_neighbors=3;, score=0.925 total time=   0.0s\n",
      "[CV 4/5] END algorithm=ball_tree, leaf_size=34, n_neighbors=3;, score=0.908 total time=   0.0s\n",
      "[CV 5/5] END algorithm=ball_tree, leaf_size=34, n_neighbors=3;, score=0.927 total time=   0.0s\n",
      "[CV 1/5] END algorithm=ball_tree, leaf_size=34, n_neighbors=5;, score=0.867 total time=   0.0s\n",
      "[CV 2/5] END algorithm=ball_tree, leaf_size=34, n_neighbors=5;, score=0.872 total time=   0.0s\n",
      "[CV 3/5] END algorithm=ball_tree, leaf_size=34, n_neighbors=5;, score=0.896 total time=   0.0s\n",
      "[CV 4/5] END algorithm=ball_tree, leaf_size=34, n_neighbors=5;, score=0.869 total time=   0.0s\n",
      "[CV 5/5] END algorithm=ball_tree, leaf_size=34, n_neighbors=5;, score=0.881 total time=   0.0s\n",
      "[CV 1/5] END algorithm=ball_tree, leaf_size=34, n_neighbors=7;, score=0.841 total time=   0.0s\n",
      "[CV 2/5] END algorithm=ball_tree, leaf_size=34, n_neighbors=7;, score=0.860 total time=   0.0s\n",
      "[CV 3/5] END algorithm=ball_tree, leaf_size=34, n_neighbors=7;, score=0.865 total time=   0.0s\n",
      "[CV 4/5] END algorithm=ball_tree, leaf_size=34, n_neighbors=7;, score=0.845 total time=   0.0s\n",
      "[CV 5/5] END algorithm=ball_tree, leaf_size=34, n_neighbors=7;, score=0.862 total time=   0.0s\n",
      "[CV 1/5] END algorithm=ball_tree, leaf_size=34, n_neighbors=9;, score=0.819 total time=   0.0s\n",
      "[CV 2/5] END algorithm=ball_tree, leaf_size=34, n_neighbors=9;, score=0.838 total time=   0.0s\n",
      "[CV 3/5] END algorithm=ball_tree, leaf_size=34, n_neighbors=9;, score=0.853 total time=   0.0s\n",
      "[CV 4/5] END algorithm=ball_tree, leaf_size=34, n_neighbors=9;, score=0.818 total time=   0.0s\n",
      "[CV 5/5] END algorithm=ball_tree, leaf_size=34, n_neighbors=9;, score=0.850 total time=   0.0s\n",
      "[CV 1/5] END algorithm=ball_tree, leaf_size=34, n_neighbors=11;, score=0.809 total time=   0.0s\n",
      "[CV 2/5] END algorithm=ball_tree, leaf_size=34, n_neighbors=11;, score=0.841 total time=   0.0s\n",
      "[CV 3/5] END algorithm=ball_tree, leaf_size=34, n_neighbors=11;, score=0.831 total time=   0.0s\n",
      "[CV 4/5] END algorithm=ball_tree, leaf_size=34, n_neighbors=11;, score=0.811 total time=   0.0s\n",
      "[CV 5/5] END algorithm=ball_tree, leaf_size=34, n_neighbors=11;, score=0.821 total time=   0.0s\n",
      "[CV 1/5] END algorithm=ball_tree, leaf_size=34, n_neighbors=12;, score=0.816 total time=   0.0s\n",
      "[CV 2/5] END algorithm=ball_tree, leaf_size=34, n_neighbors=12;, score=0.850 total time=   0.0s\n",
      "[CV 3/5] END algorithm=ball_tree, leaf_size=34, n_neighbors=12;, score=0.829 total time=   0.0s\n",
      "[CV 4/5] END algorithm=ball_tree, leaf_size=34, n_neighbors=12;, score=0.814 total time=   0.0s\n",
      "[CV 5/5] END algorithm=ball_tree, leaf_size=34, n_neighbors=12;, score=0.816 total time=   0.0s\n",
      "[CV 1/5] END algorithm=ball_tree, leaf_size=34, n_neighbors=13;, score=0.812 total time=   0.0s\n",
      "[CV 2/5] END algorithm=ball_tree, leaf_size=34, n_neighbors=13;, score=0.845 total time=   0.0s\n",
      "[CV 3/5] END algorithm=ball_tree, leaf_size=34, n_neighbors=13;, score=0.829 total time=   0.0s\n",
      "[CV 4/5] END algorithm=ball_tree, leaf_size=34, n_neighbors=13;, score=0.809 total time=   0.0s\n",
      "[CV 5/5] END algorithm=ball_tree, leaf_size=34, n_neighbors=13;, score=0.821 total time=   0.0s\n",
      "[CV 1/5] END algorithm=kd_tree, leaf_size=18, n_neighbors=3;, score=0.901 total time=   0.0s\n",
      "[CV 2/5] END algorithm=kd_tree, leaf_size=18, n_neighbors=3;, score=0.886 total time=   0.0s\n",
      "[CV 3/5] END algorithm=kd_tree, leaf_size=18, n_neighbors=3;, score=0.925 total time=   0.0s\n",
      "[CV 4/5] END algorithm=kd_tree, leaf_size=18, n_neighbors=3;, score=0.908 total time=   0.0s\n",
      "[CV 5/5] END algorithm=kd_tree, leaf_size=18, n_neighbors=3;, score=0.927 total time=   0.0s\n",
      "[CV 1/5] END algorithm=kd_tree, leaf_size=18, n_neighbors=5;, score=0.867 total time=   0.0s\n",
      "[CV 2/5] END algorithm=kd_tree, leaf_size=18, n_neighbors=5;, score=0.872 total time=   0.0s\n",
      "[CV 3/5] END algorithm=kd_tree, leaf_size=18, n_neighbors=5;, score=0.896 total time=   0.0s\n",
      "[CV 4/5] END algorithm=kd_tree, leaf_size=18, n_neighbors=5;, score=0.869 total time=   0.0s\n",
      "[CV 5/5] END algorithm=kd_tree, leaf_size=18, n_neighbors=5;, score=0.881 total time=   0.0s\n",
      "[CV 1/5] END algorithm=kd_tree, leaf_size=18, n_neighbors=7;, score=0.841 total time=   0.0s\n",
      "[CV 2/5] END algorithm=kd_tree, leaf_size=18, n_neighbors=7;, score=0.860 total time=   0.0s\n",
      "[CV 3/5] END algorithm=kd_tree, leaf_size=18, n_neighbors=7;, score=0.865 total time=   0.0s\n",
      "[CV 4/5] END algorithm=kd_tree, leaf_size=18, n_neighbors=7;, score=0.845 total time=   0.0s\n",
      "[CV 5/5] END algorithm=kd_tree, leaf_size=18, n_neighbors=7;, score=0.862 total time=   0.0s\n",
      "[CV 1/5] END algorithm=kd_tree, leaf_size=18, n_neighbors=9;, score=0.819 total time=   0.0s\n",
      "[CV 2/5] END algorithm=kd_tree, leaf_size=18, n_neighbors=9;, score=0.838 total time=   0.0s\n",
      "[CV 3/5] END algorithm=kd_tree, leaf_size=18, n_neighbors=9;, score=0.853 total time=   0.0s\n",
      "[CV 4/5] END algorithm=kd_tree, leaf_size=18, n_neighbors=9;, score=0.818 total time=   0.0s\n",
      "[CV 5/5] END algorithm=kd_tree, leaf_size=18, n_neighbors=9;, score=0.850 total time=   0.0s\n",
      "[CV 1/5] END algorithm=kd_tree, leaf_size=18, n_neighbors=11;, score=0.809 total time=   0.0s\n",
      "[CV 2/5] END algorithm=kd_tree, leaf_size=18, n_neighbors=11;, score=0.841 total time=   0.0s\n",
      "[CV 3/5] END algorithm=kd_tree, leaf_size=18, n_neighbors=11;, score=0.831 total time=   0.0s\n",
      "[CV 4/5] END algorithm=kd_tree, leaf_size=18, n_neighbors=11;, score=0.811 total time=   0.0s\n",
      "[CV 5/5] END algorithm=kd_tree, leaf_size=18, n_neighbors=11;, score=0.821 total time=   0.0s\n",
      "[CV 1/5] END algorithm=kd_tree, leaf_size=18, n_neighbors=12;, score=0.816 total time=   0.0s\n",
      "[CV 2/5] END algorithm=kd_tree, leaf_size=18, n_neighbors=12;, score=0.850 total time=   0.0s\n",
      "[CV 3/5] END algorithm=kd_tree, leaf_size=18, n_neighbors=12;, score=0.829 total time=   0.0s\n",
      "[CV 4/5] END algorithm=kd_tree, leaf_size=18, n_neighbors=12;, score=0.814 total time=   0.0s\n",
      "[CV 5/5] END algorithm=kd_tree, leaf_size=18, n_neighbors=12;, score=0.816 total time=   0.0s\n",
      "[CV 1/5] END algorithm=kd_tree, leaf_size=18, n_neighbors=13;, score=0.812 total time=   0.0s\n",
      "[CV 2/5] END algorithm=kd_tree, leaf_size=18, n_neighbors=13;, score=0.845 total time=   0.0s\n",
      "[CV 3/5] END algorithm=kd_tree, leaf_size=18, n_neighbors=13;, score=0.829 total time=   0.0s\n",
      "[CV 4/5] END algorithm=kd_tree, leaf_size=18, n_neighbors=13;, score=0.809 total time=   0.0s\n",
      "[CV 5/5] END algorithm=kd_tree, leaf_size=18, n_neighbors=13;, score=0.821 total time=   0.0s\n",
      "[CV 1/5] END algorithm=kd_tree, leaf_size=20, n_neighbors=3;, score=0.901 total time=   0.0s\n",
      "[CV 2/5] END algorithm=kd_tree, leaf_size=20, n_neighbors=3;, score=0.886 total time=   0.0s\n",
      "[CV 3/5] END algorithm=kd_tree, leaf_size=20, n_neighbors=3;, score=0.925 total time=   0.0s\n",
      "[CV 4/5] END algorithm=kd_tree, leaf_size=20, n_neighbors=3;, score=0.908 total time=   0.0s\n",
      "[CV 5/5] END algorithm=kd_tree, leaf_size=20, n_neighbors=3;, score=0.927 total time=   0.0s\n",
      "[CV 1/5] END algorithm=kd_tree, leaf_size=20, n_neighbors=5;, score=0.867 total time=   0.0s\n",
      "[CV 2/5] END algorithm=kd_tree, leaf_size=20, n_neighbors=5;, score=0.872 total time=   0.0s\n",
      "[CV 3/5] END algorithm=kd_tree, leaf_size=20, n_neighbors=5;, score=0.896 total time=   0.0s\n",
      "[CV 4/5] END algorithm=kd_tree, leaf_size=20, n_neighbors=5;, score=0.869 total time=   0.0s\n",
      "[CV 5/5] END algorithm=kd_tree, leaf_size=20, n_neighbors=5;, score=0.881 total time=   0.0s\n",
      "[CV 1/5] END algorithm=kd_tree, leaf_size=20, n_neighbors=7;, score=0.841 total time=   0.0s\n",
      "[CV 2/5] END algorithm=kd_tree, leaf_size=20, n_neighbors=7;, score=0.860 total time=   0.0s\n",
      "[CV 3/5] END algorithm=kd_tree, leaf_size=20, n_neighbors=7;, score=0.865 total time=   0.0s\n",
      "[CV 4/5] END algorithm=kd_tree, leaf_size=20, n_neighbors=7;, score=0.845 total time=   0.0s\n",
      "[CV 5/5] END algorithm=kd_tree, leaf_size=20, n_neighbors=7;, score=0.862 total time=   0.0s\n",
      "[CV 1/5] END algorithm=kd_tree, leaf_size=20, n_neighbors=9;, score=0.819 total time=   0.0s\n",
      "[CV 2/5] END algorithm=kd_tree, leaf_size=20, n_neighbors=9;, score=0.838 total time=   0.0s\n",
      "[CV 3/5] END algorithm=kd_tree, leaf_size=20, n_neighbors=9;, score=0.853 total time=   0.0s\n",
      "[CV 4/5] END algorithm=kd_tree, leaf_size=20, n_neighbors=9;, score=0.818 total time=   0.0s\n",
      "[CV 5/5] END algorithm=kd_tree, leaf_size=20, n_neighbors=9;, score=0.850 total time=   0.0s\n",
      "[CV 1/5] END algorithm=kd_tree, leaf_size=20, n_neighbors=11;, score=0.809 total time=   0.0s\n",
      "[CV 2/5] END algorithm=kd_tree, leaf_size=20, n_neighbors=11;, score=0.841 total time=   0.0s\n",
      "[CV 3/5] END algorithm=kd_tree, leaf_size=20, n_neighbors=11;, score=0.831 total time=   0.0s\n",
      "[CV 4/5] END algorithm=kd_tree, leaf_size=20, n_neighbors=11;, score=0.811 total time=   0.0s\n",
      "[CV 5/5] END algorithm=kd_tree, leaf_size=20, n_neighbors=11;, score=0.821 total time=   0.0s\n",
      "[CV 1/5] END algorithm=kd_tree, leaf_size=20, n_neighbors=12;, score=0.816 total time=   0.0s\n",
      "[CV 2/5] END algorithm=kd_tree, leaf_size=20, n_neighbors=12;, score=0.850 total time=   0.0s\n",
      "[CV 3/5] END algorithm=kd_tree, leaf_size=20, n_neighbors=12;, score=0.829 total time=   0.0s\n",
      "[CV 4/5] END algorithm=kd_tree, leaf_size=20, n_neighbors=12;, score=0.814 total time=   0.0s\n",
      "[CV 5/5] END algorithm=kd_tree, leaf_size=20, n_neighbors=12;, score=0.816 total time=   0.0s\n",
      "[CV 1/5] END algorithm=kd_tree, leaf_size=20, n_neighbors=13;, score=0.812 total time=   0.0s\n",
      "[CV 2/5] END algorithm=kd_tree, leaf_size=20, n_neighbors=13;, score=0.845 total time=   0.0s\n",
      "[CV 3/5] END algorithm=kd_tree, leaf_size=20, n_neighbors=13;, score=0.829 total time=   0.0s\n",
      "[CV 4/5] END algorithm=kd_tree, leaf_size=20, n_neighbors=13;, score=0.809 total time=   0.0s\n",
      "[CV 5/5] END algorithm=kd_tree, leaf_size=20, n_neighbors=13;, score=0.821 total time=   0.0s\n",
      "[CV 1/5] END algorithm=kd_tree, leaf_size=25, n_neighbors=3;, score=0.901 total time=   0.0s\n",
      "[CV 2/5] END algorithm=kd_tree, leaf_size=25, n_neighbors=3;, score=0.886 total time=   0.0s\n",
      "[CV 3/5] END algorithm=kd_tree, leaf_size=25, n_neighbors=3;, score=0.925 total time=   0.0s\n",
      "[CV 4/5] END algorithm=kd_tree, leaf_size=25, n_neighbors=3;, score=0.908 total time=   0.0s\n",
      "[CV 5/5] END algorithm=kd_tree, leaf_size=25, n_neighbors=3;, score=0.927 total time=   0.0s\n",
      "[CV 1/5] END algorithm=kd_tree, leaf_size=25, n_neighbors=5;, score=0.867 total time=   0.0s\n",
      "[CV 2/5] END algorithm=kd_tree, leaf_size=25, n_neighbors=5;, score=0.872 total time=   0.0s\n",
      "[CV 3/5] END algorithm=kd_tree, leaf_size=25, n_neighbors=5;, score=0.896 total time=   0.0s\n",
      "[CV 4/5] END algorithm=kd_tree, leaf_size=25, n_neighbors=5;, score=0.869 total time=   0.0s\n",
      "[CV 5/5] END algorithm=kd_tree, leaf_size=25, n_neighbors=5;, score=0.881 total time=   0.0s\n",
      "[CV 1/5] END algorithm=kd_tree, leaf_size=25, n_neighbors=7;, score=0.841 total time=   0.0s\n",
      "[CV 2/5] END algorithm=kd_tree, leaf_size=25, n_neighbors=7;, score=0.860 total time=   0.0s\n",
      "[CV 3/5] END algorithm=kd_tree, leaf_size=25, n_neighbors=7;, score=0.865 total time=   0.0s\n",
      "[CV 4/5] END algorithm=kd_tree, leaf_size=25, n_neighbors=7;, score=0.845 total time=   0.0s\n",
      "[CV 5/5] END algorithm=kd_tree, leaf_size=25, n_neighbors=7;, score=0.862 total time=   0.0s\n",
      "[CV 1/5] END algorithm=kd_tree, leaf_size=25, n_neighbors=9;, score=0.819 total time=   0.0s\n",
      "[CV 2/5] END algorithm=kd_tree, leaf_size=25, n_neighbors=9;, score=0.838 total time=   0.0s\n",
      "[CV 3/5] END algorithm=kd_tree, leaf_size=25, n_neighbors=9;, score=0.853 total time=   0.0s\n",
      "[CV 4/5] END algorithm=kd_tree, leaf_size=25, n_neighbors=9;, score=0.818 total time=   0.0s\n",
      "[CV 5/5] END algorithm=kd_tree, leaf_size=25, n_neighbors=9;, score=0.850 total time=   0.0s\n",
      "[CV 1/5] END algorithm=kd_tree, leaf_size=25, n_neighbors=11;, score=0.809 total time=   0.0s\n",
      "[CV 2/5] END algorithm=kd_tree, leaf_size=25, n_neighbors=11;, score=0.841 total time=   0.0s\n",
      "[CV 3/5] END algorithm=kd_tree, leaf_size=25, n_neighbors=11;, score=0.831 total time=   0.0s\n",
      "[CV 4/5] END algorithm=kd_tree, leaf_size=25, n_neighbors=11;, score=0.811 total time=   0.0s\n",
      "[CV 5/5] END algorithm=kd_tree, leaf_size=25, n_neighbors=11;, score=0.821 total time=   0.0s\n",
      "[CV 1/5] END algorithm=kd_tree, leaf_size=25, n_neighbors=12;, score=0.816 total time=   0.0s\n",
      "[CV 2/5] END algorithm=kd_tree, leaf_size=25, n_neighbors=12;, score=0.850 total time=   0.0s\n",
      "[CV 3/5] END algorithm=kd_tree, leaf_size=25, n_neighbors=12;, score=0.829 total time=   0.0s\n",
      "[CV 4/5] END algorithm=kd_tree, leaf_size=25, n_neighbors=12;, score=0.814 total time=   0.0s\n",
      "[CV 5/5] END algorithm=kd_tree, leaf_size=25, n_neighbors=12;, score=0.816 total time=   0.0s\n",
      "[CV 1/5] END algorithm=kd_tree, leaf_size=25, n_neighbors=13;, score=0.812 total time=   0.0s\n",
      "[CV 2/5] END algorithm=kd_tree, leaf_size=25, n_neighbors=13;, score=0.845 total time=   0.0s\n",
      "[CV 3/5] END algorithm=kd_tree, leaf_size=25, n_neighbors=13;, score=0.829 total time=   0.0s\n",
      "[CV 4/5] END algorithm=kd_tree, leaf_size=25, n_neighbors=13;, score=0.809 total time=   0.0s\n",
      "[CV 5/5] END algorithm=kd_tree, leaf_size=25, n_neighbors=13;, score=0.821 total time=   0.0s\n",
      "[CV 1/5] END algorithm=kd_tree, leaf_size=27, n_neighbors=3;, score=0.901 total time=   0.0s\n",
      "[CV 2/5] END algorithm=kd_tree, leaf_size=27, n_neighbors=3;, score=0.886 total time=   0.0s\n",
      "[CV 3/5] END algorithm=kd_tree, leaf_size=27, n_neighbors=3;, score=0.925 total time=   0.0s\n",
      "[CV 4/5] END algorithm=kd_tree, leaf_size=27, n_neighbors=3;, score=0.908 total time=   0.0s\n",
      "[CV 5/5] END algorithm=kd_tree, leaf_size=27, n_neighbors=3;, score=0.927 total time=   0.0s\n",
      "[CV 1/5] END algorithm=kd_tree, leaf_size=27, n_neighbors=5;, score=0.867 total time=   0.0s\n",
      "[CV 2/5] END algorithm=kd_tree, leaf_size=27, n_neighbors=5;, score=0.872 total time=   0.0s\n",
      "[CV 3/5] END algorithm=kd_tree, leaf_size=27, n_neighbors=5;, score=0.896 total time=   0.0s\n",
      "[CV 4/5] END algorithm=kd_tree, leaf_size=27, n_neighbors=5;, score=0.869 total time=   0.0s\n",
      "[CV 5/5] END algorithm=kd_tree, leaf_size=27, n_neighbors=5;, score=0.881 total time=   0.0s\n",
      "[CV 1/5] END algorithm=kd_tree, leaf_size=27, n_neighbors=7;, score=0.841 total time=   0.0s\n",
      "[CV 2/5] END algorithm=kd_tree, leaf_size=27, n_neighbors=7;, score=0.860 total time=   0.0s\n",
      "[CV 3/5] END algorithm=kd_tree, leaf_size=27, n_neighbors=7;, score=0.865 total time=   0.0s\n",
      "[CV 4/5] END algorithm=kd_tree, leaf_size=27, n_neighbors=7;, score=0.845 total time=   0.0s\n",
      "[CV 5/5] END algorithm=kd_tree, leaf_size=27, n_neighbors=7;, score=0.862 total time=   0.0s\n",
      "[CV 1/5] END algorithm=kd_tree, leaf_size=27, n_neighbors=9;, score=0.819 total time=   0.0s\n",
      "[CV 2/5] END algorithm=kd_tree, leaf_size=27, n_neighbors=9;, score=0.838 total time=   0.0s\n",
      "[CV 3/5] END algorithm=kd_tree, leaf_size=27, n_neighbors=9;, score=0.853 total time=   0.0s\n",
      "[CV 4/5] END algorithm=kd_tree, leaf_size=27, n_neighbors=9;, score=0.818 total time=   0.0s\n",
      "[CV 5/5] END algorithm=kd_tree, leaf_size=27, n_neighbors=9;, score=0.850 total time=   0.0s\n",
      "[CV 1/5] END algorithm=kd_tree, leaf_size=27, n_neighbors=11;, score=0.809 total time=   0.0s\n",
      "[CV 2/5] END algorithm=kd_tree, leaf_size=27, n_neighbors=11;, score=0.841 total time=   0.0s\n",
      "[CV 3/5] END algorithm=kd_tree, leaf_size=27, n_neighbors=11;, score=0.831 total time=   0.0s\n",
      "[CV 4/5] END algorithm=kd_tree, leaf_size=27, n_neighbors=11;, score=0.811 total time=   0.0s\n",
      "[CV 5/5] END algorithm=kd_tree, leaf_size=27, n_neighbors=11;, score=0.821 total time=   0.0s\n",
      "[CV 1/5] END algorithm=kd_tree, leaf_size=27, n_neighbors=12;, score=0.816 total time=   0.0s\n",
      "[CV 2/5] END algorithm=kd_tree, leaf_size=27, n_neighbors=12;, score=0.850 total time=   0.0s\n",
      "[CV 3/5] END algorithm=kd_tree, leaf_size=27, n_neighbors=12;, score=0.829 total time=   0.0s\n",
      "[CV 4/5] END algorithm=kd_tree, leaf_size=27, n_neighbors=12;, score=0.814 total time=   0.0s\n",
      "[CV 5/5] END algorithm=kd_tree, leaf_size=27, n_neighbors=12;, score=0.816 total time=   0.0s\n",
      "[CV 1/5] END algorithm=kd_tree, leaf_size=27, n_neighbors=13;, score=0.812 total time=   0.0s\n",
      "[CV 2/5] END algorithm=kd_tree, leaf_size=27, n_neighbors=13;, score=0.845 total time=   0.0s\n",
      "[CV 3/5] END algorithm=kd_tree, leaf_size=27, n_neighbors=13;, score=0.829 total time=   0.0s\n",
      "[CV 4/5] END algorithm=kd_tree, leaf_size=27, n_neighbors=13;, score=0.809 total time=   0.0s\n",
      "[CV 5/5] END algorithm=kd_tree, leaf_size=27, n_neighbors=13;, score=0.821 total time=   0.0s\n",
      "[CV 1/5] END algorithm=kd_tree, leaf_size=30, n_neighbors=3;, score=0.901 total time=   0.0s\n",
      "[CV 2/5] END algorithm=kd_tree, leaf_size=30, n_neighbors=3;, score=0.886 total time=   0.0s\n",
      "[CV 3/5] END algorithm=kd_tree, leaf_size=30, n_neighbors=3;, score=0.925 total time=   0.0s\n",
      "[CV 4/5] END algorithm=kd_tree, leaf_size=30, n_neighbors=3;, score=0.908 total time=   0.0s\n",
      "[CV 5/5] END algorithm=kd_tree, leaf_size=30, n_neighbors=3;, score=0.927 total time=   0.0s\n",
      "[CV 1/5] END algorithm=kd_tree, leaf_size=30, n_neighbors=5;, score=0.867 total time=   0.0s\n",
      "[CV 2/5] END algorithm=kd_tree, leaf_size=30, n_neighbors=5;, score=0.872 total time=   0.0s\n",
      "[CV 3/5] END algorithm=kd_tree, leaf_size=30, n_neighbors=5;, score=0.896 total time=   0.0s\n",
      "[CV 4/5] END algorithm=kd_tree, leaf_size=30, n_neighbors=5;, score=0.869 total time=   0.0s\n",
      "[CV 5/5] END algorithm=kd_tree, leaf_size=30, n_neighbors=5;, score=0.881 total time=   0.0s\n",
      "[CV 1/5] END algorithm=kd_tree, leaf_size=30, n_neighbors=7;, score=0.841 total time=   0.0s\n",
      "[CV 2/5] END algorithm=kd_tree, leaf_size=30, n_neighbors=7;, score=0.860 total time=   0.0s\n",
      "[CV 3/5] END algorithm=kd_tree, leaf_size=30, n_neighbors=7;, score=0.865 total time=   0.0s\n",
      "[CV 4/5] END algorithm=kd_tree, leaf_size=30, n_neighbors=7;, score=0.845 total time=   0.0s\n",
      "[CV 5/5] END algorithm=kd_tree, leaf_size=30, n_neighbors=7;, score=0.862 total time=   0.0s\n",
      "[CV 1/5] END algorithm=kd_tree, leaf_size=30, n_neighbors=9;, score=0.819 total time=   0.0s\n",
      "[CV 2/5] END algorithm=kd_tree, leaf_size=30, n_neighbors=9;, score=0.838 total time=   0.0s\n",
      "[CV 3/5] END algorithm=kd_tree, leaf_size=30, n_neighbors=9;, score=0.853 total time=   0.0s\n",
      "[CV 4/5] END algorithm=kd_tree, leaf_size=30, n_neighbors=9;, score=0.818 total time=   0.0s\n",
      "[CV 5/5] END algorithm=kd_tree, leaf_size=30, n_neighbors=9;, score=0.850 total time=   0.0s\n",
      "[CV 1/5] END algorithm=kd_tree, leaf_size=30, n_neighbors=11;, score=0.809 total time=   0.0s\n",
      "[CV 2/5] END algorithm=kd_tree, leaf_size=30, n_neighbors=11;, score=0.841 total time=   0.0s\n",
      "[CV 3/5] END algorithm=kd_tree, leaf_size=30, n_neighbors=11;, score=0.831 total time=   0.0s\n",
      "[CV 4/5] END algorithm=kd_tree, leaf_size=30, n_neighbors=11;, score=0.811 total time=   0.0s\n",
      "[CV 5/5] END algorithm=kd_tree, leaf_size=30, n_neighbors=11;, score=0.821 total time=   0.0s\n",
      "[CV 1/5] END algorithm=kd_tree, leaf_size=30, n_neighbors=12;, score=0.816 total time=   0.0s\n",
      "[CV 2/5] END algorithm=kd_tree, leaf_size=30, n_neighbors=12;, score=0.850 total time=   0.0s\n",
      "[CV 3/5] END algorithm=kd_tree, leaf_size=30, n_neighbors=12;, score=0.829 total time=   0.0s\n",
      "[CV 4/5] END algorithm=kd_tree, leaf_size=30, n_neighbors=12;, score=0.814 total time=   0.0s\n",
      "[CV 5/5] END algorithm=kd_tree, leaf_size=30, n_neighbors=12;, score=0.816 total time=   0.0s\n",
      "[CV 1/5] END algorithm=kd_tree, leaf_size=30, n_neighbors=13;, score=0.812 total time=   0.0s\n",
      "[CV 2/5] END algorithm=kd_tree, leaf_size=30, n_neighbors=13;, score=0.845 total time=   0.0s\n",
      "[CV 3/5] END algorithm=kd_tree, leaf_size=30, n_neighbors=13;, score=0.829 total time=   0.0s\n",
      "[CV 4/5] END algorithm=kd_tree, leaf_size=30, n_neighbors=13;, score=0.809 total time=   0.0s\n",
      "[CV 5/5] END algorithm=kd_tree, leaf_size=30, n_neighbors=13;, score=0.821 total time=   0.0s\n",
      "[CV 1/5] END algorithm=kd_tree, leaf_size=32, n_neighbors=3;, score=0.901 total time=   0.0s\n",
      "[CV 2/5] END algorithm=kd_tree, leaf_size=32, n_neighbors=3;, score=0.886 total time=   0.0s\n",
      "[CV 3/5] END algorithm=kd_tree, leaf_size=32, n_neighbors=3;, score=0.925 total time=   0.0s\n",
      "[CV 4/5] END algorithm=kd_tree, leaf_size=32, n_neighbors=3;, score=0.908 total time=   0.0s\n",
      "[CV 5/5] END algorithm=kd_tree, leaf_size=32, n_neighbors=3;, score=0.927 total time=   0.0s\n",
      "[CV 1/5] END algorithm=kd_tree, leaf_size=32, n_neighbors=5;, score=0.867 total time=   0.0s\n",
      "[CV 2/5] END algorithm=kd_tree, leaf_size=32, n_neighbors=5;, score=0.872 total time=   0.0s\n",
      "[CV 3/5] END algorithm=kd_tree, leaf_size=32, n_neighbors=5;, score=0.896 total time=   0.0s\n",
      "[CV 4/5] END algorithm=kd_tree, leaf_size=32, n_neighbors=5;, score=0.869 total time=   0.0s\n",
      "[CV 5/5] END algorithm=kd_tree, leaf_size=32, n_neighbors=5;, score=0.881 total time=   0.0s\n",
      "[CV 1/5] END algorithm=kd_tree, leaf_size=32, n_neighbors=7;, score=0.841 total time=   0.0s\n",
      "[CV 2/5] END algorithm=kd_tree, leaf_size=32, n_neighbors=7;, score=0.860 total time=   0.0s\n",
      "[CV 3/5] END algorithm=kd_tree, leaf_size=32, n_neighbors=7;, score=0.865 total time=   0.0s\n",
      "[CV 4/5] END algorithm=kd_tree, leaf_size=32, n_neighbors=7;, score=0.845 total time=   0.0s\n",
      "[CV 5/5] END algorithm=kd_tree, leaf_size=32, n_neighbors=7;, score=0.862 total time=   0.0s\n",
      "[CV 1/5] END algorithm=kd_tree, leaf_size=32, n_neighbors=9;, score=0.819 total time=   0.0s\n",
      "[CV 2/5] END algorithm=kd_tree, leaf_size=32, n_neighbors=9;, score=0.838 total time=   0.0s\n",
      "[CV 3/5] END algorithm=kd_tree, leaf_size=32, n_neighbors=9;, score=0.853 total time=   0.0s\n",
      "[CV 4/5] END algorithm=kd_tree, leaf_size=32, n_neighbors=9;, score=0.818 total time=   0.0s\n",
      "[CV 5/5] END algorithm=kd_tree, leaf_size=32, n_neighbors=9;, score=0.850 total time=   0.0s\n",
      "[CV 1/5] END algorithm=kd_tree, leaf_size=32, n_neighbors=11;, score=0.809 total time=   0.0s\n",
      "[CV 2/5] END algorithm=kd_tree, leaf_size=32, n_neighbors=11;, score=0.841 total time=   0.0s\n",
      "[CV 3/5] END algorithm=kd_tree, leaf_size=32, n_neighbors=11;, score=0.831 total time=   0.0s\n",
      "[CV 4/5] END algorithm=kd_tree, leaf_size=32, n_neighbors=11;, score=0.811 total time=   0.0s\n",
      "[CV 5/5] END algorithm=kd_tree, leaf_size=32, n_neighbors=11;, score=0.821 total time=   0.0s\n",
      "[CV 1/5] END algorithm=kd_tree, leaf_size=32, n_neighbors=12;, score=0.816 total time=   0.0s\n",
      "[CV 2/5] END algorithm=kd_tree, leaf_size=32, n_neighbors=12;, score=0.850 total time=   0.0s\n",
      "[CV 3/5] END algorithm=kd_tree, leaf_size=32, n_neighbors=12;, score=0.829 total time=   0.0s\n",
      "[CV 4/5] END algorithm=kd_tree, leaf_size=32, n_neighbors=12;, score=0.814 total time=   0.0s\n",
      "[CV 5/5] END algorithm=kd_tree, leaf_size=32, n_neighbors=12;, score=0.816 total time=   0.0s\n",
      "[CV 1/5] END algorithm=kd_tree, leaf_size=32, n_neighbors=13;, score=0.812 total time=   0.0s\n",
      "[CV 2/5] END algorithm=kd_tree, leaf_size=32, n_neighbors=13;, score=0.845 total time=   0.0s\n",
      "[CV 3/5] END algorithm=kd_tree, leaf_size=32, n_neighbors=13;, score=0.829 total time=   0.0s\n",
      "[CV 4/5] END algorithm=kd_tree, leaf_size=32, n_neighbors=13;, score=0.809 total time=   0.0s\n",
      "[CV 5/5] END algorithm=kd_tree, leaf_size=32, n_neighbors=13;, score=0.821 total time=   0.0s\n",
      "[CV 1/5] END algorithm=kd_tree, leaf_size=34, n_neighbors=3;, score=0.901 total time=   0.0s\n",
      "[CV 2/5] END algorithm=kd_tree, leaf_size=34, n_neighbors=3;, score=0.886 total time=   0.0s\n",
      "[CV 3/5] END algorithm=kd_tree, leaf_size=34, n_neighbors=3;, score=0.925 total time=   0.0s\n",
      "[CV 4/5] END algorithm=kd_tree, leaf_size=34, n_neighbors=3;, score=0.908 total time=   0.0s\n",
      "[CV 5/5] END algorithm=kd_tree, leaf_size=34, n_neighbors=3;, score=0.927 total time=   0.0s\n",
      "[CV 1/5] END algorithm=kd_tree, leaf_size=34, n_neighbors=5;, score=0.867 total time=   0.0s\n",
      "[CV 2/5] END algorithm=kd_tree, leaf_size=34, n_neighbors=5;, score=0.872 total time=   0.0s\n",
      "[CV 3/5] END algorithm=kd_tree, leaf_size=34, n_neighbors=5;, score=0.896 total time=   0.0s\n",
      "[CV 4/5] END algorithm=kd_tree, leaf_size=34, n_neighbors=5;, score=0.869 total time=   0.0s\n",
      "[CV 5/5] END algorithm=kd_tree, leaf_size=34, n_neighbors=5;, score=0.881 total time=   0.0s\n",
      "[CV 1/5] END algorithm=kd_tree, leaf_size=34, n_neighbors=7;, score=0.841 total time=   0.0s\n",
      "[CV 2/5] END algorithm=kd_tree, leaf_size=34, n_neighbors=7;, score=0.860 total time=   0.0s\n",
      "[CV 3/5] END algorithm=kd_tree, leaf_size=34, n_neighbors=7;, score=0.865 total time=   0.0s\n",
      "[CV 4/5] END algorithm=kd_tree, leaf_size=34, n_neighbors=7;, score=0.845 total time=   0.0s\n",
      "[CV 5/5] END algorithm=kd_tree, leaf_size=34, n_neighbors=7;, score=0.862 total time=   0.0s\n",
      "[CV 1/5] END algorithm=kd_tree, leaf_size=34, n_neighbors=9;, score=0.819 total time=   0.0s\n",
      "[CV 2/5] END algorithm=kd_tree, leaf_size=34, n_neighbors=9;, score=0.838 total time=   0.0s\n",
      "[CV 3/5] END algorithm=kd_tree, leaf_size=34, n_neighbors=9;, score=0.853 total time=   0.0s\n",
      "[CV 4/5] END algorithm=kd_tree, leaf_size=34, n_neighbors=9;, score=0.818 total time=   0.0s\n",
      "[CV 5/5] END algorithm=kd_tree, leaf_size=34, n_neighbors=9;, score=0.850 total time=   0.0s\n",
      "[CV 1/5] END algorithm=kd_tree, leaf_size=34, n_neighbors=11;, score=0.809 total time=   0.0s\n",
      "[CV 2/5] END algorithm=kd_tree, leaf_size=34, n_neighbors=11;, score=0.841 total time=   0.0s\n",
      "[CV 3/5] END algorithm=kd_tree, leaf_size=34, n_neighbors=11;, score=0.831 total time=   0.0s\n",
      "[CV 4/5] END algorithm=kd_tree, leaf_size=34, n_neighbors=11;, score=0.811 total time=   0.0s\n",
      "[CV 5/5] END algorithm=kd_tree, leaf_size=34, n_neighbors=11;, score=0.821 total time=   0.0s\n",
      "[CV 1/5] END algorithm=kd_tree, leaf_size=34, n_neighbors=12;, score=0.816 total time=   0.0s\n",
      "[CV 2/5] END algorithm=kd_tree, leaf_size=34, n_neighbors=12;, score=0.850 total time=   0.0s\n",
      "[CV 3/5] END algorithm=kd_tree, leaf_size=34, n_neighbors=12;, score=0.829 total time=   0.0s\n",
      "[CV 4/5] END algorithm=kd_tree, leaf_size=34, n_neighbors=12;, score=0.814 total time=   0.0s\n",
      "[CV 5/5] END algorithm=kd_tree, leaf_size=34, n_neighbors=12;, score=0.816 total time=   0.0s\n",
      "[CV 1/5] END algorithm=kd_tree, leaf_size=34, n_neighbors=13;, score=0.812 total time=   0.0s\n",
      "[CV 2/5] END algorithm=kd_tree, leaf_size=34, n_neighbors=13;, score=0.845 total time=   0.0s\n",
      "[CV 3/5] END algorithm=kd_tree, leaf_size=34, n_neighbors=13;, score=0.829 total time=   0.0s\n",
      "[CV 4/5] END algorithm=kd_tree, leaf_size=34, n_neighbors=13;, score=0.809 total time=   0.0s\n",
      "[CV 5/5] END algorithm=kd_tree, leaf_size=34, n_neighbors=13;, score=0.821 total time=   0.0s\n",
      "[CV 1/5] END algorithm=brute, leaf_size=18, n_neighbors=3;, score=0.901 total time=   0.0s\n",
      "[CV 2/5] END algorithm=brute, leaf_size=18, n_neighbors=3;, score=0.886 total time=   0.0s\n",
      "[CV 3/5] END algorithm=brute, leaf_size=18, n_neighbors=3;, score=0.925 total time=   0.0s\n",
      "[CV 4/5] END algorithm=brute, leaf_size=18, n_neighbors=3;, score=0.908 total time=   0.0s\n",
      "[CV 5/5] END algorithm=brute, leaf_size=18, n_neighbors=3;, score=0.927 total time=   0.0s\n",
      "[CV 1/5] END algorithm=brute, leaf_size=18, n_neighbors=5;, score=0.867 total time=   0.0s\n",
      "[CV 2/5] END algorithm=brute, leaf_size=18, n_neighbors=5;, score=0.872 total time=   0.0s\n",
      "[CV 3/5] END algorithm=brute, leaf_size=18, n_neighbors=5;, score=0.896 total time=   0.0s\n",
      "[CV 4/5] END algorithm=brute, leaf_size=18, n_neighbors=5;, score=0.869 total time=   0.0s\n",
      "[CV 5/5] END algorithm=brute, leaf_size=18, n_neighbors=5;, score=0.881 total time=   0.0s\n",
      "[CV 1/5] END algorithm=brute, leaf_size=18, n_neighbors=7;, score=0.841 total time=   0.0s\n",
      "[CV 2/5] END algorithm=brute, leaf_size=18, n_neighbors=7;, score=0.860 total time=   0.0s\n",
      "[CV 3/5] END algorithm=brute, leaf_size=18, n_neighbors=7;, score=0.865 total time=   0.0s\n",
      "[CV 4/5] END algorithm=brute, leaf_size=18, n_neighbors=7;, score=0.845 total time=   0.0s\n",
      "[CV 5/5] END algorithm=brute, leaf_size=18, n_neighbors=7;, score=0.862 total time=   0.0s\n",
      "[CV 1/5] END algorithm=brute, leaf_size=18, n_neighbors=9;, score=0.819 total time=   0.0s\n",
      "[CV 2/5] END algorithm=brute, leaf_size=18, n_neighbors=9;, score=0.838 total time=   0.0s\n",
      "[CV 3/5] END algorithm=brute, leaf_size=18, n_neighbors=9;, score=0.853 total time=   0.0s\n",
      "[CV 4/5] END algorithm=brute, leaf_size=18, n_neighbors=9;, score=0.818 total time=   0.0s\n",
      "[CV 5/5] END algorithm=brute, leaf_size=18, n_neighbors=9;, score=0.850 total time=   0.0s\n",
      "[CV 1/5] END algorithm=brute, leaf_size=18, n_neighbors=11;, score=0.809 total time=   0.0s\n",
      "[CV 2/5] END algorithm=brute, leaf_size=18, n_neighbors=11;, score=0.841 total time=   0.0s\n",
      "[CV 3/5] END algorithm=brute, leaf_size=18, n_neighbors=11;, score=0.831 total time=   0.0s\n",
      "[CV 4/5] END algorithm=brute, leaf_size=18, n_neighbors=11;, score=0.811 total time=   0.0s\n",
      "[CV 5/5] END algorithm=brute, leaf_size=18, n_neighbors=11;, score=0.821 total time=   0.0s\n",
      "[CV 1/5] END algorithm=brute, leaf_size=18, n_neighbors=12;, score=0.816 total time=   0.0s\n",
      "[CV 2/5] END algorithm=brute, leaf_size=18, n_neighbors=12;, score=0.850 total time=   0.0s\n",
      "[CV 3/5] END algorithm=brute, leaf_size=18, n_neighbors=12;, score=0.829 total time=   0.0s\n",
      "[CV 4/5] END algorithm=brute, leaf_size=18, n_neighbors=12;, score=0.814 total time=   0.0s\n",
      "[CV 5/5] END algorithm=brute, leaf_size=18, n_neighbors=12;, score=0.816 total time=   0.0s\n",
      "[CV 1/5] END algorithm=brute, leaf_size=18, n_neighbors=13;, score=0.812 total time=   0.0s\n",
      "[CV 2/5] END algorithm=brute, leaf_size=18, n_neighbors=13;, score=0.845 total time=   0.0s\n",
      "[CV 3/5] END algorithm=brute, leaf_size=18, n_neighbors=13;, score=0.829 total time=   0.0s\n",
      "[CV 4/5] END algorithm=brute, leaf_size=18, n_neighbors=13;, score=0.809 total time=   0.0s\n",
      "[CV 5/5] END algorithm=brute, leaf_size=18, n_neighbors=13;, score=0.821 total time=   0.0s\n",
      "[CV 1/5] END algorithm=brute, leaf_size=20, n_neighbors=3;, score=0.901 total time=   0.0s\n",
      "[CV 2/5] END algorithm=brute, leaf_size=20, n_neighbors=3;, score=0.886 total time=   0.0s\n",
      "[CV 3/5] END algorithm=brute, leaf_size=20, n_neighbors=3;, score=0.925 total time=   0.0s\n",
      "[CV 4/5] END algorithm=brute, leaf_size=20, n_neighbors=3;, score=0.908 total time=   0.0s\n",
      "[CV 5/5] END algorithm=brute, leaf_size=20, n_neighbors=3;, score=0.927 total time=   0.0s\n",
      "[CV 1/5] END algorithm=brute, leaf_size=20, n_neighbors=5;, score=0.867 total time=   0.0s\n",
      "[CV 2/5] END algorithm=brute, leaf_size=20, n_neighbors=5;, score=0.872 total time=   0.0s\n",
      "[CV 3/5] END algorithm=brute, leaf_size=20, n_neighbors=5;, score=0.896 total time=   0.0s\n",
      "[CV 4/5] END algorithm=brute, leaf_size=20, n_neighbors=5;, score=0.869 total time=   0.0s\n",
      "[CV 5/5] END algorithm=brute, leaf_size=20, n_neighbors=5;, score=0.881 total time=   0.0s\n",
      "[CV 1/5] END algorithm=brute, leaf_size=20, n_neighbors=7;, score=0.841 total time=   0.0s\n",
      "[CV 2/5] END algorithm=brute, leaf_size=20, n_neighbors=7;, score=0.860 total time=   0.0s\n",
      "[CV 3/5] END algorithm=brute, leaf_size=20, n_neighbors=7;, score=0.865 total time=   0.0s\n",
      "[CV 4/5] END algorithm=brute, leaf_size=20, n_neighbors=7;, score=0.845 total time=   0.0s\n",
      "[CV 5/5] END algorithm=brute, leaf_size=20, n_neighbors=7;, score=0.862 total time=   0.0s\n",
      "[CV 1/5] END algorithm=brute, leaf_size=20, n_neighbors=9;, score=0.819 total time=   0.0s\n",
      "[CV 2/5] END algorithm=brute, leaf_size=20, n_neighbors=9;, score=0.838 total time=   0.0s\n",
      "[CV 3/5] END algorithm=brute, leaf_size=20, n_neighbors=9;, score=0.853 total time=   0.0s\n",
      "[CV 4/5] END algorithm=brute, leaf_size=20, n_neighbors=9;, score=0.818 total time=   0.0s\n",
      "[CV 5/5] END algorithm=brute, leaf_size=20, n_neighbors=9;, score=0.850 total time=   0.0s\n",
      "[CV 1/5] END algorithm=brute, leaf_size=20, n_neighbors=11;, score=0.809 total time=   0.0s\n",
      "[CV 2/5] END algorithm=brute, leaf_size=20, n_neighbors=11;, score=0.841 total time=   0.0s\n",
      "[CV 3/5] END algorithm=brute, leaf_size=20, n_neighbors=11;, score=0.831 total time=   0.0s\n",
      "[CV 4/5] END algorithm=brute, leaf_size=20, n_neighbors=11;, score=0.811 total time=   0.0s\n",
      "[CV 5/5] END algorithm=brute, leaf_size=20, n_neighbors=11;, score=0.821 total time=   0.0s\n",
      "[CV 1/5] END algorithm=brute, leaf_size=20, n_neighbors=12;, score=0.816 total time=   0.0s\n",
      "[CV 2/5] END algorithm=brute, leaf_size=20, n_neighbors=12;, score=0.850 total time=   0.0s\n",
      "[CV 3/5] END algorithm=brute, leaf_size=20, n_neighbors=12;, score=0.829 total time=   0.0s\n",
      "[CV 4/5] END algorithm=brute, leaf_size=20, n_neighbors=12;, score=0.814 total time=   0.0s\n",
      "[CV 5/5] END algorithm=brute, leaf_size=20, n_neighbors=12;, score=0.816 total time=   0.0s\n",
      "[CV 1/5] END algorithm=brute, leaf_size=20, n_neighbors=13;, score=0.812 total time=   0.0s\n",
      "[CV 2/5] END algorithm=brute, leaf_size=20, n_neighbors=13;, score=0.845 total time=   0.0s\n",
      "[CV 3/5] END algorithm=brute, leaf_size=20, n_neighbors=13;, score=0.829 total time=   0.0s\n",
      "[CV 4/5] END algorithm=brute, leaf_size=20, n_neighbors=13;, score=0.809 total time=   0.0s\n",
      "[CV 5/5] END algorithm=brute, leaf_size=20, n_neighbors=13;, score=0.821 total time=   0.0s\n",
      "[CV 1/5] END algorithm=brute, leaf_size=25, n_neighbors=3;, score=0.901 total time=   0.0s\n",
      "[CV 2/5] END algorithm=brute, leaf_size=25, n_neighbors=3;, score=0.886 total time=   0.0s\n",
      "[CV 3/5] END algorithm=brute, leaf_size=25, n_neighbors=3;, score=0.925 total time=   0.0s\n",
      "[CV 4/5] END algorithm=brute, leaf_size=25, n_neighbors=3;, score=0.908 total time=   0.0s\n",
      "[CV 5/5] END algorithm=brute, leaf_size=25, n_neighbors=3;, score=0.927 total time=   0.0s\n",
      "[CV 1/5] END algorithm=brute, leaf_size=25, n_neighbors=5;, score=0.867 total time=   0.0s\n",
      "[CV 2/5] END algorithm=brute, leaf_size=25, n_neighbors=5;, score=0.872 total time=   0.0s\n",
      "[CV 3/5] END algorithm=brute, leaf_size=25, n_neighbors=5;, score=0.896 total time=   0.0s\n",
      "[CV 4/5] END algorithm=brute, leaf_size=25, n_neighbors=5;, score=0.869 total time=   0.0s\n",
      "[CV 5/5] END algorithm=brute, leaf_size=25, n_neighbors=5;, score=0.881 total time=   0.0s\n",
      "[CV 1/5] END algorithm=brute, leaf_size=25, n_neighbors=7;, score=0.841 total time=   0.0s\n",
      "[CV 2/5] END algorithm=brute, leaf_size=25, n_neighbors=7;, score=0.860 total time=   0.0s\n",
      "[CV 3/5] END algorithm=brute, leaf_size=25, n_neighbors=7;, score=0.865 total time=   0.0s\n",
      "[CV 4/5] END algorithm=brute, leaf_size=25, n_neighbors=7;, score=0.845 total time=   0.0s\n",
      "[CV 5/5] END algorithm=brute, leaf_size=25, n_neighbors=7;, score=0.862 total time=   0.0s\n",
      "[CV 1/5] END algorithm=brute, leaf_size=25, n_neighbors=9;, score=0.819 total time=   0.0s\n",
      "[CV 2/5] END algorithm=brute, leaf_size=25, n_neighbors=9;, score=0.838 total time=   0.0s\n",
      "[CV 3/5] END algorithm=brute, leaf_size=25, n_neighbors=9;, score=0.853 total time=   0.0s\n",
      "[CV 4/5] END algorithm=brute, leaf_size=25, n_neighbors=9;, score=0.818 total time=   0.0s\n",
      "[CV 5/5] END algorithm=brute, leaf_size=25, n_neighbors=9;, score=0.850 total time=   0.0s\n",
      "[CV 1/5] END algorithm=brute, leaf_size=25, n_neighbors=11;, score=0.809 total time=   0.0s\n",
      "[CV 2/5] END algorithm=brute, leaf_size=25, n_neighbors=11;, score=0.841 total time=   0.0s\n",
      "[CV 3/5] END algorithm=brute, leaf_size=25, n_neighbors=11;, score=0.831 total time=   0.0s\n",
      "[CV 4/5] END algorithm=brute, leaf_size=25, n_neighbors=11;, score=0.811 total time=   0.0s\n",
      "[CV 5/5] END algorithm=brute, leaf_size=25, n_neighbors=11;, score=0.821 total time=   0.0s\n",
      "[CV 1/5] END algorithm=brute, leaf_size=25, n_neighbors=12;, score=0.816 total time=   0.0s\n",
      "[CV 2/5] END algorithm=brute, leaf_size=25, n_neighbors=12;, score=0.850 total time=   0.0s\n",
      "[CV 3/5] END algorithm=brute, leaf_size=25, n_neighbors=12;, score=0.829 total time=   0.0s\n",
      "[CV 4/5] END algorithm=brute, leaf_size=25, n_neighbors=12;, score=0.814 total time=   0.0s\n",
      "[CV 5/5] END algorithm=brute, leaf_size=25, n_neighbors=12;, score=0.816 total time=   0.0s\n",
      "[CV 1/5] END algorithm=brute, leaf_size=25, n_neighbors=13;, score=0.812 total time=   0.0s\n",
      "[CV 2/5] END algorithm=brute, leaf_size=25, n_neighbors=13;, score=0.845 total time=   0.0s\n",
      "[CV 3/5] END algorithm=brute, leaf_size=25, n_neighbors=13;, score=0.829 total time=   0.0s\n",
      "[CV 4/5] END algorithm=brute, leaf_size=25, n_neighbors=13;, score=0.809 total time=   0.0s\n",
      "[CV 5/5] END algorithm=brute, leaf_size=25, n_neighbors=13;, score=0.821 total time=   0.0s\n",
      "[CV 1/5] END algorithm=brute, leaf_size=27, n_neighbors=3;, score=0.901 total time=   0.0s\n",
      "[CV 2/5] END algorithm=brute, leaf_size=27, n_neighbors=3;, score=0.886 total time=   0.0s\n",
      "[CV 3/5] END algorithm=brute, leaf_size=27, n_neighbors=3;, score=0.925 total time=   0.0s\n",
      "[CV 4/5] END algorithm=brute, leaf_size=27, n_neighbors=3;, score=0.908 total time=   0.0s\n",
      "[CV 5/5] END algorithm=brute, leaf_size=27, n_neighbors=3;, score=0.927 total time=   0.0s\n",
      "[CV 1/5] END algorithm=brute, leaf_size=27, n_neighbors=5;, score=0.867 total time=   0.0s\n",
      "[CV 2/5] END algorithm=brute, leaf_size=27, n_neighbors=5;, score=0.872 total time=   0.0s\n",
      "[CV 3/5] END algorithm=brute, leaf_size=27, n_neighbors=5;, score=0.896 total time=   0.0s\n",
      "[CV 4/5] END algorithm=brute, leaf_size=27, n_neighbors=5;, score=0.869 total time=   0.0s\n",
      "[CV 5/5] END algorithm=brute, leaf_size=27, n_neighbors=5;, score=0.881 total time=   0.0s\n",
      "[CV 1/5] END algorithm=brute, leaf_size=27, n_neighbors=7;, score=0.841 total time=   0.0s\n",
      "[CV 2/5] END algorithm=brute, leaf_size=27, n_neighbors=7;, score=0.860 total time=   0.0s\n",
      "[CV 3/5] END algorithm=brute, leaf_size=27, n_neighbors=7;, score=0.865 total time=   0.0s\n",
      "[CV 4/5] END algorithm=brute, leaf_size=27, n_neighbors=7;, score=0.845 total time=   0.0s\n",
      "[CV 5/5] END algorithm=brute, leaf_size=27, n_neighbors=7;, score=0.862 total time=   0.0s\n",
      "[CV 1/5] END algorithm=brute, leaf_size=27, n_neighbors=9;, score=0.819 total time=   0.0s\n",
      "[CV 2/5] END algorithm=brute, leaf_size=27, n_neighbors=9;, score=0.838 total time=   0.0s\n",
      "[CV 3/5] END algorithm=brute, leaf_size=27, n_neighbors=9;, score=0.853 total time=   0.0s\n",
      "[CV 4/5] END algorithm=brute, leaf_size=27, n_neighbors=9;, score=0.818 total time=   0.0s\n",
      "[CV 5/5] END algorithm=brute, leaf_size=27, n_neighbors=9;, score=0.850 total time=   0.0s\n",
      "[CV 1/5] END algorithm=brute, leaf_size=27, n_neighbors=11;, score=0.809 total time=   0.0s\n",
      "[CV 2/5] END algorithm=brute, leaf_size=27, n_neighbors=11;, score=0.841 total time=   0.0s\n",
      "[CV 3/5] END algorithm=brute, leaf_size=27, n_neighbors=11;, score=0.831 total time=   0.0s\n",
      "[CV 4/5] END algorithm=brute, leaf_size=27, n_neighbors=11;, score=0.811 total time=   0.0s\n",
      "[CV 5/5] END algorithm=brute, leaf_size=27, n_neighbors=11;, score=0.821 total time=   0.0s\n",
      "[CV 1/5] END algorithm=brute, leaf_size=27, n_neighbors=12;, score=0.816 total time=   0.0s\n",
      "[CV 2/5] END algorithm=brute, leaf_size=27, n_neighbors=12;, score=0.850 total time=   0.0s\n",
      "[CV 3/5] END algorithm=brute, leaf_size=27, n_neighbors=12;, score=0.829 total time=   0.0s\n",
      "[CV 4/5] END algorithm=brute, leaf_size=27, n_neighbors=12;, score=0.814 total time=   0.0s\n",
      "[CV 5/5] END algorithm=brute, leaf_size=27, n_neighbors=12;, score=0.816 total time=   0.0s\n",
      "[CV 1/5] END algorithm=brute, leaf_size=27, n_neighbors=13;, score=0.812 total time=   0.0s\n",
      "[CV 2/5] END algorithm=brute, leaf_size=27, n_neighbors=13;, score=0.845 total time=   0.0s\n",
      "[CV 3/5] END algorithm=brute, leaf_size=27, n_neighbors=13;, score=0.829 total time=   0.0s\n",
      "[CV 4/5] END algorithm=brute, leaf_size=27, n_neighbors=13;, score=0.809 total time=   0.0s\n",
      "[CV 5/5] END algorithm=brute, leaf_size=27, n_neighbors=13;, score=0.821 total time=   0.0s\n",
      "[CV 1/5] END algorithm=brute, leaf_size=30, n_neighbors=3;, score=0.901 total time=   0.0s\n",
      "[CV 2/5] END algorithm=brute, leaf_size=30, n_neighbors=3;, score=0.886 total time=   0.0s\n",
      "[CV 3/5] END algorithm=brute, leaf_size=30, n_neighbors=3;, score=0.925 total time=   0.0s\n",
      "[CV 4/5] END algorithm=brute, leaf_size=30, n_neighbors=3;, score=0.908 total time=   0.0s\n",
      "[CV 5/5] END algorithm=brute, leaf_size=30, n_neighbors=3;, score=0.927 total time=   0.0s\n",
      "[CV 1/5] END algorithm=brute, leaf_size=30, n_neighbors=5;, score=0.867 total time=   0.0s\n",
      "[CV 2/5] END algorithm=brute, leaf_size=30, n_neighbors=5;, score=0.872 total time=   0.0s\n",
      "[CV 3/5] END algorithm=brute, leaf_size=30, n_neighbors=5;, score=0.896 total time=   0.0s\n",
      "[CV 4/5] END algorithm=brute, leaf_size=30, n_neighbors=5;, score=0.869 total time=   0.0s\n",
      "[CV 5/5] END algorithm=brute, leaf_size=30, n_neighbors=5;, score=0.881 total time=   0.0s\n",
      "[CV 1/5] END algorithm=brute, leaf_size=30, n_neighbors=7;, score=0.841 total time=   0.0s\n",
      "[CV 2/5] END algorithm=brute, leaf_size=30, n_neighbors=7;, score=0.860 total time=   0.0s\n",
      "[CV 3/5] END algorithm=brute, leaf_size=30, n_neighbors=7;, score=0.865 total time=   0.0s\n",
      "[CV 4/5] END algorithm=brute, leaf_size=30, n_neighbors=7;, score=0.845 total time=   0.0s\n",
      "[CV 5/5] END algorithm=brute, leaf_size=30, n_neighbors=7;, score=0.862 total time=   0.0s\n",
      "[CV 1/5] END algorithm=brute, leaf_size=30, n_neighbors=9;, score=0.819 total time=   0.0s\n",
      "[CV 2/5] END algorithm=brute, leaf_size=30, n_neighbors=9;, score=0.838 total time=   0.0s\n",
      "[CV 3/5] END algorithm=brute, leaf_size=30, n_neighbors=9;, score=0.853 total time=   0.0s\n",
      "[CV 4/5] END algorithm=brute, leaf_size=30, n_neighbors=9;, score=0.818 total time=   0.0s\n",
      "[CV 5/5] END algorithm=brute, leaf_size=30, n_neighbors=9;, score=0.850 total time=   0.0s\n",
      "[CV 1/5] END algorithm=brute, leaf_size=30, n_neighbors=11;, score=0.809 total time=   0.0s\n",
      "[CV 2/5] END algorithm=brute, leaf_size=30, n_neighbors=11;, score=0.841 total time=   0.0s\n",
      "[CV 3/5] END algorithm=brute, leaf_size=30, n_neighbors=11;, score=0.831 total time=   0.0s\n",
      "[CV 4/5] END algorithm=brute, leaf_size=30, n_neighbors=11;, score=0.811 total time=   0.0s\n",
      "[CV 5/5] END algorithm=brute, leaf_size=30, n_neighbors=11;, score=0.821 total time=   0.0s\n",
      "[CV 1/5] END algorithm=brute, leaf_size=30, n_neighbors=12;, score=0.816 total time=   0.0s\n",
      "[CV 2/5] END algorithm=brute, leaf_size=30, n_neighbors=12;, score=0.850 total time=   0.0s\n",
      "[CV 3/5] END algorithm=brute, leaf_size=30, n_neighbors=12;, score=0.829 total time=   0.0s\n",
      "[CV 4/5] END algorithm=brute, leaf_size=30, n_neighbors=12;, score=0.814 total time=   0.0s\n",
      "[CV 5/5] END algorithm=brute, leaf_size=30, n_neighbors=12;, score=0.816 total time=   0.0s\n",
      "[CV 1/5] END algorithm=brute, leaf_size=30, n_neighbors=13;, score=0.812 total time=   0.0s\n",
      "[CV 2/5] END algorithm=brute, leaf_size=30, n_neighbors=13;, score=0.845 total time=   0.0s\n",
      "[CV 3/5] END algorithm=brute, leaf_size=30, n_neighbors=13;, score=0.829 total time=   0.0s\n",
      "[CV 4/5] END algorithm=brute, leaf_size=30, n_neighbors=13;, score=0.809 total time=   0.0s\n",
      "[CV 5/5] END algorithm=brute, leaf_size=30, n_neighbors=13;, score=0.821 total time=   0.0s\n",
      "[CV 1/5] END algorithm=brute, leaf_size=32, n_neighbors=3;, score=0.901 total time=   0.0s\n",
      "[CV 2/5] END algorithm=brute, leaf_size=32, n_neighbors=3;, score=0.886 total time=   0.0s\n",
      "[CV 3/5] END algorithm=brute, leaf_size=32, n_neighbors=3;, score=0.925 total time=   0.0s\n",
      "[CV 4/5] END algorithm=brute, leaf_size=32, n_neighbors=3;, score=0.908 total time=   0.0s\n",
      "[CV 5/5] END algorithm=brute, leaf_size=32, n_neighbors=3;, score=0.927 total time=   0.0s\n",
      "[CV 1/5] END algorithm=brute, leaf_size=32, n_neighbors=5;, score=0.867 total time=   0.0s\n",
      "[CV 2/5] END algorithm=brute, leaf_size=32, n_neighbors=5;, score=0.872 total time=   0.0s\n",
      "[CV 3/5] END algorithm=brute, leaf_size=32, n_neighbors=5;, score=0.896 total time=   0.0s\n",
      "[CV 4/5] END algorithm=brute, leaf_size=32, n_neighbors=5;, score=0.869 total time=   0.0s\n",
      "[CV 5/5] END algorithm=brute, leaf_size=32, n_neighbors=5;, score=0.881 total time=   0.0s\n",
      "[CV 1/5] END algorithm=brute, leaf_size=32, n_neighbors=7;, score=0.841 total time=   0.0s\n",
      "[CV 2/5] END algorithm=brute, leaf_size=32, n_neighbors=7;, score=0.860 total time=   0.0s\n",
      "[CV 3/5] END algorithm=brute, leaf_size=32, n_neighbors=7;, score=0.865 total time=   0.0s\n",
      "[CV 4/5] END algorithm=brute, leaf_size=32, n_neighbors=7;, score=0.845 total time=   0.0s\n",
      "[CV 5/5] END algorithm=brute, leaf_size=32, n_neighbors=7;, score=0.862 total time=   0.0s\n",
      "[CV 1/5] END algorithm=brute, leaf_size=32, n_neighbors=9;, score=0.819 total time=   0.0s\n",
      "[CV 2/5] END algorithm=brute, leaf_size=32, n_neighbors=9;, score=0.838 total time=   0.0s\n",
      "[CV 3/5] END algorithm=brute, leaf_size=32, n_neighbors=9;, score=0.853 total time=   0.0s\n",
      "[CV 4/5] END algorithm=brute, leaf_size=32, n_neighbors=9;, score=0.818 total time=   0.0s\n",
      "[CV 5/5] END algorithm=brute, leaf_size=32, n_neighbors=9;, score=0.850 total time=   0.0s\n",
      "[CV 1/5] END algorithm=brute, leaf_size=32, n_neighbors=11;, score=0.809 total time=   0.0s\n",
      "[CV 2/5] END algorithm=brute, leaf_size=32, n_neighbors=11;, score=0.841 total time=   0.0s\n",
      "[CV 3/5] END algorithm=brute, leaf_size=32, n_neighbors=11;, score=0.831 total time=   0.0s\n",
      "[CV 4/5] END algorithm=brute, leaf_size=32, n_neighbors=11;, score=0.811 total time=   0.0s\n",
      "[CV 5/5] END algorithm=brute, leaf_size=32, n_neighbors=11;, score=0.821 total time=   0.0s\n",
      "[CV 1/5] END algorithm=brute, leaf_size=32, n_neighbors=12;, score=0.816 total time=   0.0s\n",
      "[CV 2/5] END algorithm=brute, leaf_size=32, n_neighbors=12;, score=0.850 total time=   0.0s\n",
      "[CV 3/5] END algorithm=brute, leaf_size=32, n_neighbors=12;, score=0.829 total time=   0.0s\n",
      "[CV 4/5] END algorithm=brute, leaf_size=32, n_neighbors=12;, score=0.814 total time=   0.0s\n",
      "[CV 5/5] END algorithm=brute, leaf_size=32, n_neighbors=12;, score=0.816 total time=   0.0s\n",
      "[CV 1/5] END algorithm=brute, leaf_size=32, n_neighbors=13;, score=0.812 total time=   0.0s\n",
      "[CV 2/5] END algorithm=brute, leaf_size=32, n_neighbors=13;, score=0.845 total time=   0.0s\n",
      "[CV 3/5] END algorithm=brute, leaf_size=32, n_neighbors=13;, score=0.829 total time=   0.0s\n",
      "[CV 4/5] END algorithm=brute, leaf_size=32, n_neighbors=13;, score=0.809 total time=   0.0s\n",
      "[CV 5/5] END algorithm=brute, leaf_size=32, n_neighbors=13;, score=0.821 total time=   0.0s\n",
      "[CV 1/5] END algorithm=brute, leaf_size=34, n_neighbors=3;, score=0.901 total time=   0.0s\n",
      "[CV 2/5] END algorithm=brute, leaf_size=34, n_neighbors=3;, score=0.886 total time=   0.0s\n",
      "[CV 3/5] END algorithm=brute, leaf_size=34, n_neighbors=3;, score=0.925 total time=   0.0s\n",
      "[CV 4/5] END algorithm=brute, leaf_size=34, n_neighbors=3;, score=0.908 total time=   0.0s\n",
      "[CV 5/5] END algorithm=brute, leaf_size=34, n_neighbors=3;, score=0.927 total time=   0.0s\n",
      "[CV 1/5] END algorithm=brute, leaf_size=34, n_neighbors=5;, score=0.867 total time=   0.0s\n",
      "[CV 2/5] END algorithm=brute, leaf_size=34, n_neighbors=5;, score=0.872 total time=   0.0s\n",
      "[CV 3/5] END algorithm=brute, leaf_size=34, n_neighbors=5;, score=0.896 total time=   0.0s\n",
      "[CV 4/5] END algorithm=brute, leaf_size=34, n_neighbors=5;, score=0.869 total time=   0.0s\n",
      "[CV 5/5] END algorithm=brute, leaf_size=34, n_neighbors=5;, score=0.881 total time=   0.0s\n",
      "[CV 1/5] END algorithm=brute, leaf_size=34, n_neighbors=7;, score=0.841 total time=   0.0s\n",
      "[CV 2/5] END algorithm=brute, leaf_size=34, n_neighbors=7;, score=0.860 total time=   0.0s\n",
      "[CV 3/5] END algorithm=brute, leaf_size=34, n_neighbors=7;, score=0.865 total time=   0.0s\n",
      "[CV 4/5] END algorithm=brute, leaf_size=34, n_neighbors=7;, score=0.845 total time=   0.0s\n",
      "[CV 5/5] END algorithm=brute, leaf_size=34, n_neighbors=7;, score=0.862 total time=   0.0s\n",
      "[CV 1/5] END algorithm=brute, leaf_size=34, n_neighbors=9;, score=0.819 total time=   0.0s\n",
      "[CV 2/5] END algorithm=brute, leaf_size=34, n_neighbors=9;, score=0.838 total time=   0.0s\n",
      "[CV 3/5] END algorithm=brute, leaf_size=34, n_neighbors=9;, score=0.853 total time=   0.0s\n",
      "[CV 4/5] END algorithm=brute, leaf_size=34, n_neighbors=9;, score=0.818 total time=   0.0s\n",
      "[CV 5/5] END algorithm=brute, leaf_size=34, n_neighbors=9;, score=0.850 total time=   0.0s\n",
      "[CV 1/5] END algorithm=brute, leaf_size=34, n_neighbors=11;, score=0.809 total time=   0.0s\n",
      "[CV 2/5] END algorithm=brute, leaf_size=34, n_neighbors=11;, score=0.841 total time=   0.0s\n",
      "[CV 3/5] END algorithm=brute, leaf_size=34, n_neighbors=11;, score=0.831 total time=   0.0s\n",
      "[CV 4/5] END algorithm=brute, leaf_size=34, n_neighbors=11;, score=0.811 total time=   0.0s\n",
      "[CV 5/5] END algorithm=brute, leaf_size=34, n_neighbors=11;, score=0.821 total time=   0.0s\n",
      "[CV 1/5] END algorithm=brute, leaf_size=34, n_neighbors=12;, score=0.816 total time=   0.0s\n",
      "[CV 2/5] END algorithm=brute, leaf_size=34, n_neighbors=12;, score=0.850 total time=   0.0s\n",
      "[CV 3/5] END algorithm=brute, leaf_size=34, n_neighbors=12;, score=0.829 total time=   0.0s\n",
      "[CV 4/5] END algorithm=brute, leaf_size=34, n_neighbors=12;, score=0.814 total time=   0.0s\n",
      "[CV 5/5] END algorithm=brute, leaf_size=34, n_neighbors=12;, score=0.816 total time=   0.0s\n",
      "[CV 1/5] END algorithm=brute, leaf_size=34, n_neighbors=13;, score=0.812 total time=   0.0s\n",
      "[CV 2/5] END algorithm=brute, leaf_size=34, n_neighbors=13;, score=0.845 total time=   0.0s\n",
      "[CV 3/5] END algorithm=brute, leaf_size=34, n_neighbors=13;, score=0.829 total time=   0.0s\n",
      "[CV 4/5] END algorithm=brute, leaf_size=34, n_neighbors=13;, score=0.809 total time=   0.0s\n",
      "[CV 5/5] END algorithm=brute, leaf_size=34, n_neighbors=13;, score=0.821 total time=   0.0s\n"
     ]
    },
    {
     "data": {
      "text/plain": [
       "GridSearchCV(estimator=KNeighborsClassifier(),\n",
       "             param_grid={'algorithm': ['ball_tree', 'kd_tree', 'brute'],\n",
       "                         'leaf_size': [18, 20, 25, 27, 30, 32, 34],\n",
       "                         'n_neighbors': [3, 5, 7, 9, 11, 12, 13]},\n",
       "             verbose=3)"
      ]
     },
     "execution_count": 75,
     "metadata": {},
     "output_type": "execute_result"
    }
   ],
   "source": [
    "gridsearch.fit(x_train,y_train)"
   ]
  },
  {
   "cell_type": "code",
   "execution_count": 76,
   "id": "8937f3a1",
   "metadata": {},
   "outputs": [
    {
     "data": {
      "text/plain": [
       "{'algorithm': 'ball_tree', 'leaf_size': 18, 'n_neighbors': 3}"
      ]
     },
     "execution_count": 76,
     "metadata": {},
     "output_type": "execute_result"
    }
   ],
   "source": [
    "gridsearch.best_params_"
   ]
  },
  {
   "cell_type": "code",
   "execution_count": 77,
   "id": "1f866e64",
   "metadata": {},
   "outputs": [
    {
     "data": {
      "text/plain": [
       "KNeighborsClassifier(algorithm='ball_tree', leaf_size=18, n_neighbors=3)"
      ]
     },
     "execution_count": 77,
     "metadata": {},
     "output_type": "execute_result"
    }
   ],
   "source": [
    "knn=KNeighborsClassifier(algorithm='ball_tree',leaf_size=18,n_neighbors=3)\n",
    "knn.fit(x_train,y_train)"
   ]
  },
  {
   "cell_type": "code",
   "execution_count": 78,
   "id": "37f42913",
   "metadata": {},
   "outputs": [],
   "source": [
    "knn_pred_train=knn.predict(x_train)\n",
    "knn_pred_test=knn.predict(x_test)"
   ]
  },
  {
   "cell_type": "code",
   "execution_count": 79,
   "id": "c9d41db2",
   "metadata": {},
   "outputs": [
    {
     "name": "stdout",
     "output_type": "stream",
     "text": [
      "acc train 95.84139264990328\n",
      "acc test 91.11969111969111\n"
     ]
    }
   ],
   "source": [
    "knn_acc_train=accuracy_score(y_train,knn_pred_train)\n",
    "knn_acc_test=accuracy_score(y_test,knn_pred_test)\n",
    "print(\"acc train\",knn_acc_train*100)\n",
    "print(\"acc test\",knn_acc_test*100)"
   ]
  },
  {
   "cell_type": "markdown",
   "id": "6c690c32",
   "metadata": {},
   "source": [
    "# Knn model accuracy has been increased to 91.69%. So lets check cross validation score::"
   ]
  },
  {
   "cell_type": "markdown",
   "id": "8f5dad02",
   "metadata": {},
   "source": [
    "# Cross validation score"
   ]
  },
  {
   "cell_type": "code",
   "execution_count": 80,
   "id": "154831ce",
   "metadata": {},
   "outputs": [
    {
     "name": "stdout",
     "output_type": "stream",
     "text": [
      "\n",
      "\n",
      "At cv- 4\n",
      "\n",
      " cross validation score is- 87.46817892535685\n",
      "\n",
      " Accuracy score is- 91.11969111969111\n",
      "\n",
      "\n",
      "At cv- 5\n",
      "\n",
      " cross validation score is- 88.24186164611699\n",
      "\n",
      " Accuracy score is- 91.11969111969111\n",
      "\n",
      "\n",
      "At cv- 6\n",
      "\n",
      " cross validation score is- 88.86310904872389\n",
      "\n",
      " Accuracy score is- 91.11969111969111\n",
      "\n",
      "\n",
      "At cv- 7\n",
      "\n",
      " cross validation score is- 89.48007240690168\n",
      "\n",
      " Accuracy score is- 91.11969111969111\n",
      "\n",
      "\n",
      "At cv- 8\n",
      "\n",
      " cross validation score is- 89.82687860719338\n",
      "\n",
      " Accuracy score is- 91.11969111969111\n",
      "\n",
      "\n",
      "At cv- 9\n",
      "\n",
      " cross validation score is- 90.1378403664989\n",
      "\n",
      " Accuracy score is- 91.11969111969111\n",
      "\n",
      "\n",
      "At cv- 10\n",
      "\n",
      " cross validation score is- 90.13543443776001\n",
      "\n",
      " Accuracy score is- 91.11969111969111\n",
      "\n",
      "\n",
      "At cv- 11\n",
      "\n",
      " cross validation score is- 90.29341376258073\n",
      "\n",
      " Accuracy score is- 91.11969111969111\n",
      "\n",
      "\n",
      "At cv- 12\n",
      "\n",
      " cross validation score is- 90.6750645994832\n",
      "\n",
      " Accuracy score is- 91.11969111969111\n",
      "\n",
      "\n",
      "At cv- 13\n",
      "\n",
      " cross validation score is- 91.06663855407574\n",
      "\n",
      " Accuracy score is- 91.11969111969111\n",
      "\n",
      "\n",
      "At cv- 14\n",
      "\n",
      " cross validation score is- 90.7965418834984\n",
      "\n",
      " Accuracy score is- 91.11969111969111\n"
     ]
    }
   ],
   "source": [
    "for i in range(4,15):\n",
    "    cv_score=cross_val_score(knn,x,y,cv=i)\n",
    "    cv_mean=cv_score.mean()\n",
    "    print(\"\\n\\nAt cv-\",i)\n",
    "    print(\"\\n cross validation score is-\",cv_mean*100)\n",
    "    print(\"\\n Accuracy score is-\",knn_acc_test*100)"
   ]
  },
  {
   "cell_type": "markdown",
   "id": "4a48fc9a",
   "metadata": {},
   "source": [
    "So we are getting the least difference between cross_val_score and accuracy score at cv=13"
   ]
  },
  {
   "cell_type": "code",
   "execution_count": 81,
   "id": "39b47ea3",
   "metadata": {},
   "outputs": [
    {
     "name": "stdout",
     "output_type": "stream",
     "text": [
      "cross validation score is- 91.06663855407574\n",
      "accuracy score for K Nearest classifier model after hyper parameter tuning is- 91.11969111969111\n"
     ]
    }
   ],
   "source": [
    "cv_score_best=cross_val_score(knn,x,y,cv=13).mean()*100\n",
    "print(\"cross validation score is-\",cv_score_best)\n",
    "print(\"accuracy score for K Nearest classifier model after hyper parameter tuning is-\",knn_acc_test*100)"
   ]
  },
  {
   "cell_type": "markdown",
   "id": "d465ae46",
   "metadata": {},
   "source": [
    "# Knnmodel giving best accuracy 91.69% so we will finalise this model."
   ]
  },
  {
   "cell_type": "markdown",
   "id": "78ab5f83",
   "metadata": {},
   "source": [
    "## Model Saving"
   ]
  },
  {
   "cell_type": "code",
   "execution_count": 82,
   "id": "6b56dbdd",
   "metadata": {},
   "outputs": [],
   "source": [
    "import pickle\n",
    "filename = 'finalized_model.pkl'\n",
    "pickle.dump(knn, open(filename, 'wb'))\n",
    " "
   ]
  }
 ],
 "metadata": {
  "kernelspec": {
   "display_name": "Python 3 (ipykernel)",
   "language": "python",
   "name": "python3"
  },
  "language_info": {
   "codemirror_mode": {
    "name": "ipython",
    "version": 3
   },
   "file_extension": ".py",
   "mimetype": "text/x-python",
   "name": "python",
   "nbconvert_exporter": "python",
   "pygments_lexer": "ipython3",
   "version": "3.9.7"
  }
 },
 "nbformat": 4,
 "nbformat_minor": 5
}
