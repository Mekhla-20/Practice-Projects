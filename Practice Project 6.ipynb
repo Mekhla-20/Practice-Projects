{
 "cells": [
  {
   "cell_type": "code",
   "execution_count": 19,
   "id": "8b8ffe5f",
   "metadata": {},
   "outputs": [],
   "source": [
    "import pandas as pd\n",
    "import matplotlib.pyplot as plt\n",
    "import seaborn as sns\n",
    "import numpy as np\n",
    "from scipy.stats import zscore\n",
    "from sklearn.preprocessing import power_transform\n",
    "from sklearn.preprocessing import StandardScaler\n",
    "from sklearn.model_selection import train_test_split\n",
    "from sklearn.model_selection import cross_val_score\n",
    "from sklearn.model_selection import GridSearchCV\n",
    "from sklearn.metrics import mean_squared_error, mean_absolute_error"
   ]
  },
  {
   "cell_type": "code",
   "execution_count": 20,
   "id": "227b47ba",
   "metadata": {},
   "outputs": [
    {
     "data": {
      "text/html": [
       "<div>\n",
       "<style scoped>\n",
       "    .dataframe tbody tr th:only-of-type {\n",
       "        vertical-align: middle;\n",
       "    }\n",
       "\n",
       "    .dataframe tbody tr th {\n",
       "        vertical-align: top;\n",
       "    }\n",
       "\n",
       "    .dataframe thead th {\n",
       "        text-align: right;\n",
       "    }\n",
       "</style>\n",
       "<table border=\"1\" class=\"dataframe\">\n",
       "  <thead>\n",
       "    <tr style=\"text-align: right;\">\n",
       "      <th></th>\n",
       "      <th>Unnamed: 0</th>\n",
       "      <th>TV</th>\n",
       "      <th>radio</th>\n",
       "      <th>newspaper</th>\n",
       "      <th>sales</th>\n",
       "    </tr>\n",
       "  </thead>\n",
       "  <tbody>\n",
       "    <tr>\n",
       "      <th>0</th>\n",
       "      <td>1</td>\n",
       "      <td>230.1</td>\n",
       "      <td>37.8</td>\n",
       "      <td>69.2</td>\n",
       "      <td>22.1</td>\n",
       "    </tr>\n",
       "    <tr>\n",
       "      <th>1</th>\n",
       "      <td>2</td>\n",
       "      <td>44.5</td>\n",
       "      <td>39.3</td>\n",
       "      <td>45.1</td>\n",
       "      <td>10.4</td>\n",
       "    </tr>\n",
       "    <tr>\n",
       "      <th>2</th>\n",
       "      <td>3</td>\n",
       "      <td>17.2</td>\n",
       "      <td>45.9</td>\n",
       "      <td>69.3</td>\n",
       "      <td>9.3</td>\n",
       "    </tr>\n",
       "    <tr>\n",
       "      <th>3</th>\n",
       "      <td>4</td>\n",
       "      <td>151.5</td>\n",
       "      <td>41.3</td>\n",
       "      <td>58.5</td>\n",
       "      <td>18.5</td>\n",
       "    </tr>\n",
       "    <tr>\n",
       "      <th>4</th>\n",
       "      <td>5</td>\n",
       "      <td>180.8</td>\n",
       "      <td>10.8</td>\n",
       "      <td>58.4</td>\n",
       "      <td>12.9</td>\n",
       "    </tr>\n",
       "  </tbody>\n",
       "</table>\n",
       "</div>"
      ],
      "text/plain": [
       "   Unnamed: 0     TV  radio  newspaper  sales\n",
       "0           1  230.1   37.8       69.2   22.1\n",
       "1           2   44.5   39.3       45.1   10.4\n",
       "2           3   17.2   45.9       69.3    9.3\n",
       "3           4  151.5   41.3       58.5   18.5\n",
       "4           5  180.8   10.8       58.4   12.9"
      ]
     },
     "execution_count": 20,
     "metadata": {},
     "output_type": "execute_result"
    }
   ],
   "source": [
    "df=pd.read_csv(\"https://raw.githubusercontent.com/dsrscientist/DSData/master/Advertising.csv\")\n",
    "df.head()"
   ]
  },
  {
   "cell_type": "markdown",
   "id": "24636d11",
   "metadata": {},
   "source": [
    "## Checking nulls"
   ]
  },
  {
   "cell_type": "code",
   "execution_count": 21,
   "id": "6b4ae5f8",
   "metadata": {},
   "outputs": [
    {
     "data": {
      "text/plain": [
       "Unnamed: 0    0\n",
       "TV            0\n",
       "radio         0\n",
       "newspaper     0\n",
       "sales         0\n",
       "dtype: int64"
      ]
     },
     "execution_count": 21,
     "metadata": {},
     "output_type": "execute_result"
    }
   ],
   "source": [
    "df.isna().sum()"
   ]
  },
  {
   "cell_type": "markdown",
   "id": "6d33421c",
   "metadata": {},
   "source": [
    "conclusion:: no null values present so good to proceed"
   ]
  },
  {
   "cell_type": "markdown",
   "id": "52ea4f04",
   "metadata": {},
   "source": [
    "## Checking relationship between features and labels"
   ]
  },
  {
   "cell_type": "code",
   "execution_count": 22,
   "id": "9ffd2bfa",
   "metadata": {},
   "outputs": [
    {
     "data": {
      "image/png": "[encoded data removed]",
      "text/plain": [
       "<Figure size 432x288 with 1 Axes>"
      ]
     },
     "metadata": {
      "needs_background": "light"
     },
     "output_type": "display_data"
    }
   ],
   "source": [
    "# for TV\n",
    "sns.scatterplot(x=df['TV'],y=df['sales'],data=df)\n",
    "plt.xlabel(\"TV\")\n",
    "plt.ylabel(\"Sales\")\n",
    "plt.show()"
   ]
  },
  {
   "cell_type": "markdown",
   "id": "1ec90776",
   "metadata": {},
   "source": [
    "conclusion:: TV sales is linearly ralated to sales as TV sales increases total sales aslo increase."
   ]
  },
  {
   "cell_type": "code",
   "execution_count": 23,
   "id": "9796b8d2",
   "metadata": {},
   "outputs": [
    {
     "data": {
      "image/png": "[encoded data removed]",
      "text/plain": [
       "<Figure size 432x288 with 1 Axes>"
      ]
     },
     "metadata": {
      "needs_background": "light"
     },
     "output_type": "display_data"
    }
   ],
   "source": [
    "# for radio\n",
    "sns.scatterplot(x=df['radio'],y=df['sales'],data=df)\n",
    "plt.xlabel(\"radio\")\n",
    "plt.ylabel(\"sales\")\n",
    "plt.show()"
   ]
  },
  {
   "cell_type": "code",
   "execution_count": 24,
   "id": "a65995cc",
   "metadata": {},
   "outputs": [
    {
     "data": {
      "image/png": "[encoded data removed]",
      "text/plain": [
       "<Figure size 432x288 with 1 Axes>"
      ]
     },
     "metadata": {
      "needs_background": "light"
     },
     "output_type": "display_data"
    }
   ],
   "source": [
    "# for newspaper\n",
    "sns.scatterplot(x=df['newspaper'],y=df['sales'],data=df)\n",
    "plt.xlabel(\"newspaper\")\n",
    "plt.ylabel(\"sales\")\n",
    "plt.show()"
   ]
  },
  {
   "cell_type": "markdown",
   "id": "f754f9f2",
   "metadata": {},
   "source": [
    "conclusion:: We could hardly observe any relation between newspaper and sales"
   ]
  },
  {
   "cell_type": "markdown",
   "id": "d8bf9938",
   "metadata": {},
   "source": [
    "## Checking the correlation "
   ]
  },
  {
   "cell_type": "code",
   "execution_count": 25,
   "id": "72e6406e",
   "metadata": {},
   "outputs": [
    {
     "data": {
      "text/html": [
       "<div>\n",
       "<style scoped>\n",
       "    .dataframe tbody tr th:only-of-type {\n",
       "        vertical-align: middle;\n",
       "    }\n",
       "\n",
       "    .dataframe tbody tr th {\n",
       "        vertical-align: top;\n",
       "    }\n",
       "\n",
       "    .dataframe thead th {\n",
       "        text-align: right;\n",
       "    }\n",
       "</style>\n",
       "<table border=\"1\" class=\"dataframe\">\n",
       "  <thead>\n",
       "    <tr style=\"text-align: right;\">\n",
       "      <th></th>\n",
       "      <th>Unnamed: 0</th>\n",
       "      <th>TV</th>\n",
       "      <th>radio</th>\n",
       "      <th>newspaper</th>\n",
       "      <th>sales</th>\n",
       "    </tr>\n",
       "  </thead>\n",
       "  <tbody>\n",
       "    <tr>\n",
       "      <th>Unnamed: 0</th>\n",
       "      <td>1.000000</td>\n",
       "      <td>0.017715</td>\n",
       "      <td>0.110680</td>\n",
       "      <td>0.154944</td>\n",
       "      <td>0.051616</td>\n",
       "    </tr>\n",
       "    <tr>\n",
       "      <th>TV</th>\n",
       "      <td>0.017715</td>\n",
       "      <td>1.000000</td>\n",
       "      <td>0.054809</td>\n",
       "      <td>0.056648</td>\n",
       "      <td>0.782224</td>\n",
       "    </tr>\n",
       "    <tr>\n",
       "      <th>radio</th>\n",
       "      <td>0.110680</td>\n",
       "      <td>0.054809</td>\n",
       "      <td>1.000000</td>\n",
       "      <td>0.354104</td>\n",
       "      <td>0.576223</td>\n",
       "    </tr>\n",
       "    <tr>\n",
       "      <th>newspaper</th>\n",
       "      <td>0.154944</td>\n",
       "      <td>0.056648</td>\n",
       "      <td>0.354104</td>\n",
       "      <td>1.000000</td>\n",
       "      <td>0.228299</td>\n",
       "    </tr>\n",
       "    <tr>\n",
       "      <th>sales</th>\n",
       "      <td>0.051616</td>\n",
       "      <td>0.782224</td>\n",
       "      <td>0.576223</td>\n",
       "      <td>0.228299</td>\n",
       "      <td>1.000000</td>\n",
       "    </tr>\n",
       "  </tbody>\n",
       "</table>\n",
       "</div>"
      ],
      "text/plain": [
       "            Unnamed: 0        TV     radio  newspaper     sales\n",
       "Unnamed: 0    1.000000  0.017715  0.110680   0.154944  0.051616\n",
       "TV            0.017715  1.000000  0.054809   0.056648  0.782224\n",
       "radio         0.110680  0.054809  1.000000   0.354104  0.576223\n",
       "newspaper     0.154944  0.056648  0.354104   1.000000  0.228299\n",
       "sales         0.051616  0.782224  0.576223   0.228299  1.000000"
      ]
     },
     "execution_count": 25,
     "metadata": {},
     "output_type": "execute_result"
    }
   ],
   "source": [
    "df.corr().abs()"
   ]
  },
  {
   "cell_type": "code",
   "execution_count": 26,
   "id": "4ebb9403",
   "metadata": {},
   "outputs": [
    {
     "data": {
      "text/plain": [
       "<AxesSubplot:>"
      ]
     },
     "execution_count": 26,
     "metadata": {},
     "output_type": "execute_result"
    },
    {
     "data": {
      "image/png": "[encoded data removed]",
      "text/plain": [
       "<Figure size 720x720 with 2 Axes>"
      ]
     },
     "metadata": {
      "needs_background": "light"
     },
     "output_type": "display_data"
    }
   ],
   "source": [
    "# Plotting correlation\n",
    "plt.figure(figsize=(10,10))\n",
    "sns.heatmap(df.corr().abs(),annot=True,linewidth=0.5,linecolor='black',fmt='.2f')"
   ]
  },
  {
   "cell_type": "markdown",
   "id": "6440d52d",
   "metadata": {},
   "source": [
    "conclusion:: No multicollinearity and we could see strong relation between TV and sales."
   ]
  },
  {
   "cell_type": "markdown",
   "id": "29f0cf15",
   "metadata": {},
   "source": [
    "# Describing data"
   ]
  },
  {
   "cell_type": "code",
   "execution_count": 27,
   "id": "f7f50b8f",
   "metadata": {},
   "outputs": [
    {
     "data": {
      "text/html": [
       "<div>\n",
       "<style scoped>\n",
       "    .dataframe tbody tr th:only-of-type {\n",
       "        vertical-align: middle;\n",
       "    }\n",
       "\n",
       "    .dataframe tbody tr th {\n",
       "        vertical-align: top;\n",
       "    }\n",
       "\n",
       "    .dataframe thead th {\n",
       "        text-align: right;\n",
       "    }\n",
       "</style>\n",
       "<table border=\"1\" class=\"dataframe\">\n",
       "  <thead>\n",
       "    <tr style=\"text-align: right;\">\n",
       "      <th></th>\n",
       "      <th>Unnamed: 0</th>\n",
       "      <th>TV</th>\n",
       "      <th>radio</th>\n",
       "      <th>newspaper</th>\n",
       "      <th>sales</th>\n",
       "    </tr>\n",
       "  </thead>\n",
       "  <tbody>\n",
       "    <tr>\n",
       "      <th>count</th>\n",
       "      <td>200.000000</td>\n",
       "      <td>200.000000</td>\n",
       "      <td>200.000000</td>\n",
       "      <td>200.000000</td>\n",
       "      <td>200.000000</td>\n",
       "    </tr>\n",
       "    <tr>\n",
       "      <th>mean</th>\n",
       "      <td>100.500000</td>\n",
       "      <td>147.042500</td>\n",
       "      <td>23.264000</td>\n",
       "      <td>30.554000</td>\n",
       "      <td>14.022500</td>\n",
       "    </tr>\n",
       "    <tr>\n",
       "      <th>std</th>\n",
       "      <td>57.879185</td>\n",
       "      <td>85.854236</td>\n",
       "      <td>14.846809</td>\n",
       "      <td>21.778621</td>\n",
       "      <td>5.217457</td>\n",
       "    </tr>\n",
       "    <tr>\n",
       "      <th>min</th>\n",
       "      <td>1.000000</td>\n",
       "      <td>0.700000</td>\n",
       "      <td>0.000000</td>\n",
       "      <td>0.300000</td>\n",
       "      <td>1.600000</td>\n",
       "    </tr>\n",
       "    <tr>\n",
       "      <th>25%</th>\n",
       "      <td>50.750000</td>\n",
       "      <td>74.375000</td>\n",
       "      <td>9.975000</td>\n",
       "      <td>12.750000</td>\n",
       "      <td>10.375000</td>\n",
       "    </tr>\n",
       "    <tr>\n",
       "      <th>50%</th>\n",
       "      <td>100.500000</td>\n",
       "      <td>149.750000</td>\n",
       "      <td>22.900000</td>\n",
       "      <td>25.750000</td>\n",
       "      <td>12.900000</td>\n",
       "    </tr>\n",
       "    <tr>\n",
       "      <th>75%</th>\n",
       "      <td>150.250000</td>\n",
       "      <td>218.825000</td>\n",
       "      <td>36.525000</td>\n",
       "      <td>45.100000</td>\n",
       "      <td>17.400000</td>\n",
       "    </tr>\n",
       "    <tr>\n",
       "      <th>max</th>\n",
       "      <td>200.000000</td>\n",
       "      <td>296.400000</td>\n",
       "      <td>49.600000</td>\n",
       "      <td>114.000000</td>\n",
       "      <td>27.000000</td>\n",
       "    </tr>\n",
       "  </tbody>\n",
       "</table>\n",
       "</div>"
      ],
      "text/plain": [
       "       Unnamed: 0          TV       radio   newspaper       sales\n",
       "count  200.000000  200.000000  200.000000  200.000000  200.000000\n",
       "mean   100.500000  147.042500   23.264000   30.554000   14.022500\n",
       "std     57.879185   85.854236   14.846809   21.778621    5.217457\n",
       "min      1.000000    0.700000    0.000000    0.300000    1.600000\n",
       "25%     50.750000   74.375000    9.975000   12.750000   10.375000\n",
       "50%    100.500000  149.750000   22.900000   25.750000   12.900000\n",
       "75%    150.250000  218.825000   36.525000   45.100000   17.400000\n",
       "max    200.000000  296.400000   49.600000  114.000000   27.000000"
      ]
     },
     "execution_count": 27,
     "metadata": {},
     "output_type": "execute_result"
    }
   ],
   "source": [
    "df.describe()"
   ]
  },
  {
   "cell_type": "markdown",
   "id": "b75431e6",
   "metadata": {},
   "source": [
    "## Checking outliers"
   ]
  },
  {
   "cell_type": "code",
   "execution_count": 28,
   "id": "f767ca50",
   "metadata": {},
   "outputs": [
    {
     "data": {
      "image/png": "[encoded data removed]",
      "text/plain": [
       "<Figure size 2160x6480 with 5 Axes>"
      ]
     },
     "metadata": {
      "needs_background": "light"
     },
     "output_type": "display_data"
    }
   ],
   "source": [
    "col=df.columns\n",
    "plt.figure(figsize=(30,90))\n",
    "for i in range(len(col)):\n",
    "    plt.subplot(20,20,i+1)\n",
    "    sns.boxplot(data=df[col[i]],color='green',orient='v')\n",
    "    plt.xlabel(col[i])\n",
    "    plt.tight_layout()"
   ]
  },
  {
   "cell_type": "markdown",
   "id": "baeea771",
   "metadata": {},
   "source": [
    "conclusion:: data is very clean we could see outliers only in newspaper column"
   ]
  },
  {
   "cell_type": "markdown",
   "id": "4afd6053",
   "metadata": {},
   "source": [
    "## Checking skewness"
   ]
  },
  {
   "cell_type": "code",
   "execution_count": 29,
   "id": "1acbc214",
   "metadata": {},
   "outputs": [
    {
     "data": {
      "text/plain": [
       "Unnamed: 0    0.000000\n",
       "TV           -0.069853\n",
       "radio         0.094175\n",
       "newspaper     0.894720\n",
       "sales         0.407571\n",
       "dtype: float64"
      ]
     },
     "execution_count": 29,
     "metadata": {},
     "output_type": "execute_result"
    }
   ],
   "source": [
    "df.skew()"
   ]
  },
  {
   "cell_type": "markdown",
   "id": "3d3764ca",
   "metadata": {},
   "source": [
    "conclusion:: Considering range of skewness as(-0.5,0.5), ther is skewness in only newspaper column."
   ]
  },
  {
   "cell_type": "code",
   "execution_count": 30,
   "id": "014e71c8",
   "metadata": {},
   "outputs": [
    {
     "data": {
      "text/plain": [
       "<AxesSubplot:xlabel='newspaper', ylabel='Density'>"
      ]
     },
     "execution_count": 30,
     "metadata": {},
     "output_type": "execute_result"
    },
    {
     "data": {
      "image/png": "[encoded data removed]",
      "text/plain": [
       "<Figure size 720x360 with 1 Axes>"
      ]
     },
     "metadata": {
      "needs_background": "light"
     },
     "output_type": "display_data"
    }
   ],
   "source": [
    "# Plotting dist plot for newspaper column\n",
    "import warnings\n",
    "warnings.filterwarnings('ignore')\n",
    "\n",
    "plt.figure(figsize=(10,5))\n",
    "sns.distplot(df['newspaper'])"
   ]
  },
  {
   "cell_type": "markdown",
   "id": "6bd98444",
   "metadata": {},
   "source": [
    "conclusion:: it is skewed towards right side."
   ]
  },
  {
   "cell_type": "markdown",
   "id": "8859feae",
   "metadata": {},
   "source": [
    "## Removing outliers"
   ]
  },
  {
   "cell_type": "code",
   "execution_count": 31,
   "id": "f16c1150",
   "metadata": {},
   "outputs": [
    {
     "name": "stdout",
     "output_type": "stream",
     "text": [
      "Outliers index-\n",
      " {16, 101}\n",
      "\n",
      "\n",
      "Number of rows to be eliminated-\n",
      " 2\n"
     ]
    }
   ],
   "source": [
    "#Getting sure of outliers using z score\n",
    "\n",
    "df_z=df.drop(['sales'],axis=1)\n",
    "z=np.abs(zscore(df_z))\n",
    "i=np.where(z>3)\n",
    "print(\"Outliers index-\\n\",set(i[0]))\n",
    "print(\"\\n\\nNumber of rows to be eliminated-\\n\",len(set(i[0])))"
   ]
  },
  {
   "cell_type": "code",
   "execution_count": 32,
   "id": "df89efa6",
   "metadata": {},
   "outputs": [
    {
     "data": {
      "text/plain": [
       "(200, 5)"
      ]
     },
     "execution_count": 32,
     "metadata": {},
     "output_type": "execute_result"
    }
   ],
   "source": [
    "df.shape"
   ]
  },
  {
   "cell_type": "code",
   "execution_count": 33,
   "id": "40268188",
   "metadata": {},
   "outputs": [
    {
     "name": "stdout",
     "output_type": "stream",
     "text": [
      "The data loss- 1.0 %\n"
     ]
    }
   ],
   "source": [
    "#calculating data loss\n",
    "loss=((200-2)/200)*100\n",
    "print(\"The data loss-\",100-loss,\"%\")"
   ]
  },
  {
   "cell_type": "markdown",
   "id": "edb52325",
   "metadata": {},
   "source": [
    "conclusion:: data loss is bearable so we can remove outliers"
   ]
  },
  {
   "cell_type": "code",
   "execution_count": 35,
   "id": "8458d217",
   "metadata": {},
   "outputs": [
    {
     "data": {
      "text/html": [
       "<div>\n",
       "<style scoped>\n",
       "    .dataframe tbody tr th:only-of-type {\n",
       "        vertical-align: middle;\n",
       "    }\n",
       "\n",
       "    .dataframe tbody tr th {\n",
       "        vertical-align: top;\n",
       "    }\n",
       "\n",
       "    .dataframe thead th {\n",
       "        text-align: right;\n",
       "    }\n",
       "</style>\n",
       "<table border=\"1\" class=\"dataframe\">\n",
       "  <thead>\n",
       "    <tr style=\"text-align: right;\">\n",
       "      <th></th>\n",
       "      <th>Unnamed: 0</th>\n",
       "      <th>TV</th>\n",
       "      <th>radio</th>\n",
       "      <th>newspaper</th>\n",
       "      <th>sales</th>\n",
       "    </tr>\n",
       "  </thead>\n",
       "  <tbody>\n",
       "    <tr>\n",
       "      <th>0</th>\n",
       "      <td>1</td>\n",
       "      <td>230.1</td>\n",
       "      <td>37.8</td>\n",
       "      <td>69.2</td>\n",
       "      <td>22.1</td>\n",
       "    </tr>\n",
       "    <tr>\n",
       "      <th>1</th>\n",
       "      <td>2</td>\n",
       "      <td>44.5</td>\n",
       "      <td>39.3</td>\n",
       "      <td>45.1</td>\n",
       "      <td>10.4</td>\n",
       "    </tr>\n",
       "    <tr>\n",
       "      <th>2</th>\n",
       "      <td>3</td>\n",
       "      <td>17.2</td>\n",
       "      <td>45.9</td>\n",
       "      <td>69.3</td>\n",
       "      <td>9.3</td>\n",
       "    </tr>\n",
       "    <tr>\n",
       "      <th>3</th>\n",
       "      <td>4</td>\n",
       "      <td>151.5</td>\n",
       "      <td>41.3</td>\n",
       "      <td>58.5</td>\n",
       "      <td>18.5</td>\n",
       "    </tr>\n",
       "    <tr>\n",
       "      <th>4</th>\n",
       "      <td>5</td>\n",
       "      <td>180.8</td>\n",
       "      <td>10.8</td>\n",
       "      <td>58.4</td>\n",
       "      <td>12.9</td>\n",
       "    </tr>\n",
       "    <tr>\n",
       "      <th>...</th>\n",
       "      <td>...</td>\n",
       "      <td>...</td>\n",
       "      <td>...</td>\n",
       "      <td>...</td>\n",
       "      <td>...</td>\n",
       "    </tr>\n",
       "    <tr>\n",
       "      <th>195</th>\n",
       "      <td>196</td>\n",
       "      <td>38.2</td>\n",
       "      <td>3.7</td>\n",
       "      <td>13.8</td>\n",
       "      <td>7.6</td>\n",
       "    </tr>\n",
       "    <tr>\n",
       "      <th>196</th>\n",
       "      <td>197</td>\n",
       "      <td>94.2</td>\n",
       "      <td>4.9</td>\n",
       "      <td>8.1</td>\n",
       "      <td>9.7</td>\n",
       "    </tr>\n",
       "    <tr>\n",
       "      <th>197</th>\n",
       "      <td>198</td>\n",
       "      <td>177.0</td>\n",
       "      <td>9.3</td>\n",
       "      <td>6.4</td>\n",
       "      <td>12.8</td>\n",
       "    </tr>\n",
       "    <tr>\n",
       "      <th>198</th>\n",
       "      <td>199</td>\n",
       "      <td>283.6</td>\n",
       "      <td>42.0</td>\n",
       "      <td>66.2</td>\n",
       "      <td>25.5</td>\n",
       "    </tr>\n",
       "    <tr>\n",
       "      <th>199</th>\n",
       "      <td>200</td>\n",
       "      <td>232.1</td>\n",
       "      <td>8.6</td>\n",
       "      <td>8.7</td>\n",
       "      <td>13.4</td>\n",
       "    </tr>\n",
       "  </tbody>\n",
       "</table>\n",
       "<p>198 rows × 5 columns</p>\n",
       "</div>"
      ],
      "text/plain": [
       "     Unnamed: 0     TV  radio  newspaper  sales\n",
       "0             1  230.1   37.8       69.2   22.1\n",
       "1             2   44.5   39.3       45.1   10.4\n",
       "2             3   17.2   45.9       69.3    9.3\n",
       "3             4  151.5   41.3       58.5   18.5\n",
       "4             5  180.8   10.8       58.4   12.9\n",
       "..          ...    ...    ...        ...    ...\n",
       "195         196   38.2    3.7       13.8    7.6\n",
       "196         197   94.2    4.9        8.1    9.7\n",
       "197         198  177.0    9.3        6.4   12.8\n",
       "198         199  283.6   42.0       66.2   25.5\n",
       "199         200  232.1    8.6        8.7   13.4\n",
       "\n",
       "[198 rows x 5 columns]"
      ]
     },
     "execution_count": 35,
     "metadata": {},
     "output_type": "execute_result"
    }
   ],
   "source": [
    "#removing outlier rows\n",
    "df_new=df.drop(df.index[i[0]])\n",
    "df_new"
   ]
  },
  {
   "cell_type": "markdown",
   "id": "aba6aaf7",
   "metadata": {},
   "source": [
    "## Removing skewness"
   ]
  },
  {
   "cell_type": "code",
   "execution_count": 36,
   "id": "ae71e334",
   "metadata": {},
   "outputs": [],
   "source": [
    "x=df_new.drop(['sales'],axis=1)\n",
    "y=df_new['sales']"
   ]
  },
  {
   "cell_type": "code",
   "execution_count": 37,
   "id": "0c4e4747",
   "metadata": {},
   "outputs": [
    {
     "data": {
      "text/plain": [
       "array([[-2.08112123,  0.95598306,  0.9691098 ,  1.6041965 ],\n",
       "       [-2.03541299, -1.19200349,  1.04623436,  0.83104401],\n",
       "       [-1.99380721, -1.6461253 ,  1.37296802,  1.60705249],\n",
       "       [-1.95500804,  0.14293428,  1.1473316 ,  1.28376774],\n",
       "       [-1.91830818,  0.45645241, -0.73502642,  1.28062154],\n",
       "       [-1.88326684, -1.8204008 ,  1.51543955,  1.76610727],\n",
       "       [-1.84958541, -1.00349358,  0.70309642, -0.10205346],\n",
       "       [-1.81704952, -0.20996049, -0.0876566 , -0.84968895],\n",
       "       [-1.78549851, -1.82264543, -1.62948287, -2.09866461],\n",
       "       [-1.754808  ,  0.652694  , -1.56152179, -0.22649933],\n",
       "       [-1.72487914, -0.88482761, -1.19258569, -0.06553382],\n",
       "       [-1.69563166,  0.80322028,  0.19357553, -1.59608414],\n",
       "       [-1.66699926, -1.52567125,  0.82725998,  1.50859232],\n",
       "       [-1.63892633, -0.48090308, -1.01613619, -1.23269654],\n",
       "       [-1.61136564,  0.69642374,  0.70856268,  0.86367455],\n",
       "       [-1.58427663,  0.60769456,  1.45886692,  1.1026083 ],\n",
       "       [-1.53137745,  1.44702338,  1.06152278,  1.19771741],\n",
       "       [-1.50550946, -0.84304109, -0.02834315, -0.39458775],\n",
       "       [-1.47999615,  0.09676151,  0.18741189, -0.346834  ],\n",
       "       [-1.45481611,  0.84017479,  0.41523303,  1.11921444],\n",
       "       [-1.42995011,  1.02746612, -1.2660875 , -0.10205346],\n",
       "       [-1.40538082, -1.72466475, -0.3430802 ,  0.99069777],\n",
       "       [-1.38109254,  0.93826742, -0.27204438,  0.0356758 ],\n",
       "       [-1.35707101, -0.93674187, -0.59023588, -0.39458775],\n",
       "       [-1.33330319,  1.27285397, -1.44792482, -0.32336998],\n",
       "       [-1.30977716,  0.04802388,  0.50756488, -0.7740548 ],\n",
       "       [-1.28648194,  1.05376032, -0.28612399, -0.13384051],\n",
       "       [-1.26340742,  1.13797152,  0.38008881, -0.13384051],\n",
       "       [-1.24054425, -0.82432769, -0.33590351,  0.66980347],\n",
       "       [-1.21788377,  1.55379249,  0.45008922,  0.76092313],\n",
       "       [-1.19541794, -0.29552539, -0.23711359,  0.58357284],\n",
       "       [-1.17313924, -0.48458608, -1.71704857,  0.21669702],\n",
       "       [-1.15104069,  1.29846636, -0.06117169, -2.2758464 ],\n",
       "       [-1.12911574, -0.50304519, -1.7324148 , -1.21299201],\n",
       "       [-1.10735826,  1.53345233, -1.3771472 , -1.10919482],\n",
       "       [-1.0857625 ,  1.31077419,  1.27109462, -1.4708598 ],\n",
       "       [-1.06432304, -0.77006157,  1.53885314,  0.85283827],\n",
       "       [-1.04303479, -1.21308859,  0.35649509,  0.44045973],\n",
       "       [-1.02189293,  0.93531131,  0.96392681,  0.30682057],\n",
       "       [-1.00089294,  0.68018031,  0.08742886,  0.28905461],\n",
       "       [-0.9800305 ,  0.4165774 ,  0.73579933,  0.58755182],\n",
       "       [-0.95930155,  1.56025605,  0.41523303, -1.93614969],\n",
       "       [-0.93870224,  0.72477076, -0.94246393,  0.04555612],\n",
       "       [-0.91822889, -1.50299171,  0.29691633,  0.76465678],\n",
       "       [-0.89787802,  0.39655706,  0.10007132,  0.2845934 ],\n",
       "       [-0.87764632, -0.5776425 , -0.81067203,  0.46554742],\n",
       "       [-0.85753062,  1.05181524,  1.15733673, -0.38254334],\n",
       "       [-0.83752792,  0.92742341, -0.35027362,  1.00104316],\n",
       "       [-0.81763533, -0.87399682, -0.66162053,  0.51093113],\n",
       "       [-0.79785012,  0.652694  , -1.49718987,  0.41936802],\n",
       "       [-0.77816964, -0.44544938, -0.83642883, -1.65023317],\n",
       "       [-0.75859139,  0.82021967,  1.16732335,  0.62310406],\n",
       "       [-0.73911296,  0.47526481,  1.38737344,  1.29005095],\n",
       "       [-0.71973204,  1.27095405,  0.47892195, -0.54515187],\n",
       "       [-0.7004464 ,  0.6435106 ,  1.53885314,  1.33059751],\n",
       "       [-0.68125392, -1.85241088,  0.43850198,  0.6928619 ],\n",
       "       [-0.66215257, -0.02694246, -0.11434473, -0.50002298],\n",
       "       [-0.64314036,  0.7640894 ,  1.54819296,  0.54749686],\n",
       "       [-0.62421541,  0.76308359,  0.51896989, -1.03801781],\n",
       "       [-0.6053759 , -1.06021399, -1.64357954, -0.21538949],\n",
       "       [-0.58662007,  1.25764412,  1.21698291,  1.16198054],\n",
       "       [-0.56794623,  1.04597746, -0.37195568,  0.08950799],\n",
       "       [-0.54935275, -0.41751811,  0.52466135, -1.11833294],\n",
       "       [-0.53083806, -0.08464536,  1.22192414,  0.16568658],\n",
       "       [-0.51240064, -0.84572231, -0.8624742 , -2.12148202],\n",
       "       [-0.49403901, -1.39528628,  0.23035564, -1.86501   ],\n",
       "       [-0.47575175,  0.00785902, -0.44537697, -0.96167639],\n",
       "       [-0.45753751,  1.02746612,  0.40355071, -0.89675177],\n",
       "       [-0.43939494,  0.8242145 ,  1.27598779,  0.08466485],\n",
       "       [-0.42132276,  0.64555228,  0.58117899,  0.58755182],\n",
       "       [-0.40331972, -0.33228945, -0.46028254,  0.29350789],\n",
       "       [-0.38538463, -1.47377148,  0.71402259, -0.33506848],\n",
       "       [-0.36751631, -0.10400761, -1.202897  ,  0.27564704],\n",
       "       [-0.34971362,  0.79019725,  0.23035564, -0.73744518],\n",
       "       [-0.33197546, -1.65184774,  1.26619715,  2.13937255],\n",
       "       [-0.31430078, -1.46187563, -1.70192244, -0.25453031],\n",
       "       [-0.29668853, -0.20647326,  0.46164538, -0.65947105],\n",
       "       [-0.2791377 , -1.89822804,  0.54169198, -1.02934918],\n",
       "       [-0.26164732, -0.25902053, -1.00678392, -0.12319395],\n",
       "       [-0.24421643, -0.74778651,  0.35649509, -0.16609367],\n",
       "       [-0.22684412,  1.05084254, -1.3771472 ,  0.51501874],\n",
       "       [-0.20952948, -0.76218508, -0.04143812,  0.32885333],\n",
       "       [-0.19227164, -0.85377796,  1.30525722,  0.46138274],\n",
       "       [-0.17506974,  0.79119975,  1.23179329,  0.38526098],\n",
       "       [-0.15792297,  0.58509675, -0.16835339,  1.50271112],\n",
       "       [-0.1408305 , -0.74909326,  0.40355071, -0.53863938],\n",
       "       [-0.12379156, -0.32158879,  1.11216604,  1.42831665],\n",
       "       [-0.10680538, -0.59523084,  0.28489586,  1.72217946],\n",
       "       [-0.08987121, -0.33228945,  1.4636021 ,  1.05224719],\n",
       "       [-0.07298832, -0.04837336, -1.28768913, -1.03801781],\n",
       "       [-0.05615601, -1.44333425, -1.71704857,  0.35069626],\n",
       "       [-0.03937357,  0.8331959 ,  0.74122791,  1.29945293],\n",
       "       [-0.02264034,  1.15818339,  0.90131402,  1.69166052],\n",
       "       [-0.00595566, -0.36093577, -0.4827855 , -0.90472726],\n",
       "       [ 0.01068113,  0.2709304 ,  0.63699688,  1.1026083 ],\n",
       "       [ 0.02727064,  0.63022667, -1.44792482, -1.36815587],\n",
       "       [ 0.0438135 ,  0.49923329,  0.00418624, -0.18240095],\n",
       "       [ 0.0603103 ,  1.52419364,  1.19717332,  1.04546953],\n",
       "       [ 0.07676164, -0.0382122 ,  1.16732335,  0.86006693],\n",
       "       [ 0.09316808,  0.87994389, -1.35429375,  0.99759864],\n",
       "       [ 0.1258485 ,  1.43581778, -0.79365568, -0.21538949],\n",
       "       [ 0.14212357,  0.53038105, -0.25104051, -0.41889554],\n",
       "       [ 0.15835592,  1.03526502,  0.78443582, -1.43568966],\n",
       "       [ 0.17454606, -0.00783277,  1.39695704,  1.29945293],\n",
       "       [ 0.19069448, -1.50472569, -0.71852874,  0.20289058],\n",
       "       [ 0.2068017 , -0.56887482, -1.92277996, -0.11788987],\n",
       "       [ 0.22286818, -1.72669682, -1.90334954,  0.00577961],\n",
       "       [ 0.23889439,  1.20134779,  0.36830859, -1.41277956],\n",
       "       [ 0.25488081,  0.91360226, -0.96064272,  1.22025052],\n",
       "       [ 0.27082788,  1.06930594,  0.97946003, -0.11788987],\n",
       "       [ 0.28673605,  0.40288531, -0.37921745, -1.83137048],\n",
       "       [ 0.30260575,  0.75201155, -0.02181365, -0.9207956 ],\n",
       "       [ 0.31843741, -0.72433929,  1.41607663,  0.41512911],\n",
       "       [ 0.33423145, -0.76480878,  0.82192754,  1.09594084],\n",
       "       [ 0.34998827,  0.00673953, -0.46028254,  0.00577961],\n",
       "       [ 0.36570828, -0.74778651, -1.83055994, -0.61831443],\n",
       "       [ 0.38139187, -0.14637764,  0.92227141,  1.87892616],\n",
       "       [ 0.39703943, -1.60487761, -0.33590351, -0.16609367],\n",
       "       [ 0.41265134,  0.03020546,  0.36240602,  0.87087647],\n",
       "       [ 0.42822797, -1.61600701,  0.04924266,  1.01820721],\n",
       "       [ 0.44376969,  0.89579959, -1.58822992, -0.56482448],\n",
       "       [ 0.45927685, -0.17634363,  0.8005392 , -0.78891695],\n",
       "       [ 0.47474981,  0.95008184,  0.67566908,  1.7442111 ],\n",
       "       [ 0.49018892, -0.60910057, -0.65359273,  0.02077604],\n",
       "       [ 0.50559451, -1.84082856,  1.02577993,  1.02504572],\n",
       "       [ 0.52096692, -0.69844865, -1.98495808, -1.04673537],\n",
       "       [ 0.53630647,  0.8590884 ,  1.52012963, -1.70718676],\n",
       "       [ 0.55161349, -0.97412104, -0.63761079,  0.75718457],\n",
       "       [ 0.56688829, -2.03323356,  1.06152278, -1.09108448],\n",
       "       [ 0.58213119,  1.2946762 , -1.52253007,  0.7534411 ],\n",
       "       [ 0.59734249, -1.82715302,  0.38596655, -1.88228781],\n",
       "       [ 0.6125225 ,  0.85411524,  0.74122791,  0.83104401],\n",
       "       [ 0.6276715 , -1.30867028,  1.0103861 ,  1.49976669],\n",
       "       [ 0.64278978, -1.13560137,  1.42561279, -1.10919482],\n",
       "       [ 0.65787764, -1.49434751,  1.03090107, -1.03801781],\n",
       "       [ 0.67293536,  1.37490294,  0.48466558,  1.32128542],\n",
       "       [ 0.6879632 , -1.21460127,  0.30890141, -0.2658475 ],\n",
       "       [ 0.70296145,  0.49923329,  1.27598779, -1.95484304],\n",
       "       [ 0.71793037, -0.78718324, -0.2650278 , -0.75199725],\n",
       "       [ 0.73287023,  0.59023843,  0.84322253,  1.78244184],\n",
       "       [ 0.74778127,  0.86107685,  0.72492349,  0.55555544],\n",
       "       [ 0.76266377, -0.39456576, -1.202897  ,  0.41088327],\n",
       "       [ 0.77751796, -0.49688394, -0.42315979,  0.59549238],\n",
       "       [ 0.7923441 ,  0.01904252, -1.65786243, -1.06432036],\n",
       "       [ 0.80714243,  1.05376032, -1.04445327, -1.09108448],\n",
       "       [ 0.82191319,  1.08385578,  1.52012963,  0.80172759],\n",
       "       [ 0.83665661, -1.29143203,  1.09702388, -0.82664429],\n",
       "       [ 0.85137293, -1.1890052 ,  0.30291327, -0.26018131],\n",
       "       [ 0.86606238,  1.44048829, -0.49032576,  0.51910011],\n",
       "       [ 0.88072518, -0.20066619, -0.94246393,  0.95944652],\n",
       "       [ 0.89536155,  0.63022667,  0.15022331, -0.65947105],\n",
       "       [ 0.90997171,  0.35634693,  1.06660903,  0.54749686],\n",
       "       [ 0.92455588,  0.52934487,  0.01065705, -1.02072873],\n",
       "       [ 0.93911428, -1.93163495, -0.66967326, -1.39027462],\n",
       "       [ 0.9536471 , -0.52529469,  1.25638925,  1.02162839],\n",
       "       [ 0.96815455,  0.12428563, -1.74803521, -0.06036496],\n",
       "       [ 0.98263685, -1.75555556,  0.92227141,  0.83468776],\n",
       "       [ 0.99709419, -0.07782712, -0.16835339,  0.41936802],\n",
       "       [ 1.01152676,  0.36906953, -0.18883181,  0.24861364],\n",
       "       [ 1.02593476, -0.62808655,  0.86442562,  0.98031676],\n",
       "       [ 1.04031839,  0.5355598 , -0.18883181,  0.00577961],\n",
       "       [ 1.05467784,  0.2730788 ,  0.91704026, -1.21299201],\n",
       "       [ 1.06901328, -0.24495734, -0.43054692, -1.42418272],\n",
       "       [ 1.08332491,  0.99913782, -1.46007371,  2.02414625],\n",
       "       [ 1.09761291, -1.63286723,  0.95873855, -0.20433701],\n",
       "       [ 1.11187745,  0.72376009, -1.25539136, -0.32921092],\n",
       "       [ 1.12611872,  0.81022423,  0.16886223,  1.25534066],\n",
       "       [ 1.14033688,  1.47405264, -0.75163452, -1.31443661],\n",
       "       [ 1.15453212, -1.11073781, -0.66967326, -0.38855655],\n",
       "       [ 1.16870459,  0.28381064, -0.00229617,  0.91372099],\n",
       "       [ 1.18285448, -1.60118681, -0.05458158, -0.47470116],\n",
       "       [ 1.19698193,  0.32550506, -1.06355551, -0.75931882],\n",
       "       [ 1.21108712,  0.87994389, -1.46007371, -0.73744518],\n",
       "       [ 1.22517021,  1.40493806,  1.51543955,  0.70812926],\n",
       "       [ 1.23923136,  1.13411664,  0.55865764, -0.27722588],\n",
       "       [ 1.25327072,  0.34466429, -0.99747386,  0.44465771],\n",
       "       [ 1.26728845,  1.40306351, -1.60181548, -0.09155822],\n",
       "       [ 1.28128471,  0.29559622, -0.80214864, -0.43732278],\n",
       "       [ 1.29525964,  0.19855946, -1.56152179, -1.12752759],\n",
       "       [ 1.30921339,  0.8411713 , -1.23420066,  0.09434122],\n",
       "       [ 1.32314611, -1.02181379, -1.202897  ,  0.20289058],\n",
       "       [ 1.33705795,  1.50472337,  1.23179329,  1.67770049],\n",
       "       [ 1.35094905,  1.18602318,  0.02356422,  0.21669702],\n",
       "       [ 1.36481956,  0.70554619,  1.33437513, -0.31754553],\n",
       "       [ 1.3786696 ,  0.01009737, -1.62948287,  0.05539471],\n",
       "       [ 1.39249933,  0.56346396,  0.47317073, -0.40063711],\n",
       "       [ 1.40630888,  1.48986416, -0.49032576, -1.63644784],\n",
       "       [ 1.42009838, -1.61787038, -0.62965614, -0.1073197 ],\n",
       "       [ 1.43386797, -1.26812741,  1.13730782, -1.3791681 ],\n",
       "       [ 1.44761778, -0.75956316, -0.73502642, -1.3572358 ],\n",
       "       [ 1.46134795, -1.6461253 , -1.3771472 ,  0.28905461],\n",
       "       [ 1.47505859,  0.30843016,  1.18226883, -1.65023317],\n",
       "       [ 1.48874984,  0.12318696,  0.85383548, -1.3572358 ],\n",
       "       [ 1.50242183, -1.28831146, -1.42394128, -0.68743455],\n",
       "       [ 1.51607467, -0.52157887, -1.28768913, -1.14609038],\n",
       "       [ 1.5297085 ,  0.4165774 , -0.8624742 , -1.31443661],\n",
       "       [ 1.54332343,  1.4675349 ,  1.18226883,  1.51739504],\n",
       "       [ 1.55691958,  0.97562509, -0.92443675, -1.09108448]])"
      ]
     },
     "execution_count": 37,
     "metadata": {},
     "output_type": "execute_result"
    }
   ],
   "source": [
    "#using yeo-johnson transformation\n",
    "x=power_transform(x,method='yeo-johnson')\n",
    "x"
   ]
  },
  {
   "cell_type": "markdown",
   "id": "d3aa0f76",
   "metadata": {},
   "source": [
    "## Standardization od data"
   ]
  },
  {
   "cell_type": "code",
   "execution_count": 38,
   "id": "23349403",
   "metadata": {},
   "outputs": [
    {
     "data": {
      "text/plain": [
       "array([[-2.08112123,  0.95598306,  0.9691098 ,  1.6041965 ],\n",
       "       [-2.03541299, -1.19200349,  1.04623436,  0.83104401],\n",
       "       [-1.99380721, -1.6461253 ,  1.37296802,  1.60705249],\n",
       "       [-1.95500804,  0.14293428,  1.1473316 ,  1.28376774],\n",
       "       [-1.91830818,  0.45645241, -0.73502642,  1.28062154],\n",
       "       [-1.88326684, -1.8204008 ,  1.51543955,  1.76610727],\n",
       "       [-1.84958541, -1.00349358,  0.70309642, -0.10205346],\n",
       "       [-1.81704952, -0.20996049, -0.0876566 , -0.84968895],\n",
       "       [-1.78549851, -1.82264543, -1.62948287, -2.09866461],\n",
       "       [-1.754808  ,  0.652694  , -1.56152179, -0.22649933],\n",
       "       [-1.72487914, -0.88482761, -1.19258569, -0.06553382],\n",
       "       [-1.69563166,  0.80322028,  0.19357553, -1.59608414],\n",
       "       [-1.66699926, -1.52567125,  0.82725998,  1.50859232],\n",
       "       [-1.63892633, -0.48090308, -1.01613619, -1.23269654],\n",
       "       [-1.61136564,  0.69642374,  0.70856268,  0.86367455],\n",
       "       [-1.58427663,  0.60769456,  1.45886692,  1.1026083 ],\n",
       "       [-1.53137745,  1.44702338,  1.06152278,  1.19771741],\n",
       "       [-1.50550946, -0.84304109, -0.02834315, -0.39458775],\n",
       "       [-1.47999615,  0.09676151,  0.18741189, -0.346834  ],\n",
       "       [-1.45481611,  0.84017479,  0.41523303,  1.11921444],\n",
       "       [-1.42995011,  1.02746612, -1.2660875 , -0.10205346],\n",
       "       [-1.40538082, -1.72466475, -0.3430802 ,  0.99069777],\n",
       "       [-1.38109254,  0.93826742, -0.27204438,  0.0356758 ],\n",
       "       [-1.35707101, -0.93674187, -0.59023588, -0.39458775],\n",
       "       [-1.33330319,  1.27285397, -1.44792482, -0.32336998],\n",
       "       [-1.30977716,  0.04802388,  0.50756488, -0.7740548 ],\n",
       "       [-1.28648194,  1.05376032, -0.28612399, -0.13384051],\n",
       "       [-1.26340742,  1.13797152,  0.38008881, -0.13384051],\n",
       "       [-1.24054425, -0.82432769, -0.33590351,  0.66980347],\n",
       "       [-1.21788377,  1.55379249,  0.45008922,  0.76092313],\n",
       "       [-1.19541794, -0.29552539, -0.23711359,  0.58357284],\n",
       "       [-1.17313924, -0.48458608, -1.71704857,  0.21669702],\n",
       "       [-1.15104069,  1.29846636, -0.06117169, -2.2758464 ],\n",
       "       [-1.12911574, -0.50304519, -1.7324148 , -1.21299201],\n",
       "       [-1.10735826,  1.53345233, -1.3771472 , -1.10919482],\n",
       "       [-1.0857625 ,  1.31077419,  1.27109462, -1.4708598 ],\n",
       "       [-1.06432304, -0.77006157,  1.53885314,  0.85283827],\n",
       "       [-1.04303479, -1.21308859,  0.35649509,  0.44045973],\n",
       "       [-1.02189293,  0.93531131,  0.96392681,  0.30682057],\n",
       "       [-1.00089294,  0.68018031,  0.08742886,  0.28905461],\n",
       "       [-0.9800305 ,  0.4165774 ,  0.73579933,  0.58755182],\n",
       "       [-0.95930155,  1.56025605,  0.41523303, -1.93614969],\n",
       "       [-0.93870224,  0.72477076, -0.94246393,  0.04555612],\n",
       "       [-0.91822889, -1.50299171,  0.29691633,  0.76465678],\n",
       "       [-0.89787802,  0.39655706,  0.10007132,  0.2845934 ],\n",
       "       [-0.87764632, -0.5776425 , -0.81067203,  0.46554742],\n",
       "       [-0.85753062,  1.05181524,  1.15733673, -0.38254334],\n",
       "       [-0.83752792,  0.92742341, -0.35027362,  1.00104316],\n",
       "       [-0.81763533, -0.87399682, -0.66162053,  0.51093113],\n",
       "       [-0.79785012,  0.652694  , -1.49718987,  0.41936802],\n",
       "       [-0.77816964, -0.44544938, -0.83642883, -1.65023317],\n",
       "       [-0.75859139,  0.82021967,  1.16732335,  0.62310406],\n",
       "       [-0.73911296,  0.47526481,  1.38737344,  1.29005095],\n",
       "       [-0.71973204,  1.27095405,  0.47892195, -0.54515187],\n",
       "       [-0.7004464 ,  0.6435106 ,  1.53885314,  1.33059751],\n",
       "       [-0.68125392, -1.85241088,  0.43850198,  0.6928619 ],\n",
       "       [-0.66215257, -0.02694246, -0.11434473, -0.50002298],\n",
       "       [-0.64314036,  0.7640894 ,  1.54819296,  0.54749686],\n",
       "       [-0.62421541,  0.76308359,  0.51896989, -1.03801781],\n",
       "       [-0.6053759 , -1.06021399, -1.64357954, -0.21538949],\n",
       "       [-0.58662007,  1.25764412,  1.21698291,  1.16198054],\n",
       "       [-0.56794623,  1.04597746, -0.37195568,  0.08950799],\n",
       "       [-0.54935275, -0.41751811,  0.52466135, -1.11833294],\n",
       "       [-0.53083806, -0.08464536,  1.22192414,  0.16568658],\n",
       "       [-0.51240064, -0.84572231, -0.8624742 , -2.12148202],\n",
       "       [-0.49403901, -1.39528628,  0.23035564, -1.86501   ],\n",
       "       [-0.47575175,  0.00785902, -0.44537697, -0.96167639],\n",
       "       [-0.45753751,  1.02746612,  0.40355071, -0.89675177],\n",
       "       [-0.43939494,  0.8242145 ,  1.27598779,  0.08466485],\n",
       "       [-0.42132276,  0.64555228,  0.58117899,  0.58755182],\n",
       "       [-0.40331972, -0.33228945, -0.46028254,  0.29350789],\n",
       "       [-0.38538463, -1.47377148,  0.71402259, -0.33506848],\n",
       "       [-0.36751631, -0.10400761, -1.202897  ,  0.27564704],\n",
       "       [-0.34971362,  0.79019725,  0.23035564, -0.73744518],\n",
       "       [-0.33197546, -1.65184774,  1.26619715,  2.13937255],\n",
       "       [-0.31430078, -1.46187563, -1.70192244, -0.25453031],\n",
       "       [-0.29668853, -0.20647326,  0.46164538, -0.65947105],\n",
       "       [-0.2791377 , -1.89822804,  0.54169198, -1.02934918],\n",
       "       [-0.26164732, -0.25902053, -1.00678392, -0.12319395],\n",
       "       [-0.24421643, -0.74778651,  0.35649509, -0.16609367],\n",
       "       [-0.22684412,  1.05084254, -1.3771472 ,  0.51501874],\n",
       "       [-0.20952948, -0.76218508, -0.04143812,  0.32885333],\n",
       "       [-0.19227164, -0.85377796,  1.30525722,  0.46138274],\n",
       "       [-0.17506974,  0.79119975,  1.23179329,  0.38526098],\n",
       "       [-0.15792297,  0.58509675, -0.16835339,  1.50271112],\n",
       "       [-0.1408305 , -0.74909326,  0.40355071, -0.53863938],\n",
       "       [-0.12379156, -0.32158879,  1.11216604,  1.42831665],\n",
       "       [-0.10680538, -0.59523084,  0.28489586,  1.72217946],\n",
       "       [-0.08987121, -0.33228945,  1.4636021 ,  1.05224719],\n",
       "       [-0.07298832, -0.04837336, -1.28768913, -1.03801781],\n",
       "       [-0.05615601, -1.44333425, -1.71704857,  0.35069626],\n",
       "       [-0.03937357,  0.8331959 ,  0.74122791,  1.29945293],\n",
       "       [-0.02264034,  1.15818339,  0.90131402,  1.69166052],\n",
       "       [-0.00595566, -0.36093577, -0.4827855 , -0.90472726],\n",
       "       [ 0.01068113,  0.2709304 ,  0.63699688,  1.1026083 ],\n",
       "       [ 0.02727064,  0.63022667, -1.44792482, -1.36815587],\n",
       "       [ 0.0438135 ,  0.49923329,  0.00418624, -0.18240095],\n",
       "       [ 0.0603103 ,  1.52419364,  1.19717332,  1.04546953],\n",
       "       [ 0.07676164, -0.0382122 ,  1.16732335,  0.86006693],\n",
       "       [ 0.09316808,  0.87994389, -1.35429375,  0.99759864],\n",
       "       [ 0.1258485 ,  1.43581778, -0.79365568, -0.21538949],\n",
       "       [ 0.14212357,  0.53038105, -0.25104051, -0.41889554],\n",
       "       [ 0.15835592,  1.03526502,  0.78443582, -1.43568966],\n",
       "       [ 0.17454606, -0.00783277,  1.39695704,  1.29945293],\n",
       "       [ 0.19069448, -1.50472569, -0.71852874,  0.20289058],\n",
       "       [ 0.2068017 , -0.56887482, -1.92277996, -0.11788987],\n",
       "       [ 0.22286818, -1.72669682, -1.90334954,  0.00577961],\n",
       "       [ 0.23889439,  1.20134779,  0.36830859, -1.41277956],\n",
       "       [ 0.25488081,  0.91360226, -0.96064272,  1.22025052],\n",
       "       [ 0.27082788,  1.06930594,  0.97946003, -0.11788987],\n",
       "       [ 0.28673605,  0.40288531, -0.37921745, -1.83137048],\n",
       "       [ 0.30260575,  0.75201155, -0.02181365, -0.9207956 ],\n",
       "       [ 0.31843741, -0.72433929,  1.41607663,  0.41512911],\n",
       "       [ 0.33423145, -0.76480878,  0.82192754,  1.09594084],\n",
       "       [ 0.34998827,  0.00673953, -0.46028254,  0.00577961],\n",
       "       [ 0.36570828, -0.74778651, -1.83055994, -0.61831443],\n",
       "       [ 0.38139187, -0.14637764,  0.92227141,  1.87892616],\n",
       "       [ 0.39703943, -1.60487761, -0.33590351, -0.16609367],\n",
       "       [ 0.41265134,  0.03020546,  0.36240602,  0.87087647],\n",
       "       [ 0.42822797, -1.61600701,  0.04924266,  1.01820721],\n",
       "       [ 0.44376969,  0.89579959, -1.58822992, -0.56482448],\n",
       "       [ 0.45927685, -0.17634363,  0.8005392 , -0.78891695],\n",
       "       [ 0.47474981,  0.95008184,  0.67566908,  1.7442111 ],\n",
       "       [ 0.49018892, -0.60910057, -0.65359273,  0.02077604],\n",
       "       [ 0.50559451, -1.84082856,  1.02577993,  1.02504572],\n",
       "       [ 0.52096692, -0.69844865, -1.98495808, -1.04673537],\n",
       "       [ 0.53630647,  0.8590884 ,  1.52012963, -1.70718676],\n",
       "       [ 0.55161349, -0.97412104, -0.63761079,  0.75718457],\n",
       "       [ 0.56688829, -2.03323356,  1.06152278, -1.09108448],\n",
       "       [ 0.58213119,  1.2946762 , -1.52253007,  0.7534411 ],\n",
       "       [ 0.59734249, -1.82715302,  0.38596655, -1.88228781],\n",
       "       [ 0.6125225 ,  0.85411524,  0.74122791,  0.83104401],\n",
       "       [ 0.6276715 , -1.30867028,  1.0103861 ,  1.49976669],\n",
       "       [ 0.64278978, -1.13560137,  1.42561279, -1.10919482],\n",
       "       [ 0.65787764, -1.49434751,  1.03090107, -1.03801781],\n",
       "       [ 0.67293536,  1.37490294,  0.48466558,  1.32128542],\n",
       "       [ 0.6879632 , -1.21460127,  0.30890141, -0.2658475 ],\n",
       "       [ 0.70296145,  0.49923329,  1.27598779, -1.95484304],\n",
       "       [ 0.71793037, -0.78718324, -0.2650278 , -0.75199725],\n",
       "       [ 0.73287023,  0.59023843,  0.84322253,  1.78244184],\n",
       "       [ 0.74778127,  0.86107685,  0.72492349,  0.55555544],\n",
       "       [ 0.76266377, -0.39456576, -1.202897  ,  0.41088327],\n",
       "       [ 0.77751796, -0.49688394, -0.42315979,  0.59549238],\n",
       "       [ 0.7923441 ,  0.01904252, -1.65786243, -1.06432036],\n",
       "       [ 0.80714243,  1.05376032, -1.04445327, -1.09108448],\n",
       "       [ 0.82191319,  1.08385578,  1.52012963,  0.80172759],\n",
       "       [ 0.83665661, -1.29143203,  1.09702388, -0.82664429],\n",
       "       [ 0.85137293, -1.1890052 ,  0.30291327, -0.26018131],\n",
       "       [ 0.86606238,  1.44048829, -0.49032576,  0.51910011],\n",
       "       [ 0.88072518, -0.20066619, -0.94246393,  0.95944652],\n",
       "       [ 0.89536155,  0.63022667,  0.15022331, -0.65947105],\n",
       "       [ 0.90997171,  0.35634693,  1.06660903,  0.54749686],\n",
       "       [ 0.92455588,  0.52934487,  0.01065705, -1.02072873],\n",
       "       [ 0.93911428, -1.93163495, -0.66967326, -1.39027462],\n",
       "       [ 0.9536471 , -0.52529469,  1.25638925,  1.02162839],\n",
       "       [ 0.96815455,  0.12428563, -1.74803521, -0.06036496],\n",
       "       [ 0.98263685, -1.75555556,  0.92227141,  0.83468776],\n",
       "       [ 0.99709419, -0.07782712, -0.16835339,  0.41936802],\n",
       "       [ 1.01152676,  0.36906953, -0.18883181,  0.24861364],\n",
       "       [ 1.02593476, -0.62808655,  0.86442562,  0.98031676],\n",
       "       [ 1.04031839,  0.5355598 , -0.18883181,  0.00577961],\n",
       "       [ 1.05467784,  0.2730788 ,  0.91704026, -1.21299201],\n",
       "       [ 1.06901328, -0.24495734, -0.43054692, -1.42418272],\n",
       "       [ 1.08332491,  0.99913782, -1.46007371,  2.02414625],\n",
       "       [ 1.09761291, -1.63286723,  0.95873855, -0.20433701],\n",
       "       [ 1.11187745,  0.72376009, -1.25539136, -0.32921092],\n",
       "       [ 1.12611872,  0.81022423,  0.16886223,  1.25534066],\n",
       "       [ 1.14033688,  1.47405264, -0.75163452, -1.31443661],\n",
       "       [ 1.15453212, -1.11073781, -0.66967326, -0.38855655],\n",
       "       [ 1.16870459,  0.28381064, -0.00229617,  0.91372099],\n",
       "       [ 1.18285448, -1.60118681, -0.05458158, -0.47470116],\n",
       "       [ 1.19698193,  0.32550506, -1.06355551, -0.75931882],\n",
       "       [ 1.21108712,  0.87994389, -1.46007371, -0.73744518],\n",
       "       [ 1.22517021,  1.40493806,  1.51543955,  0.70812926],\n",
       "       [ 1.23923136,  1.13411664,  0.55865764, -0.27722588],\n",
       "       [ 1.25327072,  0.34466429, -0.99747386,  0.44465771],\n",
       "       [ 1.26728845,  1.40306351, -1.60181548, -0.09155822],\n",
       "       [ 1.28128471,  0.29559622, -0.80214864, -0.43732278],\n",
       "       [ 1.29525964,  0.19855946, -1.56152179, -1.12752759],\n",
       "       [ 1.30921339,  0.8411713 , -1.23420066,  0.09434122],\n",
       "       [ 1.32314611, -1.02181379, -1.202897  ,  0.20289058],\n",
       "       [ 1.33705795,  1.50472337,  1.23179329,  1.67770049],\n",
       "       [ 1.35094905,  1.18602318,  0.02356422,  0.21669702],\n",
       "       [ 1.36481956,  0.70554619,  1.33437513, -0.31754553],\n",
       "       [ 1.3786696 ,  0.01009737, -1.62948287,  0.05539471],\n",
       "       [ 1.39249933,  0.56346396,  0.47317073, -0.40063711],\n",
       "       [ 1.40630888,  1.48986416, -0.49032576, -1.63644784],\n",
       "       [ 1.42009838, -1.61787038, -0.62965614, -0.1073197 ],\n",
       "       [ 1.43386797, -1.26812741,  1.13730782, -1.3791681 ],\n",
       "       [ 1.44761778, -0.75956316, -0.73502642, -1.3572358 ],\n",
       "       [ 1.46134795, -1.6461253 , -1.3771472 ,  0.28905461],\n",
       "       [ 1.47505859,  0.30843016,  1.18226883, -1.65023317],\n",
       "       [ 1.48874984,  0.12318696,  0.85383548, -1.3572358 ],\n",
       "       [ 1.50242183, -1.28831146, -1.42394128, -0.68743455],\n",
       "       [ 1.51607467, -0.52157887, -1.28768913, -1.14609038],\n",
       "       [ 1.5297085 ,  0.4165774 , -0.8624742 , -1.31443661],\n",
       "       [ 1.54332343,  1.4675349 ,  1.18226883,  1.51739504],\n",
       "       [ 1.55691958,  0.97562509, -0.92443675, -1.09108448]])"
      ]
     },
     "execution_count": 38,
     "metadata": {},
     "output_type": "execute_result"
    }
   ],
   "source": [
    "scaler=StandardScaler()\n",
    "x=scaler.fit_transform(x)\n",
    "x"
   ]
  },
  {
   "cell_type": "markdown",
   "id": "06b509e5",
   "metadata": {},
   "source": [
    "## Train test split"
   ]
  },
  {
   "cell_type": "code",
   "execution_count": 39,
   "id": "f2c97019",
   "metadata": {},
   "outputs": [
    {
     "name": "stdout",
     "output_type": "stream",
     "text": [
      "\n",
      "\n",
      "At random state: 55\n",
      "\n",
      "Train Accuracy-  90.4\n",
      "\n",
      "Test Accuracy-  90.4\n",
      "\n",
      "\n",
      "At random state: 79\n",
      "\n",
      "Train Accuracy-  90.3\n",
      "\n",
      "Test Accuracy-  90.3\n",
      "\n",
      "\n",
      "At random state: 119\n",
      "\n",
      "Train Accuracy-  90.3\n",
      "\n",
      "Test Accuracy-  90.3\n",
      "\n",
      "\n",
      "At random state: 159\n",
      "\n",
      "Train Accuracy-  90.4\n",
      "\n",
      "Test Accuracy-  90.4\n",
      "\n",
      "\n",
      "At random state: 235\n",
      "\n",
      "Train Accuracy-  90.4\n",
      "\n",
      "Test Accuracy-  90.4\n",
      "\n",
      "\n",
      "At random state: 398\n",
      "\n",
      "Train Accuracy-  90.3\n",
      "\n",
      "Test Accuracy-  90.3\n",
      "\n",
      "\n",
      "At random state: 429\n",
      "\n",
      "Train Accuracy-  90.2\n",
      "\n",
      "Test Accuracy-  90.2\n",
      "\n",
      "\n",
      "At random state: 492\n",
      "\n",
      "Train Accuracy-  90.3\n",
      "\n",
      "Test Accuracy-  90.3\n",
      "\n",
      "\n",
      " Best accuracy at random state- 55\n"
     ]
    }
   ],
   "source": [
    "from sklearn.linear_model import LinearRegression\n",
    "from sklearn.metrics import r2_score\n",
    "max_ac=0\n",
    "randomState=0\n",
    "lr=LinearRegression()\n",
    "for i in range(500):\n",
    "    x_train,x_test,y_train,y_test=train_test_split(x,y,random_state=i,test_size=0.20)\n",
    "    lr.fit(x_train,y_train)\n",
    "    pred_train=lr.predict(x_train)\n",
    "    pred_test=lr.predict(x_test)\n",
    "    if round(r2_score(y_train,pred_train)*100,1)==round(r2_score(y_test,pred_test)*100,1):\n",
    "        print(\"\\n\\nAt random state:\",i)\n",
    "        print(\"\\nTrain Accuracy- \",round(r2_score(y_train,pred_train)*100,1))\n",
    "        print(\"\\nTest Accuracy- \",round(r2_score(y_test,pred_test)*100,1))\n",
    "        if round(r2_score(y_test,pred_test)*100,1)>max_ac:\n",
    "            randomState=i\n",
    "            max_ac=round(r2_score(y_test,pred_test)*100,1)\n",
    "print(\"\\n\\n Best accuracy at random state-\",randomState)"
   ]
  },
  {
   "cell_type": "markdown",
   "id": "e775ced6",
   "metadata": {},
   "source": [
    "## Linerar regression model"
   ]
  },
  {
   "cell_type": "code",
   "execution_count": 40,
   "id": "ec3b9549",
   "metadata": {},
   "outputs": [
    {
     "name": "stdout",
     "output_type": "stream",
     "text": [
      "\n",
      "train accuracy- 90.4\n",
      "\n",
      "test accuracy- 90.4\n"
     ]
    }
   ],
   "source": [
    "x_train,x_test,y_train,y_test=train_test_split(x,y,random_state=55,test_size=0.20)\n",
    "lr.fit(x_train,y_train)\n",
    "pred_train=lr.predict(x_train)\n",
    "pred_test=lr.predict(x_test)\n",
    "train_accuracy=round(r2_score(y_train,pred_train)*100,1)\n",
    "test_accuracy=round(r2_score(y_test,pred_test)*100,1)\n",
    "print(\"\\ntrain accuracy-\",train_accuracy)\n",
    "print(\"\\ntest accuracy-\",test_accuracy)"
   ]
  },
  {
   "cell_type": "markdown",
   "id": "515b5dd2",
   "metadata": {},
   "source": [
    "## Cross Validation score"
   ]
  },
  {
   "cell_type": "code",
   "execution_count": 41,
   "id": "ba2c4259",
   "metadata": {},
   "outputs": [
    {
     "name": "stdout",
     "output_type": "stream",
     "text": [
      "\n",
      "\n",
      "At cv- 4\n",
      "\n",
      " cross validation score is- 89.2638334216762\n",
      "\n",
      " Accuracy score is- 90.4\n",
      "\n",
      "\n",
      "At cv- 5\n",
      "\n",
      " cross validation score is- 89.34477544725891\n",
      "\n",
      " Accuracy score is- 90.4\n",
      "\n",
      "\n",
      "At cv- 6\n",
      "\n",
      " cross validation score is- 89.58573772376907\n",
      "\n",
      " Accuracy score is- 90.4\n",
      "\n",
      "\n",
      "At cv- 7\n",
      "\n",
      " cross validation score is- 89.12474492966211\n",
      "\n",
      " Accuracy score is- 90.4\n",
      "\n",
      "\n",
      "At cv- 8\n",
      "\n",
      " cross validation score is- 89.56422782886658\n",
      "\n",
      " Accuracy score is- 90.4\n",
      "\n",
      "\n",
      "At cv- 9\n",
      "\n",
      " cross validation score is- 89.16056030041695\n",
      "\n",
      " Accuracy score is- 90.4\n",
      "\n",
      "\n",
      "At cv- 10\n",
      "\n",
      " cross validation score is- 89.3381888617894\n",
      "\n",
      " Accuracy score is- 90.4\n",
      "\n",
      "\n",
      "At cv- 11\n",
      "\n",
      " cross validation score is- 88.65730016501287\n",
      "\n",
      " Accuracy score is- 90.4\n",
      "\n",
      "\n",
      "At cv- 12\n",
      "\n",
      " cross validation score is- 89.07881861462478\n",
      "\n",
      " Accuracy score is- 90.4\n",
      "\n",
      "\n",
      "At cv- 13\n",
      "\n",
      " cross validation score is- 89.27983520338881\n",
      "\n",
      " Accuracy score is- 90.4\n",
      "\n",
      "\n",
      "At cv- 14\n",
      "\n",
      " cross validation score is- 88.28110632672288\n",
      "\n",
      " Accuracy score is- 90.4\n",
      "\n",
      "\n",
      "At cv- 15\n",
      "\n",
      " cross validation score is- 88.95631186438773\n",
      "\n",
      " Accuracy score is- 90.4\n",
      "\n",
      "\n",
      "At cv- 16\n",
      "\n",
      " cross validation score is- 89.20726195029175\n",
      "\n",
      " Accuracy score is- 90.4\n",
      "\n",
      "\n",
      "At cv- 17\n",
      "\n",
      " cross validation score is- 89.08999197302498\n",
      "\n",
      " Accuracy score is- 90.4\n",
      "\n",
      "\n",
      "At cv- 18\n",
      "\n",
      " cross validation score is- 88.70990785299739\n",
      "\n",
      " Accuracy score is- 90.4\n",
      "\n",
      "\n",
      "At cv- 19\n",
      "\n",
      " cross validation score is- 88.22325172444894\n",
      "\n",
      " Accuracy score is- 90.4\n",
      "\n",
      "\n",
      "At cv- 20\n",
      "\n",
      " cross validation score is- 88.16338038038205\n",
      "\n",
      " Accuracy score is- 90.4\n",
      "\n",
      "\n",
      "At cv- 21\n",
      "\n",
      " cross validation score is- 87.57797525021373\n",
      "\n",
      " Accuracy score is- 90.4\n",
      "\n",
      "\n",
      "At cv- 22\n",
      "\n",
      " cross validation score is- 87.78978261381194\n",
      "\n",
      " Accuracy score is- 90.4\n",
      "\n",
      "\n",
      "At cv- 23\n",
      "\n",
      " cross validation score is- 88.14107793788362\n",
      "\n",
      " Accuracy score is- 90.4\n",
      "\n",
      "\n",
      "At cv- 24\n",
      "\n",
      " cross validation score is- 87.9537992219535\n",
      "\n",
      " Accuracy score is- 90.4\n",
      "\n",
      "\n",
      "At cv- 25\n",
      "\n",
      " cross validation score is- 87.50685013954563\n",
      "\n",
      " Accuracy score is- 90.4\n",
      "\n",
      "\n",
      "At cv- 26\n",
      "\n",
      " cross validation score is- 87.05356872575223\n",
      "\n",
      " Accuracy score is- 90.4\n",
      "\n",
      "\n",
      "At cv- 27\n",
      "\n",
      " cross validation score is- 87.27591574106089\n",
      "\n",
      " Accuracy score is- 90.4\n",
      "\n",
      "\n",
      "At cv- 28\n",
      "\n",
      " cross validation score is- 87.43525041089121\n",
      "\n",
      " Accuracy score is- 90.4\n",
      "\n",
      "\n",
      "At cv- 29\n",
      "\n",
      " cross validation score is- 86.28010217368501\n",
      "\n",
      " Accuracy score is- 90.4\n"
     ]
    }
   ],
   "source": [
    "for i in range(4,30):\n",
    "    cv_score=cross_val_score(lr,x,y,cv=i)\n",
    "    cv_mean=cv_score.mean()\n",
    "    print(\"\\n\\nAt cv-\",i)\n",
    "    print(\"\\n cross validation score is-\",cv_mean*100)\n",
    "    print(\"\\n Accuracy score is-\",test_accuracy)"
   ]
  },
  {
   "cell_type": "markdown",
   "id": "3c3ad8c5",
   "metadata": {},
   "source": [
    "Best cross validation score is at cv=8."
   ]
  },
  {
   "cell_type": "code",
   "execution_count": 42,
   "id": "d66f59f5",
   "metadata": {},
   "outputs": [
    {
     "name": "stdout",
     "output_type": "stream",
     "text": [
      "cross validation score is- 89.56422782886658\n",
      "accuracy score for linear regression model is- 90.4\n"
     ]
    }
   ],
   "source": [
    "cv_score_best=cross_val_score(lr,x,y,cv=8).mean()*100\n",
    "print(\"cross validation score is-\",cv_score_best)\n",
    "print(\"accuracy score for linear regression model is-\",test_accuracy)"
   ]
  },
  {
   "cell_type": "markdown",
   "id": "927a14e6",
   "metadata": {},
   "source": [
    "## Calculating RMSE and MAE"
   ]
  },
  {
   "cell_type": "code",
   "execution_count": 44,
   "id": "e4f89d89",
   "metadata": {},
   "outputs": [
    {
     "name": "stdout",
     "output_type": "stream",
     "text": [
      "1.7375519305623683\n",
      "1.415753848787269\n"
     ]
    }
   ],
   "source": [
    "print(np.sqrt(mean_squared_error(y_test, pred_test)))\n",
    "print(mean_absolute_error(y_test, pred_test))"
   ]
  },
  {
   "cell_type": "markdown",
   "id": "426be4fc",
   "metadata": {},
   "source": [
    "Both the errors are less so model seems working fine."
   ]
  },
  {
   "cell_type": "markdown",
   "id": "60dace65",
   "metadata": {},
   "source": [
    "## Support Vector Regression"
   ]
  },
  {
   "cell_type": "code",
   "execution_count": 45,
   "id": "2c2b825b",
   "metadata": {},
   "outputs": [],
   "source": [
    "from sklearn import svm"
   ]
  },
  {
   "cell_type": "code",
   "execution_count": 46,
   "id": "e1d0c16c",
   "metadata": {},
   "outputs": [],
   "source": [
    "sm=svm.SVR()"
   ]
  },
  {
   "cell_type": "code",
   "execution_count": 47,
   "id": "e23a41d4",
   "metadata": {},
   "outputs": [
    {
     "data": {
      "text/plain": [
       "SVR()"
      ]
     },
     "execution_count": 47,
     "metadata": {},
     "output_type": "execute_result"
    }
   ],
   "source": [
    "sm.fit(x_train,y_train)"
   ]
  },
  {
   "cell_type": "code",
   "execution_count": 48,
   "id": "e01b244a",
   "metadata": {},
   "outputs": [],
   "source": [
    "sm_pred_train=sm.predict(x_train)\n",
    "sm_pred_test=sm.predict(x_test)"
   ]
  },
  {
   "cell_type": "code",
   "execution_count": 49,
   "id": "478e64cc",
   "metadata": {},
   "outputs": [
    {
     "name": "stdout",
     "output_type": "stream",
     "text": [
      "acc train 89.83681067309344\n",
      "acc test 83.19968817224905\n"
     ]
    }
   ],
   "source": [
    "sm_acc_train=r2_score(y_train,sm_pred_train)\n",
    "sm_acc_test=r2_score(y_test,sm_pred_test)\n",
    "print(\"acc train\",sm_acc_train*100)\n",
    "print(\"acc test\",sm_acc_test*100)"
   ]
  },
  {
   "cell_type": "markdown",
   "id": "112fdd22",
   "metadata": {},
   "source": [
    "## Cross Validation Score"
   ]
  },
  {
   "cell_type": "code",
   "execution_count": 50,
   "id": "1d26c509",
   "metadata": {},
   "outputs": [
    {
     "name": "stdout",
     "output_type": "stream",
     "text": [
      "\n",
      "\n",
      "At cv- 4\n",
      "\n",
      " cross validation score is- 80.46389867854398\n",
      "\n",
      " Accuracy score is- 83.19968817224905\n",
      "\n",
      "\n",
      "At cv- 5\n",
      "\n",
      " cross validation score is- 82.70388350738415\n",
      "\n",
      " Accuracy score is- 83.19968817224905\n",
      "\n",
      "\n",
      "At cv- 6\n",
      "\n",
      " cross validation score is- 83.57298063796276\n",
      "\n",
      " Accuracy score is- 83.19968817224905\n",
      "\n",
      "\n",
      "At cv- 7\n",
      "\n",
      " cross validation score is- 84.70237188024208\n",
      "\n",
      " Accuracy score is- 83.19968817224905\n",
      "\n",
      "\n",
      "At cv- 8\n",
      "\n",
      " cross validation score is- 85.29681577773435\n",
      "\n",
      " Accuracy score is- 83.19968817224905\n",
      "\n",
      "\n",
      "At cv- 9\n",
      "\n",
      " cross validation score is- 85.45768102294576\n",
      "\n",
      " Accuracy score is- 83.19968817224905\n",
      "\n",
      "\n",
      "At cv- 10\n",
      "\n",
      " cross validation score is- 86.85735894024597\n",
      "\n",
      " Accuracy score is- 83.19968817224905\n",
      "\n",
      "\n",
      "At cv- 11\n",
      "\n",
      " cross validation score is- 87.16868062262168\n",
      "\n",
      " Accuracy score is- 83.19968817224905\n",
      "\n",
      "\n",
      "At cv- 12\n",
      "\n",
      " cross validation score is- 87.06382301937708\n",
      "\n",
      " Accuracy score is- 83.19968817224905\n",
      "\n",
      "\n",
      "At cv- 13\n",
      "\n",
      " cross validation score is- 86.90021683126164\n",
      "\n",
      " Accuracy score is- 83.19968817224905\n",
      "\n",
      "\n",
      "At cv- 14\n",
      "\n",
      " cross validation score is- 86.62470546426533\n",
      "\n",
      " Accuracy score is- 83.19968817224905\n"
     ]
    }
   ],
   "source": [
    "for i in range(4,15):\n",
    "    cv_score=cross_val_score(sm,x,y,cv=i)\n",
    "    cv_mean=cv_score.mean()\n",
    "    print(\"\\n\\nAt cv-\",i)\n",
    "    print(\"\\n cross validation score is-\",cv_mean*100)\n",
    "    print(\"\\n Accuracy score is-\",sm_acc_test*100)"
   ]
  },
  {
   "cell_type": "markdown",
   "id": "c1185ccc",
   "metadata": {},
   "source": [
    "Best cross validation score is at cv=6."
   ]
  },
  {
   "cell_type": "code",
   "execution_count": 51,
   "id": "e6410438",
   "metadata": {},
   "outputs": [
    {
     "name": "stdout",
     "output_type": "stream",
     "text": [
      "cross validation score is- 83.57298063796276\n",
      "accuracy score for support vector regressor model is- 83.19968817224905\n"
     ]
    }
   ],
   "source": [
    "cv_score_best=cross_val_score(sm,x,y,cv=6).mean()*100\n",
    "print(\"cross validation score is-\",cv_score_best)\n",
    "print(\"accuracy score for support vector regressor model is-\",sm_acc_test*100)"
   ]
  },
  {
   "cell_type": "markdown",
   "id": "1093ee02",
   "metadata": {},
   "source": [
    "## Calculating RMSE and MAE"
   ]
  },
  {
   "cell_type": "code",
   "execution_count": 57,
   "id": "3cdea708",
   "metadata": {},
   "outputs": [
    {
     "name": "stdout",
     "output_type": "stream",
     "text": [
      "2.3043043103379097\n",
      "1.3770662157063671\n"
     ]
    }
   ],
   "source": [
    "print(np.sqrt(mean_squared_error(y_test, sm_pred_test)))\n",
    "print(mean_absolute_error(y_test, sm_pred_test))"
   ]
  },
  {
   "cell_type": "markdown",
   "id": "f2718fea",
   "metadata": {},
   "source": [
    "RMSE error is higher then MAE, so model is not accurate enough."
   ]
  },
  {
   "cell_type": "markdown",
   "id": "0cf50f7a",
   "metadata": {},
   "source": [
    "## Random Forest Regression"
   ]
  },
  {
   "cell_type": "code",
   "execution_count": 58,
   "id": "30afb82c",
   "metadata": {},
   "outputs": [],
   "source": [
    "from sklearn.ensemble import RandomForestRegressor"
   ]
  },
  {
   "cell_type": "code",
   "execution_count": 59,
   "id": "b8075540",
   "metadata": {},
   "outputs": [],
   "source": [
    "rf=RandomForestRegressor()"
   ]
  },
  {
   "cell_type": "code",
   "execution_count": 60,
   "id": "1b0a6c84",
   "metadata": {},
   "outputs": [
    {
     "name": "stdout",
     "output_type": "stream",
     "text": [
      "\n",
      "\n",
      "At random state: 0\n",
      "\n",
      "Train Accuracy-  99.6\n",
      "\n",
      "Test Accuracy-  97.4\n",
      "\n",
      "\n",
      "At random state: 1\n",
      "\n",
      "Train Accuracy-  99.7\n",
      "\n",
      "Test Accuracy-  98.3\n",
      "\n",
      "\n",
      "At random state: 2\n",
      "\n",
      "Train Accuracy-  99.7\n",
      "\n",
      "Test Accuracy-  96.4\n",
      "\n",
      "\n",
      "At random state: 3\n",
      "\n",
      "Train Accuracy-  99.6\n",
      "\n",
      "Test Accuracy-  97.4\n",
      "\n",
      "\n",
      "At random state: 4\n",
      "\n",
      "Train Accuracy-  99.6\n",
      "\n",
      "Test Accuracy-  96.6\n",
      "\n",
      "\n",
      "At random state: 5\n",
      "\n",
      "Train Accuracy-  99.6\n",
      "\n",
      "Test Accuracy-  97.9\n",
      "\n",
      "\n",
      "At random state: 6\n",
      "\n",
      "Train Accuracy-  99.7\n",
      "\n",
      "Test Accuracy-  96.5\n",
      "\n",
      "\n",
      "At random state: 7\n",
      "\n",
      "Train Accuracy-  99.6\n",
      "\n",
      "Test Accuracy-  98.1\n",
      "\n",
      "\n",
      "At random state: 8\n",
      "\n",
      "Train Accuracy-  99.6\n",
      "\n",
      "Test Accuracy-  96.8\n",
      "\n",
      "\n",
      "At random state: 9\n",
      "\n",
      "Train Accuracy-  99.6\n",
      "\n",
      "Test Accuracy-  98.5\n",
      "\n",
      "\n",
      "At random state: 10\n",
      "\n",
      "Train Accuracy-  99.7\n",
      "\n",
      "Test Accuracy-  97.4\n",
      "\n",
      "\n",
      "At random state: 11\n",
      "\n",
      "Train Accuracy-  99.7\n",
      "\n",
      "Test Accuracy-  98.5\n",
      "\n",
      "\n",
      "At random state: 12\n",
      "\n",
      "Train Accuracy-  99.6\n",
      "\n",
      "Test Accuracy-  97.7\n",
      "\n",
      "\n",
      "At random state: 13\n",
      "\n",
      "Train Accuracy-  99.7\n",
      "\n",
      "Test Accuracy-  96.1\n",
      "\n",
      "\n",
      "At random state: 14\n",
      "\n",
      "Train Accuracy-  99.5\n",
      "\n",
      "Test Accuracy-  98.2\n",
      "\n",
      "\n",
      "At random state: 15\n",
      "\n",
      "Train Accuracy-  99.6\n",
      "\n",
      "Test Accuracy-  96.4\n",
      "\n",
      "\n",
      "At random state: 16\n",
      "\n",
      "Train Accuracy-  99.6\n",
      "\n",
      "Test Accuracy-  98.0\n",
      "\n",
      "\n",
      "At random state: 17\n",
      "\n",
      "Train Accuracy-  99.6\n",
      "\n",
      "Test Accuracy-  98.2\n",
      "\n",
      "\n",
      "At random state: 18\n",
      "\n",
      "Train Accuracy-  99.7\n",
      "\n",
      "Test Accuracy-  95.7\n",
      "\n",
      "\n",
      "At random state: 19\n",
      "\n",
      "Train Accuracy-  99.6\n",
      "\n",
      "Test Accuracy-  97.7\n",
      "\n",
      "\n",
      " Best accuracy at random state- 0\n"
     ]
    }
   ],
   "source": [
    "max_ac=0\n",
    "randomState=0\n",
    "\n",
    "for i in range(20):\n",
    "    x_train,x_test,y_train,y_test=train_test_split(x,y,random_state=i,test_size=0.20)\n",
    "    rf.fit(x_train,y_train)\n",
    "    pred_train=rf.predict(x_train)\n",
    "    pred_test=rf.predict(x_test)\n",
    "    \n",
    "    print(\"\\n\\nAt random state:\",i)\n",
    "    print(\"\\nTrain Accuracy- \",round(r2_score(y_train,pred_train)*100,1))\n",
    "    print(\"\\nTest Accuracy- \",round(r2_score(y_test,pred_test)*100,1))\n",
    "        \n",
    "print(\"\\n\\n Best accuracy at random state-\",randomState)"
   ]
  },
  {
   "cell_type": "code",
   "execution_count": 61,
   "id": "a7df6076",
   "metadata": {},
   "outputs": [
    {
     "name": "stdout",
     "output_type": "stream",
     "text": [
      "\n",
      "train accuracy- 99.6\n",
      "\n",
      "test accuracy- 98.2\n"
     ]
    }
   ],
   "source": [
    "x_train,x_test,y_train,y_test=train_test_split(x,y,random_state=17,test_size=0.20)\n",
    "rf.fit(x_train,y_train)\n",
    "pred_train=rf.predict(x_train)\n",
    "pred_test=rf.predict(x_test)\n",
    "rf_acc_train=round(r2_score(y_train,pred_train)*100,1)\n",
    "rf_acc_test=round(r2_score(y_test,pred_test)*100,1)\n",
    "print(\"\\ntrain accuracy-\",rf_acc_train)\n",
    "print(\"\\ntest accuracy-\",rf_acc_test)"
   ]
  },
  {
   "cell_type": "markdown",
   "id": "a0a4cf8c",
   "metadata": {},
   "source": [
    "## Cross validation score"
   ]
  },
  {
   "cell_type": "code",
   "execution_count": 62,
   "id": "3d506463",
   "metadata": {},
   "outputs": [
    {
     "name": "stdout",
     "output_type": "stream",
     "text": [
      "\n",
      "\n",
      "At cv- 4\n",
      "\n",
      " cross validation score is- 97.5258411050681\n",
      "\n",
      " Accuracy score is- 98.2\n",
      "\n",
      "\n",
      "At cv- 5\n",
      "\n",
      " cross validation score is- 97.30210235007094\n",
      "\n",
      " Accuracy score is- 98.2\n",
      "\n",
      "\n",
      "At cv- 6\n",
      "\n",
      " cross validation score is- 97.30757020945201\n",
      "\n",
      " Accuracy score is- 98.2\n",
      "\n",
      "\n",
      "At cv- 7\n",
      "\n",
      " cross validation score is- 97.32855896269093\n",
      "\n",
      " Accuracy score is- 98.2\n",
      "\n",
      "\n",
      "At cv- 8\n",
      "\n",
      " cross validation score is- 97.43880355339596\n",
      "\n",
      " Accuracy score is- 98.2\n",
      "\n",
      "\n",
      "At cv- 9\n",
      "\n",
      " cross validation score is- 97.53760665161899\n",
      "\n",
      " Accuracy score is- 98.2\n",
      "\n",
      "\n",
      "At cv- 10\n",
      "\n",
      " cross validation score is- 97.54433632520652\n",
      "\n",
      " Accuracy score is- 98.2\n",
      "\n",
      "\n",
      "At cv- 11\n",
      "\n",
      " cross validation score is- 97.48972783734764\n",
      "\n",
      " Accuracy score is- 98.2\n",
      "\n",
      "\n",
      "At cv- 12\n",
      "\n",
      " cross validation score is- 97.49579686966166\n",
      "\n",
      " Accuracy score is- 98.2\n",
      "\n",
      "\n",
      "At cv- 13\n",
      "\n",
      " cross validation score is- 97.55146424233426\n",
      "\n",
      " Accuracy score is- 98.2\n",
      "\n",
      "\n",
      "At cv- 14\n",
      "\n",
      " cross validation score is- 97.30720603085834\n",
      "\n",
      " Accuracy score is- 98.2\n"
     ]
    }
   ],
   "source": [
    "for i in range(4,15):\n",
    "    cv_score=cross_val_score(rf,x,y,cv=i)\n",
    "    cv_mean=cv_score.mean()\n",
    "    print(\"\\n\\nAt cv-\",i)\n",
    "    print(\"\\n cross validation score is-\",cv_mean*100)\n",
    "    print(\"\\n Accuracy score is-\",rf_acc_test)"
   ]
  },
  {
   "cell_type": "markdown",
   "id": "c37af9fa",
   "metadata": {},
   "source": [
    "Best cross validation score is at cv=13."
   ]
  },
  {
   "cell_type": "code",
   "execution_count": 63,
   "id": "0e663e42",
   "metadata": {},
   "outputs": [
    {
     "name": "stdout",
     "output_type": "stream",
     "text": [
      "cross validation score is- 97.54726434509084\n",
      "accuracy score for random forest regressor model is- 98.2\n"
     ]
    }
   ],
   "source": [
    "cv_score_best=cross_val_score(rf,x,y,cv=13).mean()*100\n",
    "print(\"cross validation score is-\",cv_score_best)\n",
    "print(\"accuracy score for random forest regressor model is-\",rf_acc_test)"
   ]
  },
  {
   "cell_type": "markdown",
   "id": "05710d13",
   "metadata": {},
   "source": [
    "## Calculating RMSE and MAE"
   ]
  },
  {
   "cell_type": "code",
   "execution_count": 64,
   "id": "3af92759",
   "metadata": {},
   "outputs": [
    {
     "name": "stdout",
     "output_type": "stream",
     "text": [
      "0.7306540734164141\n",
      "0.586825\n"
     ]
    }
   ],
   "source": [
    "print(np.sqrt(mean_squared_error(y_test, pred_test)))\n",
    "print(mean_absolute_error(y_test, pred_test))"
   ]
  },
  {
   "cell_type": "markdown",
   "id": "bce5d606",
   "metadata": {},
   "source": [
    "## Both the errors are near to 0 so Random Forest Regressor is the best performing model with least error and with test accuracy 98.2%."
   ]
  },
  {
   "cell_type": "markdown",
   "id": "4cc21b7d",
   "metadata": {},
   "source": [
    "## So we will go ahead with it and perform hyper parameter tuning on it."
   ]
  },
  {
   "cell_type": "markdown",
   "id": "96c24b0b",
   "metadata": {},
   "source": [
    "## Hyper Parameter Tuning on Random Forest Regressor"
   ]
  },
  {
   "cell_type": "code",
   "execution_count": 65,
   "id": "0b8c032b",
   "metadata": {},
   "outputs": [],
   "source": [
    "grid_param={'n_estimators':[90,100,115],\n",
    "            'criterion':['mae','mse']\n",
    "           \n",
    "           }"
   ]
  },
  {
   "cell_type": "code",
   "execution_count": 66,
   "id": "22b33d4a",
   "metadata": {},
   "outputs": [],
   "source": [
    "gs=GridSearchCV(estimator=rf,param_grid=grid_param,cv=5,n_jobs=-1,verbose=3)"
   ]
  },
  {
   "cell_type": "code",
   "execution_count": 67,
   "id": "2c269b7e",
   "metadata": {},
   "outputs": [
    {
     "name": "stdout",
     "output_type": "stream",
     "text": [
      "Fitting 5 folds for each of 6 candidates, totalling 30 fits\n"
     ]
    },
    {
     "data": {
      "text/plain": [
       "GridSearchCV(cv=5, estimator=RandomForestRegressor(), n_jobs=-1,\n",
       "             param_grid={'criterion': ['mae', 'mse'],\n",
       "                         'n_estimators': [90, 100, 115]},\n",
       "             verbose=3)"
      ]
     },
     "execution_count": 67,
     "metadata": {},
     "output_type": "execute_result"
    }
   ],
   "source": [
    "gs.fit(x_train,y_train)"
   ]
  },
  {
   "cell_type": "code",
   "execution_count": 68,
   "id": "cc929c18",
   "metadata": {},
   "outputs": [
    {
     "data": {
      "text/plain": [
       "{'criterion': 'mse', 'n_estimators': 90}"
      ]
     },
     "execution_count": 68,
     "metadata": {},
     "output_type": "execute_result"
    }
   ],
   "source": [
    "gs.best_params_"
   ]
  },
  {
   "cell_type": "code",
   "execution_count": 69,
   "id": "e9005607",
   "metadata": {},
   "outputs": [],
   "source": [
    "rf=RandomForestRegressor(criterion='mse',n_estimators=90)"
   ]
  },
  {
   "cell_type": "code",
   "execution_count": 70,
   "id": "932e864b",
   "metadata": {},
   "outputs": [
    {
     "data": {
      "text/plain": [
       "RandomForestRegressor(n_estimators=90)"
      ]
     },
     "execution_count": 70,
     "metadata": {},
     "output_type": "execute_result"
    }
   ],
   "source": [
    "rf.fit(x_train,y_train)\n",
    "    "
   ]
  },
  {
   "cell_type": "code",
   "execution_count": 71,
   "id": "6691dc03",
   "metadata": {},
   "outputs": [
    {
     "name": "stdout",
     "output_type": "stream",
     "text": [
      "\n",
      "train accuracy- 99.6\n",
      "\n",
      "test accuracy- 98.4\n"
     ]
    }
   ],
   "source": [
    "pred_train=rf.predict(x_train)\n",
    "pred_test=rf.predict(x_test)\n",
    "rf_acc_train=round(r2_score(y_train,pred_train)*100,1)\n",
    "rf_acc_test=round(r2_score(y_test,pred_test)*100,1)\n",
    "print(\"\\ntrain accuracy-\",rf_acc_train)\n",
    "print(\"\\ntest accuracy-\",rf_acc_test)"
   ]
  },
  {
   "cell_type": "markdown",
   "id": "7c4e6cb9",
   "metadata": {},
   "source": [
    "## Slight change in accuracy even after hyper parameter tuning."
   ]
  },
  {
   "cell_type": "markdown",
   "id": "3c2e37d0",
   "metadata": {},
   "source": [
    "## So we will save random forest regressor model which is giving accuracy 98.4%."
   ]
  },
  {
   "cell_type": "code",
   "execution_count": 72,
   "id": "edb3ce94",
   "metadata": {},
   "outputs": [
    {
     "data": {
      "text/html": [
       "<div>\n",
       "<style scoped>\n",
       "    .dataframe tbody tr th:only-of-type {\n",
       "        vertical-align: middle;\n",
       "    }\n",
       "\n",
       "    .dataframe tbody tr th {\n",
       "        vertical-align: top;\n",
       "    }\n",
       "\n",
       "    .dataframe thead th {\n",
       "        text-align: right;\n",
       "    }\n",
       "</style>\n",
       "<table border=\"1\" class=\"dataframe\">\n",
       "  <thead>\n",
       "    <tr style=\"text-align: right;\">\n",
       "      <th></th>\n",
       "      <th>Actual</th>\n",
       "      <th>Predicted</th>\n",
       "    </tr>\n",
       "  </thead>\n",
       "  <tbody>\n",
       "    <tr>\n",
       "      <th>0</th>\n",
       "      <td>22.1</td>\n",
       "      <td>21.344444</td>\n",
       "    </tr>\n",
       "    <tr>\n",
       "      <th>147</th>\n",
       "      <td>25.4</td>\n",
       "      <td>24.194444</td>\n",
       "    </tr>\n",
       "    <tr>\n",
       "      <th>124</th>\n",
       "      <td>19.7</td>\n",
       "      <td>20.155556</td>\n",
       "    </tr>\n",
       "    <tr>\n",
       "      <th>177</th>\n",
       "      <td>11.7</td>\n",
       "      <td>12.372222</td>\n",
       "    </tr>\n",
       "    <tr>\n",
       "      <th>189</th>\n",
       "      <td>6.7</td>\n",
       "      <td>6.840000</td>\n",
       "    </tr>\n",
       "    <tr>\n",
       "      <th>83</th>\n",
       "      <td>13.6</td>\n",
       "      <td>13.152222</td>\n",
       "    </tr>\n",
       "    <tr>\n",
       "      <th>76</th>\n",
       "      <td>6.9</td>\n",
       "      <td>7.638889</td>\n",
       "    </tr>\n",
       "    <tr>\n",
       "      <th>86</th>\n",
       "      <td>12.0</td>\n",
       "      <td>11.920000</td>\n",
       "    </tr>\n",
       "    <tr>\n",
       "      <th>81</th>\n",
       "      <td>12.3</td>\n",
       "      <td>12.185556</td>\n",
       "    </tr>\n",
       "    <tr>\n",
       "      <th>158</th>\n",
       "      <td>7.3</td>\n",
       "      <td>6.544444</td>\n",
       "    </tr>\n",
       "    <tr>\n",
       "      <th>72</th>\n",
       "      <td>8.8</td>\n",
       "      <td>8.970000</td>\n",
       "    </tr>\n",
       "    <tr>\n",
       "      <th>96</th>\n",
       "      <td>11.7</td>\n",
       "      <td>11.788889</td>\n",
       "    </tr>\n",
       "    <tr>\n",
       "      <th>108</th>\n",
       "      <td>5.3</td>\n",
       "      <td>5.974444</td>\n",
       "    </tr>\n",
       "    <tr>\n",
       "      <th>110</th>\n",
       "      <td>13.4</td>\n",
       "      <td>12.664444</td>\n",
       "    </tr>\n",
       "    <tr>\n",
       "      <th>148</th>\n",
       "      <td>10.9</td>\n",
       "      <td>10.327778</td>\n",
       "    </tr>\n",
       "    <tr>\n",
       "      <th>192</th>\n",
       "      <td>5.9</td>\n",
       "      <td>6.896667</td>\n",
       "    </tr>\n",
       "    <tr>\n",
       "      <th>111</th>\n",
       "      <td>21.8</td>\n",
       "      <td>21.481111</td>\n",
       "    </tr>\n",
       "    <tr>\n",
       "      <th>17</th>\n",
       "      <td>24.4</td>\n",
       "      <td>23.193333</td>\n",
       "    </tr>\n",
       "    <tr>\n",
       "      <th>88</th>\n",
       "      <td>12.9</td>\n",
       "      <td>12.311111</td>\n",
       "    </tr>\n",
       "    <tr>\n",
       "      <th>105</th>\n",
       "      <td>19.2</td>\n",
       "      <td>17.476667</td>\n",
       "    </tr>\n",
       "    <tr>\n",
       "      <th>178</th>\n",
       "      <td>11.8</td>\n",
       "      <td>12.117778</td>\n",
       "    </tr>\n",
       "    <tr>\n",
       "      <th>127</th>\n",
       "      <td>8.8</td>\n",
       "      <td>9.611111</td>\n",
       "    </tr>\n",
       "    <tr>\n",
       "      <th>11</th>\n",
       "      <td>17.4</td>\n",
       "      <td>17.056667</td>\n",
       "    </tr>\n",
       "    <tr>\n",
       "      <th>114</th>\n",
       "      <td>14.6</td>\n",
       "      <td>13.620000</td>\n",
       "    </tr>\n",
       "    <tr>\n",
       "      <th>95</th>\n",
       "      <td>16.9</td>\n",
       "      <td>17.671111</td>\n",
       "    </tr>\n",
       "    <tr>\n",
       "      <th>141</th>\n",
       "      <td>19.2</td>\n",
       "      <td>19.438889</td>\n",
       "    </tr>\n",
       "    <tr>\n",
       "      <th>171</th>\n",
       "      <td>14.5</td>\n",
       "      <td>14.921111</td>\n",
       "    </tr>\n",
       "    <tr>\n",
       "      <th>129</th>\n",
       "      <td>9.7</td>\n",
       "      <td>9.474444</td>\n",
       "    </tr>\n",
       "    <tr>\n",
       "      <th>70</th>\n",
       "      <td>18.3</td>\n",
       "      <td>18.475556</td>\n",
       "    </tr>\n",
       "    <tr>\n",
       "      <th>107</th>\n",
       "      <td>8.7</td>\n",
       "      <td>9.804444</td>\n",
       "    </tr>\n",
       "    <tr>\n",
       "      <th>82</th>\n",
       "      <td>11.3</td>\n",
       "      <td>11.335556</td>\n",
       "    </tr>\n",
       "    <tr>\n",
       "      <th>187</th>\n",
       "      <td>17.3</td>\n",
       "      <td>18.361111</td>\n",
       "    </tr>\n",
       "    <tr>\n",
       "      <th>161</th>\n",
       "      <td>13.3</td>\n",
       "      <td>13.761111</td>\n",
       "    </tr>\n",
       "    <tr>\n",
       "      <th>55</th>\n",
       "      <td>23.7</td>\n",
       "      <td>23.086667</td>\n",
       "    </tr>\n",
       "    <tr>\n",
       "      <th>38</th>\n",
       "      <td>10.1</td>\n",
       "      <td>10.147778</td>\n",
       "    </tr>\n",
       "    <tr>\n",
       "      <th>197</th>\n",
       "      <td>12.8</td>\n",
       "      <td>12.916667</td>\n",
       "    </tr>\n",
       "    <tr>\n",
       "      <th>65</th>\n",
       "      <td>9.3</td>\n",
       "      <td>9.952222</td>\n",
       "    </tr>\n",
       "    <tr>\n",
       "      <th>196</th>\n",
       "      <td>9.7</td>\n",
       "      <td>9.934444</td>\n",
       "    </tr>\n",
       "    <tr>\n",
       "      <th>52</th>\n",
       "      <td>22.6</td>\n",
       "      <td>21.763333</td>\n",
       "    </tr>\n",
       "    <tr>\n",
       "      <th>154</th>\n",
       "      <td>15.6</td>\n",
       "      <td>15.528889</td>\n",
       "    </tr>\n",
       "  </tbody>\n",
       "</table>\n",
       "</div>"
      ],
      "text/plain": [
       "     Actual  Predicted\n",
       "0      22.1  21.344444\n",
       "147    25.4  24.194444\n",
       "124    19.7  20.155556\n",
       "177    11.7  12.372222\n",
       "189     6.7   6.840000\n",
       "83     13.6  13.152222\n",
       "76      6.9   7.638889\n",
       "86     12.0  11.920000\n",
       "81     12.3  12.185556\n",
       "158     7.3   6.544444\n",
       "72      8.8   8.970000\n",
       "96     11.7  11.788889\n",
       "108     5.3   5.974444\n",
       "110    13.4  12.664444\n",
       "148    10.9  10.327778\n",
       "192     5.9   6.896667\n",
       "111    21.8  21.481111\n",
       "17     24.4  23.193333\n",
       "88     12.9  12.311111\n",
       "105    19.2  17.476667\n",
       "178    11.8  12.117778\n",
       "127     8.8   9.611111\n",
       "11     17.4  17.056667\n",
       "114    14.6  13.620000\n",
       "95     16.9  17.671111\n",
       "141    19.2  19.438889\n",
       "171    14.5  14.921111\n",
       "129     9.7   9.474444\n",
       "70     18.3  18.475556\n",
       "107     8.7   9.804444\n",
       "82     11.3  11.335556\n",
       "187    17.3  18.361111\n",
       "161    13.3  13.761111\n",
       "55     23.7  23.086667\n",
       "38     10.1  10.147778\n",
       "197    12.8  12.916667\n",
       "65      9.3   9.952222\n",
       "196     9.7   9.934444\n",
       "52     22.6  21.763333\n",
       "154    15.6  15.528889"
      ]
     },
     "execution_count": 72,
     "metadata": {},
     "output_type": "execute_result"
    }
   ],
   "source": [
    "comparision = pd.DataFrame()\n",
    "comparision['Actual']=y_test\n",
    "comparision['Predicted']=pred_test\n",
    "comparision"
   ]
  },
  {
   "cell_type": "markdown",
   "id": "669ed5e0",
   "metadata": {},
   "source": [
    "## Model Saving"
   ]
  },
  {
   "cell_type": "code",
   "execution_count": 73,
   "id": "eaad60e4",
   "metadata": {},
   "outputs": [],
   "source": [
    "import pickle\n",
    "filename = 'finalized_model.pkl'\n",
    "pickle.dump(sm, open(filename, 'wb'))"
   ]
  }
 ],
 "metadata": {
  "kernelspec": {
   "display_name": "Python 3 (ipykernel)",
   "language": "python",
   "name": "python3"
  },
  "language_info": {
   "codemirror_mode": {
    "name": "ipython",
    "version": 3
   },
   "file_extension": ".py",
   "mimetype": "text/x-python",
   "name": "python",
   "nbconvert_exporter": "python",
   "pygments_lexer": "ipython3",
   "version": "3.9.7"
  }
 },
 "nbformat": 4,
 "nbformat_minor": 5
}
