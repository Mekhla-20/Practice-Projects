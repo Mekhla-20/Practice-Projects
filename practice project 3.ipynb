{
 "cells": [
  {
   "cell_type": "code",
   "execution_count": null,
   "id": "defff8a7",
   "metadata": {},
   "outputs": [],
   "source": [
    "import pandas as pd\n"
   ]
  },
  {
   "cell_type": "code",
   "execution_count": null,
   "id": "f4bb6894",
   "metadata": {
    "scrolled": true
   },
   "outputs": [],
   "source": [
    "df=pd.read_csv(\"https://raw.githubusercontent.com/dsrscientist/DSData/master/winequality-red.csv\")\n",
    "df.head()"
   ]
  },
  {
   "cell_type": "code",
   "execution_count": null,
   "id": "546c8e83",
   "metadata": {},
   "outputs": [],
   "source": [
    "df.shape"
   ]
  },
  {
   "cell_type": "markdown",
   "id": "2d0d9f46",
   "metadata": {},
   "source": [
    "# Exploratory Data Analysis"
   ]
  },
  {
   "cell_type": "code",
   "execution_count": null,
   "id": "20d1a7d7",
   "metadata": {},
   "outputs": [],
   "source": [
    "#Checking null values\n",
    "df.isna().sum()"
   ]
  },
  {
   "cell_type": "markdown",
   "id": "58b6821c",
   "metadata": {},
   "source": [
    "## There are no null values present in this data set so we can proceed now.\n"
   ]
  },
  {
   "cell_type": "code",
   "execution_count": null,
   "id": "7b055703",
   "metadata": {},
   "outputs": [],
   "source": [
    "#checking data types of each column\n",
    "df.dtypes"
   ]
  },
  {
   "cell_type": "markdown",
   "id": "0807c17e",
   "metadata": {},
   "source": [
    "All the columns are of float data type so we can procceed with EDA"
   ]
  },
  {
   "cell_type": "code",
   "execution_count": null,
   "id": "ff5e01f8",
   "metadata": {},
   "outputs": [],
   "source": [
    "#Converting quality column values to 0 and 1. If quality is less then 7 then set quality to 0 and if its above or equal to 7 then set quality as 1\n",
    "df.loc[df['quality']<7,'quality'] = 0  \n",
    "df.loc[df['quality']>=7,'quality'] = 1  \n",
    "df.head()"
   ]
  },
  {
   "cell_type": "code",
   "execution_count": null,
   "id": "0a4f9fa2",
   "metadata": {},
   "outputs": [],
   "source": [
    "df['quality'].value_counts()"
   ]
  },
  {
   "cell_type": "code",
   "execution_count": null,
   "id": "6195a662",
   "metadata": {},
   "outputs": [],
   "source": [
    "#Generating scatter plots to visualize the relationship between features and labels\n",
    "import matplotlib.pyplot as plt\n",
    "import seaborn as sns\n",
    "\n",
    "# for fixed acidity\n",
    "a=sns.scatterplot(x=df['fixed acidity'],y=df['quality'],data=df)\n",
    "plt.xlabel('fixed acidity')\n",
    "plt.ylabel('quality')\n",
    "plt.show()"
   ]
  },
  {
   "cell_type": "markdown",
   "id": "59aee90d",
   "metadata": {},
   "source": [
    "From the above scatter plot we can conclude that if the fixed acidity is greater than 13.5 then the quality of wine becomes poor."
   ]
  },
  {
   "cell_type": "code",
   "execution_count": null,
   "id": "bf40b62e",
   "metadata": {},
   "outputs": [],
   "source": [
    "# for volatile acidity\n",
    "a=sns.scatterplot(x=df['volatile acidity'],y=df['quality'],data=df)\n",
    "plt.xlabel('volatile acidity')\n",
    "plt.ylabel('quality')\n",
    "plt.show()"
   ]
  },
  {
   "cell_type": "markdown",
   "id": "d9899a70",
   "metadata": {},
   "source": [
    "It is clearly visible that if volatile acidity is more than 1 then the quality of wine becomes poor."
   ]
  },
  {
   "cell_type": "code",
   "execution_count": null,
   "id": "1496fa7c",
   "metadata": {},
   "outputs": [],
   "source": [
    "# for citric acid\n",
    "a=sns.scatterplot(x=df['citric acid'],y=df['quality'],data=df)\n",
    "plt.xlabel('citric acid')\n",
    "plt.ylabel('quality')\n",
    "plt.show()"
   ]
  },
  {
   "cell_type": "markdown",
   "id": "64d36a53",
   "metadata": {},
   "source": [
    "It could be seen that vaalues of citric acid hardly puta any effect on the quality of wine."
   ]
  },
  {
   "cell_type": "code",
   "execution_count": null,
   "id": "ff2347a2",
   "metadata": {},
   "outputs": [],
   "source": [
    "# for residual sugar\n",
    "a=sns.scatterplot(x=df['residual sugar'],y=df['quality'],data=df)\n",
    "plt.xlabel('residual sugar')\n",
    "plt.ylabel('quality')\n",
    "plt.show()"
   ]
  },
  {
   "cell_type": "markdown",
   "id": "ecfd9bef",
   "metadata": {},
   "source": [
    "from the above plot we can conclude that residual sugar has negative effect on quality as value of residual sugar becomes \n",
    "greater than 7, the quality of wine becomes poor."
   ]
  },
  {
   "cell_type": "code",
   "execution_count": null,
   "id": "84271fd4",
   "metadata": {},
   "outputs": [],
   "source": [
    "# for chlorides\n",
    "a=sns.scatterplot(x=df['chlorides'],y=df['quality'],data=df)\n",
    "plt.xlabel('chlorides')\n",
    "plt.ylabel('quality')\n",
    "plt.show()"
   ]
  },
  {
   "cell_type": "markdown",
   "id": "bfcfbbba",
   "metadata": {},
   "source": [
    "We can conclude that as the level of chloride becomes greater than 0.15 the quality of wine becomes poor."
   ]
  },
  {
   "cell_type": "code",
   "execution_count": null,
   "id": "fe61976e",
   "metadata": {},
   "outputs": [],
   "source": [
    "# for free sulfur dioxide\n",
    "a=sns.scatterplot(x=df['free sulfur dioxide'],y=df['quality'],data=df)\n",
    "plt.xlabel('free sulfur dioxide')\n",
    "plt.ylabel('quality')\n",
    "plt.show()"
   ]
  },
  {
   "cell_type": "markdown",
   "id": "3a87c725",
   "metadata": {},
   "source": [
    "we can conclude that if level of free sulfur dioxide becomes greater than 42 then the quality of wine depreciates."
   ]
  },
  {
   "cell_type": "code",
   "execution_count": null,
   "id": "38ef6a5f",
   "metadata": {},
   "outputs": [],
   "source": [
    "# for total sulfur dioxide\n",
    "a=sns.scatterplot(x=df['total sulfur dioxide'],y=df['quality'],data=df)\n",
    "plt.xlabel('total sulfur dioxide')\n",
    "plt.ylabel('quality')\n",
    "plt.show()"
   ]
  },
  {
   "cell_type": "markdown",
   "id": "e1194f58",
   "metadata": {},
   "source": [
    "It is very evident that if value of total sulfur dioxide is in between 120 and 170 the quality of wine is poor and once \n",
    "it becomes 280 and 290 approx quality of wine becomes good"
   ]
  },
  {
   "cell_type": "code",
   "execution_count": null,
   "id": "2ad59079",
   "metadata": {},
   "outputs": [],
   "source": [
    "# for density\n",
    "a=sns.scatterplot(x=df['density'],y=df['quality'],data=df)\n",
    "plt.xlabel('density')\n",
    "plt.ylabel('quality')\n",
    "plt.show()"
   ]
  },
  {
   "cell_type": "markdown",
   "id": "09a9a4ac",
   "metadata": {},
   "source": [
    "We can concludwe that quality of wine is good if the density is in the range 0.993 to 1.001."
   ]
  },
  {
   "cell_type": "code",
   "execution_count": null,
   "id": "df3efd2e",
   "metadata": {},
   "outputs": [],
   "source": [
    "# for pH\n",
    "a=sns.scatterplot(x=df['pH'],y=df['quality'],data=df)\n",
    "plt.xlabel('pH')\n",
    "plt.ylabel('quality')\n",
    "plt.show()"
   ]
  },
  {
   "cell_type": "markdown",
   "id": "4953ae78",
   "metadata": {},
   "source": [
    "Quality of wine becomes poor if pH value becomes greater than 3.65"
   ]
  },
  {
   "cell_type": "code",
   "execution_count": null,
   "id": "1e5489e4",
   "metadata": {},
   "outputs": [],
   "source": [
    "# for sulphates\n",
    "a=sns.scatterplot(x=df['sulphates'],y=df['quality'],data=df)\n",
    "plt.xlabel('sulphates')\n",
    "plt.ylabel('quality')\n",
    "plt.show()"
   ]
  },
  {
   "cell_type": "markdown",
   "id": "619287be",
   "metadata": {},
   "source": [
    "Quality of wine is good if sulphates is in the range 0.50 to 1.20"
   ]
  },
  {
   "cell_type": "code",
   "execution_count": null,
   "id": "def4dc2a",
   "metadata": {},
   "outputs": [],
   "source": [
    "# for alcohol\n",
    "a=sns.scatterplot(x=df['alcohol'],y=df['quality'],data=df)\n",
    "plt.xlabel('alcohol')\n",
    "plt.ylabel('quality')\n",
    "plt.show()"
   ]
  },
  {
   "cell_type": "markdown",
   "id": "36a74b10",
   "metadata": {},
   "source": [
    "quality of wine is poor if the alcohol content is less than 9.7."
   ]
  },
  {
   "cell_type": "code",
   "execution_count": null,
   "id": "633fa416",
   "metadata": {},
   "outputs": [],
   "source": [
    "#Lets describe the data set\n",
    "df.describe()"
   ]
  },
  {
   "cell_type": "markdown",
   "id": "7efe1f6a",
   "metadata": {},
   "source": [
    "We could observe from the above description table that there could be possibility of skweness and outliers in feature\n",
    "fixed acidity,residual sugar,chlorides,free sulfur dioxide,total sulfur dioxide."
   ]
  },
  {
   "cell_type": "code",
   "execution_count": null,
   "id": "977c10ba",
   "metadata": {},
   "outputs": [],
   "source": [
    "#Checking correlation between features and labels\n",
    "df.corr().abs()"
   ]
  },
  {
   "cell_type": "code",
   "execution_count": null,
   "id": "301612ed",
   "metadata": {},
   "outputs": [],
   "source": [
    "#For better visualization of correlation lets generate heatmap\n",
    "plt.figure(figsize=(20,10))\n",
    "sns.heatmap(df.corr().abs(),annot=True,linewidth=0.5,linecolor='black',fmt='.2f')"
   ]
  },
  {
   "cell_type": "markdown",
   "id": "e846531b",
   "metadata": {},
   "source": [
    "Looking at the heatmap it can be noticed that multicolinearity does not exists and the relation of residual sugar and \n",
    "pH with quality is very low."
   ]
  },
  {
   "cell_type": "code",
   "execution_count": null,
   "id": "e44ed02d",
   "metadata": {
    "scrolled": true
   },
   "outputs": [],
   "source": [
    "#Checking outliers\n",
    "\n",
    "col=df.columns\n",
    "plt.figure(figsize=(30,90))\n",
    "for i in range(len(col)):\n",
    "    plt.subplot(20,20,i+1)\n",
    "    sns.boxplot(data=df[col[i]],color='green',orient='v')\n",
    "    plt.xlabel(col[i])\n",
    "    plt.tight_layout()"
   ]
  },
  {
   "cell_type": "markdown",
   "id": "c90d9062",
   "metadata": {},
   "source": [
    "Looking at the above boxplot we could see outliers in fixed acidity, volatile acidity,residual sugar,chlorides,free \n",
    "sulphur dioxide,total sulfur dioxide,density,sulphates,alcohol"
   ]
  },
  {
   "cell_type": "code",
   "execution_count": null,
   "id": "e767a72d",
   "metadata": {},
   "outputs": [],
   "source": []
  },
  {
   "cell_type": "markdown",
   "id": "655ec80e",
   "metadata": {},
   "source": [
    "Since we have to delete 141 rows in order to eleiminate outliers so before deleting these rows lets calculate data loss."
   ]
  },
  {
   "cell_type": "code",
   "execution_count": null,
   "id": "eda7217e",
   "metadata": {},
   "outputs": [],
   "source": []
  },
  {
   "cell_type": "code",
   "execution_count": null,
   "id": "a93be876",
   "metadata": {},
   "outputs": [],
   "source": [
    "#Lets check skewness as well\n",
    "df.skew()"
   ]
  },
  {
   "cell_type": "markdown",
   "id": "27d5f733",
   "metadata": {},
   "source": [
    "considering the range of skewness as -0.5 to 0.5, these are the features with skewness:\n",
    "    fixed acidity\n",
    "    volatile acidity\n",
    "    residual sugar \n",
    "    chlorides\n",
    "    free sulfur dioxide\n",
    "    total sulfur dioxide\n",
    "    sulphates\n",
    "    alcohol\n",
    "    "
   ]
  },
  {
   "cell_type": "code",
   "execution_count": null,
   "id": "8b2f47fa",
   "metadata": {},
   "outputs": [],
   "source": [
    "#Lets check the skewness of the above features using dist plot\n",
    "import warnings\n",
    "warnings.filterwarnings('ignore')\n",
    "\n",
    "plt.figure(figsize=(10,5))\n",
    "sns.distplot(df['fixed acidity'])"
   ]
  },
  {
   "cell_type": "markdown",
   "id": "604c2f09",
   "metadata": {},
   "source": [
    "fixed acidity is right skewed"
   ]
  },
  {
   "cell_type": "code",
   "execution_count": null,
   "id": "e35c1b6d",
   "metadata": {},
   "outputs": [],
   "source": [
    "plt.figure(figsize=(10,5))\n",
    "sns.distplot(df['volatile acidity'])"
   ]
  },
  {
   "cell_type": "markdown",
   "id": "302e6945",
   "metadata": {},
   "source": [
    "volatile acidity is bimodal and is not normally distributed"
   ]
  },
  {
   "cell_type": "code",
   "execution_count": null,
   "id": "4f004a4d",
   "metadata": {},
   "outputs": [],
   "source": [
    "plt.figure(figsize=(10,5))\n",
    "sns.distplot(df['residual sugar'])"
   ]
  },
  {
   "cell_type": "markdown",
   "id": "7d2fbca5",
   "metadata": {},
   "source": [
    "residual sugar is also not normally distributed. It is right skewed."
   ]
  },
  {
   "cell_type": "code",
   "execution_count": null,
   "id": "2c8908f8",
   "metadata": {},
   "outputs": [],
   "source": [
    "plt.figure(figsize=(10,5))\n",
    "sns.distplot(df['chlorides'])"
   ]
  },
  {
   "cell_type": "markdown",
   "id": "8d104dda",
   "metadata": {},
   "source": [
    "Chlorides feature is also bimodal and is not normally distributed."
   ]
  },
  {
   "cell_type": "code",
   "execution_count": null,
   "id": "b3a63f5b",
   "metadata": {},
   "outputs": [],
   "source": [
    "plt.figure(figsize=(10,5))\n",
    "sns.distplot(df['free sulfur dioxide'])"
   ]
  },
  {
   "cell_type": "markdown",
   "id": "2ae8bc2c",
   "metadata": {},
   "source": [
    "free sulphur dioxide is also right-skewed and is not normally distributed."
   ]
  },
  {
   "cell_type": "code",
   "execution_count": null,
   "id": "5fc6bcd0",
   "metadata": {},
   "outputs": [],
   "source": [
    "plt.figure(figsize=(10,5))\n",
    "sns.distplot(df['total sulfur dioxide'])"
   ]
  },
  {
   "cell_type": "markdown",
   "id": "439b89dc",
   "metadata": {},
   "source": [
    "total sulfur dioxide is also right-skewed."
   ]
  },
  {
   "cell_type": "code",
   "execution_count": null,
   "id": "958c807c",
   "metadata": {},
   "outputs": [],
   "source": [
    "plt.figure(figsize=(10,5))\n",
    "sns.distplot(df['sulphates'])"
   ]
  },
  {
   "cell_type": "markdown",
   "id": "7002f44b",
   "metadata": {},
   "source": [
    "sulphates is also right-skewed and not normally distributed."
   ]
  },
  {
   "cell_type": "code",
   "execution_count": null,
   "id": "de38e4ad",
   "metadata": {},
   "outputs": [],
   "source": [
    "plt.figure(figsize=(10,5))\n",
    "sns.distplot(df['alcohol'])"
   ]
  },
  {
   "cell_type": "markdown",
   "id": "8fde7c52",
   "metadata": {},
   "source": [
    "alcohol is also right-skewed and not normally distributed."
   ]
  },
  {
   "cell_type": "markdown",
   "id": "87945d0f",
   "metadata": {},
   "source": [
    "From all the above observations we conclude that feature residual sugar, free sulfur dioxide and pH are least correlated \n",
    "with label quality approx 7%, they also has outliers and are also skewed so based on this analysis we will remove these\n",
    "features from out features list."
   ]
  },
  {
   "cell_type": "code",
   "execution_count": null,
   "id": "352a244f",
   "metadata": {},
   "outputs": [],
   "source": [
    "df=df.drop(['residual sugar','free sulfur dioxide','pH'],axis=1)\n"
   ]
  },
  {
   "cell_type": "code",
   "execution_count": null,
   "id": "cff60e33",
   "metadata": {},
   "outputs": [],
   "source": [
    "#Getting sure of outliers using z score\n",
    "import numpy as np\n",
    "from scipy.stats import zscore\n",
    "df_z=df.drop(['quality'],axis=1)\n",
    "z=np.abs(zscore(df_z))\n",
    "i=np.where(z>3)\n",
    "print(\"Outliers index-\\n\",set(i[0]))\n",
    "print(\"\\n\\nNumber of rows to be eliminated-\\n\",len(set(i[0])))"
   ]
  },
  {
   "cell_type": "code",
   "execution_count": null,
   "id": "6812bd83",
   "metadata": {},
   "outputs": [],
   "source": [
    "#Calculating Data Loss\n",
    "loss=((1599-101)/1599)*100\n",
    "print(\"The data loss-\",100-loss)"
   ]
  },
  {
   "cell_type": "markdown",
   "id": "1cec25f6",
   "metadata": {},
   "source": [
    "We could see that the data loss after removing outliers is 6% which is acceptable so we will just remove these indexes or\n",
    "rows from our data."
   ]
  },
  {
   "cell_type": "code",
   "execution_count": null,
   "id": "89573dfe",
   "metadata": {},
   "outputs": [],
   "source": [
    "df_new=df.drop(df.index[i[0]])\n",
    "df_new"
   ]
  },
  {
   "cell_type": "code",
   "execution_count": null,
   "id": "656ba2a1",
   "metadata": {},
   "outputs": [],
   "source": [
    "#Checking whether the data is balanced or not.\n",
    "df_new['quality'].value_counts()"
   ]
  },
  {
   "cell_type": "markdown",
   "id": "59b3ba8e",
   "metadata": {},
   "source": [
    "Its very evident that the data is imbalanced so we need to do UPSAMPLING of data with quality=1 so that we get\n",
    "correct model predictions."
   ]
  },
  {
   "cell_type": "markdown",
   "id": "05933038",
   "metadata": {},
   "source": [
    "# Treating imbalanced data by doing upsampling"
   ]
  },
  {
   "cell_type": "code",
   "execution_count": null,
   "id": "223f5dd7",
   "metadata": {},
   "outputs": [],
   "source": [
    "from sklearn.utils import resample"
   ]
  },
  {
   "cell_type": "code",
   "execution_count": null,
   "id": "8e7370e9",
   "metadata": {},
   "outputs": [],
   "source": [
    "poor_quality=df_new[df_new.quality==0]\n",
    "good_quality=df_new[df_new.quality==1]"
   ]
  },
  {
   "cell_type": "code",
   "execution_count": null,
   "id": "261cd9e4",
   "metadata": {},
   "outputs": [],
   "source": [
    "good_upsampled=resample(good_quality,replace=True,n_samples=len(poor_quality),random_state=27)"
   ]
  },
  {
   "cell_type": "code",
   "execution_count": null,
   "id": "cc306746",
   "metadata": {},
   "outputs": [],
   "source": [
    "df_up=pd.concat([poor_quality,good_upsampled])\n",
    "df_up['quality'].value_counts()"
   ]
  },
  {
   "cell_type": "code",
   "execution_count": null,
   "id": "f1998044",
   "metadata": {},
   "outputs": [],
   "source": [
    "x=df_up.drop(['quality'],axis=1)\n",
    "y=df_up['quality']\n",
    "x"
   ]
  },
  {
   "cell_type": "markdown",
   "id": "cb3c5f5f",
   "metadata": {},
   "source": [
    "# Standadisation of data"
   ]
  },
  {
   "cell_type": "code",
   "execution_count": null,
   "id": "28c4e819",
   "metadata": {},
   "outputs": [],
   "source": [
    "from sklearn.preprocessing import StandardScaler\n",
    "scaler=StandardScaler()\n",
    "x=scaler.fit_transform(x)\n",
    "x"
   ]
  },
  {
   "cell_type": "code",
   "execution_count": null,
   "id": "d749a934",
   "metadata": {},
   "outputs": [],
   "source": [
    "x.mean()"
   ]
  },
  {
   "cell_type": "code",
   "execution_count": null,
   "id": "f7033db6",
   "metadata": {
    "scrolled": true
   },
   "outputs": [],
   "source": [
    "x=pd.DataFrame(x,columns=['fixed acidity','volatile acidity','citric acid','chlorides','total sulfur dioxide',\n",
    "                                'density','sulphates','alcohol'])\n",
    "x"
   ]
  },
  {
   "cell_type": "markdown",
   "id": "62ac1e00",
   "metadata": {},
   "source": [
    "After standardization checking skewness, still the data is skewed."
   ]
  },
  {
   "cell_type": "code",
   "execution_count": null,
   "id": "c37dfde6",
   "metadata": {
    "scrolled": true
   },
   "outputs": [],
   "source": [
    "x.skew()"
   ]
  },
  {
   "cell_type": "markdown",
   "id": "e7421eaf",
   "metadata": {},
   "source": [
    "Let the skewness range be -0.5 to 0.5, so according to this range there is skewness in fixed acidiyy, volatile acidity, \n",
    "chlorides, total sulfur dioxide and sulphates."
   ]
  },
  {
   "cell_type": "markdown",
   "id": "da5a8672",
   "metadata": {},
   "source": [
    "# Treating skewness using power transform method"
   ]
  },
  {
   "cell_type": "code",
   "execution_count": null,
   "id": "315b255c",
   "metadata": {},
   "outputs": [],
   "source": [
    "#using yeo-johnson transformation\n",
    "from sklearn.preprocessing import power_transform\n",
    "x=power_transform(x,method='yeo-johnson')\n",
    "x"
   ]
  },
  {
   "cell_type": "code",
   "execution_count": null,
   "id": "0001374e",
   "metadata": {},
   "outputs": [],
   "source": [
    "x=pd.DataFrame(x,columns=['fixed acidity','volatile acidity','citric acid','chlorides','total sulfur dioxide',\n",
    "                                'density','sulphates','alcohol'])\n",
    "x"
   ]
  },
  {
   "cell_type": "code",
   "execution_count": null,
   "id": "53a0a43f",
   "metadata": {
    "scrolled": true
   },
   "outputs": [],
   "source": [
    "x.skew()"
   ]
  },
  {
   "cell_type": "markdown",
   "id": "f993aed3",
   "metadata": {},
   "source": [
    "We could see that the skewness has been treated and skew values of all the features are in the range -0.20 to 0.20."
   ]
  },
  {
   "cell_type": "markdown",
   "id": "2aeeb5e8",
   "metadata": {},
   "source": [
    "# Train Test Split"
   ]
  },
  {
   "cell_type": "code",
   "execution_count": null,
   "id": "02a79eaa",
   "metadata": {
    "scrolled": true
   },
   "outputs": [],
   "source": [
    "from sklearn.linear_model import LogisticRegression\n",
    "from sklearn.model_selection import train_test_split\n",
    "from sklearn.metrics import accuracy_score\n",
    "max_ac=0\n",
    "randomState=0\n",
    "le=LogisticRegression()\n",
    "for i in range(200):\n",
    "    x_train,x_test,y_train,y_test=train_test_split(x,y,random_state=i,test_size=0.20)\n",
    "    le.fit(x_train,y_train)\n",
    "    pred_train=le.predict(x_train)\n",
    "    pred_test=le.predict(x_test)\n",
    "    if round(accuracy_score(y_train,pred_train)*100,1)==round(accuracy_score(y_test,pred_test)*100,1):\n",
    "        print(\"\\n\\nAt random state:\",i)\n",
    "        print(\"\\nTrain Accuracy- \",round(accuracy_score(y_train,pred_train)*100,1))\n",
    "        print(\"\\nTest Accuracy- \",round(accuracy_score(y_test,pred_test)*100,1))\n",
    "        if round(accuracy_score(y_test,pred_test)*100,1)>max_ac:\n",
    "            randomState=i\n",
    "            max_ac=round(accuracy_score(y_test,pred_test)*100,1)\n",
    "print(\"\\n\\n Best accuracy at random state-\",randomState)"
   ]
  },
  {
   "cell_type": "markdown",
   "id": "c5d2a6aa",
   "metadata": {},
   "source": [
    "# Applying Logistic Regressin Model"
   ]
  },
  {
   "cell_type": "code",
   "execution_count": null,
   "id": "5c7cfdce",
   "metadata": {},
   "outputs": [],
   "source": [
    "x_train,x_test,y_train,y_test=train_test_split(x,y,random_state=90,test_size=0.20)\n",
    "le.fit(x_train,y_train)\n",
    "pred_train=le.predict(x_train)\n",
    "pred_test=le.predict(x_test)\n",
    "train_accuracy=round(accuracy_score(y_train,pred_train)*100,1)\n",
    "test_accuracy=round(accuracy_score(y_test,pred_test)*100,1)\n",
    "print(\"\\ntrain accuracy-\",train_accuracy)\n",
    "print(\"\\ntest accuracy-\",test_accuracy)"
   ]
  },
  {
   "cell_type": "code",
   "execution_count": null,
   "id": "b044c950",
   "metadata": {},
   "outputs": [],
   "source": [
    "from sklearn.metrics import classification_report\n",
    "print(classification_report(y_test,pred_test))"
   ]
  },
  {
   "cell_type": "markdown",
   "id": "0efbfa81",
   "metadata": {},
   "source": [
    "Calculating cross validation score"
   ]
  },
  {
   "cell_type": "code",
   "execution_count": null,
   "id": "9e5da238",
   "metadata": {},
   "outputs": [],
   "source": [
    "from sklearn.model_selection import cross_val_score\n",
    "for i in range(4,15):\n",
    "    cv_score=cross_val_score(le,x,y,cv=i)\n",
    "    cv_mean=cv_score.mean()\n",
    "    print(\"\\n\\nAt cv-\",i)\n",
    "    print(\"\\n cross validation score is-\",cv_mean*100)\n",
    "    print(\"\\n Accuracy score is-\",test_accuracy)"
   ]
  },
  {
   "cell_type": "markdown",
   "id": "6fe2c4c8",
   "metadata": {},
   "source": [
    "So we are getting the least difference between cross_val_score and accuracy score at cv=14."
   ]
  },
  {
   "cell_type": "code",
   "execution_count": null,
   "id": "e6fd99b9",
   "metadata": {},
   "outputs": [],
   "source": [
    "cv_score_best=cross_val_score(le,x,y,cv=14).mean()*100\n",
    "print(\"cross validation score is-\",cv_score_best)\n",
    "print(\"accuracy score for logistic regression model is-\",test_accuracy)"
   ]
  },
  {
   "cell_type": "markdown",
   "id": "feaca2d2",
   "metadata": {},
   "source": [
    "## Building AUC-ROC Curve"
   ]
  },
  {
   "cell_type": "code",
   "execution_count": null,
   "id": "8f66b89e",
   "metadata": {},
   "outputs": [],
   "source": [
    "from sklearn.metrics import roc_curve,auc\n",
    "fpr,tpr,thresholds=roc_curve(pred_test,y_test)\n",
    "roc_auc=auc(fpr,tpr)\n",
    "\n",
    "plt.figure()\n",
    "plt.plot(fpr,tpr,color='orange',lw=10,label=\"ROC curve (area=%0.2f)\"%roc_auc)\n",
    "plt.plot([0,1],[0,1],color='navy',lw=10,linestyle=\"--\")\n",
    "plt.xlim([0.0,1.0])\n",
    "plt.ylim([0.0,1.05])\n",
    "plt.xlabel(\"false positive rate\")\n",
    "plt.ylabel(\"true positive rate\")\n",
    "plt.title(\"reciever operating characteristics\")\n",
    "plt.legend(loc=\"lower right\")\n",
    "plt.show()"
   ]
  },
  {
   "cell_type": "markdown",
   "id": "dd3989b7",
   "metadata": {},
   "source": [
    "## Decision Tree Classifier"
   ]
  },
  {
   "cell_type": "code",
   "execution_count": null,
   "id": "f53de3dc",
   "metadata": {},
   "outputs": [],
   "source": []
  },
  {
   "cell_type": "code",
   "execution_count": null,
   "id": "01024cfb",
   "metadata": {},
   "outputs": [],
   "source": [
    "from sklearn.tree import DecisionTreeClassifier\n",
    "dt=DecisionTreeClassifier()\n",
    "dt.fit(x_train,y_train)"
   ]
  },
  {
   "cell_type": "code",
   "execution_count": null,
   "id": "ee1f5e9f",
   "metadata": {},
   "outputs": [],
   "source": [
    "dt_pred_train=dt.predict(x_train)\n",
    "dt_pred_test=dt.predict(x_test)"
   ]
  },
  {
   "cell_type": "code",
   "execution_count": null,
   "id": "c6c80784",
   "metadata": {},
   "outputs": [],
   "source": [
    "dt_acc_train=accuracy_score(y_train,dt_pred_train)\n",
    "dt_acc_test=accuracy_score(y_test,dt_pred_test)\n",
    "print(\"acc train\",dt_acc_train)\n",
    "print(\"acc test\",dt_acc_test)\n"
   ]
  },
  {
   "cell_type": "markdown",
   "id": "8a9d285a",
   "metadata": {},
   "source": [
    "## Calculating Cross validation score"
   ]
  },
  {
   "cell_type": "code",
   "execution_count": null,
   "id": "c6b69c6a",
   "metadata": {},
   "outputs": [],
   "source": [
    "for i in range(4,15):\n",
    "    cv_score=cross_val_score(dt,x,y,cv=i)\n",
    "    cv_mean=cv_score.mean()\n",
    "    print(\"\\n\\nAt cv-\",i)\n",
    "    print(\"\\n cross validation score is-\",cv_mean*100)\n",
    "    print(\"\\n Accuracy score is-\",dt_acc_test*100)"
   ]
  },
  {
   "cell_type": "markdown",
   "id": "215122cf",
   "metadata": {},
   "source": [
    "So we are getting the least difference between cross_val_score and accuracy score at cv=12"
   ]
  },
  {
   "cell_type": "code",
   "execution_count": null,
   "id": "27e2de01",
   "metadata": {},
   "outputs": [],
   "source": [
    "cv_score_best=cross_val_score(dt,x,y,cv=12).mean()*100\n",
    "print(\"cross validation score is-\",cv_score_best)\n",
    "print(\"accuracy score for decision tree classifier model is-\",dt_acc_test*100)"
   ]
  },
  {
   "cell_type": "markdown",
   "id": "725c70d5",
   "metadata": {},
   "source": [
    "## Support Vector Machine(SVM)"
   ]
  },
  {
   "cell_type": "code",
   "execution_count": null,
   "id": "7c669f4f",
   "metadata": {},
   "outputs": [],
   "source": [
    "from sklearn import svm"
   ]
  },
  {
   "cell_type": "code",
   "execution_count": null,
   "id": "41e86967",
   "metadata": {},
   "outputs": [],
   "source": [
    "sm=svm.SVC()\n",
    "sm.fit(x_train,y_train)"
   ]
  },
  {
   "cell_type": "code",
   "execution_count": null,
   "id": "561348d1",
   "metadata": {},
   "outputs": [],
   "source": [
    "sm_pred_train=sm.predict(x_train)\n",
    "sm_pred_test=sm.predict(x_test)"
   ]
  },
  {
   "cell_type": "code",
   "execution_count": null,
   "id": "9dc86dca",
   "metadata": {},
   "outputs": [],
   "source": [
    "sm_acc_train=accuracy_score(y_train,sm_pred_train)\n",
    "sm_acc_test=accuracy_score(y_test,sm_pred_test)\n",
    "print(\"acc train\",sm_acc_train*100)\n",
    "print(\"acc test\",sm_acc_test*100)"
   ]
  },
  {
   "cell_type": "markdown",
   "id": "59ee6285",
   "metadata": {},
   "source": [
    "## Calculating Cross Validation Score"
   ]
  },
  {
   "cell_type": "code",
   "execution_count": null,
   "id": "f3d5d9f9",
   "metadata": {},
   "outputs": [],
   "source": [
    "for i in range(4,15):\n",
    "    cv_score=cross_val_score(sm,x,y,cv=i)\n",
    "    cv_mean=cv_score.mean()\n",
    "    print(\"\\n\\nAt cv-\",i)\n",
    "    print(\"\\n cross validation score is-\",cv_mean*100)\n",
    "    print(\"\\n Accuracy score is-\",sm_acc_test*100)"
   ]
  },
  {
   "cell_type": "markdown",
   "id": "abf299d0",
   "metadata": {},
   "source": [
    "So we are getting the least difference between cross_val_score and accuracy score at cv=13"
   ]
  },
  {
   "cell_type": "code",
   "execution_count": null,
   "id": "355fad25",
   "metadata": {},
   "outputs": [],
   "source": [
    "cv_score_best=cross_val_score(sm,x,y,cv=13).mean()*100\n",
    "print(\"cross validation score is-\",cv_score_best)\n",
    "print(\"accuracy score for support vector classifier model is-\",sm_acc_test*100)"
   ]
  },
  {
   "cell_type": "markdown",
   "id": "e31c8888",
   "metadata": {},
   "source": [
    "## K Nearest Classifier"
   ]
  },
  {
   "cell_type": "code",
   "execution_count": null,
   "id": "e18f1b9d",
   "metadata": {},
   "outputs": [],
   "source": [
    "from sklearn.neighbors import KNeighborsClassifier"
   ]
  },
  {
   "cell_type": "code",
   "execution_count": null,
   "id": "8fa12861",
   "metadata": {},
   "outputs": [],
   "source": [
    "knn=KNeighborsClassifier()\n",
    "knn.fit(x_train,y_train)"
   ]
  },
  {
   "cell_type": "code",
   "execution_count": null,
   "id": "7117f0c7",
   "metadata": {},
   "outputs": [],
   "source": [
    "knn_pred_train=knn.predict(x_train)\n",
    "knn_pred_test=knn.predict(x_test)"
   ]
  },
  {
   "cell_type": "code",
   "execution_count": null,
   "id": "b06b7729",
   "metadata": {},
   "outputs": [],
   "source": [
    "knn_acc_train=accuracy_score(y_train,knn_pred_train)\n",
    "knn_acc_test=accuracy_score(y_test,knn_pred_test)\n",
    "print(\"acc train\",knn_acc_train*100)\n",
    "print(\"acc test\",knn_acc_test*100)"
   ]
  },
  {
   "cell_type": "markdown",
   "id": "9142122e",
   "metadata": {},
   "source": [
    "## Calculating Cross Validation Score"
   ]
  },
  {
   "cell_type": "code",
   "execution_count": null,
   "id": "ebe7114c",
   "metadata": {},
   "outputs": [],
   "source": [
    "for i in range(4,15):\n",
    "    cv_score=cross_val_score(knn,x,y,cv=i)\n",
    "    cv_mean=cv_score.mean()\n",
    "    print(\"\\n\\nAt cv-\",i)\n",
    "    print(\"\\n cross validation score is-\",cv_mean*100)\n",
    "    print(\"\\n Accuracy score is-\",knn_acc_test*100)"
   ]
  },
  {
   "cell_type": "markdown",
   "id": "4c34bf60",
   "metadata": {},
   "source": [
    "So we are getting the least difference between cross_val_score and accuracy score at cv=12"
   ]
  },
  {
   "cell_type": "code",
   "execution_count": null,
   "id": "42c271c9",
   "metadata": {},
   "outputs": [],
   "source": [
    "cv_score_best=cross_val_score(knn,x,y,cv=12).mean()*100\n",
    "print(\"cross validation score is-\",cv_score_best)\n",
    "print(\"accuracy score for K Nearest classifier model is-\",knn_acc_test*100)"
   ]
  },
  {
   "cell_type": "markdown",
   "id": "34ab191b",
   "metadata": {},
   "source": [
    "# So after analysing 4 models, we are getting following accuracy with each model as below: \n",
    "1) Logistic Regression- 80.1% and cv score- 79.07%\n",
    "2) Decision Tree Classifier- 95.94% and cv score- 94.69%\n",
    "3) Support Vector Classifier- 86.87% and cv score- 85.41%\n",
    "4) K nearest neighbors classifier- 88.03% and cv score- 88.08%\n",
    "\n",
    "So Knn classifier will be considered as the best performing model as the difference between its accuracy score and cv score\n",
    "is least, \n",
    "So now lets apply hyper parameter tuning on this model for its better performance and for getting better accuracy."
   ]
  },
  {
   "cell_type": "markdown",
   "id": "ff51d5f4",
   "metadata": {},
   "source": [
    "## Hyper Parameter Tuning"
   ]
  },
  {
   "cell_type": "code",
   "execution_count": null,
   "id": "393adcd8",
   "metadata": {},
   "outputs": [],
   "source": [
    "from sklearn.model_selection import GridSearchCV"
   ]
  },
  {
   "cell_type": "code",
   "execution_count": null,
   "id": "9cdcb053",
   "metadata": {},
   "outputs": [],
   "source": [
    "param_grid={'algorithm':['ball_tree','kd_tree','brute'],\n",
    "           'leaf_size':[18,20,25,27,30,32,34],\n",
    "           'n_neighbors':[3,5,7,9,11,12,13]}"
   ]
  },
  {
   "cell_type": "code",
   "execution_count": null,
   "id": "312e2c3f",
   "metadata": {},
   "outputs": [],
   "source": [
    "gridsearch=GridSearchCV(knn,param_grid,verbose=3)"
   ]
  },
  {
   "cell_type": "code",
   "execution_count": null,
   "id": "3fc047d6",
   "metadata": {},
   "outputs": [],
   "source": [
    "gridsearch.fit(x_train,y_train)"
   ]
  },
  {
   "cell_type": "code",
   "execution_count": null,
   "id": "8937f3a1",
   "metadata": {},
   "outputs": [],
   "source": [
    "gridsearch.best_params_"
   ]
  },
  {
   "cell_type": "code",
   "execution_count": null,
   "id": "1f866e64",
   "metadata": {},
   "outputs": [],
   "source": [
    "knn=KNeighborsClassifier(algorithm='ball_tree',leaf_size=18,n_neighbors=3)\n",
    "knn.fit(x_train,y_train)"
   ]
  },
  {
   "cell_type": "code",
   "execution_count": null,
   "id": "37f42913",
   "metadata": {},
   "outputs": [],
   "source": [
    "knn_pred_train=knn.predict(x_train)\n",
    "knn_pred_test=knn.predict(x_test)"
   ]
  },
  {
   "cell_type": "code",
   "execution_count": null,
   "id": "c9d41db2",
   "metadata": {},
   "outputs": [],
   "source": [
    "knn_acc_train=accuracy_score(y_train,knn_pred_train)\n",
    "knn_acc_test=accuracy_score(y_test,knn_pred_test)\n",
    "print(\"acc train\",knn_acc_train*100)\n",
    "print(\"acc test\",knn_acc_test*100)"
   ]
  },
  {
   "cell_type": "markdown",
   "id": "6c690c32",
   "metadata": {},
   "source": [
    "# Knn model accuracy has been increased to 91.69%. So lets check cross validation score::"
   ]
  },
  {
   "cell_type": "markdown",
   "id": "8f5dad02",
   "metadata": {},
   "source": [
    "# Cross validation score"
   ]
  },
  {
   "cell_type": "code",
   "execution_count": null,
   "id": "154831ce",
   "metadata": {},
   "outputs": [],
   "source": [
    "for i in range(4,15):\n",
    "    cv_score=cross_val_score(knn,x,y,cv=i)\n",
    "    cv_mean=cv_score.mean()\n",
    "    print(\"\\n\\nAt cv-\",i)\n",
    "    print(\"\\n cross validation score is-\",cv_mean*100)\n",
    "    print(\"\\n Accuracy score is-\",knn_acc_test*100)"
   ]
  },
  {
   "cell_type": "markdown",
   "id": "4a48fc9a",
   "metadata": {},
   "source": [
    "So we are getting the least difference between cross_val_score and accuracy score at cv=13"
   ]
  },
  {
   "cell_type": "code",
   "execution_count": null,
   "id": "39b47ea3",
   "metadata": {},
   "outputs": [],
   "source": [
    "cv_score_best=cross_val_score(knn,x,y,cv=13).mean()*100\n",
    "print(\"cross validation score is-\",cv_score_best)\n",
    "print(\"accuracy score for K Nearest classifier model after hyper parameter tuning is-\",knn_acc_test*100)"
   ]
  },
  {
   "cell_type": "markdown",
   "id": "d465ae46",
   "metadata": {},
   "source": [
    "# Knnmodel giving best accuracy 91.69% so we will finalise this model."
   ]
  },
  {
   "cell_type": "markdown",
   "id": "78ab5f83",
   "metadata": {},
   "source": [
    "## Model Saving"
   ]
  },
  {
   "cell_type": "code",
   "execution_count": null,
   "id": "6b56dbdd",
   "metadata": {},
   "outputs": [],
   "source": [
    "import pickle\n",
    "filename = 'finalized_model.pkl'\n",
    "pickle.dump(knn, open(filename, 'wb'))\n",
    " "
   ]
  }
 ],
 "metadata": {
  "kernelspec": {
   "display_name": "Python 3 (ipykernel)",
   "language": "python",
   "name": "python3"
  },
  "language_info": {
   "codemirror_mode": {
    "name": "ipython",
    "version": 3
   },
   "file_extension": ".py",
   "mimetype": "text/x-python",
   "name": "python",
   "nbconvert_exporter": "python",
   "pygments_lexer": "ipython3",
   "version": "3.9.7"
  }
 },
 "nbformat": 4,
 "nbformat_minor": 5
}
